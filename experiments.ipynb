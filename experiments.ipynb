{
 "cells": [
  {
   "cell_type": "code",
   "execution_count": 1,
   "metadata": {},
   "outputs": [],
   "source": [
    "%load_ext autoreload\n",
    "%autoreload 2"
   ]
  },
  {
   "cell_type": "code",
   "execution_count": 2,
   "metadata": {},
   "outputs": [],
   "source": [
    "import datetime\n",
    "import torch\n",
    "import math\n",
    "\n",
    "from modules.util.util import importstr\n",
    "from modules.util.logconf import logging\n",
    "log = logging.getLogger('nb')"
   ]
  },
  {
   "cell_type": "code",
   "execution_count": 3,
   "metadata": {},
   "outputs": [],
   "source": [
    "def run(app, *argv):    \n",
    "    torch.cuda.empty_cache()\n",
    "    \n",
    "    argv = list(argv)\n",
    "    log.info(\"Running: {}({!r}).main()\".format(app, argv))\n",
    "    \n",
    "    app_cls = importstr(*app.rsplit('.', 1))\n",
    "    app_cls(argv).main()\n",
    "    \n",
    "    log.info(\"Finished: {}.{!r}.main()\".format(app, argv))"
   ]
  },
  {
   "cell_type": "code",
   "execution_count": 4,
   "metadata": {},
   "outputs": [
    {
     "name": "stderr",
     "output_type": "stream",
     "text": [
      "2020-12-07 04:56:41,940 INFO     pid:22723 nb:005:run Running: prepcache.CovidPrepCacheApp(['--num-workers=8', '--batch-size=20', '--width-irc', '16', '128', '128']).main()\n",
      "2020-12-07 04:56:44,332 INFO     pid:22723 prepcache:039:main Starting CovidPrepCacheApp, Namespace(batch_size=20, num_workers=8, width_irc=['16', '128', '128'])\n",
      "100%|██████████| 10/10 [02:27<00:00, 14.72s/it]\n",
      "2020-12-07 04:59:11,832 INFO     pid:22723 nb:010:run Finished: prepcache.CovidPrepCacheApp.['--num-workers=8', '--batch-size=20', '--width-irc', '16', '128', '128'].main()\n"
     ]
    }
   ],
   "source": [
    "# width_irc=(16,128,128)\n",
    "# run('prepcache.CovidPrepCacheApp', f'--num-workers={8}', f'--batch-size={20}', '--width-irc', f'{width_irc[0]}', f'{width_irc[1]}', f'{width_irc[2]}')"
   ]
  },
  {
   "cell_type": "markdown",
   "metadata": {
    "collapsed": "true"
   },
   "source": [
    "## Basic Unet 3D"
   ]
  },
  {
   "cell_type": "code",
   "execution_count": 4,
   "metadata": {},
   "outputs": [],
   "source": [
    "batch_size = 2\n",
    "epochs = 50\n",
    "steps_per_epoch=200\n",
    "val_cadence = 5\n",
    "recall_priority = 0\n",
    "unet_depth=3\n",
    "pad_types = ['zero', 'replicate']\n",
    "windows = ['lung', 'mediastinal', 'shifted_lung']\n",
    "project_name = 'covid19_seg'\n",
    "width_irc = (12,192,192)"
   ]
  },
  {
   "cell_type": "code",
   "execution_count": 5,
   "metadata": {},
   "outputs": [],
   "source": [
    "model_path = 'saved-models/2020-11-22_11.01.15.best.state'"
   ]
  },
  {
   "cell_type": "code",
   "execution_count": null,
   "metadata": {},
   "outputs": [],
   "source": [
    "run_name = 'unet3d train run p2'"
   ]
  },
  {
   "cell_type": "code",
   "execution_count": 1,
   "metadata": {},
   "outputs": [],
   "source": [
    "run('training.CovidSegmentationTrainingApp', f'--epochs={epochs}', f'--batch-size={batch_size}', \n",
    "    f'--steps-per-epoch={steps_per_epoch}', f'--val-cadence={val_cadence}', f'--recall-priority={recall_priority}',\n",
    "    f'--depth={unet_depth}', f'--pad-type={pad_types[1]}', '--augmented', f'--model-path={model_path}',\n",
    "    '--width-irc', f'{width_irc[0]}', f'{width_irc[1]}', f'{width_irc[2]}', \n",
    "    f'--project-name={project_name}', f'--run-name={run_name}')\n",
    "\n",
    "# dummy run to finish wandb\n",
    "run('training.CovidSegmentationTrainingApp', '--epochs=0', '--run-name=to delete')"
   ]
  },
  {
   "cell_type": "markdown",
   "metadata": {},
   "source": [
    "## Covid Seg Net"
   ]
  },
  {
   "cell_type": "code",
   "execution_count": 5,
   "metadata": {},
   "outputs": [],
   "source": [
    "batch_size = 2\n",
    "epochs = 100\n",
    "steps_per_epoch=320\n",
    "val_cadence = 5\n",
    "depth = 3\n",
    "windows = ['lung', 'mediastinal', 'shifted_lung']\n",
    "project_name = 'covid19_seg'\n",
    "width_irc=(16,128,128)"
   ]
  },
  {
   "cell_type": "code",
   "execution_count": 6,
   "metadata": {},
   "outputs": [],
   "source": [
    "run_name = 'Train p3 (320spe,2gpu,bs2x3,aug)'\n",
    "notes = 'Train Run Continuation'"
   ]
  },
  {
   "cell_type": "code",
   "execution_count": 7,
   "metadata": {},
   "outputs": [],
   "source": [
    "model_path = 'saved-models/2020-12-08_06.03.53.best.state'"
   ]
  },
  {
   "cell_type": "code",
   "execution_count": 8,
   "metadata": {},
   "outputs": [],
   "source": [
    "model_path = 'saved-models/2020-12-08_06.03.53.best.state'"
   ]
  },
  {
   "cell_type": "code",
   "execution_count": 7,
   "metadata": {},
   "outputs": [
    {
     "name": "stderr",
     "output_type": "stream",
     "text": [
      "2020-12-08 18:36:20,825 INFO     pid:6550 nb:005:run Running: training_alpha.CovidSegmentationTrainingApp(['--epochs=100', '--batch-size=2', '--num-workers=8', '--ct-window=shifted_lung', '--val-cadence=5', '--depth=3', '--augmented', '--width-irc', '16', '128', '128', '--notes=Train Run Continuation', '--model-path=saved-models/2020-12-08_06.03.53.best.state', '--steps-per-epoch=320', '--project-name=covid19_seg', '--run-name=Train p3 (320spe,2gpu,bs2x3,aug)']).main()\n"
     ]
    },
    {
     "ename": "SyntaxError",
     "evalue": "invalid syntax (training_alpha.py, line 334)",
     "output_type": "error",
     "traceback": [
      "Traceback \u001b[0;36m(most recent call last)\u001b[0m:\n",
      "  File \u001b[1;32m\"/home/fsuser/programming/venvs/ml/lib/python3.8/site-packages/IPython/core/interactiveshell.py\"\u001b[0m, line \u001b[1;32m3331\u001b[0m, in \u001b[1;35mrun_code\u001b[0m\n    exec(code_obj, self.user_global_ns, self.user_ns)\n",
      "  File \u001b[1;32m\"<ipython-input-7-a6a5fb2e493a>\"\u001b[0m, line \u001b[1;32m1\u001b[0m, in \u001b[1;35m<module>\u001b[0m\n    run('training_alpha.CovidSegmentationTrainingApp', f'--epochs={epochs}', f'--batch-size={batch_size}', f'--num-workers={8}',\n",
      "  File \u001b[1;32m\"<ipython-input-3-c901599fd45e>\"\u001b[0m, line \u001b[1;32m7\u001b[0m, in \u001b[1;35mrun\u001b[0m\n    app_cls = importstr(*app.rsplit('.', 1))\n",
      "\u001b[0;36m  File \u001b[0;32m\"/home/fsuser/programming/projects/covid_CT_lung_lesion_segmentation/modules/util/util.py\"\u001b[0;36m, line \u001b[0;32m45\u001b[0;36m, in \u001b[0;35mimportstr\u001b[0;36m\u001b[0m\n\u001b[0;31m    module = __import__(module_str)\u001b[0m\n",
      "\u001b[0;36m  File \u001b[0;32m\"/home/fsuser/programming/projects/covid_CT_lung_lesion_segmentation/training_alpha.py\"\u001b[0;36m, line \u001b[0;32m334\u001b[0m\n\u001b[0;31m    haus_dists.append(sd.max())\u001b[0m\n\u001b[0m    ^\u001b[0m\n\u001b[0;31mSyntaxError\u001b[0m\u001b[0;31m:\u001b[0m invalid syntax\n"
     ]
    }
   ],
   "source": [
    "run('training_alpha.CovidSegmentationTrainingApp', f'--epochs={epochs}', f'--batch-size={batch_size}', f'--num-workers={8}',\n",
    "    f'--ct-window={windows[2]}', f'--val-cadence={val_cadence}', f'--depth={depth}', '--augmented',\n",
    "    '--width-irc', f'{width_irc[0]}', f'{width_irc[1]}', f'{width_irc[2]}', f'--notes={notes}',\n",
    "    f'--model-path={model_path}',\n",
    "    f'--steps-per-epoch={steps_per_epoch}', f'--project-name={project_name}', f'--run-name={run_name}')\n",
    "\n",
    "\n",
    "# dummy run to finish wandb\n",
    "run('training.CovidSegmentationTrainingApp', '--epochs=0', '--run-name=to delete')"
   ]
  },
  {
   "cell_type": "code",
   "execution_count": null,
   "metadata": {},
   "outputs": [],
   "source": []
  }
 ],
 "metadata": {
  "kernelspec": {
   "display_name": "Python 3",
   "language": "python",
   "name": "python3"
  },
  "language_info": {
   "codemirror_mode": {
    "name": "ipython",
    "version": 3
   },
   "file_extension": ".py",
   "mimetype": "text/x-python",
   "name": "python",
   "nbconvert_exporter": "python",
   "pygments_lexer": "ipython3",
   "version": "3.8.5"
  }
 },
 "nbformat": 4,
 "nbformat_minor": 4
}
