{
 "cells": [
  {
   "cell_type": "code",
   "execution_count": 1,
   "metadata": {},
   "outputs": [],
   "source": [
    "%load_ext autoreload\n",
    "%autoreload 2"
   ]
  },
  {
   "cell_type": "code",
   "execution_count": 2,
   "metadata": {},
   "outputs": [],
   "source": [
    "import datetime\n",
    "import torch\n",
    "import math\n",
    "\n",
    "from modules.util.util import importstr\n",
    "from modules.util.logconf import logging\n",
    "log = logging.getLogger('nb')"
   ]
  },
  {
   "cell_type": "code",
   "execution_count": 3,
   "metadata": {},
   "outputs": [],
   "source": [
    "def run(app, *argv):    \n",
    "    torch.cuda.empty_cache()\n",
    "    \n",
    "    argv = list(argv)\n",
    "    argv.insert(0, '--num-workers=4')\n",
    "    log.info(\"Running: {}({!r}).main()\".format(app, argv))\n",
    "    \n",
    "    app_cls = importstr(*app.rsplit('.', 1))\n",
    "    app_cls(argv).main()\n",
    "    \n",
    "    log.info(\"Finished: {}.{!r}.main()\".format(app, argv))"
   ]
  },
  {
   "cell_type": "code",
   "execution_count": 4,
   "metadata": {},
   "outputs": [
    {
     "name": "stderr",
     "output_type": "stream",
     "text": [
      "2020-12-06 17:29:01,663 INFO     pid:44610 nb:006:run Running: prepcache.CovidPrepCacheApp(['--num-workers=4', '--batch-size=20', '--width-irc', '16', '128', '128']).main()\n",
      "2020-12-06 17:29:02,911 INFO     pid:44610 prepcache:039:main Starting CovidPrepCacheApp, Namespace(batch_size=20, num_workers=4, width_irc=['16', '128', '128'])\n",
      "100%|██████████| 10/10 [02:59<00:00, 17.95s/it]\n",
      "2020-12-06 17:32:02,459 INFO     pid:44610 nb:011:run Finished: prepcache.CovidPrepCacheApp.['--num-workers=4', '--batch-size=20', '--width-irc', '16', '128', '128'].main()\n"
     ]
    }
   ],
   "source": [
    "# width_irc=(16,128,128)\n",
    "# run('prepcache.CovidPrepCacheApp', f'--batch-size={20}', '--width-irc', f'{width_irc[0]}', f'{width_irc[1]}', f'{width_irc[2]}')"
   ]
  },
  {
   "cell_type": "markdown",
   "metadata": {
    "collapsed": "true"
   },
   "source": [
    "## Basic Unet 3D"
   ]
  },
  {
   "cell_type": "code",
   "execution_count": 4,
   "metadata": {},
   "outputs": [],
   "source": [
    "batch_size = 2\n",
    "epochs = 50\n",
    "steps_per_epoch=200\n",
    "val_cadence = 5\n",
    "recall_priority = 0\n",
    "unet_depth=3\n",
    "pad_types = ['zero', 'replicate']\n",
    "windows = ['lung', 'mediastinal', 'shifted_lung']\n",
    "project_name = 'covid19_seg'\n",
    "width_irc = (12,192,192)"
   ]
  },
  {
   "cell_type": "code",
   "execution_count": 5,
   "metadata": {},
   "outputs": [],
   "source": [
    "model_path = 'saved-models/2020-11-22_11.01.15.best.state'"
   ]
  },
  {
   "cell_type": "code",
   "execution_count": null,
   "metadata": {},
   "outputs": [],
   "source": [
    "run_name = 'unet3d train run p2'"
   ]
  },
  {
   "cell_type": "code",
   "execution_count": 1,
   "metadata": {},
   "outputs": [],
   "source": [
    "run('training.CovidSegmentationTrainingApp', f'--epochs={epochs}', f'--batch-size={batch_size}', \n",
    "    f'--steps-per-epoch={steps_per_epoch}', f'--val-cadence={val_cadence}', f'--recall-priority={recall_priority}',\n",
    "    f'--depth={unet_depth}', f'--pad-type={pad_types[1]}', '--augmented', f'--model-path={model_path}',\n",
    "    '--width-irc', f'{width_irc[0]}', f'{width_irc[1]}', f'{width_irc[2]}', \n",
    "    f'--project-name={project_name}', f'--run-name={run_name}')\n",
    "\n",
    "# dummy run to finish wandb\n",
    "run('training.CovidSegmentationTrainingApp', '--epochs=0', '--run-name=to delete')"
   ]
  },
  {
   "cell_type": "markdown",
   "metadata": {},
   "source": [
    "## Covid Seg Net"
   ]
  },
  {
   "cell_type": "code",
   "execution_count": 6,
   "metadata": {},
   "outputs": [],
   "source": [
    "batch_size = 2\n",
    "epochs = 3\n",
    "steps_per_epoch=160\n",
    "val_cadence = 1\n",
    "depth = 3\n",
    "windows = ['lung', 'mediastinal', 'shifted_lung']\n",
    "project_name = 'covid19_seg'\n",
    "width_irc=(16,128,128)"
   ]
  },
  {
   "cell_type": "code",
   "execution_count": 5,
   "metadata": {},
   "outputs": [],
   "source": [
    "run_name = 'CSN,1CLR,CropRandCrop,AllAug'\n",
    "notes = 'Full train run on CSN showed that the model was evidently overfitting. \\\n",
    "This could be due to the fact that the dataloader was explicitly programmed to feed in data with lesions at the center. \\\n",
    "For this experiment, the full CT is initially cropped to the relevant area and 3 random subcrops are subsequently sampled, \\\n",
    "alternating with lesions or no lesions at the center. Already, the learning rate finder is showing a more promising learning rate curve. \\\n",
    "Additionaly, the dice loss and CE loss were weighted equally but the model seemed to be favoring the CE loss. For this run, a weighting of .7 and .3 is \\\n",
    "applied respectively. Hypothesis: random crops in the relevant area should provide more regularization than focused crops with augmentation'"
   ]
  },
  {
   "cell_type": "code",
   "execution_count": null,
   "metadata": {},
   "outputs": [
    {
     "name": "stderr",
     "output_type": "stream",
     "text": [
      "2020-12-06 19:03:03,969 INFO     pid:53380 nb:006:run Running: training_alpha.CovidSegmentationTrainingApp(['--num-workers=4', '--epochs=3', '--batch-size=2', '--ct-window=shifted_lung', '--val-cadence=1', '--depth=3', '--augmented', '--width-irc', '16', '128', '128', '--notes=Full train run on CSN showed that the model was evidently overfitting. This could be due to the fact that the dataloader was explicitly programmed to feed in data with lesions at the center. For this experiment, the full CT is initially cropped to the relevant area and 3 random subcrops are subsequently sampled, alternating with lesions or no lesions at the center. Already, the learning rate finder is showing a more promising learning rate curve. Additionaly, the dice loss and CE loss were weighted equally but the model seemed to be favoring the CE loss. For this run, a weighting of .7 and .3 is applied respectively. Hypothesis: random crops in the relevant area should provide more regularization than focused crops with augmentation', '--steps-per-epoch=160', '--project-name=covid19_seg', '--run-name=CSN,1CLR,CropRandCrop,AllAug']).main()\n",
      "2020-12-06 19:03:05,859 INFO     pid:53380 wandb:606:_apply_source_login setting login settings: {}\n",
      "\u001b[34m\u001b[1mwandb\u001b[0m: Currently logged in as: \u001b[33mpeterbacalso\u001b[0m (use `wandb login --relogin` to force relogin)\n",
      "\u001b[34m\u001b[1mwandb\u001b[0m: wandb version 0.10.12 is available!  To upgrade, please run:\n",
      "\u001b[34m\u001b[1mwandb\u001b[0m:  $ pip install wandb --upgrade\n"
     ]
    },
    {
     "data": {
      "text/html": [
       "\n",
       "                Tracking run with wandb version 0.10.8<br/>\n",
       "                Syncing run <strong style=\"color:#cdcd00\">CSN,1CLR,CropRandCrop,AllAug</strong> to <a href=\"https://wandb.ai\" target=\"_blank\">Weights & Biases</a> <a href=\"https://docs.wandb.com/integrations/jupyter.html\" target=\"_blank\">(Documentation)</a>.<br/>\n",
       "                Project page: <a href=\"https://wandb.ai/peterbacalso/covid19_seg\" target=\"_blank\">https://wandb.ai/peterbacalso/covid19_seg</a><br/>\n",
       "                Run page: <a href=\"https://wandb.ai/peterbacalso/covid19_seg/runs/21ohd383\" target=\"_blank\">https://wandb.ai/peterbacalso/covid19_seg/runs/21ohd383</a><br/>\n",
       "                Run data is saved locally in <code>wandb/run-20201206_190305-21ohd383</code><br/><br/>\n",
       "            "
      ],
      "text/plain": [
       "<IPython.core.display.HTML object>"
      ]
     },
     "metadata": {},
     "output_type": "display_data"
    },
    {
     "name": "stderr",
     "output_type": "stream",
     "text": [
      "2020-12-06 19:03:07,270 INFO     pid:53380 training_alpha:217:init_model Using CUDA; 1 devices.\n",
      "2020-12-06 19:03:09,396 INFO     pid:53380 modules.dsets:374:__init__ TrainingV2Covid2dSegmentationDataset: training mode, 159 uid's, 160 steps_per_epoch\n",
      "2020-12-06 19:03:09,397 INFO     pid:53380 modules.dsets:447:__init__ TrainingV2Covid2dSegmentationDataset: (16, 128, 128) width_irc\n",
      "2020-12-06 19:03:09,399 INFO     pid:53380 modules.dsets:374:__init__ Covid2dSegmentationDataset: validation mode, 40 uid's, 40 steps_per_epoch\n",
      "2020-12-06 19:03:09,405 INFO     pid:53380 training_alpha:516:main Starting CovidSegmentationTrainingApp, Namespace(augment_flip=False, augment_noise=False, augment_offset=False, augment_rotate=False, augment_scale=False, augmented=True, batch_size=2, ct_window='shifted_lung', depth=3, epochs=3, model_path=None, notes='Full train run on CSN showed that the model was evidently overfitting. This could be due to the fact that the dataloader was explicitly programmed to feed in data with lesions at the center. For this experiment, the full CT is initially cropped to the relevant area and 3 random subcrops are subsequently sampled, alternating with lesions or no lesions at the center. Already, the learning rate finder is showing a more promising learning rate curve. Additionaly, the dice loss and CE loss were weighted equally but the model seemed to be favoring the CE loss. For this run, a weighting of .7 and .3 is applied respectively. Hypothesis: random crops in the relevant area should provide more regularization than focused crops with augmentation', num_workers=4, project_name='covid19_seg', run_name='CSN,1CLR,CropRandCrop,AllAug', steps_per_epoch=160, val_cadence=1, width_irc=['16', '128', '128'])\n"
     ]
    },
    {
     "data": {
      "text/html": [
       "<table border=\"1\" class=\"dataframe\">\n",
       "  <thead>\n",
       "    <tr style=\"text-align: left;\">\n",
       "      <th>epoch</th>\n",
       "      <th>loss/trn</th>\n",
       "      <th>dice_loss/trn</th>\n",
       "      <th>ce_loss/trn</th>\n",
       "      <th>loss/val</th>\n",
       "      <th>dice_loss/val</th>\n",
       "      <th>ce_loss/val</th>\n",
       "      <th>metrics_val/miss_rate</th>\n",
       "      <th>metrics_val/fp_to_mask_ratio</th>\n",
       "      <th>pr_val/precision</th>\n",
       "      <th>pr_val/recall</th>\n",
       "      <th>pr_val/f1_score</th>\n",
       "    </tr>\n",
       "  </thead>\n",
       "  <tbody>\n",
       "    <tr>\n",
       "      <td>1</td>\n",
       "      <td>0.7929</td>\n",
       "      <td>0.9005</td>\n",
       "      <td>0.5417</td>\n",
       "      <td>0.8284</td>\n",
       "      <td>0.9898</td>\n",
       "      <td>0.4518</td>\n",
       "      <td>0.7806</td>\n",
       "      <td>38.5962</td>\n",
       "      <td>0.0057</td>\n",
       "      <td>0.2194</td>\n",
       "      <td>0.0110</td>\n",
       "    </tr>\n",
       "    <tr>\n",
       "      <td>2</td>\n",
       "      <td>0.6786</td>\n",
       "      <td>0.8005</td>\n",
       "      <td>0.3942</td>\n",
       "      <td>0.6531</td>\n",
       "      <td>0.7890</td>\n",
       "      <td>0.3360</td>\n",
       "      <td>0.6883</td>\n",
       "      <td>0.5214</td>\n",
       "      <td>0.3741</td>\n",
       "      <td>0.3117</td>\n",
       "      <td>0.3401</td>\n",
       "    </tr>\n",
       "    <tr>\n",
       "      <td>3</td>\n",
       "      <td>0.6273</td>\n",
       "      <td>0.7363</td>\n",
       "      <td>0.3731</td>\n",
       "      <td>0.6144</td>\n",
       "      <td>0.7355</td>\n",
       "      <td>0.3318</td>\n",
       "      <td>0.5731</td>\n",
       "      <td>0.6848</td>\n",
       "      <td>0.3840</td>\n",
       "      <td>0.4269</td>\n",
       "      <td>0.4043</td>\n",
       "    </tr>\n",
       "  </tbody>\n",
       "</table>"
      ],
      "text/plain": [
       "<IPython.core.display.HTML object>"
      ]
     },
     "metadata": {},
     "output_type": "display_data"
    },
    {
     "name": "stderr",
     "output_type": "stream",
     "text": [
      "2020-12-06 19:04:35,373 INFO     pid:53380 training_alpha:384:log_metrics E1 CovidSegmentationTrainingApp\n",
      "2020-12-06 19:04:35,374 INFO     pid:53380 training_alpha:415:log_metrics E1 trn      0.7929 loss, 0.9005 dice loss, 0.5417 ce loss, 0.0729 precision, 0.4551 recall, 0.1257 f1 score 0.5449 miss rate 5.7842 fp to label ratio\n",
      "2020-12-06 19:08:51,603 INFO     pid:53380 training_alpha:384:log_metrics E1 CovidSegmentationTrainingApp\n",
      "2020-12-06 19:08:51,604 INFO     pid:53380 training_alpha:426:log_metrics E1 val      0.8284 loss, 0.9898 dice loss, 0.4518 ce_loss, 0.0057 precision, 0.2194 recall, 0.0110 f1 score 0.7806 miss rate 38.5962 fp to label ratio\n",
      "2020-12-06 19:08:53,748 INFO     pid:53380 training_alpha:502:save_model Saved model params to saved-models/2020-12-06_19.03.05.160.state\n",
      "2020-12-06 19:08:53,755 INFO     pid:53380 training_alpha:507:save_model Saved model params to saved-models/2020-12-06_19.03.05.best.state\n",
      "2020-12-06 19:08:53,766 INFO     pid:53380 training_alpha:512:save_model SHA1: 3d68a27e29844530948f1f0b657ba96ed2ac11f2\n",
      "2020-12-06 19:10:22,978 INFO     pid:53380 training_alpha:384:log_metrics E2 CovidSegmentationTrainingApp\n",
      "2020-12-06 19:10:22,980 INFO     pid:53380 training_alpha:415:log_metrics E2 trn      0.6786 loss, 0.8005 dice loss, 0.3942 ce loss, 0.2485 precision, 0.3032 recall, 0.2731 f1 score 0.6968 miss rate 0.9170 fp to label ratio\n",
      "2020-12-06 19:14:47,404 INFO     pid:53380 training_alpha:384:log_metrics E2 CovidSegmentationTrainingApp\n",
      "2020-12-06 19:14:47,405 INFO     pid:53380 training_alpha:426:log_metrics E2 val      0.6531 loss, 0.7890 dice loss, 0.3360 ce_loss, 0.3741 precision, 0.3117 recall, 0.3401 f1 score 0.6883 miss rate 0.5214 fp to label ratio\n",
      "2020-12-06 19:14:49,384 INFO     pid:53380 training_alpha:502:save_model Saved model params to saved-models/2020-12-06_19.03.05.320.state\n",
      "2020-12-06 19:14:49,393 INFO     pid:53380 training_alpha:507:save_model Saved model params to saved-models/2020-12-06_19.03.05.best.state\n",
      "2020-12-06 19:14:49,406 INFO     pid:53380 training_alpha:512:save_model SHA1: 0bb6d78216fdd8f0dadf36738fd1facfc0b7f87b\n",
      "2020-12-06 19:16:14,631 INFO     pid:53380 training_alpha:384:log_metrics E3 CovidSegmentationTrainingApp\n",
      "2020-12-06 19:16:14,633 INFO     pid:53380 training_alpha:415:log_metrics E3 trn      0.6273 loss, 0.7363 dice loss, 0.3731 ce loss, 0.4453 precision, 0.3110 recall, 0.3662 f1 score 0.6890 miss rate 0.3874 fp to label ratio\n",
      "2020-12-06 19:20:37,653 INFO     pid:53380 training_alpha:384:log_metrics E3 CovidSegmentationTrainingApp\n",
      "2020-12-06 19:20:37,659 INFO     pid:53380 training_alpha:426:log_metrics E3 val      0.6144 loss, 0.7355 dice loss, 0.3318 ce_loss, 0.3840 precision, 0.4269 recall, 0.4043 f1 score 0.5731 miss rate 0.6848 fp to label ratio\n",
      "2020-12-06 19:20:39,597 INFO     pid:53380 training_alpha:502:save_model Saved model params to saved-models/2020-12-06_19.03.05.480.state\n",
      "2020-12-06 19:20:39,606 INFO     pid:53380 training_alpha:507:save_model Saved model params to saved-models/2020-12-06_19.03.05.best.state\n",
      "2020-12-06 19:20:39,620 INFO     pid:53380 training_alpha:512:save_model SHA1: 3b5e6a3bfd41d8df1cad3c203a8fa5ebe49cb52b\n",
      "2020-12-06 19:20:39,622 INFO     pid:53380 nb:011:run Finished: training_alpha.CovidSegmentationTrainingApp.['--num-workers=4', '--epochs=3', '--batch-size=2', '--ct-window=shifted_lung', '--val-cadence=1', '--depth=3', '--augmented', '--width-irc', '16', '128', '128', '--notes=Full train run on CSN showed that the model was evidently overfitting. This could be due to the fact that the dataloader was explicitly programmed to feed in data with lesions at the center. For this experiment, the full CT is initially cropped to the relevant area and 3 random subcrops are subsequently sampled, alternating with lesions or no lesions at the center. Already, the learning rate finder is showing a more promising learning rate curve. Additionaly, the dice loss and CE loss were weighted equally but the model seemed to be favoring the CE loss. For this run, a weighting of .7 and .3 is applied respectively. Hypothesis: random crops in the relevant area should provide more regularization than focused crops with augmentation', '--steps-per-epoch=160', '--project-name=covid19_seg', '--run-name=CSN,1CLR,CropRandCrop,AllAug'].main()\n",
      "2020-12-06 19:20:39,767 INFO     pid:53380 nb:006:run Running: training.CovidSegmentationTrainingApp(['--num-workers=4', '--epochs=0', '--run-name=to delete']).main()\n",
      "\u001b[34m\u001b[1mwandb\u001b[0m: \u001b[33mWARNING\u001b[0m Calling wandb.login() after wandb.init() has no effect.\n"
     ]
    },
    {
     "data": {
      "text/html": [
       "<br/>Waiting for W&B process to finish, PID 53414<br/>Program ended successfully."
      ],
      "text/plain": [
       "<IPython.core.display.HTML object>"
      ]
     },
     "metadata": {},
     "output_type": "display_data"
    },
    {
     "data": {
      "application/vnd.jupyter.widget-view+json": {
       "model_id": "ab8f350899684685acb7a48b08044df3",
       "version_major": 2,
       "version_minor": 0
      },
      "text/plain": [
       "VBox(children=(Label(value=' 19.52MB of 19.52MB uploaded (0.00MB deduped)\\r'), FloatProgress(value=0.999936495…"
      ]
     },
     "metadata": {},
     "output_type": "display_data"
    }
   ],
   "source": [
    "run('training_alpha.CovidSegmentationTrainingApp', f'--epochs={epochs}', f'--batch-size={batch_size}', \n",
    "    f'--ct-window={windows[2]}', f'--val-cadence={val_cadence}', f'--depth={depth}', '--augmented',\n",
    "    '--width-irc', f'{width_irc[0]}', f'{width_irc[1]}', f'{width_irc[2]}', f'--notes={notes}',\n",
    "    f'--steps-per-epoch={steps_per_epoch}', f'--project-name={project_name}', f'--run-name={run_name}')\n",
    "\n",
    "\n",
    "# dummy run to finish wandb\n",
    "run('training.CovidSegmentationTrainingApp', '--epochs=0', '--run-name=to delete')"
   ]
  },
  {
   "cell_type": "code",
   "execution_count": null,
   "metadata": {},
   "outputs": [],
   "source": []
  }
 ],
 "metadata": {
  "kernelspec": {
   "display_name": "Python 3",
   "language": "python",
   "name": "python3"
  },
  "language_info": {
   "codemirror_mode": {
    "name": "ipython",
    "version": 3
   },
   "file_extension": ".py",
   "mimetype": "text/x-python",
   "name": "python",
   "nbconvert_exporter": "python",
   "pygments_lexer": "ipython3",
   "version": "3.8.5"
  }
 },
 "nbformat": 4,
 "nbformat_minor": 4
}
