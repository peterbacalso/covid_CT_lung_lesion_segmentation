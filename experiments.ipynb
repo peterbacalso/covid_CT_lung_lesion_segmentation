{
 "cells": [
  {
   "cell_type": "code",
   "execution_count": 1,
   "metadata": {},
   "outputs": [],
   "source": [
    "%load_ext autoreload\n",
    "%autoreload 2"
   ]
  },
  {
   "cell_type": "code",
   "execution_count": 2,
   "metadata": {},
   "outputs": [],
   "source": [
    "import datetime\n",
    "import torch\n",
    "import math\n",
    "\n",
    "from modules.util.util import importstr\n",
    "from modules.util.logconf import logging\n",
    "log = logging.getLogger('nb')"
   ]
  },
  {
   "cell_type": "code",
   "execution_count": 3,
   "metadata": {},
   "outputs": [],
   "source": [
    "def run(app, *argv):    \n",
    "    torch.cuda.empty_cache()\n",
    "    \n",
    "    argv = list(argv)\n",
    "    argv.insert(0, '--num-workers=4')\n",
    "    log.info(\"Running: {}({!r}).main()\".format(app, argv))\n",
    "    \n",
    "    app_cls = importstr(*app.rsplit('.', 1))\n",
    "    app_cls(argv).main()\n",
    "    \n",
    "    log.info(\"Finished: {}.{!r}.main()\".format(app, argv))"
   ]
  },
  {
   "cell_type": "code",
   "execution_count": 4,
   "metadata": {},
   "outputs": [
    {
     "name": "stderr",
     "output_type": "stream",
     "text": [
      "2020-11-26 01:10:15,090 INFO     pid:7031 nb:006:run Running: prepcache.CovidPrepCacheApp(['--num-workers=4', '--width-irc', '15', '192', '192']).main()\n",
      "2020-11-26 01:10:30,296 INFO     pid:7031 prepcache:039:main Starting CovidPrepCacheApp, Namespace(batch_size=1024, num_workers=4, width_irc=['15', '192', '192'])\n",
      "100%|██████████| 10/10 [04:55<00:00, 29.60s/it]\n",
      "2020-11-26 01:15:26,419 INFO     pid:7031 nb:011:run Finished: prepcache.CovidPrepCacheApp.['--num-workers=4', '--width-irc', '15', '192', '192'].main()\n"
     ]
    }
   ],
   "source": [
    "# width_irc=(15,192,192)\n",
    "# run('prepcache.CovidPrepCacheApp', '--width-irc', f'{width_irc[0]}', f'{width_irc[1]}', f'{width_irc[2]}')"
   ]
  },
  {
   "cell_type": "markdown",
   "metadata": {},
   "source": [
    "## Test Run"
   ]
  },
  {
   "cell_type": "code",
   "execution_count": 4,
   "metadata": {},
   "outputs": [],
   "source": [
    "batch_size = 2\n",
    "epochs = 3\n",
    "steps_per_epoch=200\n",
    "val_cadence = 5\n",
    "recall_priority = 0\n",
    "unet_depth=3\n",
    "pad_types = ['zero', 'replicate']\n",
    "windows = [None, 'lung', 'mediastinal', 'dist']\n",
    "project_name = 'covid19_seg'\n",
    "width_irc = (12,192,192)"
   ]
  },
  {
   "cell_type": "markdown",
   "metadata": {},
   "source": [
    "Cache all the different sizes of bounding box"
   ]
  },
  {
   "cell_type": "code",
   "execution_count": 5,
   "metadata": {},
   "outputs": [],
   "source": [
    "run_name = 'focal tversky loss' #, dice_loss, rand_coords, shifted_lung_window'"
   ]
  },
  {
   "cell_type": "code",
   "execution_count": 1,
   "metadata": {},
   "outputs": [],
   "source": [
    "run('training.CovidSegmentationTrainingApp', f'--epochs={epochs}', f'--batch-size={batch_size}', \n",
    "    f'--steps-per-epoch={steps_per_epoch}', f'--val-cadence={val_cadence}', f'--recall-priority={recall_priority}',\n",
    "    f'--depth={unet_depth}', f'--pad-type={pad_types[1]}', '--augmented', f'--model-path={model_path}',\n",
    "    '--width-irc', f'{width_irc[0]}', f'{width_irc[1]}', f'{width_irc[2]}', \n",
    "    f'--project-name={project_name}', f'--run-name={run_name}')\n",
    "\n",
    "# dummy run to finish wandb\n",
    "run('training.CovidSegmentationTrainingApp', '--epochs=0', '--run-name=to delete')"
   ]
  },
  {
   "cell_type": "markdown",
   "metadata": {},
   "source": [
    "## Long Run"
   ]
  },
  {
   "cell_type": "code",
   "execution_count": 4,
   "metadata": {},
   "outputs": [],
   "source": [
    "epochs = 500\n",
    "batch_size = 32\n",
    "unet_depth=3\n",
    "val_cadence = 5\n",
    "recall_priority = 0\n",
    "pad_type = 'reflect'\n",
    "window = 'shifted_lung'\n",
    "steps_per_epoch = 100000\n",
    "width_irc=(15,192,192)\n",
    "project_name = 'covid19_seg'\n",
    "loss_func = 'dice_loss'"
   ]
  },
  {
   "cell_type": "code",
   "execution_count": 5,
   "metadata": {},
   "outputs": [],
   "source": [
    "run_name = 'b192 w15 train run'"
   ]
  },
  {
   "cell_type": "code",
   "execution_count": 1,
   "metadata": {},
   "outputs": [],
   "source": [
    "run('training.CovidSegmentationTrainingApp', f'--epochs={epochs}', f'--batch-size={batch_size}', \n",
    "    f'--ct-window={window}', '--augmented', f'--val-cadence={val_cadence}', f'--depth={unet_depth}', \n",
    "    '--width-irc', f'{width_irc[0]}', f'{width_irc[1]}', f'{width_irc[2]}', f'--pad-type={pad_type}', \n",
    "    f'--steps-per-epoch={steps_per_epoch}', f'--project-name={project_name}', f'--run-name={run_name}')\n",
    "\n",
    "# dummy run to finish wandb\n",
    "run('training.CovidSegmentationTrainingApp', '--epochs=0', '--run-name=to delete')"
   ]
  }
 ],
 "metadata": {
  "kernelspec": {
   "display_name": "Python 3",
   "language": "python",
   "name": "python3"
  },
  "language_info": {
   "codemirror_mode": {
    "name": "ipython",
    "version": 3
   },
   "file_extension": ".py",
   "mimetype": "text/x-python",
   "name": "python",
   "nbconvert_exporter": "python",
   "pygments_lexer": "ipython3",
   "version": "3.8.5"
  }
 },
 "nbformat": 4,
 "nbformat_minor": 4
}
