{
 "cells": [
  {
   "cell_type": "code",
   "execution_count": 1,
   "metadata": {},
   "outputs": [],
   "source": [
    "%load_ext autoreload\n",
    "%autoreload 2"
   ]
  },
  {
   "cell_type": "code",
   "execution_count": 2,
   "metadata": {},
   "outputs": [],
   "source": [
    "import datetime\n",
    "import torch\n",
    "import math\n",
    "\n",
    "from modules.util.util import importstr\n",
    "from modules.util.logconf import logging\n",
    "log = logging.getLogger('nb')"
   ]
  },
  {
   "cell_type": "code",
   "execution_count": 3,
   "metadata": {},
   "outputs": [],
   "source": [
    "def run(app, *argv):    \n",
    "    torch.cuda.empty_cache()\n",
    "    \n",
    "    argv = list(argv)\n",
    "    argv.insert(0, '--num-workers=4')\n",
    "    log.info(\"Running: {}({!r}).main()\".format(app, argv))\n",
    "    \n",
    "    app_cls = importstr(*app.rsplit('.', 1))\n",
    "    app_cls(argv).main()\n",
    "    \n",
    "    log.info(\"Finished: {}.{!r}.main()\".format(app, argv))"
   ]
  },
  {
   "cell_type": "code",
   "execution_count": 4,
   "metadata": {},
   "outputs": [],
   "source": [
    "# we use this to test if the bounding box dimension is valid for our unet\n",
    "def test_num(num, depth):\n",
    "    offset = int(math.ceil(num*.33))\n",
    "    curr_width = width = num - offset\n",
    "    for i in range(depth-1):\n",
    "        curr_width = math.floor(curr_width / 2)\n",
    "    for i in range(depth-1):\n",
    "        curr_width = curr_width * 2\n",
    "    return width == curr_width, repr([width, curr_width])"
   ]
  },
  {
   "cell_type": "code",
   "execution_count": 5,
   "metadata": {},
   "outputs": [],
   "source": [
    "experiment_epochs = 3\n",
    "unet_depth=3\n",
    "val_cadence = 1\n",
    "batch_size = 32\n",
    "recall_priority = 0\n",
    "pad_types = ['zero', 'reflect', 'replicate']\n",
    "windows = [None, 'lung', 'mediastinal', 'dist']\n",
    "\n",
    "bbox_dim = 246"
   ]
  },
  {
   "cell_type": "code",
   "execution_count": 6,
   "metadata": {},
   "outputs": [],
   "source": [
    "for num in [60,108,144,198,246,288,323]:\n",
    "    works, dim = test_num(num, unet_depth)\n",
    "    assert works, repr(dim)"
   ]
  },
  {
   "cell_type": "markdown",
   "metadata": {},
   "source": [
    "Cache all the different sizes of bounding box"
   ]
  },
  {
   "cell_type": "code",
   "execution_count": 7,
   "metadata": {},
   "outputs": [
    {
     "name": "stderr",
     "output_type": "stream",
     "text": [
      "2020-11-14 19:02:16,930 INFO     pid:54362 nb:006:run Running: prepcache.CovidPrepCacheApp(['--num-workers=4', '--width-irc', '7', '246', '246']).main()\n",
      "2020-11-14 19:02:17,872 INFO     pid:54362 prepcache:039:main Starting CovidPrepCacheApp, Namespace(batch_size=1024, num_workers=4, width_irc=['7', '246', '246'])\n",
      "100%|██████████| 2/2 [01:20<00:00, 40.47s/it]\n",
      "2020-11-14 19:03:38,881 INFO     pid:54362 nb:011:run Finished: prepcache.CovidPrepCacheApp.['--num-workers=4', '--width-irc', '7', '246', '246'].main()\n"
     ]
    }
   ],
   "source": [
    "# run('prepcache.CovidPrepCacheApp', '--width-irc', '7', '60', '60')\n",
    "# run('prepcache.CovidPrepCacheApp', '--width-irc', '7', '108', '108')\n",
    "# run('prepcache.CovidPrepCacheApp', '--width-irc', '7', '144', '144')\n",
    "# run('prepcache.CovidPrepCacheApp', '--width-irc', '7', '198', '198')\n",
    "run('prepcache.CovidPrepCacheApp', '--width-irc', '7', '246', '246')\n",
    "# run('prepcache.CovidPrepCacheApp', '--width-irc', '7', '288', '288')\n",
    "# run('prepcache.CovidPrepCacheApp', '--width-irc', '7', '323', '323')"
   ]
  },
  {
   "cell_type": "markdown",
   "metadata": {
    "collapsed": "true"
   },
   "source": [
    "# Bounding Box Test"
   ]
  },
  {
   "cell_type": "code",
   "execution_count": null,
   "metadata": {},
   "outputs": [],
   "source": [
    "run('training.CovidSegmentationTrainingApp', f'--epochs={experiment_epochs}', f'--batch-size={batch_size}', '--run-name=bbox60')\n",
    "run('training.CovidSegmentationTrainingApp', f'--epochs={experiment_epochs}', f'--batch-size={batch_size}', '--width-irc', '7', '108', '108', '--run-name=bbox108')\n",
    "run('training.CovidSegmentationTrainingApp', f'--epochs={experiment_epochs}', f'--batch-size={batch_size}', '--width-irc', '7', '144', '144', '--run-name=bbox144')\n",
    "run('training.CovidSegmentationTrainingApp', f'--epochs={experiment_epochs}', f'--batch-size={batch_size}', '--width-irc', '7', '198', '198', '--run-name=bbox198')\n",
    "run('training.CovidSegmentationTrainingApp', f'--epochs={experiment_epochs}', f'--batch-size={batch_size}', '--width-irc', '7', '246', '246', '--run-name=bbox246')\n",
    "run('training.CovidSegmentationTrainingApp', f'--epochs={experiment_epochs}', f'--batch-size={batch_size}', '--width-irc', '7', '288', '288', '--run-name=bbox288')\n",
    "run('training.CovidSegmentationTrainingApp', f'--epochs={experiment_epochs}', f'--batch-size={batch_size}', '--width-irc', '7', '323', '323', '--run-name=bbox323')\n",
    "\n",
    "# dummy run to finish wandb\n",
    "run('training.CovidSegmentationTrainingApp', '--epochs=0', '--run-name=to delete')"
   ]
  },
  {
   "cell_type": "markdown",
   "metadata": {
    "collapsed": "true"
   },
   "source": [
    "# Augmentation Test"
   ]
  },
  {
   "cell_type": "code",
   "execution_count": 9,
   "metadata": {},
   "outputs": [],
   "source": [
    "run('training.CovidSegmentationTrainingApp', f'--epochs={experiment_epochs}', f'--batch-size={batch_size}', '--augment-flip', '--run-name=flip aug', '--width-irc', '7', f'{bbox_dim}', f'{bbox_dim}')\n",
    "run('training.CovidSegmentationTrainingApp', f'--epochs={experiment_epochs}', f'--batch-size={batch_size}', '--augment-offset', '--run-name=offset aug', '--width-irc', '7', f'{bbox_dim}', f'{bbox_dim}')\n",
    "run('training.CovidSegmentationTrainingApp', f'--epochs={experiment_epochs}', f'--batch-size={batch_size}', '--augment-scale', '--run-name=scale aug', '--width-irc', '7', f'{bbox_dim}', f'{bbox_dim}')\n",
    "run('training.CovidSegmentationTrainingApp', f'--epochs={experiment_epochs}', f'--batch-size={batch_size}', '--augment-rotate', '--run-name=rotate aug', '--width-irc', '7', f'{bbox_dim}', f'{bbox_dim}')\n",
    "run('training.CovidSegmentationTrainingApp', f'--epochs={experiment_epochs}', f'--batch-size={batch_size}', '--augment-noise', '--run-name=noise aug', '--width-irc', '7', f'{bbox_dim}', f'{bbox_dim}')\n",
    "run('training.CovidSegmentationTrainingApp', f'--epochs={experiment_epochs}', f'--batch-size={batch_size}', '--augmented', '--run-name=all aug', '--width-irc', '7', f'{bbox_dim}', f'{bbox_dim}')\n",
    "\n",
    "# dummy run to finish wandb\n",
    "run('training.CovidSegmentationTrainingApp', '--epochs=0', '--run-name=to delete')"
   ]
  },
  {
   "cell_type": "code",
   "execution_count": 10,
   "metadata": {},
   "outputs": [],
   "source": [
    "# increased range of scale from .2 to .3 and range of offset from .1 to .3\n",
    "run('training.CovidSegmentationTrainingApp', f'--epochs={experiment_epochs}', f'--batch-size={batch_size}', '--augment-offset', '--run-name=larger offset aug', '--width-irc', '7', f'{bbox_dim}', f'{bbox_dim}')\n",
    "run('training.CovidSegmentationTrainingApp', f'--epochs={experiment_epochs}', f'--batch-size={batch_size}', '--augment-scale', '--run-name=larger scale aug', '--width-irc', '7', f'{bbox_dim}', f'{bbox_dim}')\n",
    "\n",
    "# dummy run to finish wandb\n",
    "run('training.CovidSegmentationTrainingApp', '--epochs=0', '--run-name=to delete')"
   ]
  },
  {
   "cell_type": "markdown",
   "metadata": {
    "collapsed": "true"
   },
   "source": [
    "# Window Test"
   ]
  },
  {
   "cell_type": "code",
   "execution_count": 9,
   "metadata": {},
   "outputs": [],
   "source": [
    "run('training.CovidSegmentationTrainingApp', f'--epochs={experiment_epochs}', f'--batch-size={batch_size}', f'--ct-window={windows[1]}', \n",
    "    '--augmented', '--width-irc', '7', f'{bbox_dim}', f'{bbox_dim}', '--run-name=lung window')\n",
    "run('training.CovidSegmentationTrainingApp', f'--epochs={experiment_epochs}', f'--batch-size={batch_size}', f'--ct-window={windows[2]}', \n",
    "    '--augmented', '--width-irc', '7', f'{bbox_dim}', f'{bbox_dim}', '--run-name=mediastinal window')\n",
    "\n",
    "# dummy run to finish wandb\n",
    "run('training.CovidSegmentationTrainingApp', '--epochs=0', '--run-name=to delete')"
   ]
  },
  {
   "cell_type": "markdown",
   "metadata": {
    "collapsed": "true"
   },
   "source": [
    "# Padding Test"
   ]
  },
  {
   "cell_type": "code",
   "execution_count": 1,
   "metadata": {},
   "outputs": [],
   "source": [
    "run('training.CovidSegmentationTrainingApp', f'--epochs={experiment_epochs}', f'--batch-size={batch_size}', f'--ct-window={windows[1]}', \n",
    "    '--augmented', '--width-irc', '7', f'{bbox_dim}', f'{bbox_dim}', f'--pad-type={pad_types[1]}', '--run-name=reflect padding')\n",
    "run('training.CovidSegmentationTrainingApp', f'--epochs={experiment_epochs}', f'--batch-size={batch_size}', f'--ct-window={windows[1]}', \n",
    "    '--augmented', '--width-irc', '7', f'{bbox_dim}', f'{bbox_dim}', f'--pad-type={pad_types[2]}', '--run-name=replicate padding')\n",
    "\n",
    "# dummy run to finish wandb\n",
    "run('training.CovidSegmentationTrainingApp', '--epochs=0', '--run-name=to delete')"
   ]
  },
  {
   "cell_type": "markdown",
   "metadata": {},
   "source": [
    "# Train Run"
   ]
  },
  {
   "cell_type": "code",
   "execution_count": 5,
   "metadata": {},
   "outputs": [],
   "source": [
    "epochs = 50\n",
    "unet_depth=3\n",
    "val_cadence = 5\n",
    "batch_size = 32\n",
    "recall_priority = 0\n",
    "pad_type = 'replicate'\n",
    "window = 'lung'\n",
    "steps_per_epoch = 100000\n",
    "bbox_dim = 246"
   ]
  },
  {
   "cell_type": "code",
   "execution_count": 6,
   "metadata": {},
   "outputs": [
    {
     "name": "stderr",
     "output_type": "stream",
     "text": [
      "2020-11-15 00:04:44,749 INFO     pid:91418 nb:006:run Running: training.CovidSegmentationTrainingApp(['--num-workers=4', '--epochs=50', '--batch-size=32', '--ct-window=lung', '--augmented', '--val-cadence=5', '--depth=3', '--width-irc', '7', '246', '246', '--pad-type=replicate', '--steps-per-epoch=100000', '--run-name=train run 1']).main()\n",
      "2020-11-15 00:04:46,195 INFO     pid:91418 training:195:init_model Using CUDA; 1 devices.\n",
      "2020-11-15 00:04:48,357 INFO     pid:91418 modules.dsets:188:__init__ TrainingCovid2dSegmentationDataset: training mode, 177 uid's, 4379 index slices, 1080 lesions\n",
      "2020-11-15 00:04:48,358 INFO     pid:91418 modules.dsets:232:__init__ TrainingCovid2dSegmentationDataset: (7, 246, 246) width_irc\n",
      "2020-11-15 00:04:48,369 INFO     pid:91418 modules.dsets:188:__init__ Covid2dSegmentationDataset: validation mode, 20 uid's, 592 index slices, 157 lesions\n",
      "2020-11-15 00:04:48,942 INFO     pid:91418 wandb:606:_apply_source_login setting login settings: {}\n",
      "\u001b[34m\u001b[1mwandb\u001b[0m: Currently logged in as: \u001b[33mpeterbacalso\u001b[0m (use `wandb login --relogin` to force relogin)\n",
      "\u001b[34m\u001b[1mwandb\u001b[0m: wandb version 0.10.10 is available!  To upgrade, please run:\n",
      "\u001b[34m\u001b[1mwandb\u001b[0m:  $ pip install wandb --upgrade\n"
     ]
    },
    {
     "data": {
      "text/html": [
       "\n",
       "                Tracking run with wandb version 0.10.8<br/>\n",
       "                Syncing run <strong style=\"color:#cdcd00\">train run 1</strong> to <a href=\"https://wandb.ai\" target=\"_blank\">Weights & Biases</a> <a href=\"https://docs.wandb.com/integrations/jupyter.html\" target=\"_blank\">(Documentation)</a>.<br/>\n",
       "                Project page: <a href=\"https://wandb.ai/peterbacalso/covid19_seg\" target=\"_blank\">https://wandb.ai/peterbacalso/covid19_seg</a><br/>\n",
       "                Run page: <a href=\"https://wandb.ai/peterbacalso/covid19_seg/runs/2g1nbfyb\" target=\"_blank\">https://wandb.ai/peterbacalso/covid19_seg/runs/2g1nbfyb</a><br/>\n",
       "                Run data is saved locally in <code>wandb/run-20201115_000448-2g1nbfyb</code><br/><br/>\n",
       "            "
      ],
      "text/plain": [
       "<IPython.core.display.HTML object>"
      ]
     },
     "metadata": {},
     "output_type": "display_data"
    },
    {
     "name": "stderr",
     "output_type": "stream",
     "text": [
      "2020-11-15 00:04:50,311 INFO     pid:91418 training:478:main Starting CovidSegmentationTrainingApp, Namespace(augment_flip=False, augment_noise=False, augment_offset=False, augment_rotate=False, augment_scale=False, augmented=True, batch_size=32, ct_window='lung', depth=3, epochs=50, num_workers=4, pad_type='replicate', recall_priority=0, run_name='train run 1', steps_per_epoch=100000, val_cadence=5, width_irc=['7', '246', '246'])\n"
     ]
    },
    {
     "data": {
      "text/html": [
       "<table border=\"1\" class=\"dataframe\">\n",
       "  <thead>\n",
       "    <tr style=\"text-align: left;\">\n",
       "      <th>epoch</th>\n",
       "      <th>loss/trn</th>\n",
       "      <th>loss/val</th>\n",
       "      <th>metrics_val/miss_rate</th>\n",
       "      <th>metrics_val/fp_to_mask_ratio</th>\n",
       "      <th>pr_val/precision</th>\n",
       "      <th>pr_val/recall</th>\n",
       "      <th>pr_val/f1_score</th>\n",
       "    </tr>\n",
       "  </thead>\n",
       "  <tbody>\n",
       "    <tr>\n",
       "      <td>1</td>\n",
       "      <td>0.4367</td>\n",
       "      <td>0.6216</td>\n",
       "      <td>0.3483</td>\n",
       "      <td>0.6826</td>\n",
       "      <td>0.4884</td>\n",
       "      <td>0.6517</td>\n",
       "      <td>0.5584</td>\n",
       "    </tr>\n",
       "    <tr>\n",
       "      <td>5</td>\n",
       "      <td>0.3304</td>\n",
       "      <td>0.4428</td>\n",
       "      <td>0.2999</td>\n",
       "      <td>0.4390</td>\n",
       "      <td>0.6146</td>\n",
       "      <td>0.7001</td>\n",
       "      <td>0.6546</td>\n",
       "    </tr>\n",
       "    <tr>\n",
       "      <td>10</td>\n",
       "      <td>0.3281</td>\n",
       "      <td>0.4245</td>\n",
       "      <td>0.3302</td>\n",
       "      <td>0.2982</td>\n",
       "      <td>0.6920</td>\n",
       "      <td>0.6698</td>\n",
       "      <td>0.6807</td>\n",
       "    </tr>\n",
       "    <tr>\n",
       "      <td>15</td>\n",
       "      <td>0.3301</td>\n",
       "      <td>0.4549</td>\n",
       "      <td>0.1777</td>\n",
       "      <td>0.7762</td>\n",
       "      <td>0.5144</td>\n",
       "      <td>0.8223</td>\n",
       "      <td>0.6329</td>\n",
       "    </tr>\n",
       "    <tr>\n",
       "      <td>20</td>\n",
       "      <td>0.3292</td>\n",
       "      <td>0.4373</td>\n",
       "      <td>0.2865</td>\n",
       "      <td>0.4245</td>\n",
       "      <td>0.6270</td>\n",
       "      <td>0.7135</td>\n",
       "      <td>0.6675</td>\n",
       "    </tr>\n",
       "    <tr>\n",
       "      <td>25</td>\n",
       "      <td>0.3191</td>\n",
       "      <td>0.4127</td>\n",
       "      <td>0.3010</td>\n",
       "      <td>0.3131</td>\n",
       "      <td>0.6906</td>\n",
       "      <td>0.6990</td>\n",
       "      <td>0.6948</td>\n",
       "    </tr>\n",
       "    <tr>\n",
       "      <td>30</td>\n",
       "      <td>0.3156</td>\n",
       "      <td>0.4398</td>\n",
       "      <td>0.2363</td>\n",
       "      <td>0.5583</td>\n",
       "      <td>0.5777</td>\n",
       "      <td>0.7637</td>\n",
       "      <td>0.6578</td>\n",
       "    </tr>\n",
       "    <tr>\n",
       "      <td>35</td>\n",
       "      <td>0.3024</td>\n",
       "      <td>0.4220</td>\n",
       "      <td>0.2376</td>\n",
       "      <td>0.4747</td>\n",
       "      <td>0.6163</td>\n",
       "      <td>0.7624</td>\n",
       "      <td>0.6816</td>\n",
       "    </tr>\n",
       "    <tr>\n",
       "      <td>40</td>\n",
       "      <td>0.2861</td>\n",
       "      <td>0.4100</td>\n",
       "      <td>0.3265</td>\n",
       "      <td>0.2271</td>\n",
       "      <td>0.7478</td>\n",
       "      <td>0.6735</td>\n",
       "      <td>0.7087</td>\n",
       "    </tr>\n",
       "    <tr>\n",
       "      <td>45</td>\n",
       "      <td>0.2508</td>\n",
       "      <td>0.4007</td>\n",
       "      <td>0.2662</td>\n",
       "      <td>0.3002</td>\n",
       "      <td>0.7097</td>\n",
       "      <td>0.7338</td>\n",
       "      <td>0.7215</td>\n",
       "    </tr>\n",
       "    <tr>\n",
       "      <td>50</td>\n",
       "      <td>0.2149</td>\n",
       "      <td>0.3915</td>\n",
       "      <td>0.3089</td>\n",
       "      <td>0.2034</td>\n",
       "      <td>0.7726</td>\n",
       "      <td>0.6911</td>\n",
       "      <td>0.7296</td>\n",
       "    </tr>\n",
       "  </tbody>\n",
       "</table>"
      ],
      "text/plain": [
       "<IPython.core.display.HTML object>"
      ]
     },
     "metadata": {},
     "output_type": "display_data"
    },
    {
     "name": "stderr",
     "output_type": "stream",
     "text": [
      "2020-11-15 00:13:34,185 INFO     pid:91418 training:316:log_metrics E1 CovidSegmentationTrainingApp\n",
      "2020-11-15 00:13:34,188 INFO     pid:91418 training:345:log_metrics E1 trn      0.4367 loss, 0.5352 precision, 0.6664 recall, 0.5936 f1 score 0.3336 miss rate 0.5787 fp to label ratio\n",
      "2020-11-15 00:14:10,962 INFO     pid:91418 training:316:log_metrics E1 CovidSegmentationTrainingApp\n",
      "2020-11-15 00:14:10,963 INFO     pid:91418 training:354:log_metrics E1 val      0.6216 loss, 0.4884 precision, 0.6517 recall, 0.5584 f1 score 0.3483 miss rate 0.6826 fp to label ratio\n",
      "2020-11-15 00:19:58,149 INFO     pid:91418 training:457:save_model Saved model params to saved-models/2020-11-15_00.04.46.100000.state\n",
      "2020-11-15 00:19:58,151 INFO     pid:91418 training:462:save_model Saved model params to saved-models/2020-11-15_00.04.46.best.state\n",
      "2020-11-15 00:19:58,153 INFO     pid:91418 training:467:save_model SHA1: ca4564c819a3d95fb54d8908887e4ecfac2917d8\n",
      "2020-11-15 00:28:55,127 INFO     pid:91418 training:316:log_metrics E2 CovidSegmentationTrainingApp\n",
      "2020-11-15 00:28:55,128 INFO     pid:91418 training:345:log_metrics E2 trn      0.3619 loss, 0.6631 precision, 0.6847 recall, 0.6737 f1 score 0.3153 miss rate 0.3479 fp to label ratio\n",
      "2020-11-15 00:37:48,002 INFO     pid:91418 training:316:log_metrics E3 CovidSegmentationTrainingApp\n",
      "2020-11-15 00:37:48,007 INFO     pid:91418 training:345:log_metrics E3 trn      0.3440 loss, 0.6816 precision, 0.6988 recall, 0.6901 f1 score 0.3012 miss rate 0.3264 fp to label ratio\n",
      "2020-11-15 00:46:39,175 INFO     pid:91418 training:316:log_metrics E4 CovidSegmentationTrainingApp\n",
      "2020-11-15 00:46:39,182 INFO     pid:91418 training:345:log_metrics E4 trn      0.3403 loss, 0.6837 precision, 0.7009 recall, 0.6922 f1 score 0.2991 miss rate 0.3242 fp to label ratio\n",
      "2020-11-15 00:55:32,314 INFO     pid:91418 training:316:log_metrics E5 CovidSegmentationTrainingApp\n",
      "2020-11-15 00:55:32,319 INFO     pid:91418 training:345:log_metrics E5 trn      0.3304 loss, 0.6978 precision, 0.7075 recall, 0.7026 f1 score 0.2925 miss rate 0.3064 fp to label ratio\n",
      "2020-11-15 00:58:51,842 INFO     pid:91418 training:316:log_metrics E5 CovidSegmentationTrainingApp\n",
      "2020-11-15 00:58:51,845 INFO     pid:91418 training:354:log_metrics E5 val      0.4428 loss, 0.6146 precision, 0.7001 recall, 0.6546 f1 score 0.2999 miss rate 0.4390 fp to label ratio\n",
      "2020-11-15 01:09:20,744 INFO     pid:91418 training:457:save_model Saved model params to saved-models/2020-11-15_00.04.46.500000.state\n",
      "2020-11-15 01:09:20,746 INFO     pid:91418 training:462:save_model Saved model params to saved-models/2020-11-15_00.04.46.best.state\n",
      "2020-11-15 01:09:20,749 INFO     pid:91418 training:467:save_model SHA1: 531cda91451218c8296be5c8ed6e48031912b449\n",
      "2020-11-15 01:18:20,001 INFO     pid:91418 training:316:log_metrics E6 CovidSegmentationTrainingApp\n",
      "2020-11-15 01:18:20,006 INFO     pid:91418 training:345:log_metrics E6 trn      0.3289 loss, 0.6949 precision, 0.7108 recall, 0.7028 f1 score 0.2892 miss rate 0.3120 fp to label ratio\n",
      "2020-11-15 01:27:37,439 INFO     pid:91418 training:316:log_metrics E7 CovidSegmentationTrainingApp\n",
      "2020-11-15 01:27:37,442 INFO     pid:91418 training:345:log_metrics E7 trn      0.3313 loss, 0.6911 precision, 0.7088 recall, 0.6998 f1 score 0.2912 miss rate 0.3168 fp to label ratio\n",
      "2020-11-15 01:36:57,155 INFO     pid:91418 training:316:log_metrics E8 CovidSegmentationTrainingApp\n",
      "2020-11-15 01:36:57,159 INFO     pid:91418 training:345:log_metrics E8 trn      0.3289 loss, 0.6962 precision, 0.7131 recall, 0.7045 f1 score 0.2869 miss rate 0.3111 fp to label ratio\n",
      "2020-11-15 01:46:20,714 INFO     pid:91418 training:316:log_metrics E9 CovidSegmentationTrainingApp\n",
      "2020-11-15 01:46:20,716 INFO     pid:91418 training:345:log_metrics E9 trn      0.3293 loss, 0.6948 precision, 0.7116 recall, 0.7031 f1 score 0.2884 miss rate 0.3126 fp to label ratio\n",
      "2020-11-15 01:55:44,241 INFO     pid:91418 training:316:log_metrics E10 CovidSegmentationTrainingApp\n",
      "2020-11-15 01:55:44,246 INFO     pid:91418 training:345:log_metrics E10 trn      0.3281 loss, 0.6952 precision, 0.7129 recall, 0.7040 f1 score 0.2871 miss rate 0.3126 fp to label ratio\n",
      "2020-11-15 01:59:19,148 INFO     pid:91418 training:316:log_metrics E10 CovidSegmentationTrainingApp\n",
      "2020-11-15 01:59:19,149 INFO     pid:91418 training:354:log_metrics E10 val      0.4245 loss, 0.6920 precision, 0.6698 recall, 0.6807 f1 score 0.3302 miss rate 0.2982 fp to label ratio\n",
      "2020-11-15 02:11:57,703 INFO     pid:91418 training:457:save_model Saved model params to saved-models/2020-11-15_00.04.46.1000000.state\n",
      "2020-11-15 02:11:57,705 INFO     pid:91418 training:462:save_model Saved model params to saved-models/2020-11-15_00.04.46.best.state\n",
      "2020-11-15 02:11:57,708 INFO     pid:91418 training:467:save_model SHA1: 35d02ee5329bf627afd75cc7bbb544f0dd7c96a9\n",
      "2020-11-15 02:20:53,495 INFO     pid:91418 training:316:log_metrics E11 CovidSegmentationTrainingApp\n",
      "2020-11-15 02:20:53,497 INFO     pid:91418 training:345:log_metrics E11 trn      0.3299 loss, 0.6964 precision, 0.7083 recall, 0.7023 f1 score 0.2917 miss rate 0.3088 fp to label ratio\n",
      "2020-11-15 02:30:07,638 INFO     pid:91418 training:316:log_metrics E12 CovidSegmentationTrainingApp\n",
      "2020-11-15 02:30:07,643 INFO     pid:91418 training:345:log_metrics E12 trn      0.3344 loss, 0.6923 precision, 0.7057 recall, 0.6989 f1 score 0.2943 miss rate 0.3136 fp to label ratio\n",
      "2020-11-15 02:39:22,192 INFO     pid:91418 training:316:log_metrics E13 CovidSegmentationTrainingApp\n",
      "2020-11-15 02:39:22,197 INFO     pid:91418 training:345:log_metrics E13 trn      0.3329 loss, 0.6870 precision, 0.7114 recall, 0.6990 f1 score 0.2886 miss rate 0.3241 fp to label ratio\n",
      "2020-11-15 02:48:35,876 INFO     pid:91418 training:316:log_metrics E14 CovidSegmentationTrainingApp\n",
      "2020-11-15 02:48:35,881 INFO     pid:91418 training:345:log_metrics E14 trn      0.3295 loss, 0.6983 precision, 0.7113 recall, 0.7047 f1 score 0.2887 miss rate 0.3073 fp to label ratio\n",
      "2020-11-15 02:57:52,506 INFO     pid:91418 training:316:log_metrics E15 CovidSegmentationTrainingApp\n",
      "2020-11-15 02:57:52,510 INFO     pid:91418 training:345:log_metrics E15 trn      0.3301 loss, 0.6944 precision, 0.7108 recall, 0.7025 f1 score 0.2892 miss rate 0.3128 fp to label ratio\n",
      "2020-11-15 03:04:26,258 INFO     pid:91418 training:316:log_metrics E15 CovidSegmentationTrainingApp\n",
      "2020-11-15 03:04:26,260 INFO     pid:91418 training:354:log_metrics E15 val      0.4549 loss, 0.5144 precision, 0.8223 recall, 0.6329 f1 score 0.1777 miss rate 0.7762 fp to label ratio\n",
      "2020-11-15 03:17:55,544 INFO     pid:91418 training:457:save_model Saved model params to saved-models/2020-11-15_00.04.46.1500000.state\n",
      "2020-11-15 03:17:55,547 INFO     pid:91418 training:467:save_model SHA1: fc13a9e7bb0b005693948920a1d78259fe978d70\n",
      "2020-11-15 03:26:50,612 INFO     pid:91418 training:316:log_metrics E16 CovidSegmentationTrainingApp\n",
      "2020-11-15 03:26:50,614 INFO     pid:91418 training:345:log_metrics E16 trn      0.3275 loss, 0.6962 precision, 0.7118 recall, 0.7039 f1 score 0.2882 miss rate 0.3106 fp to label ratio\n",
      "2020-11-15 03:36:03,889 INFO     pid:91418 training:316:log_metrics E17 CovidSegmentationTrainingApp\n",
      "2020-11-15 03:36:03,896 INFO     pid:91418 training:345:log_metrics E17 trn      0.3285 loss, 0.6922 precision, 0.7143 recall, 0.7031 f1 score 0.2857 miss rate 0.3176 fp to label ratio\n",
      "2020-11-15 03:45:18,271 INFO     pid:91418 training:316:log_metrics E18 CovidSegmentationTrainingApp\n",
      "2020-11-15 03:45:18,276 INFO     pid:91418 training:345:log_metrics E18 trn      0.3245 loss, 0.6986 precision, 0.7132 recall, 0.7058 f1 score 0.2868 miss rate 0.3077 fp to label ratio\n",
      "2020-11-15 03:54:31,089 INFO     pid:91418 training:316:log_metrics E19 CovidSegmentationTrainingApp\n",
      "2020-11-15 03:54:31,094 INFO     pid:91418 training:345:log_metrics E19 trn      0.3269 loss, 0.6968 precision, 0.7097 recall, 0.7032 f1 score 0.2903 miss rate 0.3089 fp to label ratio\n",
      "2020-11-15 04:03:49,176 INFO     pid:91418 training:316:log_metrics E20 CovidSegmentationTrainingApp\n",
      "2020-11-15 04:03:49,182 INFO     pid:91418 training:345:log_metrics E20 trn      0.3292 loss, 0.6958 precision, 0.7096 recall, 0.7026 f1 score 0.2904 miss rate 0.3102 fp to label ratio\n",
      "2020-11-15 04:04:28,062 INFO     pid:91418 training:316:log_metrics E20 CovidSegmentationTrainingApp\n",
      "2020-11-15 04:04:28,064 INFO     pid:91418 training:354:log_metrics E20 val      0.4373 loss, 0.6270 precision, 0.7135 recall, 0.6675 f1 score 0.2865 miss rate 0.4245 fp to label ratio\n",
      "2020-11-15 04:14:48,702 INFO     pid:91418 training:457:save_model Saved model params to saved-models/2020-11-15_00.04.46.2000000.state\n",
      "2020-11-15 04:14:48,704 INFO     pid:91418 training:467:save_model SHA1: 2d2367dcabd7b0732c700475edf7f5b3468b9746\n",
      "2020-11-15 04:23:33,126 INFO     pid:91418 training:316:log_metrics E21 CovidSegmentationTrainingApp\n",
      "2020-11-15 04:23:33,135 INFO     pid:91418 training:345:log_metrics E21 trn      0.3222 loss, 0.7047 precision, 0.7153 recall, 0.7100 f1 score 0.2847 miss rate 0.2997 fp to label ratio\n",
      "2020-11-15 04:32:14,041 INFO     pid:91418 training:316:log_metrics E22 CovidSegmentationTrainingApp\n",
      "2020-11-15 04:32:14,046 INFO     pid:91418 training:345:log_metrics E22 trn      0.3242 loss, 0.7018 precision, 0.7109 recall, 0.7063 f1 score 0.2891 miss rate 0.3021 fp to label ratio\n",
      "2020-11-15 04:40:59,305 INFO     pid:91418 training:316:log_metrics E23 CovidSegmentationTrainingApp\n",
      "2020-11-15 04:40:59,312 INFO     pid:91418 training:345:log_metrics E23 trn      0.3226 loss, 0.7014 precision, 0.7138 recall, 0.7075 f1 score 0.2862 miss rate 0.3039 fp to label ratio\n",
      "2020-11-15 04:49:39,853 INFO     pid:91418 training:316:log_metrics E24 CovidSegmentationTrainingApp\n",
      "2020-11-15 04:49:39,858 INFO     pid:91418 training:345:log_metrics E24 trn      0.3278 loss, 0.6946 precision, 0.7076 recall, 0.7011 f1 score 0.2924 miss rate 0.3111 fp to label ratio\n",
      "2020-11-15 04:58:29,771 INFO     pid:91418 training:316:log_metrics E25 CovidSegmentationTrainingApp\n",
      "2020-11-15 04:58:29,782 INFO     pid:91418 training:345:log_metrics E25 trn      0.3191 loss, 0.7068 precision, 0.7151 recall, 0.7109 f1 score 0.2849 miss rate 0.2966 fp to label ratio\n",
      "2020-11-15 05:00:01,148 INFO     pid:91418 training:316:log_metrics E25 CovidSegmentationTrainingApp\n",
      "2020-11-15 05:00:01,149 INFO     pid:91418 training:354:log_metrics E25 val      0.4127 loss, 0.6906 precision, 0.6990 recall, 0.6948 f1 score 0.3010 miss rate 0.3131 fp to label ratio\n",
      "2020-11-15 05:11:44,647 INFO     pid:91418 training:457:save_model Saved model params to saved-models/2020-11-15_00.04.46.2500000.state\n",
      "2020-11-15 05:11:44,649 INFO     pid:91418 training:462:save_model Saved model params to saved-models/2020-11-15_00.04.46.best.state\n",
      "2020-11-15 05:11:44,652 INFO     pid:91418 training:467:save_model SHA1: 2253ba7454e0af58b4b206db2b73f7e5ec356324\n",
      "2020-11-15 05:20:25,826 INFO     pid:91418 training:316:log_metrics E26 CovidSegmentationTrainingApp\n",
      "2020-11-15 05:20:25,832 INFO     pid:91418 training:345:log_metrics E26 trn      0.3256 loss, 0.7008 precision, 0.7097 recall, 0.7052 f1 score 0.2903 miss rate 0.3030 fp to label ratio\n",
      "2020-11-15 05:29:37,697 INFO     pid:91418 training:316:log_metrics E27 CovidSegmentationTrainingApp\n",
      "2020-11-15 05:29:37,703 INFO     pid:91418 training:345:log_metrics E27 trn      0.3181 loss, 0.7067 precision, 0.7173 recall, 0.7120 f1 score 0.2827 miss rate 0.2977 fp to label ratio\n",
      "2020-11-15 05:38:37,947 INFO     pid:91418 training:316:log_metrics E28 CovidSegmentationTrainingApp\n",
      "2020-11-15 05:38:37,952 INFO     pid:91418 training:345:log_metrics E28 trn      0.3176 loss, 0.7109 precision, 0.7122 recall, 0.7115 f1 score 0.2878 miss rate 0.2897 fp to label ratio\n",
      "2020-11-15 05:47:52,264 INFO     pid:91418 training:316:log_metrics E29 CovidSegmentationTrainingApp\n",
      "2020-11-15 05:47:52,269 INFO     pid:91418 training:345:log_metrics E29 trn      0.3178 loss, 0.7109 precision, 0.7139 recall, 0.7124 f1 score 0.2861 miss rate 0.2903 fp to label ratio\n",
      "2020-11-15 05:57:09,360 INFO     pid:91418 training:316:log_metrics E30 CovidSegmentationTrainingApp\n",
      "2020-11-15 05:57:09,366 INFO     pid:91418 training:345:log_metrics E30 trn      0.3156 loss, 0.7120 precision, 0.7141 recall, 0.7130 f1 score 0.2859 miss rate 0.2889 fp to label ratio\n",
      "2020-11-15 05:59:33,891 INFO     pid:91418 training:316:log_metrics E30 CovidSegmentationTrainingApp\n",
      "2020-11-15 05:59:33,893 INFO     pid:91418 training:354:log_metrics E30 val      0.4398 loss, 0.5777 precision, 0.7637 recall, 0.6578 f1 score 0.2363 miss rate 0.5583 fp to label ratio\n",
      "2020-11-15 06:07:14,217 INFO     pid:91418 training:457:save_model Saved model params to saved-models/2020-11-15_00.04.46.3000000.state\n",
      "2020-11-15 06:07:14,219 INFO     pid:91418 training:467:save_model SHA1: ef245d428e9199e12aec4f32d6afab4bab3a7e2a\n",
      "2020-11-15 06:16:12,426 INFO     pid:91418 training:316:log_metrics E31 CovidSegmentationTrainingApp\n",
      "2020-11-15 06:16:12,430 INFO     pid:91418 training:345:log_metrics E31 trn      0.3125 loss, 0.7154 precision, 0.7165 recall, 0.7159 f1 score 0.2835 miss rate 0.2851 fp to label ratio\n",
      "2020-11-15 06:25:31,705 INFO     pid:91418 training:316:log_metrics E32 CovidSegmentationTrainingApp\n",
      "2020-11-15 06:25:31,711 INFO     pid:91418 training:345:log_metrics E32 trn      0.3105 loss, 0.7168 precision, 0.7218 recall, 0.7193 f1 score 0.2782 miss rate 0.2851 fp to label ratio\n",
      "2020-11-15 06:34:45,064 INFO     pid:91418 training:316:log_metrics E33 CovidSegmentationTrainingApp\n",
      "2020-11-15 06:34:45,068 INFO     pid:91418 training:345:log_metrics E33 trn      0.3073 loss, 0.7223 precision, 0.7194 recall, 0.7208 f1 score 0.2806 miss rate 0.2767 fp to label ratio\n",
      "2020-11-15 06:44:06,079 INFO     pid:91418 training:316:log_metrics E34 CovidSegmentationTrainingApp\n",
      "2020-11-15 06:44:06,084 INFO     pid:91418 training:345:log_metrics E34 trn      0.3049 loss, 0.7223 precision, 0.7216 recall, 0.7219 f1 score 0.2784 miss rate 0.2775 fp to label ratio\n",
      "2020-11-15 06:53:42,873 INFO     pid:91418 training:316:log_metrics E35 CovidSegmentationTrainingApp\n",
      "2020-11-15 06:53:42,881 INFO     pid:91418 training:345:log_metrics E35 trn      0.3024 loss, 0.7223 precision, 0.7237 recall, 0.7230 f1 score 0.2763 miss rate 0.2783 fp to label ratio\n",
      "2020-11-15 06:55:27,010 INFO     pid:91418 training:316:log_metrics E35 CovidSegmentationTrainingApp\n",
      "2020-11-15 06:55:27,012 INFO     pid:91418 training:354:log_metrics E35 val      0.4220 loss, 0.6163 precision, 0.7624 recall, 0.6816 f1 score 0.2376 miss rate 0.4747 fp to label ratio\n",
      "2020-11-15 07:03:36,084 INFO     pid:91418 training:457:save_model Saved model params to saved-models/2020-11-15_00.04.46.3500000.state\n",
      "2020-11-15 07:03:36,087 INFO     pid:91418 training:467:save_model SHA1: 17c3d2f686fabc7c7b4d9178a1d47b45a7b440ff\n",
      "2020-11-15 07:12:34,476 INFO     pid:91418 training:316:log_metrics E36 CovidSegmentationTrainingApp\n",
      "2020-11-15 07:12:34,478 INFO     pid:91418 training:345:log_metrics E36 trn      0.2967 loss, 0.7323 precision, 0.7249 recall, 0.7286 f1 score 0.2751 miss rate 0.2650 fp to label ratio\n",
      "2020-11-15 07:21:54,714 INFO     pid:91418 training:316:log_metrics E37 CovidSegmentationTrainingApp\n",
      "2020-11-15 07:21:54,719 INFO     pid:91418 training:345:log_metrics E37 trn      0.2954 loss, 0.7339 precision, 0.7239 recall, 0.7289 f1 score 0.2761 miss rate 0.2625 fp to label ratio\n",
      "2020-11-15 07:31:17,606 INFO     pid:91418 training:316:log_metrics E38 CovidSegmentationTrainingApp\n",
      "2020-11-15 07:31:17,612 INFO     pid:91418 training:345:log_metrics E38 trn      0.2929 loss, 0.7367 precision, 0.7241 recall, 0.7303 f1 score 0.2759 miss rate 0.2588 fp to label ratio\n",
      "2020-11-15 07:40:52,929 INFO     pid:91418 training:316:log_metrics E39 CovidSegmentationTrainingApp\n",
      "2020-11-15 07:40:52,934 INFO     pid:91418 training:345:log_metrics E39 trn      0.2888 loss, 0.7421 precision, 0.7281 recall, 0.7350 f1 score 0.2719 miss rate 0.2531 fp to label ratio\n",
      "2020-11-15 07:50:23,490 INFO     pid:91418 training:316:log_metrics E40 CovidSegmentationTrainingApp\n",
      "2020-11-15 07:50:23,499 INFO     pid:91418 training:345:log_metrics E40 trn      0.2861 loss, 0.7432 precision, 0.7279 recall, 0.7355 f1 score 0.2721 miss rate 0.2514 fp to label ratio\n",
      "2020-11-15 07:52:14,531 INFO     pid:91418 training:316:log_metrics E40 CovidSegmentationTrainingApp\n",
      "2020-11-15 07:52:14,533 INFO     pid:91418 training:354:log_metrics E40 val      0.4100 loss, 0.7478 precision, 0.6735 recall, 0.7087 f1 score 0.3265 miss rate 0.2271 fp to label ratio\n",
      "2020-11-15 07:58:38,716 INFO     pid:91418 training:457:save_model Saved model params to saved-models/2020-11-15_00.04.46.4000000.state\n",
      "2020-11-15 07:58:38,718 INFO     pid:91418 training:462:save_model Saved model params to saved-models/2020-11-15_00.04.46.best.state\n",
      "2020-11-15 07:58:38,722 INFO     pid:91418 training:467:save_model SHA1: 1bcdde8bbdaaad6d9e2d726d92b1db40fed30feb\n",
      "2020-11-15 08:07:47,686 INFO     pid:91418 training:316:log_metrics E41 CovidSegmentationTrainingApp\n",
      "2020-11-15 08:07:47,690 INFO     pid:91418 training:345:log_metrics E41 trn      0.2793 loss, 0.7483 precision, 0.7337 recall, 0.7409 f1 score 0.2663 miss rate 0.2468 fp to label ratio\n",
      "2020-11-15 08:17:11,278 INFO     pid:91418 training:316:log_metrics E42 CovidSegmentationTrainingApp\n",
      "2020-11-15 08:17:11,283 INFO     pid:91418 training:345:log_metrics E42 trn      0.2709 loss, 0.7622 precision, 0.7342 recall, 0.7480 f1 score 0.2658 miss rate 0.2290 fp to label ratio\n",
      "2020-11-15 08:26:30,113 INFO     pid:91418 training:316:log_metrics E43 CovidSegmentationTrainingApp\n",
      "2020-11-15 08:26:30,117 INFO     pid:91418 training:345:log_metrics E43 trn      0.2651 loss, 0.7670 precision, 0.7396 recall, 0.7530 f1 score 0.2604 miss rate 0.2247 fp to label ratio\n",
      "2020-11-15 08:35:56,873 INFO     pid:91418 training:316:log_metrics E44 CovidSegmentationTrainingApp\n",
      "2020-11-15 08:35:56,877 INFO     pid:91418 training:345:log_metrics E44 trn      0.2577 loss, 0.7690 precision, 0.7465 recall, 0.7576 f1 score 0.2535 miss rate 0.2242 fp to label ratio\n",
      "2020-11-15 08:45:18,304 INFO     pid:91418 training:316:log_metrics E45 CovidSegmentationTrainingApp\n",
      "2020-11-15 08:45:18,307 INFO     pid:91418 training:345:log_metrics E45 trn      0.2508 loss, 0.7765 precision, 0.7479 recall, 0.7619 f1 score 0.2521 miss rate 0.2152 fp to label ratio\n",
      "2020-11-15 08:46:45,275 INFO     pid:91418 training:316:log_metrics E45 CovidSegmentationTrainingApp\n",
      "2020-11-15 08:46:45,284 INFO     pid:91418 training:354:log_metrics E45 val      0.4007 loss, 0.7097 precision, 0.7338 recall, 0.7215 f1 score 0.2662 miss rate 0.3002 fp to label ratio\n",
      "2020-11-15 08:52:07,951 INFO     pid:91418 training:457:save_model Saved model params to saved-models/2020-11-15_00.04.46.4500000.state\n",
      "2020-11-15 08:52:07,953 INFO     pid:91418 training:462:save_model Saved model params to saved-models/2020-11-15_00.04.46.best.state\n",
      "2020-11-15 08:52:07,956 INFO     pid:91418 training:467:save_model SHA1: 9b54018238c6501aec9ca550273db1fb6cf66161\n",
      "2020-11-15 09:01:05,273 INFO     pid:91418 training:316:log_metrics E46 CovidSegmentationTrainingApp\n",
      "2020-11-15 09:01:05,276 INFO     pid:91418 training:345:log_metrics E46 trn      0.2395 loss, 0.7896 precision, 0.7537 recall, 0.7712 f1 score 0.2463 miss rate 0.2009 fp to label ratio\n",
      "2020-11-15 09:10:24,289 INFO     pid:91418 training:316:log_metrics E47 CovidSegmentationTrainingApp\n",
      "2020-11-15 09:10:24,293 INFO     pid:91418 training:345:log_metrics E47 trn      0.2312 loss, 0.7959 precision, 0.7594 recall, 0.7772 f1 score 0.2406 miss rate 0.1947 fp to label ratio\n",
      "2020-11-15 09:19:42,081 INFO     pid:91418 training:316:log_metrics E48 CovidSegmentationTrainingApp\n",
      "2020-11-15 09:19:42,084 INFO     pid:91418 training:345:log_metrics E48 trn      0.2223 loss, 0.8051 precision, 0.7646 recall, 0.7843 f1 score 0.2354 miss rate 0.1851 fp to label ratio\n",
      "2020-11-15 09:28:58,470 INFO     pid:91418 training:316:log_metrics E49 CovidSegmentationTrainingApp\n",
      "2020-11-15 09:28:58,475 INFO     pid:91418 training:345:log_metrics E49 trn      0.2178 loss, 0.8091 precision, 0.7676 recall, 0.7878 f1 score 0.2324 miss rate 0.1811 fp to label ratio\n",
      "2020-11-15 09:38:22,599 INFO     pid:91418 training:316:log_metrics E50 CovidSegmentationTrainingApp\n",
      "2020-11-15 09:38:22,602 INFO     pid:91418 training:345:log_metrics E50 trn      0.2149 loss, 0.8114 precision, 0.7694 recall, 0.7898 f1 score 0.2306 miss rate 0.1789 fp to label ratio\n",
      "2020-11-15 09:40:16,390 INFO     pid:91418 training:316:log_metrics E50 CovidSegmentationTrainingApp\n",
      "2020-11-15 09:40:16,392 INFO     pid:91418 training:354:log_metrics E50 val      0.3915 loss, 0.7726 precision, 0.6911 recall, 0.7296 f1 score 0.3089 miss rate 0.2034 fp to label ratio\n",
      "2020-11-15 09:48:02,142 INFO     pid:91418 training:457:save_model Saved model params to saved-models/2020-11-15_00.04.46.5000000.state\n",
      "2020-11-15 09:48:02,144 INFO     pid:91418 training:462:save_model Saved model params to saved-models/2020-11-15_00.04.46.best.state\n",
      "2020-11-15 09:48:02,147 INFO     pid:91418 training:467:save_model SHA1: 5457e45e46fd9a886eb3ed2ff4b04729b5181e31\n",
      "2020-11-15 09:48:02,151 INFO     pid:91418 nb:011:run Finished: training.CovidSegmentationTrainingApp.['--num-workers=4', '--epochs=50', '--batch-size=32', '--ct-window=lung', '--augmented', '--val-cadence=5', '--depth=3', '--width-irc', '7', '246', '246', '--pad-type=replicate', '--steps-per-epoch=100000', '--run-name=train run 1'].main()\n",
      "2020-11-15 09:48:02,246 INFO     pid:91418 nb:006:run Running: training.CovidSegmentationTrainingApp(['--num-workers=4', '--epochs=0', '--run-name=to delete']).main()\n",
      "\u001b[34m\u001b[1mwandb\u001b[0m: \u001b[33mWARNING\u001b[0m Calling wandb.login() after wandb.init() has no effect.\n"
     ]
    },
    {
     "data": {
      "text/html": [
       "<br/>Waiting for W&B process to finish, PID 91465<br/>Program ended successfully."
      ],
      "text/plain": [
       "<IPython.core.display.HTML object>"
      ]
     },
     "metadata": {},
     "output_type": "display_data"
    },
    {
     "data": {
      "application/vnd.jupyter.widget-view+json": {
       "model_id": "7ba491e7902c4f6b90ecdcdbc4080166",
       "version_major": 2,
       "version_minor": 0
      },
      "text/plain": [
       "VBox(children=(Label(value=' 69.39MB of 69.39MB uploaded (0.00MB deduped)\\r'), FloatProgress(value=0.999982134…"
      ]
     },
     "metadata": {},
     "output_type": "display_data"
    },
    {
     "data": {
      "text/html": [
       "Find user logs for this run at: <code>wandb/run-20201115_000448-2g1nbfyb/logs/debug.log</code>"
      ],
      "text/plain": [
       "<IPython.core.display.HTML object>"
      ]
     },
     "metadata": {},
     "output_type": "display_data"
    },
    {
     "data": {
      "text/html": [
       "Find internal logs for this run at: <code>wandb/run-20201115_000448-2g1nbfyb/logs/debug-internal.log</code>"
      ],
      "text/plain": [
       "<IPython.core.display.HTML object>"
      ]
     },
     "metadata": {},
     "output_type": "display_data"
    },
    {
     "data": {
      "text/html": [
       "<h3>Run summary:</h3><br/><style>\n",
       "    table.wandb td:nth-child(1) { padding: 0 10px; text-align: right }\n",
       "    </style><table class=\"wandb\">\n",
       "<tr><td>_step</td><td>5000000</td></tr><tr><td>_runtime</td><td>34993</td></tr><tr><td>_timestamp</td><td>1605451682</td></tr><tr><td>loss/trn</td><td>0.21486</td></tr><tr><td>metrics_trn/miss_rate</td><td>0.23059</td></tr><tr><td>metrics_trn/fp_to_mask_ratio</td><td>0.17888</td></tr><tr><td>pr_trn/precision</td><td>0.81137</td></tr><tr><td>pr_trn/recall</td><td>0.76941</td></tr><tr><td>pr_trn/f1_score</td><td>0.78983</td></tr><tr><td>loss/val</td><td>0.39151</td></tr><tr><td>metrics_val/miss_rate</td><td>0.3089</td></tr><tr><td>metrics_val/fp_to_mask_ratio</td><td>0.20339</td></tr><tr><td>pr_val/precision</td><td>0.77262</td></tr><tr><td>pr_val/recall</td><td>0.6911</td></tr><tr><td>pr_val/f1_score</td><td>0.72959</td></tr></table>"
      ],
      "text/plain": [
       "<IPython.core.display.HTML object>"
      ]
     },
     "metadata": {},
     "output_type": "display_data"
    },
    {
     "data": {
      "text/html": [
       "<h3>Run history:</h3><br/><style>\n",
       "    table.wandb td:nth-child(1) { padding: 0 10px; text-align: right }\n",
       "    </style><table class=\"wandb\">\n",
       "<tr><td>_step</td><td>▁▁▁▁▂▂▂▂▂▃▃▃▃▃▃▄▄▄▄▄▅▅▅▅▅▅▆▆▆▆▆▆▇▇▇▇▇███</td></tr><tr><td>_runtime</td><td>▁▁▁▁▂▂▂▂▃▃▃▃▃▃▄▄▄▄▄▄▅▅▅▅▅▆▆▆▆▆▆▇▇▇▇▇████</td></tr><tr><td>_timestamp</td><td>▁▁▁▁▂▂▂▂▃▃▃▃▃▃▄▄▄▄▄▄▅▅▅▅▅▆▆▆▆▆▆▇▇▇▇▇████</td></tr><tr><td>loss/trn</td><td>█▆▅▅▅▅▅▅▅▅▅▅▅▅▄▅▄▄▄▅▄▄▄▄▄▄▄▄▄▄▃▃▃▃▃▂▂▂▁▁</td></tr><tr><td>metrics_trn/miss_rate</td><td>█▇▆▆▅▅▅▅▅▅▅▅▅▅▅▅▅▅▅▅▅▅▅▅▅▄▄▄▄▄▄▄▃▃▃▃▂▂▁▁</td></tr><tr><td>metrics_trn/fp_to_mask_ratio</td><td>█▄▄▄▃▃▃▃▃▃▄▃▃▃▃▃▃▃▃▃▃▃▃▃▃▃▃▃▃▂▂▂▂▂▂▂▁▁▁▁</td></tr><tr><td>pr_trn/precision</td><td>▁▄▅▅▅▅▅▅▅▅▅▅▅▅▅▅▅▅▅▅▅▅▅▅▆▆▆▆▆▆▆▆▆▇▇▇▇███</td></tr><tr><td>pr_trn/recall</td><td>▁▂▃▃▄▄▄▄▄▄▄▄▄▄▄▄▄▄▄▄▄▄▄▄▄▅▅▅▅▅▅▅▆▆▆▆▇▇██</td></tr><tr><td>pr_trn/f1_score</td><td>▁▄▄▅▅▅▅▅▅▅▅▅▅▅▅▅▅▅▅▅▅▅▅▅▅▅▆▆▆▆▆▆▆▇▇▇▇███</td></tr><tr><td>loss/val</td><td>█▃▂▃▂▂▂▂▂▁▁</td></tr><tr><td>metrics_val/miss_rate</td><td>█▆▇▁▅▆▃▃▇▅▆</td></tr><tr><td>metrics_val/fp_to_mask_ratio</td><td>▇▄▂█▄▂▅▄▁▂▁</td></tr><tr><td>pr_val/precision</td><td>▁▄▆▂▄▆▃▄▇▆█</td></tr><tr><td>pr_val/recall</td><td>▁▃▂█▄▃▆▆▂▄▃</td></tr><tr><td>pr_val/f1_score</td><td>▁▅▆▄▅▇▅▆▇██</td></tr></table><br/>"
      ],
      "text/plain": [
       "<IPython.core.display.HTML object>"
      ]
     },
     "metadata": {},
     "output_type": "display_data"
    },
    {
     "data": {
      "text/html": [
       "Synced 5 W&B file(s), 3169 media file(s), 0 artifact file(s) and 0 other file(s)"
      ],
      "text/plain": [
       "<IPython.core.display.HTML object>"
      ]
     },
     "metadata": {},
     "output_type": "display_data"
    },
    {
     "data": {
      "text/html": [
       "\n",
       "                    <br/>Synced <strong style=\"color:#cdcd00\">train run 1</strong>: <a href=\"https://wandb.ai/peterbacalso/covid19_seg/runs/2g1nbfyb\" target=\"_blank\">https://wandb.ai/peterbacalso/covid19_seg/runs/2g1nbfyb</a><br/>\n",
       "                "
      ],
      "text/plain": [
       "<IPython.core.display.HTML object>"
      ]
     },
     "metadata": {},
     "output_type": "display_data"
    },
    {
     "name": "stderr",
     "output_type": "stream",
     "text": [
      "\u001b[34m\u001b[1mwandb\u001b[0m: wandb version 0.10.10 is available!  To upgrade, please run:\n",
      "\u001b[34m\u001b[1mwandb\u001b[0m:  $ pip install wandb --upgrade\n"
     ]
    },
    {
     "data": {
      "text/html": [
       "\n",
       "                Tracking run with wandb version 0.10.8<br/>\n",
       "                Syncing run <strong style=\"color:#cdcd00\">to delete</strong> to <a href=\"https://wandb.ai\" target=\"_blank\">Weights & Biases</a> <a href=\"https://docs.wandb.com/integrations/jupyter.html\" target=\"_blank\">(Documentation)</a>.<br/>\n",
       "                Project page: <a href=\"https://wandb.ai/peterbacalso/covid19_seg\" target=\"_blank\">https://wandb.ai/peterbacalso/covid19_seg</a><br/>\n",
       "                Run page: <a href=\"https://wandb.ai/peterbacalso/covid19_seg/runs/uyq7zyyp\" target=\"_blank\">https://wandb.ai/peterbacalso/covid19_seg/runs/uyq7zyyp</a><br/>\n",
       "                Run data is saved locally in <code>wandb/run-20201115_094802-uyq7zyyp</code><br/><br/>\n",
       "            "
      ],
      "text/plain": [
       "<IPython.core.display.HTML object>"
      ]
     },
     "metadata": {},
     "output_type": "display_data"
    },
    {
     "ename": "RuntimeError",
     "evalue": "No active exception to reraise",
     "output_type": "error",
     "traceback": [
      "\u001b[0;31m---------------------------------------------------------------------------\u001b[0m",
      "\u001b[0;31mRuntimeError\u001b[0m                              Traceback (most recent call last)",
      "\u001b[0;32m<ipython-input-6-ad2a8c44c59d>\u001b[0m in \u001b[0;36m<module>\u001b[0;34m\u001b[0m\n\u001b[1;32m      5\u001b[0m \u001b[0;34m\u001b[0m\u001b[0m\n\u001b[1;32m      6\u001b[0m \u001b[0;31m# dummy run to finish wandb\u001b[0m\u001b[0;34m\u001b[0m\u001b[0;34m\u001b[0m\u001b[0;34m\u001b[0m\u001b[0m\n\u001b[0;32m----> 7\u001b[0;31m \u001b[0mrun\u001b[0m\u001b[0;34m(\u001b[0m\u001b[0;34m'training.CovidSegmentationTrainingApp'\u001b[0m\u001b[0;34m,\u001b[0m \u001b[0;34m'--epochs=0'\u001b[0m\u001b[0;34m,\u001b[0m \u001b[0;34m'--run-name=to delete'\u001b[0m\u001b[0;34m)\u001b[0m\u001b[0;34m\u001b[0m\u001b[0;34m\u001b[0m\u001b[0m\n\u001b[0m",
      "\u001b[0;32m<ipython-input-3-4bc0ce0776a7>\u001b[0m in \u001b[0;36mrun\u001b[0;34m(app, *argv)\u001b[0m\n\u001b[1;32m      7\u001b[0m \u001b[0;34m\u001b[0m\u001b[0m\n\u001b[1;32m      8\u001b[0m     \u001b[0mapp_cls\u001b[0m \u001b[0;34m=\u001b[0m \u001b[0mimportstr\u001b[0m\u001b[0;34m(\u001b[0m\u001b[0;34m*\u001b[0m\u001b[0mapp\u001b[0m\u001b[0;34m.\u001b[0m\u001b[0mrsplit\u001b[0m\u001b[0;34m(\u001b[0m\u001b[0;34m'.'\u001b[0m\u001b[0;34m,\u001b[0m \u001b[0;36m1\u001b[0m\u001b[0;34m)\u001b[0m\u001b[0;34m)\u001b[0m\u001b[0;34m\u001b[0m\u001b[0;34m\u001b[0m\u001b[0m\n\u001b[0;32m----> 9\u001b[0;31m     \u001b[0mapp_cls\u001b[0m\u001b[0;34m(\u001b[0m\u001b[0margv\u001b[0m\u001b[0;34m)\u001b[0m\u001b[0;34m.\u001b[0m\u001b[0mmain\u001b[0m\u001b[0;34m(\u001b[0m\u001b[0;34m)\u001b[0m\u001b[0;34m\u001b[0m\u001b[0;34m\u001b[0m\u001b[0m\n\u001b[0m\u001b[1;32m     10\u001b[0m \u001b[0;34m\u001b[0m\u001b[0m\n\u001b[1;32m     11\u001b[0m     \u001b[0mlog\u001b[0m\u001b[0;34m.\u001b[0m\u001b[0minfo\u001b[0m\u001b[0;34m(\u001b[0m\u001b[0;34m\"Finished: {}.{!r}.main()\"\u001b[0m\u001b[0;34m.\u001b[0m\u001b[0mformat\u001b[0m\u001b[0;34m(\u001b[0m\u001b[0mapp\u001b[0m\u001b[0;34m,\u001b[0m \u001b[0margv\u001b[0m\u001b[0;34m)\u001b[0m\u001b[0;34m)\u001b[0m\u001b[0;34m\u001b[0m\u001b[0;34m\u001b[0m\u001b[0m\n",
      "\u001b[0;32m~/programming/projects/covid_CT_lung_lesion_segmentation/training.py\u001b[0m in \u001b[0;36m__init__\u001b[0;34m(self, argv)\u001b[0m\n\u001b[1;32m    149\u001b[0m         \u001b[0;32mif\u001b[0m \u001b[0mself\u001b[0m\u001b[0;34m.\u001b[0m\u001b[0mcli_args\u001b[0m\u001b[0;34m.\u001b[0m\u001b[0mepochs\u001b[0m \u001b[0;34m==\u001b[0m \u001b[0;36m0\u001b[0m\u001b[0;34m:\u001b[0m\u001b[0;34m\u001b[0m\u001b[0;34m\u001b[0m\u001b[0m\n\u001b[1;32m    150\u001b[0m             \u001b[0mwandb\u001b[0m\u001b[0;34m.\u001b[0m\u001b[0minit\u001b[0m\u001b[0;34m(\u001b[0m\u001b[0mproject\u001b[0m\u001b[0;34m=\u001b[0m\u001b[0;34m\"covid19_seg\"\u001b[0m\u001b[0;34m,\u001b[0m \u001b[0mname\u001b[0m\u001b[0;34m=\u001b[0m\u001b[0mself\u001b[0m\u001b[0;34m.\u001b[0m\u001b[0mcli_args\u001b[0m\u001b[0;34m.\u001b[0m\u001b[0mrun_name\u001b[0m\u001b[0;34m)\u001b[0m\u001b[0;34m\u001b[0m\u001b[0;34m\u001b[0m\u001b[0m\n\u001b[0;32m--> 151\u001b[0;31m             \u001b[0;32mraise\u001b[0m\u001b[0;34m\u001b[0m\u001b[0;34m\u001b[0m\u001b[0m\n\u001b[0m\u001b[1;32m    152\u001b[0m \u001b[0;34m\u001b[0m\u001b[0m\n\u001b[1;32m    153\u001b[0m         \u001b[0;32massert\u001b[0m \u001b[0mself\u001b[0m\u001b[0;34m.\u001b[0m\u001b[0mcli_args\u001b[0m\u001b[0;34m.\u001b[0m\u001b[0mpad_type\u001b[0m \u001b[0;32min\u001b[0m \u001b[0;34m(\u001b[0m\u001b[0;34m'zero'\u001b[0m\u001b[0;34m,\u001b[0m \u001b[0;34m'reflect'\u001b[0m\u001b[0;34m,\u001b[0m \u001b[0;34m'replicate'\u001b[0m\u001b[0;34m)\u001b[0m\u001b[0;34m,\u001b[0m \u001b[0mrepr\u001b[0m\u001b[0;34m(\u001b[0m\u001b[0mself\u001b[0m\u001b[0;34m.\u001b[0m\u001b[0mcli_args\u001b[0m\u001b[0;34m.\u001b[0m\u001b[0mpad_type\u001b[0m\u001b[0;34m)\u001b[0m\u001b[0;34m\u001b[0m\u001b[0;34m\u001b[0m\u001b[0m\n",
      "\u001b[0;31mRuntimeError\u001b[0m: No active exception to reraise"
     ]
    }
   ],
   "source": [
    "run('training.CovidSegmentationTrainingApp', f'--epochs={epochs}', f'--batch-size={batch_size}', \n",
    "    f'--ct-window={window}', '--augmented', f'--val-cadence={val_cadence}', f'--depth={unet_depth}', \n",
    "    '--width-irc', '7', f'{bbox_dim}', f'{bbox_dim}', f'--pad-type={pad_type}', \n",
    "    f'--steps-per-epoch={steps_per_epoch}', '--run-name=train run 1')\n",
    "\n",
    "# dummy run to finish wandb\n",
    "run('training.CovidSegmentationTrainingApp', '--epochs=0', '--run-name=to delete')"
   ]
  },
  {
   "cell_type": "code",
   "execution_count": null,
   "metadata": {},
   "outputs": [],
   "source": []
  }
 ],
 "metadata": {
  "kernelspec": {
   "display_name": "Python 3",
   "language": "python",
   "name": "python3"
  },
  "language_info": {
   "codemirror_mode": {
    "name": "ipython",
    "version": 3
   },
   "file_extension": ".py",
   "mimetype": "text/x-python",
   "name": "python",
   "nbconvert_exporter": "python",
   "pygments_lexer": "ipython3",
   "version": "3.8.5"
  }
 },
 "nbformat": 4,
 "nbformat_minor": 4
}
