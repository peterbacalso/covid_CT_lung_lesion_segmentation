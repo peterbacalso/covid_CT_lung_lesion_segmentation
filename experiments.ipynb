{
 "cells": [
  {
   "cell_type": "code",
   "execution_count": 2,
   "metadata": {},
   "outputs": [],
   "source": [
    "%load_ext autoreload\n",
    "%autoreload 2"
   ]
  },
  {
   "cell_type": "code",
   "execution_count": 3,
   "metadata": {},
   "outputs": [],
   "source": [
    "import datetime\n",
    "import torch\n",
    "import math\n",
    "\n",
    "from modules.util.util import importstr\n",
    "from modules.util.logconf import logging\n",
    "log = logging.getLogger('nb')"
   ]
  },
  {
   "cell_type": "code",
   "execution_count": 4,
   "metadata": {},
   "outputs": [],
   "source": [
    "def run(app, *argv):    \n",
    "    torch.cuda.empty_cache()\n",
    "    \n",
    "    argv = list(argv)\n",
    "    argv.insert(0, '--num-workers=4')\n",
    "    log.info(\"Running: {}({!r}).main()\".format(app, argv))\n",
    "    \n",
    "    app_cls = importstr(*app.rsplit('.', 1))\n",
    "    app_cls(argv).main()\n",
    "    \n",
    "    log.info(\"Finished: {}.{!r}.main()\".format(app, argv))"
   ]
  },
  {
   "cell_type": "markdown",
   "metadata": {},
   "source": [
    "Hyperparams to test:\n",
    "\n",
    "1. bounding box size\n",
    "2. ~batch size~\n",
    "3. ~learning rate~\n",
    "4. steps per epoch\n",
    "5. windowing\n",
    "6. ~augmentation~\n",
    "7. model depth\n",
    "8. weight decay\n",
    "9. pad type"
   ]
  },
  {
   "cell_type": "code",
   "execution_count": 5,
   "metadata": {},
   "outputs": [],
   "source": [
    "# we use this to test if the bounding box dimension is valid for our unet\n",
    "def test_num(num, depth):\n",
    "    offset = int(math.ceil(num*.33))\n",
    "    curr_width = width = num - offset\n",
    "    for i in range(depth-1):\n",
    "        curr_width = math.floor(curr_width / 2)\n",
    "    for i in range(depth-1):\n",
    "        curr_width = curr_width * 2\n",
    "    return width == curr_width, repr([width, curr_width])"
   ]
  },
  {
   "cell_type": "code",
   "execution_count": 6,
   "metadata": {},
   "outputs": [],
   "source": [
    "experiment_epochs = 3\n",
    "unet_depth=3\n",
    "val_cadence = 1\n",
    "batch_size = 32\n",
    "recall_priority = 0\n",
    "pad_types = ['zero', 'reflect', 'replicate']\n",
    "windows = [None, 'lung', 'mediastinal', 'dist']\n",
    "\n",
    "bbox_dim = 246"
   ]
  },
  {
   "cell_type": "code",
   "execution_count": 7,
   "metadata": {},
   "outputs": [],
   "source": [
    "for num in [60,108,144,198,246,288,323]:\n",
    "    works, dim = test_num(num, unet_depth)\n",
    "    assert works, repr(dim)"
   ]
  },
  {
   "cell_type": "markdown",
   "metadata": {},
   "source": [
    "Cache all the different sizes of bounding box"
   ]
  },
  {
   "cell_type": "code",
   "execution_count": 7,
   "metadata": {},
   "outputs": [
    {
     "name": "stderr",
     "output_type": "stream",
     "text": [
      "2020-11-14 19:02:16,930 INFO     pid:54362 nb:006:run Running: prepcache.CovidPrepCacheApp(['--num-workers=4', '--width-irc', '7', '246', '246']).main()\n",
      "2020-11-14 19:02:17,872 INFO     pid:54362 prepcache:039:main Starting CovidPrepCacheApp, Namespace(batch_size=1024, num_workers=4, width_irc=['7', '246', '246'])\n",
      "100%|██████████| 2/2 [01:20<00:00, 40.47s/it]\n",
      "2020-11-14 19:03:38,881 INFO     pid:54362 nb:011:run Finished: prepcache.CovidPrepCacheApp.['--num-workers=4', '--width-irc', '7', '246', '246'].main()\n"
     ]
    }
   ],
   "source": [
    "# run('prepcache.CovidPrepCacheApp', '--width-irc', '7', '60', '60')\n",
    "# run('prepcache.CovidPrepCacheApp', '--width-irc', '7', '108', '108')\n",
    "# run('prepcache.CovidPrepCacheApp', '--width-irc', '7', '144', '144')\n",
    "# run('prepcache.CovidPrepCacheApp', '--width-irc', '7', '198', '198')\n",
    "run('prepcache.CovidPrepCacheApp', '--width-irc', '7', '246', '246')\n",
    "# run('prepcache.CovidPrepCacheApp', '--width-irc', '7', '288', '288')\n",
    "# run('prepcache.CovidPrepCacheApp', '--width-irc', '7', '323', '323')"
   ]
  },
  {
   "cell_type": "markdown",
   "metadata": {},
   "source": [
    "# Bounding Box Test"
   ]
  },
  {
   "cell_type": "code",
   "execution_count": null,
   "metadata": {},
   "outputs": [],
   "source": [
    "run('training.CovidSegmentationTrainingApp', f'--epochs={experiment_epochs}', f'--batch-size={batch_size}', '--run-name=bbox60')\n",
    "run('training.CovidSegmentationTrainingApp', f'--epochs={experiment_epochs}', f'--batch-size={batch_size}', '--width-irc', '7', '108', '108', '--run-name=bbox108')\n",
    "run('training.CovidSegmentationTrainingApp', f'--epochs={experiment_epochs}', f'--batch-size={batch_size}', '--width-irc', '7', '144', '144', '--run-name=bbox144')\n",
    "run('training.CovidSegmentationTrainingApp', f'--epochs={experiment_epochs}', f'--batch-size={batch_size}', '--width-irc', '7', '198', '198', '--run-name=bbox198')\n",
    "run('training.CovidSegmentationTrainingApp', f'--epochs={experiment_epochs}', f'--batch-size={batch_size}', '--width-irc', '7', '246', '246', '--run-name=bbox246')\n",
    "run('training.CovidSegmentationTrainingApp', f'--epochs={experiment_epochs}', f'--batch-size={batch_size}', '--width-irc', '7', '288', '288', '--run-name=bbox288')\n",
    "run('training.CovidSegmentationTrainingApp', f'--epochs={experiment_epochs}', f'--batch-size={batch_size}', '--width-irc', '7', '323', '323', '--run-name=bbox323')\n",
    "\n",
    "# dummy run to finish wandb\n",
    "run('training.CovidSegmentationTrainingApp', '--epochs=0', '--run-name=to delete')"
   ]
  },
  {
   "cell_type": "markdown",
   "metadata": {},
   "source": [
    "# Augmentation Test"
   ]
  },
  {
   "cell_type": "code",
   "execution_count": 9,
   "metadata": {},
   "outputs": [],
   "source": [
    "run('training.CovidSegmentationTrainingApp', f'--epochs={experiment_epochs}', f'--batch-size={batch_size}', '--augment-flip', '--run-name=flip aug', '--width-irc', '7', f'{bbox_dim}', f'{bbox_dim}')\n",
    "run('training.CovidSegmentationTrainingApp', f'--epochs={experiment_epochs}', f'--batch-size={batch_size}', '--augment-offset', '--run-name=offset aug', '--width-irc', '7', f'{bbox_dim}', f'{bbox_dim}')\n",
    "run('training.CovidSegmentationTrainingApp', f'--epochs={experiment_epochs}', f'--batch-size={batch_size}', '--augment-scale', '--run-name=scale aug', '--width-irc', '7', f'{bbox_dim}', f'{bbox_dim}')\n",
    "run('training.CovidSegmentationTrainingApp', f'--epochs={experiment_epochs}', f'--batch-size={batch_size}', '--augment-rotate', '--run-name=rotate aug', '--width-irc', '7', f'{bbox_dim}', f'{bbox_dim}')\n",
    "run('training.CovidSegmentationTrainingApp', f'--epochs={experiment_epochs}', f'--batch-size={batch_size}', '--augment-noise', '--run-name=noise aug', '--width-irc', '7', f'{bbox_dim}', f'{bbox_dim}')\n",
    "run('training.CovidSegmentationTrainingApp', f'--epochs={experiment_epochs}', f'--batch-size={batch_size}', '--augmented', '--run-name=all aug', '--width-irc', '7', f'{bbox_dim}', f'{bbox_dim}')\n",
    "\n",
    "# dummy run to finish wandb\n",
    "run('training.CovidSegmentationTrainingApp', '--epochs=0', '--run-name=to delete')"
   ]
  },
  {
   "cell_type": "code",
   "execution_count": 10,
   "metadata": {},
   "outputs": [],
   "source": [
    "# increased range of scale from .2 to .3 and range of offset from .1 to .3\n",
    "run('training.CovidSegmentationTrainingApp', f'--epochs={experiment_epochs}', f'--batch-size={batch_size}', '--augment-offset', '--run-name=larger offset aug', '--width-irc', '7', f'{bbox_dim}', f'{bbox_dim}')\n",
    "run('training.CovidSegmentationTrainingApp', f'--epochs={experiment_epochs}', f'--batch-size={batch_size}', '--augment-scale', '--run-name=larger scale aug', '--width-irc', '7', f'{bbox_dim}', f'{bbox_dim}')\n",
    "\n",
    "# dummy run to finish wandb\n",
    "run('training.CovidSegmentationTrainingApp', '--epochs=0', '--run-name=to delete')"
   ]
  },
  {
   "cell_type": "markdown",
   "metadata": {},
   "source": [
    "# Window Test"
   ]
  },
  {
   "cell_type": "code",
   "execution_count": 9,
   "metadata": {},
   "outputs": [],
   "source": [
    "run('training.CovidSegmentationTrainingApp', f'--epochs={experiment_epochs}', f'--batch-size={batch_size}', f'--ct-window={windows[1]}', \n",
    "    '--augmented', '--width-irc', '7', f'{bbox_dim}', f'{bbox_dim}', '--run-name=lung window')\n",
    "run('training.CovidSegmentationTrainingApp', f'--epochs={experiment_epochs}', f'--batch-size={batch_size}', f'--ct-window={windows[2]}', \n",
    "    '--augmented', '--width-irc', '7', f'{bbox_dim}', f'{bbox_dim}', '--run-name=mediastinal window')\n",
    "\n",
    "# dummy run to finish wandb\n",
    "run('training.CovidSegmentationTrainingApp', '--epochs=0', '--run-name=to delete')"
   ]
  },
  {
   "cell_type": "markdown",
   "metadata": {},
   "source": [
    "# Padding Test"
   ]
  },
  {
   "cell_type": "code",
   "execution_count": 10,
   "metadata": {},
   "outputs": [
    {
     "name": "stderr",
     "output_type": "stream",
     "text": [
      "2020-11-14 21:24:58,367 INFO     pid:74032 nb:006:run Running: training.CovidSegmentationTrainingApp(['--num-workers=4', '--epochs=3', '--batch-size=32', '--ct-window=lung', '--augmented', '--width-irc', '7', '246', '246', '--pad-type=reflect', '--run-name=reflect padding']).main()\n",
      "2020-11-14 21:24:58,444 INFO     pid:74032 training:195:init_model Using CUDA; 1 devices.\n",
      "2020-11-14 21:25:01,114 INFO     pid:74032 modules.dsets:185:__init__ TrainingCovid2dSegmentationDataset: training mode, 177 uid's, 4379 index slices, 1080 lesions\n",
      "2020-11-14 21:25:01,115 INFO     pid:74032 modules.dsets:226:__init__ TrainingCovid2dSegmentationDataset: (7, 246, 246) width_irc\n",
      "2020-11-14 21:25:01,123 INFO     pid:74032 modules.dsets:185:__init__ Covid2dSegmentationDataset: validation mode, 20 uid's, 592 index slices, 157 lesions\n",
      "\u001b[34m\u001b[1mwandb\u001b[0m: \u001b[33mWARNING\u001b[0m Calling wandb.login() after wandb.init() has no effect.\n"
     ]
    },
    {
     "data": {
      "text/html": [
       "<br/>Waiting for W&B process to finish, PID 74209<br/>Program ended successfully."
      ],
      "text/plain": [
       "<IPython.core.display.HTML object>"
      ]
     },
     "metadata": {},
     "output_type": "display_data"
    },
    {
     "data": {
      "application/vnd.jupyter.widget-view+json": {
       "model_id": "0a0237b5c9a84b5a93db12dba4da574e",
       "version_major": 2,
       "version_minor": 0
      },
      "text/plain": [
       "VBox(children=(Label(value=' 0.00MB of 0.00MB uploaded (0.00MB deduped)\\r'), FloatProgress(value=1.0, max=1.0)…"
      ]
     },
     "metadata": {},
     "output_type": "display_data"
    },
    {
     "data": {
      "text/html": [
       "Find user logs for this run at: <code>wandb/run-20201114_212131-3o15oife/logs/debug.log</code>"
      ],
      "text/plain": [
       "<IPython.core.display.HTML object>"
      ]
     },
     "metadata": {},
     "output_type": "display_data"
    },
    {
     "data": {
      "text/html": [
       "Find internal logs for this run at: <code>wandb/run-20201114_212131-3o15oife/logs/debug-internal.log</code>"
      ],
      "text/plain": [
       "<IPython.core.display.HTML object>"
      ]
     },
     "metadata": {},
     "output_type": "display_data"
    },
    {
     "data": {
      "text/html": [
       "Synced 5 W&B file(s), 0 media file(s), 0 artifact file(s) and 0 other file(s)"
      ],
      "text/plain": [
       "<IPython.core.display.HTML object>"
      ]
     },
     "metadata": {},
     "output_type": "display_data"
    },
    {
     "data": {
      "text/html": [
       "\n",
       "                    <br/>Synced <strong style=\"color:#cdcd00\">to delete</strong>: <a href=\"https://wandb.ai/peterbacalso/covid19_seg/runs/3o15oife\" target=\"_blank\">https://wandb.ai/peterbacalso/covid19_seg/runs/3o15oife</a><br/>\n",
       "                "
      ],
      "text/plain": [
       "<IPython.core.display.HTML object>"
      ]
     },
     "metadata": {},
     "output_type": "display_data"
    },
    {
     "name": "stderr",
     "output_type": "stream",
     "text": [
      "\u001b[34m\u001b[1mwandb\u001b[0m: wandb version 0.10.10 is available!  To upgrade, please run:\n",
      "\u001b[34m\u001b[1mwandb\u001b[0m:  $ pip install wandb --upgrade\n"
     ]
    },
    {
     "data": {
      "text/html": [
       "\n",
       "                Tracking run with wandb version 0.10.8<br/>\n",
       "                Syncing run <strong style=\"color:#cdcd00\">reflect padding</strong> to <a href=\"https://wandb.ai\" target=\"_blank\">Weights & Biases</a> <a href=\"https://docs.wandb.com/integrations/jupyter.html\" target=\"_blank\">(Documentation)</a>.<br/>\n",
       "                Project page: <a href=\"https://wandb.ai/peterbacalso/covid19_seg\" target=\"_blank\">https://wandb.ai/peterbacalso/covid19_seg</a><br/>\n",
       "                Run page: <a href=\"https://wandb.ai/peterbacalso/covid19_seg/runs/2df648b9\" target=\"_blank\">https://wandb.ai/peterbacalso/covid19_seg/runs/2df648b9</a><br/>\n",
       "                Run data is saved locally in <code>wandb/run-20201114_212501-2df648b9</code><br/><br/>\n",
       "            "
      ],
      "text/plain": [
       "<IPython.core.display.HTML object>"
      ]
     },
     "metadata": {},
     "output_type": "display_data"
    },
    {
     "name": "stderr",
     "output_type": "stream",
     "text": [
      "2020-11-14 21:25:05,700 INFO     pid:74032 training:474:main Starting CovidSegmentationTrainingApp, Namespace(augment_flip=False, augment_noise=False, augment_offset=False, augment_rotate=False, augment_scale=False, augmented=True, batch_size=32, ct_window='lung', depth=3, epochs=3, num_workers=4, pad_type='reflect', recall_priority=0, run_name='reflect padding', steps_per_epoch=10000.0, val_cadence=1, width_irc=['7', '246', '246'])\n"
     ]
    },
    {
     "data": {
      "text/html": [
       "<table border=\"1\" class=\"dataframe\">\n",
       "  <thead>\n",
       "    <tr style=\"text-align: left;\">\n",
       "      <th>epoch</th>\n",
       "      <th>loss/trn</th>\n",
       "      <th>loss/val</th>\n",
       "      <th>metrics_val/miss_rate</th>\n",
       "      <th>metrics_val/fp_to_mask_ratio</th>\n",
       "      <th>pr_val/precision</th>\n",
       "      <th>pr_val/recall</th>\n",
       "      <th>pr_val/f1_score</th>\n",
       "    </tr>\n",
       "  </thead>\n",
       "  <tbody>\n",
       "    <tr>\n",
       "      <td>1</td>\n",
       "      <td>0.6128</td>\n",
       "      <td>0.7785</td>\n",
       "      <td>0.4941</td>\n",
       "      <td>1.6221</td>\n",
       "      <td>0.2377</td>\n",
       "      <td>0.5059</td>\n",
       "      <td>0.3235</td>\n",
       "    </tr>\n",
       "    <tr>\n",
       "      <td>2</td>\n",
       "      <td>0.4738</td>\n",
       "      <td>0.5067</td>\n",
       "      <td>0.3461</td>\n",
       "      <td>0.6086</td>\n",
       "      <td>0.5180</td>\n",
       "      <td>0.6539</td>\n",
       "      <td>0.5781</td>\n",
       "    </tr>\n",
       "    <tr>\n",
       "      <td>3</td>\n",
       "      <td>0.4315</td>\n",
       "      <td>0.4993</td>\n",
       "      <td>0.3081</td>\n",
       "      <td>0.6570</td>\n",
       "      <td>0.5129</td>\n",
       "      <td>0.6919</td>\n",
       "      <td>0.5891</td>\n",
       "    </tr>\n",
       "  </tbody>\n",
       "</table>"
      ],
      "text/plain": [
       "<IPython.core.display.HTML object>"
      ]
     },
     "metadata": {},
     "output_type": "display_data"
    },
    {
     "name": "stderr",
     "output_type": "stream",
     "text": [
      "2020-11-14 21:25:56,390 INFO     pid:74032 training:316:log_metrics E1 CovidSegmentationTrainingApp\n",
      "2020-11-14 21:25:56,392 INFO     pid:74032 training:345:log_metrics E1 trn      0.6128 loss, 0.2472 precision, 0.6993 recall, 0.3653 f1 score 0.3007 miss rate 2.1298 fp to label ratio\n",
      "2020-11-14 21:26:11,319 INFO     pid:74032 training:316:log_metrics E1 CovidSegmentationTrainingApp\n",
      "2020-11-14 21:26:11,320 INFO     pid:74032 training:354:log_metrics E1 val      0.7785 loss, 0.2377 precision, 0.5059 recall, 0.3235 f1 score 0.4941 miss rate 1.6221 fp to label ratio\n",
      "2020-11-14 21:26:29,314 INFO     pid:74032 training:453:save_model Saved model params to saved-models/2020-11-14_21.24.58.10000.state\n",
      "2020-11-14 21:26:29,316 INFO     pid:74032 training:458:save_model Saved model params to saved-models/2020-11-14_21.24.58.best.state\n",
      "2020-11-14 21:26:29,319 INFO     pid:74032 training:463:save_model SHA1: fc6c17bf9c0162e2810e0167c4448bb951d6888c\n",
      "2020-11-14 21:27:20,463 INFO     pid:74032 training:316:log_metrics E2 CovidSegmentationTrainingApp\n",
      "2020-11-14 21:27:20,465 INFO     pid:74032 training:345:log_metrics E2 trn      0.4738 loss, 0.5080 precision, 0.6570 recall, 0.5730 f1 score 0.3430 miss rate 0.6363 fp to label ratio\n",
      "2020-11-14 21:27:37,195 INFO     pid:74032 training:316:log_metrics E2 CovidSegmentationTrainingApp\n",
      "2020-11-14 21:27:37,197 INFO     pid:74032 training:354:log_metrics E2 val      0.5067 loss, 0.5180 precision, 0.6539 recall, 0.5781 f1 score 0.3461 miss rate 0.6086 fp to label ratio\n",
      "2020-11-14 21:27:57,134 INFO     pid:74032 training:453:save_model Saved model params to saved-models/2020-11-14_21.24.58.20000.state\n",
      "2020-11-14 21:27:57,136 INFO     pid:74032 training:458:save_model Saved model params to saved-models/2020-11-14_21.24.58.best.state\n",
      "2020-11-14 21:27:57,140 INFO     pid:74032 training:463:save_model SHA1: 32d7c405cbd01baa2e787b27b7ac79033d48f938\n",
      "2020-11-14 21:28:48,354 INFO     pid:74032 training:316:log_metrics E3 CovidSegmentationTrainingApp\n",
      "2020-11-14 21:28:48,355 INFO     pid:74032 training:345:log_metrics E3 trn      0.4315 loss, 0.5803 precision, 0.6545 recall, 0.6151 f1 score 0.3455 miss rate 0.4735 fp to label ratio\n",
      "2020-11-14 21:29:04,980 INFO     pid:74032 training:316:log_metrics E3 CovidSegmentationTrainingApp\n",
      "2020-11-14 21:29:04,984 INFO     pid:74032 training:354:log_metrics E3 val      0.4993 loss, 0.5129 precision, 0.6919 recall, 0.5891 f1 score 0.3081 miss rate 0.6570 fp to label ratio\n",
      "2020-11-14 21:29:21,642 INFO     pid:74032 training:453:save_model Saved model params to saved-models/2020-11-14_21.24.58.30000.state\n",
      "2020-11-14 21:29:21,644 INFO     pid:74032 training:458:save_model Saved model params to saved-models/2020-11-14_21.24.58.best.state\n",
      "2020-11-14 21:29:21,646 INFO     pid:74032 training:463:save_model SHA1: 13732942e6527aeac73f76efb45232d921bd55cb\n",
      "2020-11-14 21:29:21,649 INFO     pid:74032 nb:011:run Finished: training.CovidSegmentationTrainingApp.['--num-workers=4', '--epochs=3', '--batch-size=32', '--ct-window=lung', '--augmented', '--width-irc', '7', '246', '246', '--pad-type=reflect', '--run-name=reflect padding'].main()\n",
      "2020-11-14 21:29:21,727 INFO     pid:74032 nb:006:run Running: training.CovidSegmentationTrainingApp(['--num-workers=4', '--epochs=3', '--batch-size=32', '--ct-window=lung', '--augmented', '--width-irc', '7', '246', '246', '--pad-type=replicate', '--run-name=replicate padding']).main()\n",
      "2020-11-14 21:29:21,742 INFO     pid:74032 training:195:init_model Using CUDA; 1 devices.\n",
      "2020-11-14 21:29:21,797 INFO     pid:74032 modules.dsets:185:__init__ TrainingCovid2dSegmentationDataset: training mode, 177 uid's, 4379 index slices, 1080 lesions\n",
      "2020-11-14 21:29:21,798 INFO     pid:74032 modules.dsets:226:__init__ TrainingCovid2dSegmentationDataset: (7, 246, 246) width_irc\n",
      "2020-11-14 21:29:21,807 INFO     pid:74032 modules.dsets:185:__init__ Covid2dSegmentationDataset: validation mode, 20 uid's, 592 index slices, 157 lesions\n",
      "\u001b[34m\u001b[1mwandb\u001b[0m: \u001b[33mWARNING\u001b[0m Calling wandb.login() after wandb.init() has no effect.\n"
     ]
    },
    {
     "data": {
      "text/html": [
       "<br/>Waiting for W&B process to finish, PID 74470<br/>Program ended successfully."
      ],
      "text/plain": [
       "<IPython.core.display.HTML object>"
      ]
     },
     "metadata": {},
     "output_type": "display_data"
    },
    {
     "data": {
      "application/vnd.jupyter.widget-view+json": {
       "model_id": "215e0a3dbe1c4f51b10150d1f6980c49",
       "version_major": 2,
       "version_minor": 0
      },
      "text/plain": [
       "VBox(children=(Label(value=' 19.06MB of 19.09MB uploaded (0.00MB deduped)\\r'), FloatProgress(value=0.998224425…"
      ]
     },
     "metadata": {},
     "output_type": "display_data"
    },
    {
     "data": {
      "text/html": [
       "Find user logs for this run at: <code>wandb/run-20201114_212501-2df648b9/logs/debug.log</code>"
      ],
      "text/plain": [
       "<IPython.core.display.HTML object>"
      ]
     },
     "metadata": {},
     "output_type": "display_data"
    },
    {
     "data": {
      "text/html": [
       "Find internal logs for this run at: <code>wandb/run-20201114_212501-2df648b9/logs/debug-internal.log</code>"
      ],
      "text/plain": [
       "<IPython.core.display.HTML object>"
      ]
     },
     "metadata": {},
     "output_type": "display_data"
    },
    {
     "data": {
      "text/html": [
       "<h3>Run summary:</h3><br/><style>\n",
       "    table.wandb td:nth-child(1) { padding: 0 10px; text-align: right }\n",
       "    </style><table class=\"wandb\">\n",
       "<tr><td>loss/trn</td><td>0.43153</td></tr><tr><td>metrics_trn/miss_rate</td><td>0.34549</td></tr><tr><td>metrics_trn/fp_to_mask_ratio</td><td>0.47347</td></tr><tr><td>pr_trn/precision</td><td>0.58025</td></tr><tr><td>pr_trn/recall</td><td>0.65451</td></tr><tr><td>pr_trn/f1_score</td><td>0.61515</td></tr><tr><td>loss/val</td><td>0.49929</td></tr><tr><td>metrics_val/miss_rate</td><td>0.3081</td></tr><tr><td>metrics_val/fp_to_mask_ratio</td><td>0.65704</td></tr><tr><td>pr_val/precision</td><td>0.51292</td></tr><tr><td>pr_val/recall</td><td>0.6919</td></tr><tr><td>pr_val/f1_score</td><td>0.58912</td></tr><tr><td>_step</td><td>30000</td></tr><tr><td>_runtime</td><td>257</td></tr><tr><td>_timestamp</td><td>1605407361</td></tr></table>"
      ],
      "text/plain": [
       "<IPython.core.display.HTML object>"
      ]
     },
     "metadata": {},
     "output_type": "display_data"
    },
    {
     "data": {
      "text/html": [
       "<h3>Run history:</h3><br/><style>\n",
       "    table.wandb td:nth-child(1) { padding: 0 10px; text-align: right }\n",
       "    </style><table class=\"wandb\">\n",
       "<tr><td>loss/trn</td><td>█▃▁</td></tr><tr><td>metrics_trn/miss_rate</td><td>▁██</td></tr><tr><td>metrics_trn/fp_to_mask_ratio</td><td>█▂▁</td></tr><tr><td>pr_trn/precision</td><td>▁▆█</td></tr><tr><td>pr_trn/recall</td><td>█▁▁</td></tr><tr><td>pr_trn/f1_score</td><td>▁▇█</td></tr><tr><td>loss/val</td><td>█▁▁</td></tr><tr><td>metrics_val/miss_rate</td><td>█▂▁</td></tr><tr><td>metrics_val/fp_to_mask_ratio</td><td>█▁▁</td></tr><tr><td>pr_val/precision</td><td>▁██</td></tr><tr><td>pr_val/recall</td><td>▁▇█</td></tr><tr><td>pr_val/f1_score</td><td>▁██</td></tr><tr><td>_step</td><td>▁▅█</td></tr><tr><td>_runtime</td><td>▁▆█</td></tr><tr><td>_timestamp</td><td>▁▆█</td></tr></table><br/>"
      ],
      "text/plain": [
       "<IPython.core.display.HTML object>"
      ]
     },
     "metadata": {},
     "output_type": "display_data"
    },
    {
     "data": {
      "text/html": [
       "Synced 5 W&B file(s), 865 media file(s), 0 artifact file(s) and 0 other file(s)"
      ],
      "text/plain": [
       "<IPython.core.display.HTML object>"
      ]
     },
     "metadata": {},
     "output_type": "display_data"
    },
    {
     "data": {
      "text/html": [
       "\n",
       "                    <br/>Synced <strong style=\"color:#cdcd00\">reflect padding</strong>: <a href=\"https://wandb.ai/peterbacalso/covid19_seg/runs/2df648b9\" target=\"_blank\">https://wandb.ai/peterbacalso/covid19_seg/runs/2df648b9</a><br/>\n",
       "                "
      ],
      "text/plain": [
       "<IPython.core.display.HTML object>"
      ]
     },
     "metadata": {},
     "output_type": "display_data"
    },
    {
     "name": "stderr",
     "output_type": "stream",
     "text": [
      "\u001b[34m\u001b[1mwandb\u001b[0m: wandb version 0.10.10 is available!  To upgrade, please run:\n",
      "\u001b[34m\u001b[1mwandb\u001b[0m:  $ pip install wandb --upgrade\n"
     ]
    },
    {
     "data": {
      "text/html": [
       "\n",
       "                Tracking run with wandb version 0.10.8<br/>\n",
       "                Syncing run <strong style=\"color:#cdcd00\">replicate padding</strong> to <a href=\"https://wandb.ai\" target=\"_blank\">Weights & Biases</a> <a href=\"https://docs.wandb.com/integrations/jupyter.html\" target=\"_blank\">(Documentation)</a>.<br/>\n",
       "                Project page: <a href=\"https://wandb.ai/peterbacalso/covid19_seg\" target=\"_blank\">https://wandb.ai/peterbacalso/covid19_seg</a><br/>\n",
       "                Run page: <a href=\"https://wandb.ai/peterbacalso/covid19_seg/runs/12t4s00f\" target=\"_blank\">https://wandb.ai/peterbacalso/covid19_seg/runs/12t4s00f</a><br/>\n",
       "                Run data is saved locally in <code>wandb/run-20201114_212921-12t4s00f</code><br/><br/>\n",
       "            "
      ],
      "text/plain": [
       "<IPython.core.display.HTML object>"
      ]
     },
     "metadata": {},
     "output_type": "display_data"
    },
    {
     "name": "stderr",
     "output_type": "stream",
     "text": [
      "2020-11-14 21:31:23,739 INFO     pid:74032 training:474:main Starting CovidSegmentationTrainingApp, Namespace(augment_flip=False, augment_noise=False, augment_offset=False, augment_rotate=False, augment_scale=False, augmented=True, batch_size=32, ct_window='lung', depth=3, epochs=3, num_workers=4, pad_type='replicate', recall_priority=0, run_name='replicate padding', steps_per_epoch=10000.0, val_cadence=1, width_irc=['7', '246', '246'])\n"
     ]
    },
    {
     "data": {
      "text/html": [
       "<table border=\"1\" class=\"dataframe\">\n",
       "  <thead>\n",
       "    <tr style=\"text-align: left;\">\n",
       "      <th>epoch</th>\n",
       "      <th>loss/trn</th>\n",
       "      <th>loss/val</th>\n",
       "      <th>metrics_val/miss_rate</th>\n",
       "      <th>metrics_val/fp_to_mask_ratio</th>\n",
       "      <th>pr_val/precision</th>\n",
       "      <th>pr_val/recall</th>\n",
       "      <th>pr_val/f1_score</th>\n",
       "    </tr>\n",
       "  </thead>\n",
       "  <tbody>\n",
       "    <tr>\n",
       "      <td>1</td>\n",
       "      <td>0.5948</td>\n",
       "      <td>0.5779</td>\n",
       "      <td>0.2067</td>\n",
       "      <td>1.4745</td>\n",
       "      <td>0.3498</td>\n",
       "      <td>0.7933</td>\n",
       "      <td>0.4855</td>\n",
       "    </tr>\n",
       "    <tr>\n",
       "      <td>2</td>\n",
       "      <td>0.4846</td>\n",
       "      <td>0.5885</td>\n",
       "      <td>0.2811</td>\n",
       "      <td>1.1694</td>\n",
       "      <td>0.3807</td>\n",
       "      <td>0.7189</td>\n",
       "      <td>0.4978</td>\n",
       "    </tr>\n",
       "    <tr>\n",
       "      <td>3</td>\n",
       "      <td>0.4334</td>\n",
       "      <td>0.5012</td>\n",
       "      <td>0.2864</td>\n",
       "      <td>0.7416</td>\n",
       "      <td>0.4904</td>\n",
       "      <td>0.7136</td>\n",
       "      <td>0.5813</td>\n",
       "    </tr>\n",
       "  </tbody>\n",
       "</table>"
      ],
      "text/plain": [
       "<IPython.core.display.HTML object>"
      ]
     },
     "metadata": {},
     "output_type": "display_data"
    },
    {
     "name": "stderr",
     "output_type": "stream",
     "text": [
      "2020-11-14 21:32:16,566 INFO     pid:74032 training:316:log_metrics E1 CovidSegmentationTrainingApp\n",
      "2020-11-14 21:32:16,567 INFO     pid:74032 training:345:log_metrics E1 trn      0.5948 loss, 0.2932 precision, 0.6766 recall, 0.4091 f1 score 0.3234 miss rate 1.6312 fp to label ratio\n",
      "2020-11-14 21:32:34,810 INFO     pid:74032 training:316:log_metrics E1 CovidSegmentationTrainingApp\n",
      "2020-11-14 21:32:34,813 INFO     pid:74032 training:354:log_metrics E1 val      0.5779 loss, 0.3498 precision, 0.7933 recall, 0.4855 f1 score 0.2067 miss rate 1.4745 fp to label ratio\n",
      "2020-11-14 21:32:51,715 INFO     pid:74032 training:453:save_model Saved model params to saved-models/2020-11-14_21.29.21.10000.state\n",
      "2020-11-14 21:32:51,717 INFO     pid:74032 training:458:save_model Saved model params to saved-models/2020-11-14_21.29.21.best.state\n",
      "2020-11-14 21:32:51,720 INFO     pid:74032 training:463:save_model SHA1: a8930fa94086fe101287caad80e8d1ac812806c5\n",
      "2020-11-14 21:33:43,410 INFO     pid:74032 training:316:log_metrics E2 CovidSegmentationTrainingApp\n",
      "2020-11-14 21:33:43,415 INFO     pid:74032 training:345:log_metrics E2 trn      0.4846 loss, 0.4999 precision, 0.6498 recall, 0.5651 f1 score 0.3502 miss rate 0.6502 fp to label ratio\n",
      "2020-11-14 21:34:04,180 INFO     pid:74032 training:316:log_metrics E2 CovidSegmentationTrainingApp\n",
      "2020-11-14 21:34:04,182 INFO     pid:74032 training:354:log_metrics E2 val      0.5885 loss, 0.3807 precision, 0.7189 recall, 0.4978 f1 score 0.2811 miss rate 1.1694 fp to label ratio\n",
      "2020-11-14 21:34:21,379 INFO     pid:74032 training:453:save_model Saved model params to saved-models/2020-11-14_21.29.21.20000.state\n",
      "2020-11-14 21:34:21,381 INFO     pid:74032 training:458:save_model Saved model params to saved-models/2020-11-14_21.29.21.best.state\n",
      "2020-11-14 21:34:21,384 INFO     pid:74032 training:463:save_model SHA1: b6f28c13221c09b5757b53f923cd2dc8c3c437b1\n",
      "2020-11-14 21:35:14,661 INFO     pid:74032 training:316:log_metrics E3 CovidSegmentationTrainingApp\n",
      "2020-11-14 21:35:14,666 INFO     pid:74032 training:345:log_metrics E3 trn      0.4334 loss, 0.5740 precision, 0.6554 recall, 0.6120 f1 score 0.3446 miss rate 0.4864 fp to label ratio\n",
      "2020-11-14 21:35:34,957 INFO     pid:74032 training:316:log_metrics E3 CovidSegmentationTrainingApp\n",
      "2020-11-14 21:35:34,959 INFO     pid:74032 training:354:log_metrics E3 val      0.5012 loss, 0.4904 precision, 0.7136 recall, 0.5813 f1 score 0.2864 miss rate 0.7416 fp to label ratio\n",
      "2020-11-14 21:35:51,897 INFO     pid:74032 training:453:save_model Saved model params to saved-models/2020-11-14_21.29.21.30000.state\n",
      "2020-11-14 21:35:51,901 INFO     pid:74032 training:458:save_model Saved model params to saved-models/2020-11-14_21.29.21.best.state\n",
      "2020-11-14 21:35:51,906 INFO     pid:74032 training:463:save_model SHA1: 87ec333c2171fb5e4b2e9a154cd4936320ea20c1\n",
      "2020-11-14 21:35:51,910 INFO     pid:74032 nb:011:run Finished: training.CovidSegmentationTrainingApp.['--num-workers=4', '--epochs=3', '--batch-size=32', '--ct-window=lung', '--augmented', '--width-irc', '7', '246', '246', '--pad-type=replicate', '--run-name=replicate padding'].main()\n",
      "2020-11-14 21:35:52,000 INFO     pid:74032 nb:006:run Running: training.CovidSegmentationTrainingApp(['--num-workers=4', '--epochs=0', '--run-name=to delete']).main()\n",
      "\u001b[34m\u001b[1mwandb\u001b[0m: \u001b[33mWARNING\u001b[0m Calling wandb.login() after wandb.init() has no effect.\n"
     ]
    },
    {
     "data": {
      "text/html": [
       "<br/>Waiting for W&B process to finish, PID 75896<br/>Program ended successfully."
      ],
      "text/plain": [
       "<IPython.core.display.HTML object>"
      ]
     },
     "metadata": {},
     "output_type": "display_data"
    },
    {
     "data": {
      "application/vnd.jupyter.widget-view+json": {
       "model_id": "5da88128ca4c4d30b5fbf8a6d24c6980",
       "version_major": 2,
       "version_minor": 0
      },
      "text/plain": [
       "VBox(children=(Label(value=' 18.94MB of 18.94MB uploaded (0.00MB deduped)\\r'), FloatProgress(value=0.999934534…"
      ]
     },
     "metadata": {},
     "output_type": "display_data"
    },
    {
     "data": {
      "text/html": [
       "Find user logs for this run at: <code>wandb/run-20201114_212921-12t4s00f/logs/debug.log</code>"
      ],
      "text/plain": [
       "<IPython.core.display.HTML object>"
      ]
     },
     "metadata": {},
     "output_type": "display_data"
    },
    {
     "data": {
      "text/html": [
       "Find internal logs for this run at: <code>wandb/run-20201114_212921-12t4s00f/logs/debug-internal.log</code>"
      ],
      "text/plain": [
       "<IPython.core.display.HTML object>"
      ]
     },
     "metadata": {},
     "output_type": "display_data"
    },
    {
     "data": {
      "text/html": [
       "<h3>Run summary:</h3><br/><style>\n",
       "    table.wandb td:nth-child(1) { padding: 0 10px; text-align: right }\n",
       "    </style><table class=\"wandb\">\n",
       "<tr><td>loss/trn</td><td>0.43344</td></tr><tr><td>metrics_trn/miss_rate</td><td>0.3446</td></tr><tr><td>metrics_trn/fp_to_mask_ratio</td><td>0.48638</td></tr><tr><td>pr_trn/precision</td><td>0.57402</td></tr><tr><td>pr_trn/recall</td><td>0.6554</td></tr><tr><td>pr_trn/f1_score</td><td>0.61202</td></tr><tr><td>loss/val</td><td>0.50115</td></tr><tr><td>metrics_val/miss_rate</td><td>0.28645</td></tr><tr><td>metrics_val/fp_to_mask_ratio</td><td>0.74159</td></tr><tr><td>pr_val/precision</td><td>0.49037</td></tr><tr><td>pr_val/recall</td><td>0.71355</td></tr><tr><td>pr_val/f1_score</td><td>0.58127</td></tr><tr><td>_step</td><td>30000</td></tr><tr><td>_runtime</td><td>271</td></tr><tr><td>_timestamp</td><td>1605407752</td></tr></table>"
      ],
      "text/plain": [
       "<IPython.core.display.HTML object>"
      ]
     },
     "metadata": {},
     "output_type": "display_data"
    },
    {
     "data": {
      "text/html": [
       "<h3>Run history:</h3><br/><style>\n",
       "    table.wandb td:nth-child(1) { padding: 0 10px; text-align: right }\n",
       "    </style><table class=\"wandb\">\n",
       "<tr><td>loss/trn</td><td>█▃▁</td></tr><tr><td>metrics_trn/miss_rate</td><td>▁█▇</td></tr><tr><td>metrics_trn/fp_to_mask_ratio</td><td>█▂▁</td></tr><tr><td>pr_trn/precision</td><td>▁▆█</td></tr><tr><td>pr_trn/recall</td><td>█▁▂</td></tr><tr><td>pr_trn/f1_score</td><td>▁▆█</td></tr><tr><td>loss/val</td><td>▇█▁</td></tr><tr><td>metrics_val/miss_rate</td><td>▁██</td></tr><tr><td>metrics_val/fp_to_mask_ratio</td><td>█▅▁</td></tr><tr><td>pr_val/precision</td><td>▁▃█</td></tr><tr><td>pr_val/recall</td><td>█▁▁</td></tr><tr><td>pr_val/f1_score</td><td>▁▂█</td></tr><tr><td>_step</td><td>▁▅█</td></tr><tr><td>_runtime</td><td>▁▆█</td></tr><tr><td>_timestamp</td><td>▁▆█</td></tr></table><br/>"
      ],
      "text/plain": [
       "<IPython.core.display.HTML object>"
      ]
     },
     "metadata": {},
     "output_type": "display_data"
    },
    {
     "data": {
      "text/html": [
       "Synced 5 W&B file(s), 865 media file(s), 0 artifact file(s) and 0 other file(s)"
      ],
      "text/plain": [
       "<IPython.core.display.HTML object>"
      ]
     },
     "metadata": {},
     "output_type": "display_data"
    },
    {
     "data": {
      "text/html": [
       "\n",
       "                    <br/>Synced <strong style=\"color:#cdcd00\">replicate padding</strong>: <a href=\"https://wandb.ai/peterbacalso/covid19_seg/runs/12t4s00f\" target=\"_blank\">https://wandb.ai/peterbacalso/covid19_seg/runs/12t4s00f</a><br/>\n",
       "                "
      ],
      "text/plain": [
       "<IPython.core.display.HTML object>"
      ]
     },
     "metadata": {},
     "output_type": "display_data"
    },
    {
     "name": "stderr",
     "output_type": "stream",
     "text": [
      "\u001b[34m\u001b[1mwandb\u001b[0m: wandb version 0.10.10 is available!  To upgrade, please run:\n",
      "\u001b[34m\u001b[1mwandb\u001b[0m:  $ pip install wandb --upgrade\n"
     ]
    },
    {
     "data": {
      "text/html": [
       "\n",
       "                Tracking run with wandb version 0.10.8<br/>\n",
       "                Syncing run <strong style=\"color:#cdcd00\">to delete</strong> to <a href=\"https://wandb.ai\" target=\"_blank\">Weights & Biases</a> <a href=\"https://docs.wandb.com/integrations/jupyter.html\" target=\"_blank\">(Documentation)</a>.<br/>\n",
       "                Project page: <a href=\"https://wandb.ai/peterbacalso/covid19_seg\" target=\"_blank\">https://wandb.ai/peterbacalso/covid19_seg</a><br/>\n",
       "                Run page: <a href=\"https://wandb.ai/peterbacalso/covid19_seg/runs/25xg9sa2\" target=\"_blank\">https://wandb.ai/peterbacalso/covid19_seg/runs/25xg9sa2</a><br/>\n",
       "                Run data is saved locally in <code>wandb/run-20201114_213552-25xg9sa2</code><br/><br/>\n",
       "            "
      ],
      "text/plain": [
       "<IPython.core.display.HTML object>"
      ]
     },
     "metadata": {},
     "output_type": "display_data"
    },
    {
     "ename": "RuntimeError",
     "evalue": "No active exception to reraise",
     "output_type": "error",
     "traceback": [
      "\u001b[0;31m---------------------------------------------------------------------------\u001b[0m",
      "\u001b[0;31mRuntimeError\u001b[0m                              Traceback (most recent call last)",
      "\u001b[0;32m<ipython-input-10-60ba1bc6dab7>\u001b[0m in \u001b[0;36m<module>\u001b[0;34m\u001b[0m\n\u001b[1;32m      5\u001b[0m \u001b[0;34m\u001b[0m\u001b[0m\n\u001b[1;32m      6\u001b[0m \u001b[0;31m# dummy run to finish wandb\u001b[0m\u001b[0;34m\u001b[0m\u001b[0;34m\u001b[0m\u001b[0;34m\u001b[0m\u001b[0m\n\u001b[0;32m----> 7\u001b[0;31m \u001b[0mrun\u001b[0m\u001b[0;34m(\u001b[0m\u001b[0;34m'training.CovidSegmentationTrainingApp'\u001b[0m\u001b[0;34m,\u001b[0m \u001b[0;34m'--epochs=0'\u001b[0m\u001b[0;34m,\u001b[0m \u001b[0;34m'--run-name=to delete'\u001b[0m\u001b[0;34m)\u001b[0m\u001b[0;34m\u001b[0m\u001b[0;34m\u001b[0m\u001b[0m\n\u001b[0m",
      "\u001b[0;32m<ipython-input-4-4bc0ce0776a7>\u001b[0m in \u001b[0;36mrun\u001b[0;34m(app, *argv)\u001b[0m\n\u001b[1;32m      7\u001b[0m \u001b[0;34m\u001b[0m\u001b[0m\n\u001b[1;32m      8\u001b[0m     \u001b[0mapp_cls\u001b[0m \u001b[0;34m=\u001b[0m \u001b[0mimportstr\u001b[0m\u001b[0;34m(\u001b[0m\u001b[0;34m*\u001b[0m\u001b[0mapp\u001b[0m\u001b[0;34m.\u001b[0m\u001b[0mrsplit\u001b[0m\u001b[0;34m(\u001b[0m\u001b[0;34m'.'\u001b[0m\u001b[0;34m,\u001b[0m \u001b[0;36m1\u001b[0m\u001b[0;34m)\u001b[0m\u001b[0;34m)\u001b[0m\u001b[0;34m\u001b[0m\u001b[0;34m\u001b[0m\u001b[0m\n\u001b[0;32m----> 9\u001b[0;31m     \u001b[0mapp_cls\u001b[0m\u001b[0;34m(\u001b[0m\u001b[0margv\u001b[0m\u001b[0;34m)\u001b[0m\u001b[0;34m.\u001b[0m\u001b[0mmain\u001b[0m\u001b[0;34m(\u001b[0m\u001b[0;34m)\u001b[0m\u001b[0;34m\u001b[0m\u001b[0;34m\u001b[0m\u001b[0m\n\u001b[0m\u001b[1;32m     10\u001b[0m \u001b[0;34m\u001b[0m\u001b[0m\n\u001b[1;32m     11\u001b[0m     \u001b[0mlog\u001b[0m\u001b[0;34m.\u001b[0m\u001b[0minfo\u001b[0m\u001b[0;34m(\u001b[0m\u001b[0;34m\"Finished: {}.{!r}.main()\"\u001b[0m\u001b[0;34m.\u001b[0m\u001b[0mformat\u001b[0m\u001b[0;34m(\u001b[0m\u001b[0mapp\u001b[0m\u001b[0;34m,\u001b[0m \u001b[0margv\u001b[0m\u001b[0;34m)\u001b[0m\u001b[0;34m)\u001b[0m\u001b[0;34m\u001b[0m\u001b[0;34m\u001b[0m\u001b[0m\n",
      "\u001b[0;32m~/programming/projects/covid_CT_lung_lesion_segmentation/training.py\u001b[0m in \u001b[0;36m__init__\u001b[0;34m(self, argv)\u001b[0m\n\u001b[1;32m    149\u001b[0m         \u001b[0;32mif\u001b[0m \u001b[0mself\u001b[0m\u001b[0;34m.\u001b[0m\u001b[0mcli_args\u001b[0m\u001b[0;34m.\u001b[0m\u001b[0mepochs\u001b[0m \u001b[0;34m==\u001b[0m \u001b[0;36m0\u001b[0m\u001b[0;34m:\u001b[0m\u001b[0;34m\u001b[0m\u001b[0;34m\u001b[0m\u001b[0m\n\u001b[1;32m    150\u001b[0m             \u001b[0mwandb\u001b[0m\u001b[0;34m.\u001b[0m\u001b[0minit\u001b[0m\u001b[0;34m(\u001b[0m\u001b[0mproject\u001b[0m\u001b[0;34m=\u001b[0m\u001b[0;34m\"covid19_seg\"\u001b[0m\u001b[0;34m,\u001b[0m \u001b[0mname\u001b[0m\u001b[0;34m=\u001b[0m\u001b[0mself\u001b[0m\u001b[0;34m.\u001b[0m\u001b[0mcli_args\u001b[0m\u001b[0;34m.\u001b[0m\u001b[0mrun_name\u001b[0m\u001b[0;34m)\u001b[0m\u001b[0;34m\u001b[0m\u001b[0;34m\u001b[0m\u001b[0m\n\u001b[0;32m--> 151\u001b[0;31m             \u001b[0;32mraise\u001b[0m\u001b[0;34m\u001b[0m\u001b[0;34m\u001b[0m\u001b[0m\n\u001b[0m\u001b[1;32m    152\u001b[0m \u001b[0;34m\u001b[0m\u001b[0m\n\u001b[1;32m    153\u001b[0m         \u001b[0;32massert\u001b[0m \u001b[0mself\u001b[0m\u001b[0;34m.\u001b[0m\u001b[0mcli_args\u001b[0m\u001b[0;34m.\u001b[0m\u001b[0mpad_type\u001b[0m \u001b[0;32min\u001b[0m \u001b[0;34m(\u001b[0m\u001b[0;34m'zero'\u001b[0m\u001b[0;34m,\u001b[0m \u001b[0;34m'reflect'\u001b[0m\u001b[0;34m,\u001b[0m \u001b[0;34m'replicate'\u001b[0m\u001b[0;34m)\u001b[0m\u001b[0;34m,\u001b[0m \u001b[0mrepr\u001b[0m\u001b[0;34m(\u001b[0m\u001b[0mself\u001b[0m\u001b[0;34m.\u001b[0m\u001b[0mcli_args\u001b[0m\u001b[0;34m.\u001b[0m\u001b[0mpad_type\u001b[0m\u001b[0;34m)\u001b[0m\u001b[0;34m\u001b[0m\u001b[0;34m\u001b[0m\u001b[0m\n",
      "\u001b[0;31mRuntimeError\u001b[0m: No active exception to reraise"
     ]
    }
   ],
   "source": [
    "run('training.CovidSegmentationTrainingApp', f'--epochs={experiment_epochs}', f'--batch-size={batch_size}', f'--ct-window={windows[1]}', \n",
    "    '--augmented', '--width-irc', '7', f'{bbox_dim}', f'{bbox_dim}', f'--pad-type={pad_types[1]}', '--run-name=reflect padding')\n",
    "run('training.CovidSegmentationTrainingApp', f'--epochs={experiment_epochs}', f'--batch-size={batch_size}', f'--ct-window={windows[1]}', \n",
    "    '--augmented', '--width-irc', '7', f'{bbox_dim}', f'{bbox_dim}', f'--pad-type={pad_types[2]}', '--run-name=replicate padding')\n",
    "\n",
    "# dummy run to finish wandb\n",
    "run('training.CovidSegmentationTrainingApp', '--epochs=0', '--run-name=to delete')"
   ]
  },
  {
   "cell_type": "markdown",
   "metadata": {},
   "source": [
    "# Train Run"
   ]
  },
  {
   "cell_type": "code",
   "execution_count": null,
   "metadata": {},
   "outputs": [],
   "source": []
  },
  {
   "cell_type": "code",
   "execution_count": null,
   "metadata": {},
   "outputs": [],
   "source": []
  }
 ],
 "metadata": {
  "kernelspec": {
   "display_name": "Python 3",
   "language": "python",
   "name": "python3"
  },
  "language_info": {
   "codemirror_mode": {
    "name": "ipython",
    "version": 3
   },
   "file_extension": ".py",
   "mimetype": "text/x-python",
   "name": "python",
   "nbconvert_exporter": "python",
   "pygments_lexer": "ipython3",
   "version": "3.8.5"
  }
 },
 "nbformat": 4,
 "nbformat_minor": 4
}
