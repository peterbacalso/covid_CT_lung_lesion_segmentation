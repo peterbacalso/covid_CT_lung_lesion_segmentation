{
 "cells": [
  {
   "cell_type": "code",
   "execution_count": 2,
   "metadata": {},
   "outputs": [
    {
     "name": "stdout",
     "output_type": "stream",
     "text": [
      "The autoreload extension is already loaded. To reload it, use:\n",
      "  %reload_ext autoreload\n"
     ]
    }
   ],
   "source": [
    "%load_ext autoreload\n",
    "%autoreload 2"
   ]
  },
  {
   "cell_type": "code",
   "execution_count": 3,
   "metadata": {},
   "outputs": [],
   "source": [
    "import datetime\n",
    "import torch\n",
    "import math\n",
    "\n",
    "from modules.util.util import importstr\n",
    "from modules.util.logconf import logging\n",
    "log = logging.getLogger('nb')"
   ]
  },
  {
   "cell_type": "code",
   "execution_count": 4,
   "metadata": {},
   "outputs": [],
   "source": [
    "def run(app, *argv):    \n",
    "    torch.cuda.empty_cache()\n",
    "    \n",
    "    argv = list(argv)\n",
    "    log.info(\"Running: {}({!r}).main()\".format(app, argv))\n",
    "    \n",
    "    app_cls = importstr(*app.rsplit('.', 1))\n",
    "    app_cls(argv).main()\n",
    "    \n",
    "    log.info(\"Finished: {}.{!r}.main()\".format(app, argv))"
   ]
  },
  {
   "cell_type": "code",
   "execution_count": 4,
   "metadata": {},
   "outputs": [
    {
     "name": "stderr",
     "output_type": "stream",
     "text": [
      "2020-12-07 04:56:41,940 INFO     pid:22723 nb:005:run Running: prepcache.CovidPrepCacheApp(['--num-workers=8', '--batch-size=20', '--width-irc', '16', '128', '128']).main()\n",
      "2020-12-07 04:56:44,332 INFO     pid:22723 prepcache:039:main Starting CovidPrepCacheApp, Namespace(batch_size=20, num_workers=8, width_irc=['16', '128', '128'])\n",
      "100%|██████████| 10/10 [02:27<00:00, 14.72s/it]\n",
      "2020-12-07 04:59:11,832 INFO     pid:22723 nb:010:run Finished: prepcache.CovidPrepCacheApp.['--num-workers=8', '--batch-size=20', '--width-irc', '16', '128', '128'].main()\n"
     ]
    }
   ],
   "source": [
    "# width_irc=(16,128,128)\n",
    "# run('prepcache.CovidPrepCacheApp', f'--num-workers={8}', f'--batch-size={20}', '--width-irc', f'{width_irc[0]}', f'{width_irc[1]}', f'{width_irc[2]}')"
   ]
  },
  {
   "cell_type": "markdown",
   "metadata": {
    "collapsed": "true"
   },
   "source": [
    "## Basic Unet 3D"
   ]
  },
  {
   "cell_type": "code",
   "execution_count": 4,
   "metadata": {},
   "outputs": [],
   "source": [
    "batch_size = 2\n",
    "epochs = 50\n",
    "steps_per_epoch=200\n",
    "val_cadence = 5\n",
    "recall_priority = 0\n",
    "unet_depth=3\n",
    "pad_types = ['zero', 'replicate']\n",
    "windows = ['lung', 'mediastinal', 'shifted_lung']\n",
    "project_name = 'covid19_seg'\n",
    "width_irc = (12,192,192)"
   ]
  },
  {
   "cell_type": "code",
   "execution_count": 5,
   "metadata": {},
   "outputs": [],
   "source": [
    "model_path = 'saved-models/2020-11-22_11.01.15.best.state'"
   ]
  },
  {
   "cell_type": "code",
   "execution_count": null,
   "metadata": {},
   "outputs": [],
   "source": [
    "run_name = 'unet3d train run p2'"
   ]
  },
  {
   "cell_type": "code",
   "execution_count": 1,
   "metadata": {},
   "outputs": [],
   "source": [
    "run('training.CovidSegmentationTrainingApp', f'--epochs={epochs}', f'--batch-size={batch_size}', \n",
    "    f'--steps-per-epoch={steps_per_epoch}', f'--val-cadence={val_cadence}', f'--recall-priority={recall_priority}',\n",
    "    f'--depth={unet_depth}', f'--pad-type={pad_types[1]}', '--augmented', f'--model-path={model_path}',\n",
    "    '--width-irc', f'{width_irc[0]}', f'{width_irc[1]}', f'{width_irc[2]}', \n",
    "    f'--project-name={project_name}', f'--run-name={run_name}')\n",
    "\n",
    "# dummy run to finish wandb\n",
    "run('training.CovidSegmentationTrainingApp', '--epochs=0', '--run-name=to delete')"
   ]
  },
  {
   "cell_type": "markdown",
   "metadata": {},
   "source": [
    "## Covid Seg Net"
   ]
  },
  {
   "cell_type": "code",
   "execution_count": 5,
   "metadata": {},
   "outputs": [],
   "source": [
    "batch_size = 2\n",
    "epochs = 100\n",
    "steps_per_epoch=320\n",
    "val_cadence = 5\n",
    "depth = 3\n",
    "windows = ['lung', 'mediastinal', 'shifted_lung']\n",
    "project_name = 'covid19_seg'\n",
    "width_irc=(16,128,128)"
   ]
  },
  {
   "cell_type": "code",
   "execution_count": 6,
   "metadata": {},
   "outputs": [],
   "source": [
    "run_name = 'Train p3 (320spe,2gpu,bs2x3,aug)'\n",
    "notes = 'Train Run Continuation'"
   ]
  },
  {
   "cell_type": "code",
   "execution_count": 7,
   "metadata": {},
   "outputs": [],
   "source": [
    "model_path = 'saved-models/2020-12-08_06.03.53.best.state'"
   ]
  },
  {
   "cell_type": "code",
   "execution_count": 8,
   "metadata": {},
   "outputs": [
    {
     "name": "stderr",
     "output_type": "stream",
     "text": [
      "2020-12-08 19:15:02,333 INFO     pid:8597 nb:005:run Running: training_alpha.CovidSegmentationTrainingApp(['--epochs=100', '--batch-size=2', '--num-workers=8', '--ct-window=shifted_lung', '--val-cadence=5', '--depth=3', '--augmented', '--width-irc', '16', '128', '128', '--notes=Train Run Continuation', '--model-path=saved-models/2020-12-08_06.03.53.best.state', '--steps-per-epoch=320', '--project-name=covid19_seg', '--run-name=Train p3 (320spe,2gpu,bs2x3,aug)']).main()\n",
      "2020-12-08 19:15:04,901 INFO     pid:8597 wandb:606:_apply_source_login setting login settings: {}\n",
      "\u001b[34m\u001b[1mwandb\u001b[0m: Currently logged in as: \u001b[33mpeterbacalso\u001b[0m (use `wandb login --relogin` to force relogin)\n",
      "\u001b[34m\u001b[1mwandb\u001b[0m: wandb version 0.10.12 is available!  To upgrade, please run:\n",
      "\u001b[34m\u001b[1mwandb\u001b[0m:  $ pip install wandb --upgrade\n"
     ]
    },
    {
     "data": {
      "text/html": [
       "\n",
       "                Tracking run with wandb version 0.10.8<br/>\n",
       "                Syncing run <strong style=\"color:#cdcd00\">Train p3 (320spe,2gpu,bs2x3,aug)</strong> to <a href=\"https://wandb.ai\" target=\"_blank\">Weights & Biases</a> <a href=\"https://docs.wandb.com/integrations/jupyter.html\" target=\"_blank\">(Documentation)</a>.<br/>\n",
       "                Project page: <a href=\"https://wandb.ai/peterbacalso/covid19_seg\" target=\"_blank\">https://wandb.ai/peterbacalso/covid19_seg</a><br/>\n",
       "                Run page: <a href=\"https://wandb.ai/peterbacalso/covid19_seg/runs/181we8iq\" target=\"_blank\">https://wandb.ai/peterbacalso/covid19_seg/runs/181we8iq</a><br/>\n",
       "                Run data is saved locally in <code>wandb/run-20201208_191504-181we8iq</code><br/><br/>\n",
       "            "
      ],
      "text/plain": [
       "<IPython.core.display.HTML object>"
      ]
     },
     "metadata": {},
     "output_type": "display_data"
    },
    {
     "name": "stderr",
     "output_type": "stream",
     "text": [
      "2020-12-08 19:15:09,766 INFO     pid:8597 training_alpha:232:init_model Using CUDA; 2 devices.\n",
      "2020-12-08 19:15:09,851 INFO     pid:8597 modules.dsets:374:__init__ TrainingV2Covid2dSegmentationDataset: training mode, 179 uid's, 320 steps_per_epoch\n",
      "2020-12-08 19:15:09,854 INFO     pid:8597 modules.dsets:447:__init__ TrainingV2Covid2dSegmentationDataset: (16, 128, 128) width_irc\n",
      "2020-12-08 19:15:09,857 INFO     pid:8597 modules.dsets:374:__init__ Covid2dSegmentationDataset: validation mode, 20 uid's, 20 steps_per_epoch\n",
      "2020-12-08 19:15:09,963 INFO     pid:8597 training_alpha:549:main Starting CovidSegmentationTrainingApp, Namespace(augment_flip=False, augment_noise=False, augment_offset=False, augment_rotate=False, augment_scale=False, augmented=True, batch_size=2, ct_window='shifted_lung', depth=3, epochs=100, freeze=False, model_path='saved-models/2020-12-08_06.03.53.best.state', notes='Train Run Continuation', num_workers=8, project_name='covid19_seg', run_name='Train p3 (320spe,2gpu,bs2x3,aug)', steps_per_epoch=320, val_cadence=5, width_irc=['16', '128', '128'])\n"
     ]
    },
    {
     "data": {
      "text/html": [
       "\n",
       "    <div>\n",
       "        <style>\n",
       "            /* Turns off some styling */\n",
       "            progress {\n",
       "                /* gets rid of default border in Firefox and Opera. */\n",
       "                border: none;\n",
       "                /* Needs to be in here for Safari polyfill so background images work as expected. */\n",
       "                background-size: auto;\n",
       "            }\n",
       "            .progress-bar-interrupted, .progress-bar-interrupted::-webkit-progress-bar {\n",
       "                background: #F44336;\n",
       "            }\n",
       "        </style>\n",
       "      <progress value='30' class='' max='100' style='width:300px; height:20px; vertical-align: middle;'></progress>\n",
       "      30.00% [30/100 1:15:22<2:55:52]\n",
       "    </div>\n",
       "    \n",
       "<table border=\"1\" class=\"dataframe\">\n",
       "  <thead>\n",
       "    <tr style=\"text-align: left;\">\n",
       "      <th>epoch</th>\n",
       "      <th>loss/trn</th>\n",
       "      <th>dice_loss/trn</th>\n",
       "      <th>ce_loss/trn</th>\n",
       "      <th>loss/val</th>\n",
       "      <th>dice_loss/val</th>\n",
       "      <th>ce_loss/val</th>\n",
       "      <th>metrics_val/miss_rate</th>\n",
       "      <th>metrics_val/fp_to_mask_ratio</th>\n",
       "      <th>pr_val/precision</th>\n",
       "      <th>pr_val/recall</th>\n",
       "      <th>pr_val/f1_score</th>\n",
       "      <th>surface_dist_val/mean</th>\n",
       "      <th>surface_dist_val/root_mean_squared</th>\n",
       "      <th>surface_dist_val/hausdorff</th>\n",
       "    </tr>\n",
       "  </thead>\n",
       "  <tbody>\n",
       "    <tr>\n",
       "      <td>1</td>\n",
       "      <td>0.2882</td>\n",
       "      <td>0.2711</td>\n",
       "      <td>0.3281</td>\n",
       "      <td>0.3049</td>\n",
       "      <td>0.2990</td>\n",
       "      <td>0.3185</td>\n",
       "      <td>0.2935</td>\n",
       "      <td>0.1491</td>\n",
       "      <td>0.8258</td>\n",
       "      <td>0.7065</td>\n",
       "      <td>0.7615</td>\n",
       "      <td>6.4287</td>\n",
       "      <td>15.5576</td>\n",
       "      <td>100.9498</td>\n",
       "    </tr>\n",
       "    <tr>\n",
       "      <td>5</td>\n",
       "      <td>0.3031</td>\n",
       "      <td>0.2918</td>\n",
       "      <td>0.3296</td>\n",
       "      <td>0.3017</td>\n",
       "      <td>0.2945</td>\n",
       "      <td>0.3187</td>\n",
       "      <td>0.3123</td>\n",
       "      <td>0.1449</td>\n",
       "      <td>0.8259</td>\n",
       "      <td>0.6877</td>\n",
       "      <td>0.7505</td>\n",
       "      <td>6.1811</td>\n",
       "      <td>15.1413</td>\n",
       "      <td>96.6757</td>\n",
       "    </tr>\n",
       "    <tr>\n",
       "      <td>10</td>\n",
       "      <td>0.2870</td>\n",
       "      <td>0.2693</td>\n",
       "      <td>0.3282</td>\n",
       "      <td>0.2937</td>\n",
       "      <td>0.2830</td>\n",
       "      <td>0.3188</td>\n",
       "      <td>0.2682</td>\n",
       "      <td>0.1643</td>\n",
       "      <td>0.8167</td>\n",
       "      <td>0.7318</td>\n",
       "      <td>0.7719</td>\n",
       "      <td>6.4757</td>\n",
       "      <td>15.6356</td>\n",
       "      <td>100.6566</td>\n",
       "    </tr>\n",
       "    <tr>\n",
       "      <td>15</td>\n",
       "      <td>0.2720</td>\n",
       "      <td>0.2483</td>\n",
       "      <td>0.3274</td>\n",
       "      <td>0.2984</td>\n",
       "      <td>0.2896</td>\n",
       "      <td>0.3189</td>\n",
       "      <td>0.2965</td>\n",
       "      <td>0.1388</td>\n",
       "      <td>0.8352</td>\n",
       "      <td>0.7035</td>\n",
       "      <td>0.7637</td>\n",
       "      <td>5.8426</td>\n",
       "      <td>14.4757</td>\n",
       "      <td>97.1991</td>\n",
       "    </tr>\n",
       "    <tr>\n",
       "      <td>20</td>\n",
       "      <td>0.2847</td>\n",
       "      <td>0.2663</td>\n",
       "      <td>0.3276</td>\n",
       "      <td>0.2951</td>\n",
       "      <td>0.2850</td>\n",
       "      <td>0.3185</td>\n",
       "      <td>0.3000</td>\n",
       "      <td>0.1435</td>\n",
       "      <td>0.8298</td>\n",
       "      <td>0.7000</td>\n",
       "      <td>0.7594</td>\n",
       "      <td>5.5319</td>\n",
       "      <td>14.4782</td>\n",
       "      <td>101.5472</td>\n",
       "    </tr>\n",
       "    <tr>\n",
       "      <td>25</td>\n",
       "      <td>0.2816</td>\n",
       "      <td>0.2618</td>\n",
       "      <td>0.3277</td>\n",
       "      <td>0.2955</td>\n",
       "      <td>0.2854</td>\n",
       "      <td>0.3188</td>\n",
       "      <td>0.2964</td>\n",
       "      <td>0.1418</td>\n",
       "      <td>0.8322</td>\n",
       "      <td>0.7036</td>\n",
       "      <td>0.7625</td>\n",
       "      <td>5.5637</td>\n",
       "      <td>14.5396</td>\n",
       "      <td>100.7926</td>\n",
       "    </tr>\n",
       "    <tr>\n",
       "      <td>30</td>\n",
       "      <td>0.2857</td>\n",
       "      <td>0.2681</td>\n",
       "      <td>0.3270</td>\n",
       "      <td>0.2940</td>\n",
       "      <td>0.2835</td>\n",
       "      <td>0.3187</td>\n",
       "      <td>0.2779</td>\n",
       "      <td>0.1701</td>\n",
       "      <td>0.8093</td>\n",
       "      <td>0.7221</td>\n",
       "      <td>0.7632</td>\n",
       "      <td>6.2266</td>\n",
       "      <td>15.9787</td>\n",
       "      <td>102.4967</td>\n",
       "    </tr>\n",
       "  </tbody>\n",
       "</table><p>\n",
       "\n",
       "    <div>\n",
       "        <style>\n",
       "            /* Turns off some styling */\n",
       "            progress {\n",
       "                /* gets rid of default border in Firefox and Opera. */\n",
       "                border: none;\n",
       "                /* Needs to be in here for Safari polyfill so background images work as expected. */\n",
       "                background-size: auto;\n",
       "            }\n",
       "            .progress-bar-interrupted, .progress-bar-interrupted::-webkit-progress-bar {\n",
       "                background: #F44336;\n",
       "            }\n",
       "        </style>\n",
       "      <progress value='0' class='' max='80' style='width:300px; height:20px; vertical-align: middle;'></progress>\n",
       "      0.00% [0/80 00:00<00:00]\n",
       "    </div>\n",
       "    "
      ],
      "text/plain": [
       "<IPython.core.display.HTML object>"
      ]
     },
     "metadata": {},
     "output_type": "display_data"
    },
    {
     "name": "stderr",
     "output_type": "stream",
     "text": [
      "2020-12-08 19:16:34,126 INFO     pid:8597 training_alpha:406:log_metrics E1 CovidSegmentationTrainingApp\n",
      "2020-12-08 19:16:34,131 INFO     pid:8597 training_alpha:442:log_metrics E1 trn      0.2882 loss, 0.2711 dice loss, 0.3281 ce loss, 0.8892 precision, 0.8228 recall, 0.8547 f1 score 0.1772 miss rate 0.1025 fp to label ratio\n",
      "2020-12-08 19:21:00,360 INFO     pid:8597 training_alpha:406:log_metrics E1 CovidSegmentationTrainingApp\n",
      "2020-12-08 19:21:00,372 INFO     pid:8597 training_alpha:453:log_metrics E1 val      0.3049 loss, 0.2990 dice loss, 0.3185 ce_loss, 0.8258 precision, 0.7065 recall, 0.7615 f1 score 0.2935 miss rate 0.1491 fp to label ratio6.4287 mean distance15.5576 root mean squared distance100.9498 hausdorff distance\n",
      "2020-12-08 19:21:03,040 INFO     pid:8597 training_alpha:534:save_model Saved model params to saved-models/2020-12-08_19.15.04.320.state\n",
      "2020-12-08 19:21:03,058 INFO     pid:8597 training_alpha:540:save_model Saved model params to saved-models/2020-12-08_19.15.04.best.state\n",
      "2020-12-08 19:21:03,086 INFO     pid:8597 training_alpha:545:save_model SHA1: e6dbf188b17bae14e3625cf9d3d69964dedece4a\n",
      "2020-12-08 19:22:40,209 INFO     pid:8597 training_alpha:406:log_metrics E2 CovidSegmentationTrainingApp\n",
      "2020-12-08 19:22:40,212 INFO     pid:8597 training_alpha:442:log_metrics E2 trn      0.2788 loss, 0.2578 dice loss, 0.3279 ce loss, 0.8938 precision, 0.8233 recall, 0.8571 f1 score 0.1767 miss rate 0.0978 fp to label ratio\n",
      "2020-12-08 19:24:02,670 INFO     pid:8597 training_alpha:406:log_metrics E3 CovidSegmentationTrainingApp\n",
      "2020-12-08 19:24:02,676 INFO     pid:8597 training_alpha:442:log_metrics E3 trn      0.2948 loss, 0.2807 dice loss, 0.3277 ce loss, 0.8928 precision, 0.8263 recall, 0.8583 f1 score 0.1737 miss rate 0.0992 fp to label ratio\n",
      "2020-12-08 19:25:39,742 INFO     pid:8597 training_alpha:406:log_metrics E4 CovidSegmentationTrainingApp\n",
      "2020-12-08 19:25:39,746 INFO     pid:8597 training_alpha:442:log_metrics E4 trn      0.3085 loss, 0.2990 dice loss, 0.3307 ce loss, 0.8735 precision, 0.8053 recall, 0.8380 f1 score 0.1947 miss rate 0.1166 fp to label ratio\n",
      "2020-12-08 19:27:14,094 INFO     pid:8597 training_alpha:406:log_metrics E5 CovidSegmentationTrainingApp\n",
      "2020-12-08 19:27:14,099 INFO     pid:8597 training_alpha:442:log_metrics E5 trn      0.3031 loss, 0.2918 dice loss, 0.3296 ce loss, 0.8815 precision, 0.8061 recall, 0.8421 f1 score 0.1939 miss rate 0.1083 fp to label ratio\n",
      "2020-12-08 19:31:39,856 INFO     pid:8597 training_alpha:406:log_metrics E5 CovidSegmentationTrainingApp\n",
      "2020-12-08 19:31:39,861 INFO     pid:8597 training_alpha:453:log_metrics E5 val      0.3017 loss, 0.2945 dice loss, 0.3187 ce_loss, 0.8259 precision, 0.6877 recall, 0.7505 f1 score 0.3123 miss rate 0.1449 fp to label ratio6.1811 mean distance15.1413 root mean squared distance96.6757 hausdorff distance\n",
      "2020-12-08 19:31:42,463 INFO     pid:8597 training_alpha:534:save_model Saved model params to saved-models/2020-12-08_19.15.04.1600.state\n",
      "2020-12-08 19:31:42,494 INFO     pid:8597 training_alpha:545:save_model SHA1: 51d649a6fbb4fa3b10f93d43be5b3500acd21428\n",
      "2020-12-08 19:33:07,440 INFO     pid:8597 training_alpha:406:log_metrics E6 CovidSegmentationTrainingApp\n",
      "2020-12-08 19:33:07,446 INFO     pid:8597 training_alpha:442:log_metrics E6 trn      0.3020 loss, 0.2909 dice loss, 0.3281 ce loss, 0.8879 precision, 0.8242 recall, 0.8548 f1 score 0.1758 miss rate 0.1041 fp to label ratio\n",
      "2020-12-08 19:34:40,453 INFO     pid:8597 training_alpha:406:log_metrics E7 CovidSegmentationTrainingApp\n",
      "2020-12-08 19:34:40,457 INFO     pid:8597 training_alpha:442:log_metrics E7 trn      0.2944 loss, 0.2799 dice loss, 0.3283 ce loss, 0.8975 precision, 0.8286 recall, 0.8617 f1 score 0.1714 miss rate 0.0946 fp to label ratio\n",
      "2020-12-08 19:36:15,186 INFO     pid:8597 training_alpha:406:log_metrics E8 CovidSegmentationTrainingApp\n",
      "2020-12-08 19:36:15,198 INFO     pid:8597 training_alpha:442:log_metrics E8 trn      0.2940 loss, 0.2792 dice loss, 0.3284 ce loss, 0.8925 precision, 0.8237 recall, 0.8567 f1 score 0.1763 miss rate 0.0992 fp to label ratio\n",
      "2020-12-08 19:37:42,386 INFO     pid:8597 training_alpha:406:log_metrics E9 CovidSegmentationTrainingApp\n",
      "2020-12-08 19:37:42,390 INFO     pid:8597 training_alpha:442:log_metrics E9 trn      0.2837 loss, 0.2649 dice loss, 0.3274 ce loss, 0.8938 precision, 0.8412 recall, 0.8667 f1 score 0.1588 miss rate 0.1000 fp to label ratio\n",
      "2020-12-08 19:39:15,544 INFO     pid:8597 training_alpha:406:log_metrics E10 CovidSegmentationTrainingApp\n",
      "2020-12-08 19:39:15,549 INFO     pid:8597 training_alpha:442:log_metrics E10 trn      0.2870 loss, 0.2693 dice loss, 0.3282 ce loss, 0.8967 precision, 0.8268 recall, 0.8603 f1 score 0.1732 miss rate 0.0953 fp to label ratio\n",
      "2020-12-08 19:43:41,833 INFO     pid:8597 training_alpha:406:log_metrics E10 CovidSegmentationTrainingApp\n",
      "2020-12-08 19:43:41,838 INFO     pid:8597 training_alpha:453:log_metrics E10 val      0.2937 loss, 0.2830 dice loss, 0.3188 ce_loss, 0.8167 precision, 0.7318 recall, 0.7719 f1 score 0.2682 miss rate 0.1643 fp to label ratio6.4757 mean distance15.6356 root mean squared distance100.6566 hausdorff distance\n",
      "2020-12-08 19:43:44,675 INFO     pid:8597 training_alpha:534:save_model Saved model params to saved-models/2020-12-08_19.15.04.3200.state\n",
      "2020-12-08 19:43:44,699 INFO     pid:8597 training_alpha:540:save_model Saved model params to saved-models/2020-12-08_19.15.04.best.state\n",
      "2020-12-08 19:43:44,734 INFO     pid:8597 training_alpha:545:save_model SHA1: 8569d2b07e311a2c4592064974fc62daeb422fdf\n",
      "2020-12-08 19:45:13,562 INFO     pid:8597 training_alpha:406:log_metrics E11 CovidSegmentationTrainingApp\n",
      "2020-12-08 19:45:13,568 INFO     pid:8597 training_alpha:442:log_metrics E11 trn      0.2801 loss, 0.2599 dice loss, 0.3273 ce loss, 0.8936 precision, 0.8343 recall, 0.8629 f1 score 0.1657 miss rate 0.0994 fp to label ratio\n",
      "2020-12-08 19:46:37,717 INFO     pid:8597 training_alpha:406:log_metrics E12 CovidSegmentationTrainingApp\n",
      "2020-12-08 19:46:37,724 INFO     pid:8597 training_alpha:442:log_metrics E12 trn      0.2976 loss, 0.2849 dice loss, 0.3270 ce loss, 0.8942 precision, 0.8340 recall, 0.8630 f1 score 0.1660 miss rate 0.0987 fp to label ratio\n",
      "2020-12-08 19:48:06,429 INFO     pid:8597 training_alpha:406:log_metrics E13 CovidSegmentationTrainingApp\n",
      "2020-12-08 19:48:06,433 INFO     pid:8597 training_alpha:442:log_metrics E13 trn      0.2888 loss, 0.2725 dice loss, 0.3268 ce loss, 0.9009 precision, 0.8334 recall, 0.8658 f1 score 0.1666 miss rate 0.0916 fp to label ratio\n",
      "2020-12-08 19:49:32,559 INFO     pid:8597 training_alpha:406:log_metrics E14 CovidSegmentationTrainingApp\n",
      "2020-12-08 19:49:32,565 INFO     pid:8597 training_alpha:442:log_metrics E14 trn      0.2809 loss, 0.2609 dice loss, 0.3276 ce loss, 0.8950 precision, 0.8284 recall, 0.8604 f1 score 0.1716 miss rate 0.0972 fp to label ratio\n",
      "2020-12-08 19:51:03,172 INFO     pid:8597 training_alpha:406:log_metrics E15 CovidSegmentationTrainingApp\n",
      "2020-12-08 19:51:03,177 INFO     pid:8597 training_alpha:442:log_metrics E15 trn      0.2720 loss, 0.2483 dice loss, 0.3274 ce loss, 0.8977 precision, 0.8414 recall, 0.8686 f1 score 0.1586 miss rate 0.0959 fp to label ratio\n",
      "2020-12-08 19:55:30,599 INFO     pid:8597 training_alpha:406:log_metrics E15 CovidSegmentationTrainingApp\n",
      "2020-12-08 19:55:30,604 INFO     pid:8597 training_alpha:453:log_metrics E15 val      0.2984 loss, 0.2896 dice loss, 0.3189 ce_loss, 0.8352 precision, 0.7035 recall, 0.7637 f1 score 0.2965 miss rate 0.1388 fp to label ratio5.8426 mean distance14.4757 root mean squared distance97.1991 hausdorff distance\n",
      "2020-12-08 19:55:33,220 INFO     pid:8597 training_alpha:534:save_model Saved model params to saved-models/2020-12-08_19.15.04.4800.state\n",
      "2020-12-08 19:55:33,247 INFO     pid:8597 training_alpha:545:save_model SHA1: 3e8e355a5d7991bdf513c0b0f9be5b0ea2208216\n",
      "2020-12-08 19:57:02,170 INFO     pid:8597 training_alpha:406:log_metrics E16 CovidSegmentationTrainingApp\n",
      "2020-12-08 19:57:02,178 INFO     pid:8597 training_alpha:442:log_metrics E16 trn      0.2763 loss, 0.2541 dice loss, 0.3282 ce loss, 0.8993 precision, 0.8287 recall, 0.8625 f1 score 0.1713 miss rate 0.0928 fp to label ratio\n",
      "2020-12-08 19:58:37,795 INFO     pid:8597 training_alpha:406:log_metrics E17 CovidSegmentationTrainingApp\n",
      "2020-12-08 19:58:37,801 INFO     pid:8597 training_alpha:442:log_metrics E17 trn      0.2740 loss, 0.2508 dice loss, 0.3280 ce loss, 0.8980 precision, 0.8318 recall, 0.8636 f1 score 0.1682 miss rate 0.0945 fp to label ratio\n",
      "2020-12-08 20:00:02,283 INFO     pid:8597 training_alpha:406:log_metrics E18 CovidSegmentationTrainingApp\n",
      "2020-12-08 20:00:02,290 INFO     pid:8597 training_alpha:442:log_metrics E18 trn      0.2841 loss, 0.2655 dice loss, 0.3273 ce loss, 0.8955 precision, 0.8351 recall, 0.8642 f1 score 0.1649 miss rate 0.0975 fp to label ratio\n",
      "2020-12-08 20:01:29,505 INFO     pid:8597 training_alpha:406:log_metrics E19 CovidSegmentationTrainingApp\n",
      "2020-12-08 20:01:29,512 INFO     pid:8597 training_alpha:442:log_metrics E19 trn      0.2780 loss, 0.2569 dice loss, 0.3272 ce loss, 0.8928 precision, 0.8329 recall, 0.8618 f1 score 0.1671 miss rate 0.1000 fp to label ratio\n",
      "2020-12-08 20:02:52,117 INFO     pid:8597 training_alpha:406:log_metrics E20 CovidSegmentationTrainingApp\n",
      "2020-12-08 20:02:52,122 INFO     pid:8597 training_alpha:442:log_metrics E20 trn      0.2847 loss, 0.2663 dice loss, 0.3276 ce loss, 0.9005 precision, 0.8389 recall, 0.8686 f1 score 0.1611 miss rate 0.0926 fp to label ratio\n",
      "2020-12-08 20:07:16,195 INFO     pid:8597 training_alpha:406:log_metrics E20 CovidSegmentationTrainingApp\n",
      "2020-12-08 20:07:16,203 INFO     pid:8597 training_alpha:453:log_metrics E20 val      0.2951 loss, 0.2850 dice loss, 0.3185 ce_loss, 0.8298 precision, 0.7000 recall, 0.7594 f1 score 0.3000 miss rate 0.1435 fp to label ratio5.5319 mean distance14.4782 root mean squared distance101.5472 hausdorff distance\n",
      "2020-12-08 20:07:18,754 INFO     pid:8597 training_alpha:534:save_model Saved model params to saved-models/2020-12-08_19.15.04.6400.state\n",
      "2020-12-08 20:07:18,784 INFO     pid:8597 training_alpha:545:save_model SHA1: 0473df78f0f352b2dc027b21c2b0ab3ef78879ee\n",
      "2020-12-08 20:08:43,715 INFO     pid:8597 training_alpha:406:log_metrics E21 CovidSegmentationTrainingApp\n",
      "2020-12-08 20:08:43,719 INFO     pid:8597 training_alpha:442:log_metrics E21 trn      0.2742 loss, 0.2510 dice loss, 0.3284 ce loss, 0.9009 precision, 0.8400 recall, 0.8694 f1 score 0.1600 miss rate 0.0924 fp to label ratio\n",
      "2020-12-08 20:10:09,090 INFO     pid:8597 training_alpha:406:log_metrics E22 CovidSegmentationTrainingApp\n",
      "2020-12-08 20:10:09,094 INFO     pid:8597 training_alpha:442:log_metrics E22 trn      0.2923 loss, 0.2772 dice loss, 0.3275 ce loss, 0.8962 precision, 0.8314 recall, 0.8626 f1 score 0.1686 miss rate 0.0963 fp to label ratio\n",
      "2020-12-08 20:11:32,130 INFO     pid:8597 training_alpha:406:log_metrics E23 CovidSegmentationTrainingApp\n",
      "2020-12-08 20:11:32,135 INFO     pid:8597 training_alpha:442:log_metrics E23 trn      0.2809 loss, 0.2611 dice loss, 0.3272 ce loss, 0.9005 precision, 0.8401 recall, 0.8693 f1 score 0.1599 miss rate 0.0928 fp to label ratio\n",
      "2020-12-08 20:12:56,776 INFO     pid:8597 training_alpha:406:log_metrics E24 CovidSegmentationTrainingApp\n",
      "2020-12-08 20:12:56,780 INFO     pid:8597 training_alpha:442:log_metrics E24 trn      0.2866 loss, 0.2688 dice loss, 0.3283 ce loss, 0.8967 precision, 0.8303 recall, 0.8623 f1 score 0.1697 miss rate 0.0956 fp to label ratio\n",
      "2020-12-08 20:14:17,767 INFO     pid:8597 training_alpha:406:log_metrics E25 CovidSegmentationTrainingApp\n",
      "2020-12-08 20:14:17,779 INFO     pid:8597 training_alpha:442:log_metrics E25 trn      0.2816 loss, 0.2618 dice loss, 0.3277 ce loss, 0.8945 precision, 0.8294 recall, 0.8608 f1 score 0.1706 miss rate 0.0978 fp to label ratio\n",
      "2020-12-08 20:18:42,628 INFO     pid:8597 training_alpha:406:log_metrics E25 CovidSegmentationTrainingApp\n",
      "2020-12-08 20:18:42,634 INFO     pid:8597 training_alpha:453:log_metrics E25 val      0.2955 loss, 0.2854 dice loss, 0.3188 ce_loss, 0.8322 precision, 0.7036 recall, 0.7625 f1 score 0.2964 miss rate 0.1418 fp to label ratio5.5637 mean distance14.5396 root mean squared distance100.7926 hausdorff distance\n",
      "2020-12-08 20:18:45,156 INFO     pid:8597 training_alpha:534:save_model Saved model params to saved-models/2020-12-08_19.15.04.8000.state\n",
      "2020-12-08 20:18:45,189 INFO     pid:8597 training_alpha:545:save_model SHA1: 300b0d65b2fa7b6808d6fdcdf4b875eeb9bdf19b\n",
      "2020-12-08 20:20:10,955 INFO     pid:8597 training_alpha:406:log_metrics E26 CovidSegmentationTrainingApp\n",
      "2020-12-08 20:20:10,960 INFO     pid:8597 training_alpha:442:log_metrics E26 trn      0.2860 loss, 0.2683 dice loss, 0.3272 ce loss, 0.8976 precision, 0.8350 recall, 0.8652 f1 score 0.1650 miss rate 0.0952 fp to label ratio\n",
      "2020-12-08 20:21:46,647 INFO     pid:8597 training_alpha:406:log_metrics E27 CovidSegmentationTrainingApp\n",
      "2020-12-08 20:21:46,654 INFO     pid:8597 training_alpha:442:log_metrics E27 trn      0.2833 loss, 0.2641 dice loss, 0.3281 ce loss, 0.9018 precision, 0.8456 recall, 0.8728 f1 score 0.1544 miss rate 0.0921 fp to label ratio\n",
      "2020-12-08 20:23:13,437 INFO     pid:8597 training_alpha:406:log_metrics E28 CovidSegmentationTrainingApp\n",
      "2020-12-08 20:23:13,442 INFO     pid:8597 training_alpha:442:log_metrics E28 trn      0.2846 loss, 0.2663 dice loss, 0.3272 ce loss, 0.9007 precision, 0.8419 recall, 0.8703 f1 score 0.1581 miss rate 0.0928 fp to label ratio\n",
      "2020-12-08 20:24:42,545 INFO     pid:8597 training_alpha:406:log_metrics E29 CovidSegmentationTrainingApp\n",
      "2020-12-08 20:24:42,551 INFO     pid:8597 training_alpha:442:log_metrics E29 trn      0.2775 loss, 0.2564 dice loss, 0.3268 ce loss, 0.8952 precision, 0.8417 recall, 0.8676 f1 score 0.1583 miss rate 0.0986 fp to label ratio\n",
      "2020-12-08 20:26:04,864 INFO     pid:8597 training_alpha:406:log_metrics E30 CovidSegmentationTrainingApp\n",
      "2020-12-08 20:26:04,868 INFO     pid:8597 training_alpha:442:log_metrics E30 trn      0.2857 loss, 0.2681 dice loss, 0.3270 ce loss, 0.8944 precision, 0.8352 recall, 0.8638 f1 score 0.1648 miss rate 0.0986 fp to label ratio\n",
      "2020-12-08 20:30:29,808 INFO     pid:8597 training_alpha:406:log_metrics E30 CovidSegmentationTrainingApp\n",
      "2020-12-08 20:30:29,824 INFO     pid:8597 training_alpha:453:log_metrics E30 val      0.2940 loss, 0.2835 dice loss, 0.3187 ce_loss, 0.8093 precision, 0.7221 recall, 0.7632 f1 score 0.2779 miss rate 0.1701 fp to label ratio6.2266 mean distance15.9787 root mean squared distance102.4967 hausdorff distance\n",
      "2020-12-08 20:30:32,386 INFO     pid:8597 training_alpha:534:save_model Saved model params to saved-models/2020-12-08_19.15.04.9600.state\n",
      "2020-12-08 20:30:32,413 INFO     pid:8597 training_alpha:545:save_model SHA1: e1484d67beea70830a44a630c66041341d2198b3\n"
     ]
    },
    {
     "ename": "ValueError",
     "evalue": "Tried to step 24002 times. The specified number of total steps is 24000",
     "output_type": "error",
     "traceback": [
      "\u001b[0;31m---------------------------------------------------------------------------\u001b[0m",
      "\u001b[0;31mValueError\u001b[0m                                Traceback (most recent call last)",
      "\u001b[0;32m<ipython-input-8-a6a5fb2e493a>\u001b[0m in \u001b[0;36m<module>\u001b[0;34m\u001b[0m\n\u001b[0;32m----> 1\u001b[0;31m run('training_alpha.CovidSegmentationTrainingApp', f'--epochs={epochs}', f'--batch-size={batch_size}', f'--num-workers={8}',\n\u001b[0m\u001b[1;32m      2\u001b[0m     \u001b[0;34mf'--ct-window={windows[2]}'\u001b[0m\u001b[0;34m,\u001b[0m \u001b[0;34mf'--val-cadence={val_cadence}'\u001b[0m\u001b[0;34m,\u001b[0m \u001b[0;34mf'--depth={depth}'\u001b[0m\u001b[0;34m,\u001b[0m \u001b[0;34m'--augmented'\u001b[0m\u001b[0;34m,\u001b[0m\u001b[0;34m\u001b[0m\u001b[0;34m\u001b[0m\u001b[0m\n\u001b[1;32m      3\u001b[0m     \u001b[0;34m'--width-irc'\u001b[0m\u001b[0;34m,\u001b[0m \u001b[0;34mf'{width_irc[0]}'\u001b[0m\u001b[0;34m,\u001b[0m \u001b[0;34mf'{width_irc[1]}'\u001b[0m\u001b[0;34m,\u001b[0m \u001b[0;34mf'{width_irc[2]}'\u001b[0m\u001b[0;34m,\u001b[0m \u001b[0;34mf'--notes={notes}'\u001b[0m\u001b[0;34m,\u001b[0m\u001b[0;34m\u001b[0m\u001b[0;34m\u001b[0m\u001b[0m\n\u001b[1;32m      4\u001b[0m     \u001b[0;34mf'--model-path={model_path}'\u001b[0m\u001b[0;34m,\u001b[0m\u001b[0;34m\u001b[0m\u001b[0;34m\u001b[0m\u001b[0m\n\u001b[1;32m      5\u001b[0m     f'--steps-per-epoch={steps_per_epoch}', f'--project-name={project_name}', f'--run-name={run_name}')\n",
      "\u001b[0;32m<ipython-input-4-c901599fd45e>\u001b[0m in \u001b[0;36mrun\u001b[0;34m(app, *argv)\u001b[0m\n\u001b[1;32m      6\u001b[0m \u001b[0;34m\u001b[0m\u001b[0m\n\u001b[1;32m      7\u001b[0m     \u001b[0mapp_cls\u001b[0m \u001b[0;34m=\u001b[0m \u001b[0mimportstr\u001b[0m\u001b[0;34m(\u001b[0m\u001b[0;34m*\u001b[0m\u001b[0mapp\u001b[0m\u001b[0;34m.\u001b[0m\u001b[0mrsplit\u001b[0m\u001b[0;34m(\u001b[0m\u001b[0;34m'.'\u001b[0m\u001b[0;34m,\u001b[0m \u001b[0;36m1\u001b[0m\u001b[0;34m)\u001b[0m\u001b[0;34m)\u001b[0m\u001b[0;34m\u001b[0m\u001b[0;34m\u001b[0m\u001b[0m\n\u001b[0;32m----> 8\u001b[0;31m     \u001b[0mapp_cls\u001b[0m\u001b[0;34m(\u001b[0m\u001b[0margv\u001b[0m\u001b[0;34m)\u001b[0m\u001b[0;34m.\u001b[0m\u001b[0mmain\u001b[0m\u001b[0;34m(\u001b[0m\u001b[0;34m)\u001b[0m\u001b[0;34m\u001b[0m\u001b[0;34m\u001b[0m\u001b[0m\n\u001b[0m\u001b[1;32m      9\u001b[0m \u001b[0;34m\u001b[0m\u001b[0m\n\u001b[1;32m     10\u001b[0m     \u001b[0mlog\u001b[0m\u001b[0;34m.\u001b[0m\u001b[0minfo\u001b[0m\u001b[0;34m(\u001b[0m\u001b[0;34m\"Finished: {}.{!r}.main()\"\u001b[0m\u001b[0;34m.\u001b[0m\u001b[0mformat\u001b[0m\u001b[0;34m(\u001b[0m\u001b[0mapp\u001b[0m\u001b[0;34m,\u001b[0m \u001b[0margv\u001b[0m\u001b[0;34m)\u001b[0m\u001b[0;34m)\u001b[0m\u001b[0;34m\u001b[0m\u001b[0;34m\u001b[0m\u001b[0m\n",
      "\u001b[0;32m~/programming/projects/covid_CT_lung_lesion_segmentation/training_alpha.py\u001b[0m in \u001b[0;36mmain\u001b[0;34m(self)\u001b[0m\n\u001b[1;32m    558\u001b[0m                  table=True)\n\u001b[1;32m    559\u001b[0m         \u001b[0;32mfor\u001b[0m \u001b[0mepoch\u001b[0m \u001b[0;32min\u001b[0m \u001b[0mmb\u001b[0m\u001b[0;34m:\u001b[0m\u001b[0;34m\u001b[0m\u001b[0;34m\u001b[0m\u001b[0m\n\u001b[0;32m--> 560\u001b[0;31m             trn_metrics, ct_t_trn, mask_t_trn, pred_t_trn = self.one_epoch(\n\u001b[0m\u001b[1;32m    561\u001b[0m                 epoch, dl=self.train_dl, mb=mb)\n\u001b[1;32m    562\u001b[0m             trn_metrics_dict = self.log_metrics(epoch, mode_str='trn',\n",
      "\u001b[0;32m~/programming/projects/covid_CT_lung_lesion_segmentation/training_alpha.py\u001b[0m in \u001b[0;36mone_epoch\u001b[0;34m(self, epoch, dl, mb, train)\u001b[0m\n\u001b[1;32m    394\u001b[0m                 \u001b[0mloss\u001b[0m\u001b[0;34m.\u001b[0m\u001b[0mbackward\u001b[0m\u001b[0;34m(\u001b[0m\u001b[0;34m)\u001b[0m\u001b[0;34m\u001b[0m\u001b[0;34m\u001b[0m\u001b[0m\n\u001b[1;32m    395\u001b[0m                 \u001b[0mself\u001b[0m\u001b[0;34m.\u001b[0m\u001b[0moptim\u001b[0m\u001b[0;34m.\u001b[0m\u001b[0mstep\u001b[0m\u001b[0;34m(\u001b[0m\u001b[0;34m)\u001b[0m\u001b[0;34m\u001b[0m\u001b[0;34m\u001b[0m\u001b[0m\n\u001b[0;32m--> 396\u001b[0;31m                 \u001b[0mself\u001b[0m\u001b[0;34m.\u001b[0m\u001b[0mscheduler\u001b[0m\u001b[0;34m.\u001b[0m\u001b[0mstep\u001b[0m\u001b[0;34m(\u001b[0m\u001b[0;34m)\u001b[0m\u001b[0;34m\u001b[0m\u001b[0;34m\u001b[0m\u001b[0m\n\u001b[0m\u001b[1;32m    397\u001b[0m             \u001b[0;32melse\u001b[0m\u001b[0;34m:\u001b[0m\u001b[0;34m\u001b[0m\u001b[0;34m\u001b[0m\u001b[0m\n\u001b[1;32m    398\u001b[0m                 \u001b[0;32mwith\u001b[0m \u001b[0mtorch\u001b[0m\u001b[0;34m.\u001b[0m\u001b[0mno_grad\u001b[0m\u001b[0;34m(\u001b[0m\u001b[0;34m)\u001b[0m\u001b[0;34m:\u001b[0m\u001b[0;34m\u001b[0m\u001b[0;34m\u001b[0m\u001b[0m\n",
      "\u001b[0;32m~/programming/venvs/ml/lib/python3.8/site-packages/torch/optim/lr_scheduler.py\u001b[0m in \u001b[0;36mstep\u001b[0;34m(self, epoch)\u001b[0m\n\u001b[1;32m    139\u001b[0m             \u001b[0;32mif\u001b[0m \u001b[0mepoch\u001b[0m \u001b[0;32mis\u001b[0m \u001b[0;32mNone\u001b[0m\u001b[0;34m:\u001b[0m\u001b[0;34m\u001b[0m\u001b[0;34m\u001b[0m\u001b[0m\n\u001b[1;32m    140\u001b[0m                 \u001b[0mself\u001b[0m\u001b[0;34m.\u001b[0m\u001b[0mlast_epoch\u001b[0m \u001b[0;34m+=\u001b[0m \u001b[0;36m1\u001b[0m\u001b[0;34m\u001b[0m\u001b[0;34m\u001b[0m\u001b[0m\n\u001b[0;32m--> 141\u001b[0;31m                 \u001b[0mvalues\u001b[0m \u001b[0;34m=\u001b[0m \u001b[0mself\u001b[0m\u001b[0;34m.\u001b[0m\u001b[0mget_lr\u001b[0m\u001b[0;34m(\u001b[0m\u001b[0;34m)\u001b[0m\u001b[0;34m\u001b[0m\u001b[0;34m\u001b[0m\u001b[0m\n\u001b[0m\u001b[1;32m    142\u001b[0m             \u001b[0;32melse\u001b[0m\u001b[0;34m:\u001b[0m\u001b[0;34m\u001b[0m\u001b[0;34m\u001b[0m\u001b[0m\n\u001b[1;32m    143\u001b[0m                 \u001b[0mwarnings\u001b[0m\u001b[0;34m.\u001b[0m\u001b[0mwarn\u001b[0m\u001b[0;34m(\u001b[0m\u001b[0mEPOCH_DEPRECATION_WARNING\u001b[0m\u001b[0;34m,\u001b[0m \u001b[0mUserWarning\u001b[0m\u001b[0;34m)\u001b[0m\u001b[0;34m\u001b[0m\u001b[0;34m\u001b[0m\u001b[0m\n",
      "\u001b[0;32m~/programming/venvs/ml/lib/python3.8/site-packages/torch/optim/lr_scheduler.py\u001b[0m in \u001b[0;36mget_lr\u001b[0;34m(self)\u001b[0m\n\u001b[1;32m   1210\u001b[0m \u001b[0;34m\u001b[0m\u001b[0m\n\u001b[1;32m   1211\u001b[0m         \u001b[0;32mif\u001b[0m \u001b[0mstep_num\u001b[0m \u001b[0;34m>\u001b[0m \u001b[0mself\u001b[0m\u001b[0;34m.\u001b[0m\u001b[0mtotal_steps\u001b[0m\u001b[0;34m:\u001b[0m\u001b[0;34m\u001b[0m\u001b[0;34m\u001b[0m\u001b[0m\n\u001b[0;32m-> 1212\u001b[0;31m             raise ValueError(\"Tried to step {} times. The specified number of total steps is {}\"\n\u001b[0m\u001b[1;32m   1213\u001b[0m                              .format(step_num + 1, self.total_steps))\n\u001b[1;32m   1214\u001b[0m \u001b[0;34m\u001b[0m\u001b[0m\n",
      "\u001b[0;31mValueError\u001b[0m: Tried to step 24002 times. The specified number of total steps is 24000"
     ]
    }
   ],
   "source": [
    "run('training_alpha.CovidSegmentationTrainingApp', f'--epochs={epochs}', f'--batch-size={batch_size}', f'--num-workers={8}',\n",
    "    f'--ct-window={windows[2]}', f'--val-cadence={val_cadence}', f'--depth={depth}', '--augmented',\n",
    "    '--width-irc', f'{width_irc[0]}', f'{width_irc[1]}', f'{width_irc[2]}', f'--notes={notes}',\n",
    "    f'--model-path={model_path}',\n",
    "    f'--steps-per-epoch={steps_per_epoch}', f'--project-name={project_name}', f'--run-name={run_name}')\n",
    "\n",
    "\n",
    "# dummy run to finish wandb\n",
    "run('training.CovidSegmentationTrainingApp', '--epochs=0', '--run-name=to delete')"
   ]
  },
  {
   "cell_type": "code",
   "execution_count": null,
   "metadata": {},
   "outputs": [],
   "source": []
  }
 ],
 "metadata": {
  "kernelspec": {
   "display_name": "Python 3",
   "language": "python",
   "name": "python3"
  },
  "language_info": {
   "codemirror_mode": {
    "name": "ipython",
    "version": 3
   },
   "file_extension": ".py",
   "mimetype": "text/x-python",
   "name": "python",
   "nbconvert_exporter": "python",
   "pygments_lexer": "ipython3",
   "version": "3.8.6"
  }
 },
 "nbformat": 4,
 "nbformat_minor": 4
}
