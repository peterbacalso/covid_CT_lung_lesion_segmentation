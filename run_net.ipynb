{
 "cells": [
  {
   "cell_type": "code",
   "execution_count": 1,
   "metadata": {},
   "outputs": [],
   "source": [
    "%load_ext autoreload\n",
    "%autoreload 2\n",
    "%matplotlib inline"
   ]
  },
  {
   "cell_type": "code",
   "execution_count": 2,
   "metadata": {},
   "outputs": [],
   "source": [
    "from modules.util.util import importstr, run_shell_cmd, get_best_model\n",
    "from modules.util.logconf import logging\n",
    "log = logging.getLogger('nb')"
   ]
  },
  {
   "cell_type": "markdown",
   "metadata": {},
   "source": [
    "## Train"
   ]
  },
  {
   "cell_type": "code",
   "execution_count": 3,
   "metadata": {},
   "outputs": [],
   "source": [
    "# train_data_path = 'COVID-19-20_v2/Train'     # replace with data path here\n",
    "train_data_path = '/home/fsuser/programming/datasets/COVID-19-20_v2/Train'"
   ]
  },
  {
   "cell_type": "markdown",
   "metadata": {},
   "source": [
    "Generate metadata and cache files"
   ]
  },
  {
   "cell_type": "code",
   "execution_count": null,
   "metadata": {},
   "outputs": [],
   "source": [
    "run_shell_cmd(log, 'prepcache.CovidPrepCacheApp', f'--data-path={train_data_path}', f'--num-workers={4}', f'--batch-size={20}')"
   ]
  },
  {
   "cell_type": "markdown",
   "metadata": {},
   "source": [
    "Use lr finder to find a good learning rate"
   ]
  },
  {
   "cell_type": "code",
   "execution_count": null,
   "metadata": {},
   "outputs": [],
   "source": [
    "run_shell_cmd(log, 'modules.util.lr_finder.LearningRateFinder')"
   ]
  },
  {
   "cell_type": "markdown",
   "metadata": {},
   "source": [
    "Set the value of learning rate as found by the learning rate founder"
   ]
  },
  {
   "cell_type": "code",
   "execution_count": null,
   "metadata": {},
   "outputs": [],
   "source": [
    "learning_rate = 1e-2"
   ]
  },
  {
   "cell_type": "markdown",
   "metadata": {},
   "source": [
    "Begin training"
   ]
  },
  {
   "cell_type": "code",
   "execution_count": null,
   "metadata": {},
   "outputs": [],
   "source": [
    "run_shell_cmd(log, 'training.CovidSegmentationTrainingApp', f'--lr={learning_rate}')"
   ]
  },
  {
   "cell_type": "markdown",
   "metadata": {},
   "source": [
    "## Inference"
   ]
  },
  {
   "cell_type": "code",
   "execution_count": 3,
   "metadata": {},
   "outputs": [],
   "source": [
    "# inference_data_path = 'COVID-19-20_v2/Validation'    # replace with inference data path here\n",
    "# inference_data_path = '/home/fsuser/programming/datasets/COVID-19-20_v2/Validation'\n",
    "\n",
    "# inference_data_path = 'COVID-19-20_TestSet'    # replace with inference data path here\n",
    "inference_data_path = '/home/fsuser/programming/datasets/COVID-19-20_TestSet/'"
   ]
  },
  {
   "cell_type": "markdown",
   "metadata": {},
   "source": [
    "Once again, we prepare the metadata and cache files. Note that this will overwrite the metadatafile from the train set"
   ]
  },
  {
   "cell_type": "code",
   "execution_count": 4,
   "metadata": {},
   "outputs": [
    {
     "name": "stderr",
     "output_type": "stream",
     "text": [
      "2020-12-09 17:28:44,301 INFO     pid:23235 nb:064:run_shell_cmd Running: prepcache.CovidPrepCacheApp(['--data-path=/home/fsuser/programming/datasets/COVID-19-20_TestSet/', '--num-workers=4', '--batch-size=20']).main()\n",
      "2020-12-09 17:28:46,875 INFO     pid:23235 numexpr.utils:129:_init_num_threads Note: NumExpr detected 32 cores but \"NUMEXPR_MAX_THREADS\" not set, so enforcing safe limit of 8.\n",
      "2020-12-09 17:28:46,882 INFO     pid:23235 numexpr.utils:141:_init_num_threads NumExpr defaulting to 8 threads.\n",
      "2020-12-09 17:28:46,909 INFO     pid:23235 prepcache:073:__init__ Creating metadata folder\n"
     ]
    },
    {
     "data": {
      "text/html": [
       "<div>\n",
       "<style scoped>\n",
       "    .dataframe tbody tr th:only-of-type {\n",
       "        vertical-align: middle;\n",
       "    }\n",
       "\n",
       "    .dataframe tbody tr th {\n",
       "        vertical-align: top;\n",
       "    }\n",
       "\n",
       "    .dataframe thead th {\n",
       "        text-align: right;\n",
       "    }\n",
       "</style>\n",
       "<table border=\"1\" class=\"dataframe\">\n",
       "  <thead>\n",
       "    <tr style=\"text-align: right;\">\n",
       "      <th></th>\n",
       "      <th>uid</th>\n",
       "      <th>ct_fname</th>\n",
       "      <th>mask_fname</th>\n",
       "    </tr>\n",
       "  </thead>\n",
       "  <tbody>\n",
       "    <tr>\n",
       "      <th>0</th>\n",
       "      <td>679</td>\n",
       "      <td>/home/fsuser/programming/datasets/COVID-19-20_...</td>\n",
       "      <td>/home/fsuser/programming/datasets/COVID-19-20_...</td>\n",
       "    </tr>\n",
       "    <tr>\n",
       "      <th>1</th>\n",
       "      <td>16434369_01-05-2012-CT CHEST ABDOMEN PELVIS W-...</td>\n",
       "      <td>/home/fsuser/programming/datasets/COVID-19-20_...</td>\n",
       "      <td>/home/fsuser/programming/datasets/COVID-19-20_...</td>\n",
       "    </tr>\n",
       "    <tr>\n",
       "      <th>2</th>\n",
       "      <td>16406513_12-24-2011-CT PE CHEST-83965_5</td>\n",
       "      <td>/home/fsuser/programming/datasets/COVID-19-20_...</td>\n",
       "      <td>/home/fsuser/programming/datasets/COVID-19-20_...</td>\n",
       "    </tr>\n",
       "    <tr>\n",
       "      <th>3</th>\n",
       "      <td>16406508_02-12-2012-CT CHEST ABDOMEN PELVIS W-...</td>\n",
       "      <td>/home/fsuser/programming/datasets/COVID-19-20_...</td>\n",
       "      <td>/home/fsuser/programming/datasets/COVID-19-20_...</td>\n",
       "    </tr>\n",
       "    <tr>\n",
       "      <th>4</th>\n",
       "      <td>373</td>\n",
       "      <td>/home/fsuser/programming/datasets/COVID-19-20_...</td>\n",
       "      <td>/home/fsuser/programming/datasets/COVID-19-20_...</td>\n",
       "    </tr>\n",
       "    <tr>\n",
       "      <th>...</th>\n",
       "      <td>...</td>\n",
       "      <td>...</td>\n",
       "      <td>...</td>\n",
       "    </tr>\n",
       "    <tr>\n",
       "      <th>41</th>\n",
       "      <td>16407187_01-28-2012-CT PE CHEST-34292_5</td>\n",
       "      <td>/home/fsuser/programming/datasets/COVID-19-20_...</td>\n",
       "      <td>/home/fsuser/programming/datasets/COVID-19-20_...</td>\n",
       "    </tr>\n",
       "    <tr>\n",
       "      <th>42</th>\n",
       "      <td>16445144_03-13-2012-CT PE CHEST-17430_5</td>\n",
       "      <td>/home/fsuser/programming/datasets/COVID-19-20_...</td>\n",
       "      <td>/home/fsuser/programming/datasets/COVID-19-20_...</td>\n",
       "    </tr>\n",
       "    <tr>\n",
       "      <th>43</th>\n",
       "      <td>16406490_02-05-2012-CT PE CHEST-37142_5</td>\n",
       "      <td>/home/fsuser/programming/datasets/COVID-19-20_...</td>\n",
       "      <td>/home/fsuser/programming/datasets/COVID-19-20_...</td>\n",
       "    </tr>\n",
       "    <tr>\n",
       "      <th>44</th>\n",
       "      <td>16424111_02-08-2012-CT CHEST ABDOMEN PELVIS W-...</td>\n",
       "      <td>/home/fsuser/programming/datasets/COVID-19-20_...</td>\n",
       "      <td>/home/fsuser/programming/datasets/COVID-19-20_...</td>\n",
       "    </tr>\n",
       "    <tr>\n",
       "      <th>45</th>\n",
       "      <td>16424071_03-09-2012-CT PE CHEST-00043_5</td>\n",
       "      <td>/home/fsuser/programming/datasets/COVID-19-20_...</td>\n",
       "      <td>/home/fsuser/programming/datasets/COVID-19-20_...</td>\n",
       "    </tr>\n",
       "  </tbody>\n",
       "</table>\n",
       "<p>46 rows × 3 columns</p>\n",
       "</div>"
      ],
      "text/plain": [
       "                                                  uid  \\\n",
       "0                                                 679   \n",
       "1   16434369_01-05-2012-CT CHEST ABDOMEN PELVIS W-...   \n",
       "2             16406513_12-24-2011-CT PE CHEST-83965_5   \n",
       "3   16406508_02-12-2012-CT CHEST ABDOMEN PELVIS W-...   \n",
       "4                                                 373   \n",
       "..                                                ...   \n",
       "41            16407187_01-28-2012-CT PE CHEST-34292_5   \n",
       "42            16445144_03-13-2012-CT PE CHEST-17430_5   \n",
       "43            16406490_02-05-2012-CT PE CHEST-37142_5   \n",
       "44  16424111_02-08-2012-CT CHEST ABDOMEN PELVIS W-...   \n",
       "45            16424071_03-09-2012-CT PE CHEST-00043_5   \n",
       "\n",
       "                                             ct_fname  \\\n",
       "0   /home/fsuser/programming/datasets/COVID-19-20_...   \n",
       "1   /home/fsuser/programming/datasets/COVID-19-20_...   \n",
       "2   /home/fsuser/programming/datasets/COVID-19-20_...   \n",
       "3   /home/fsuser/programming/datasets/COVID-19-20_...   \n",
       "4   /home/fsuser/programming/datasets/COVID-19-20_...   \n",
       "..                                                ...   \n",
       "41  /home/fsuser/programming/datasets/COVID-19-20_...   \n",
       "42  /home/fsuser/programming/datasets/COVID-19-20_...   \n",
       "43  /home/fsuser/programming/datasets/COVID-19-20_...   \n",
       "44  /home/fsuser/programming/datasets/COVID-19-20_...   \n",
       "45  /home/fsuser/programming/datasets/COVID-19-20_...   \n",
       "\n",
       "                                           mask_fname  \n",
       "0   /home/fsuser/programming/datasets/COVID-19-20_...  \n",
       "1   /home/fsuser/programming/datasets/COVID-19-20_...  \n",
       "2   /home/fsuser/programming/datasets/COVID-19-20_...  \n",
       "3   /home/fsuser/programming/datasets/COVID-19-20_...  \n",
       "4   /home/fsuser/programming/datasets/COVID-19-20_...  \n",
       "..                                                ...  \n",
       "41  /home/fsuser/programming/datasets/COVID-19-20_...  \n",
       "42  /home/fsuser/programming/datasets/COVID-19-20_...  \n",
       "43  /home/fsuser/programming/datasets/COVID-19-20_...  \n",
       "44  /home/fsuser/programming/datasets/COVID-19-20_...  \n",
       "45  /home/fsuser/programming/datasets/COVID-19-20_...  \n",
       "\n",
       "[46 rows x 3 columns]"
      ]
     },
     "metadata": {},
     "output_type": "display_data"
    },
    {
     "name": "stderr",
     "output_type": "stream",
     "text": [
      "2020-12-09 17:28:46,926 INFO     pid:23235 prepcache:078:__init__ Creating data_path environment variable in new .env file\n",
      "2020-12-09 17:28:46,929 INFO     pid:23235 prepcache:081:main Starting CovidPrepCacheApp, Namespace(batch_size=20, data_path='/home/fsuser/programming/datasets/COVID-19-20_TestSet/', num_workers=4, width_irc=[16, 128, 128])\n",
      "100%|██████████| 3/3 [01:18<00:00, 26.22s/it]\n",
      "2020-12-09 17:30:05,711 INFO     pid:23235 nb:069:run_shell_cmd Finished: prepcache.CovidPrepCacheApp.['--data-path=/home/fsuser/programming/datasets/COVID-19-20_TestSet/', '--num-workers=4', '--batch-size=20'].main()\n"
     ]
    }
   ],
   "source": [
    "run_shell_cmd(log, 'prepcache.CovidPrepCacheApp', f'--data-path={inference_data_path}', f'--num-workers={4}', f'--batch-size={20}')"
   ]
  },
  {
   "cell_type": "code",
   "execution_count": 5,
   "metadata": {},
   "outputs": [],
   "source": [
    "# model_path = get_best_model('saved-models')\n",
    "model_path = get_best_model('saved-models', '2020-12-08_19.15.04.best.state')"
   ]
  },
  {
   "cell_type": "markdown",
   "metadata": {},
   "source": [
    "You can specify a UID from a CT scan based on the number found in the filename.\n",
    "For example, pass in `0180_0` for `volume-covid19-A-0180_0_ct.nii.gz`"
   ]
  },
  {
   "cell_type": "code",
   "execution_count": null,
   "metadata": {},
   "outputs": [],
   "source": [
    "run_shell_cmd(log, 'inference.CovidInferenceApp', '004', f'--data-path={inference_data_path}', f'--model-path={model_path}')"
   ]
  },
  {
   "cell_type": "markdown",
   "metadata": {},
   "source": [
    "To run inference on all of the files, simply pass the `--run-all` flag as shown below"
   ]
  },
  {
   "cell_type": "code",
   "execution_count": 7,
   "metadata": {},
   "outputs": [
    {
     "name": "stderr",
     "output_type": "stream",
     "text": [
      "2020-12-09 17:32:15,095 INFO     pid:23235 nb:064:run_shell_cmd Running: inference.CovidInferenceApp(['--data-path=/home/fsuser/programming/datasets/COVID-19-20_TestSet/', '--model-path=saved-models/2020-12-08_19.15.04.best.state', '--run-all']).main()\n",
      "2020-12-09 17:32:15,229 INFO     pid:23235 inference:147:main Starting CovidInferenceApp, Namespace(batch_size=1, data_path='/home/fsuser/programming/datasets/COVID-19-20_TestSet/', model_path='saved-models/2020-12-08_19.15.04.best.state', num_workers=4, run_all=True, uid=None, width_irc=[16, 128, 128])\n",
      "2020-12-09 17:32:15,569 INFO     pid:23235 modules.dsets:263:__init__ Covid2dSegmentationDataset: general mode, 1 uid's, 1 steps_per_epoch\n",
      "2020-12-09 17:32:15,571 INFO     pid:23235 inference:126:segment_ct Running inference for uid: 157\n",
      "2020-12-09 17:32:16,238 INFO     pid:23235 inference:128:segment_ct input shape torch.Size([57, 512, 512])\n",
      "2020-12-09 17:32:21,357 INFO     pid:23235 inference:143:segment_ct output shape: (57, 512, 512)\n",
      "2020-12-09 17:32:22,080 INFO     pid:23235 modules.dsets:263:__init__ Covid2dSegmentationDataset: general mode, 1 uid's, 1 steps_per_epoch\n",
      "2020-12-09 17:32:22,083 INFO     pid:23235 inference:126:segment_ct Running inference for uid: 611\n",
      "2020-12-09 17:32:23,004 INFO     pid:23235 inference:128:segment_ct input shape torch.Size([66, 512, 512])\n",
      "2020-12-09 17:32:29,174 INFO     pid:23235 inference:143:segment_ct output shape: (66, 512, 512)\n",
      "2020-12-09 17:32:30,212 INFO     pid:23235 modules.dsets:263:__init__ Covid2dSegmentationDataset: general mode, 1 uid's, 1 steps_per_epoch\n",
      "2020-12-09 17:32:30,215 INFO     pid:23235 inference:126:segment_ct Running inference for uid: 16406502_01-15-2012-CT CHEST WO CONTRAST-99968_2\n",
      "2020-12-09 17:32:31,286 INFO     pid:23235 inference:128:segment_ct input shape torch.Size([106, 512, 512])\n",
      "2020-12-09 17:32:40,653 INFO     pid:23235 inference:143:segment_ct output shape: (106, 512, 512)\n",
      "2020-12-09 17:32:41,683 INFO     pid:23235 modules.dsets:263:__init__ Covid2dSegmentationDataset: general mode, 1 uid's, 1 steps_per_epoch\n",
      "2020-12-09 17:32:41,685 INFO     pid:23235 inference:126:segment_ct Running inference for uid: 527\n",
      "2020-12-09 17:32:42,391 INFO     pid:23235 inference:128:segment_ct input shape torch.Size([54, 512, 512])\n",
      "2020-12-09 17:32:47,735 INFO     pid:23235 inference:143:segment_ct output shape: (54, 512, 512)\n",
      "2020-12-09 17:32:48,469 INFO     pid:23235 modules.dsets:263:__init__ Covid2dSegmentationDataset: general mode, 1 uid's, 1 steps_per_epoch\n",
      "2020-12-09 17:32:48,471 INFO     pid:23235 inference:126:segment_ct Running inference for uid: 605\n",
      "2020-12-09 17:32:49,362 INFO     pid:23235 inference:128:segment_ct input shape torch.Size([73, 512, 512])\n",
      "2020-12-09 17:32:55,630 INFO     pid:23235 inference:143:segment_ct output shape: (73, 512, 512)\n",
      "2020-12-09 17:32:57,582 INFO     pid:23235 modules.dsets:263:__init__ Covid2dSegmentationDataset: general mode, 1 uid's, 1 steps_per_epoch\n",
      "2020-12-09 17:32:57,583 INFO     pid:23235 inference:126:segment_ct Running inference for uid: 019\n",
      "2020-12-09 17:33:01,075 INFO     pid:23235 inference:128:segment_ct input shape torch.Size([321, 512, 512])\n",
      "2020-12-09 17:33:29,410 INFO     pid:23235 inference:143:segment_ct output shape: (321, 512, 512)\n",
      "2020-12-09 17:33:31,773 INFO     pid:23235 modules.dsets:263:__init__ Covid2dSegmentationDataset: general mode, 1 uid's, 1 steps_per_epoch\n",
      "2020-12-09 17:33:31,774 INFO     pid:23235 inference:126:segment_ct Running inference for uid: 303_0\n",
      "2020-12-09 17:33:32,576 INFO     pid:23235 inference:128:segment_ct input shape torch.Size([64, 512, 512])\n",
      "2020-12-09 17:33:37,876 INFO     pid:23235 inference:143:segment_ct output shape: (64, 512, 512)\n",
      "2020-12-09 17:33:38,588 INFO     pid:23235 modules.dsets:263:__init__ Covid2dSegmentationDataset: general mode, 1 uid's, 1 steps_per_epoch\n",
      "2020-12-09 17:33:38,590 INFO     pid:23235 inference:126:segment_ct Running inference for uid: 373\n",
      "2020-12-09 17:33:39,228 INFO     pid:23235 inference:128:segment_ct input shape torch.Size([57, 512, 512])\n",
      "2020-12-09 17:33:44,551 INFO     pid:23235 inference:143:segment_ct output shape: (57, 512, 512)\n",
      "2020-12-09 17:33:46,351 INFO     pid:23235 modules.dsets:263:__init__ Covid2dSegmentationDataset: general mode, 1 uid's, 1 steps_per_epoch\n",
      "2020-12-09 17:33:46,353 INFO     pid:23235 inference:126:segment_ct Running inference for uid: 16406508_02-12-2012-CT CHEST ABDOMEN PELVIS W-63404_3\n",
      "2020-12-09 17:33:49,659 INFO     pid:23235 inference:128:segment_ct input shape torch.Size([311, 512, 512])\n",
      "2020-12-09 17:34:17,128 INFO     pid:23235 inference:143:segment_ct output shape: (311, 512, 512)\n",
      "2020-12-09 17:34:19,458 INFO     pid:23235 modules.dsets:263:__init__ Covid2dSegmentationDataset: general mode, 1 uid's, 1 steps_per_epoch\n",
      "2020-12-09 17:34:19,459 INFO     pid:23235 inference:126:segment_ct Running inference for uid: 453\n",
      "2020-12-09 17:34:20,280 INFO     pid:23235 inference:128:segment_ct input shape torch.Size([64, 512, 512])\n",
      "2020-12-09 17:34:25,578 INFO     pid:23235 inference:143:segment_ct output shape: (64, 512, 512)\n",
      "2020-12-09 17:34:26,465 INFO     pid:23235 modules.dsets:263:__init__ Covid2dSegmentationDataset: general mode, 1 uid's, 1 steps_per_epoch\n",
      "2020-12-09 17:34:26,467 INFO     pid:23235 inference:126:segment_ct Running inference for uid: 16406490_02-05-2012-CT PE CHEST-37142_5\n",
      "2020-12-09 17:34:27,566 INFO     pid:23235 inference:128:segment_ct input shape torch.Size([96, 512, 512])\n",
      "2020-12-09 17:34:36,055 INFO     pid:23235 inference:143:segment_ct output shape: (96, 512, 512)\n",
      "2020-12-09 17:34:37,212 INFO     pid:23235 modules.dsets:263:__init__ Covid2dSegmentationDataset: general mode, 1 uid's, 1 steps_per_epoch\n",
      "2020-12-09 17:34:37,217 INFO     pid:23235 inference:126:segment_ct Running inference for uid: 16434453_02-20-2012-CT PE CHEST-21183_5\n",
      "2020-12-09 17:34:38,467 INFO     pid:23235 inference:128:segment_ct input shape torch.Size([111, 512, 512])\n",
      "2020-12-09 17:34:48,081 INFO     pid:23235 inference:143:segment_ct output shape: (111, 512, 512)\n",
      "2020-12-09 17:34:49,149 INFO     pid:23235 modules.dsets:263:__init__ Covid2dSegmentationDataset: general mode, 1 uid's, 1 steps_per_epoch\n",
      "2020-12-09 17:34:49,151 INFO     pid:23235 inference:126:segment_ct Running inference for uid: 587\n",
      "2020-12-09 17:34:49,832 INFO     pid:23235 inference:128:segment_ct input shape torch.Size([53, 512, 512])\n",
      "2020-12-09 17:34:55,162 INFO     pid:23235 inference:143:segment_ct output shape: (53, 512, 512)\n",
      "2020-12-09 17:34:55,903 INFO     pid:23235 modules.dsets:263:__init__ Covid2dSegmentationDataset: general mode, 1 uid's, 1 steps_per_epoch\n",
      "2020-12-09 17:34:55,904 INFO     pid:23235 inference:126:segment_ct Running inference for uid: 080\n",
      "2020-12-09 17:34:56,732 INFO     pid:23235 inference:128:segment_ct input shape torch.Size([65, 512, 512])\n",
      "2020-12-09 17:35:03,243 INFO     pid:23235 inference:143:segment_ct output shape: (65, 512, 512)\n",
      "2020-12-09 17:35:04,018 INFO     pid:23235 modules.dsets:263:__init__ Covid2dSegmentationDataset: general mode, 1 uid's, 1 steps_per_epoch\n",
      "2020-12-09 17:35:04,020 INFO     pid:23235 inference:126:segment_ct Running inference for uid: 176\n",
      "2020-12-09 17:35:04,699 INFO     pid:23235 inference:128:segment_ct input shape torch.Size([63, 512, 512])\n",
      "2020-12-09 17:35:10,107 INFO     pid:23235 inference:143:segment_ct output shape: (63, 512, 512)\n",
      "2020-12-09 17:35:10,805 INFO     pid:23235 modules.dsets:263:__init__ Covid2dSegmentationDataset: general mode, 1 uid's, 1 steps_per_epoch\n",
      "2020-12-09 17:35:10,806 INFO     pid:23235 inference:126:segment_ct Running inference for uid: 541\n",
      "2020-12-09 17:35:11,536 INFO     pid:23235 inference:128:segment_ct input shape torch.Size([58, 512, 512])\n",
      "2020-12-09 17:35:16,809 INFO     pid:23235 inference:143:segment_ct output shape: (58, 512, 512)\n",
      "2020-12-09 17:35:17,733 INFO     pid:23235 modules.dsets:263:__init__ Covid2dSegmentationDataset: general mode, 1 uid's, 1 steps_per_epoch\n",
      "2020-12-09 17:35:17,734 INFO     pid:23235 inference:126:segment_ct Running inference for uid: 16424071_03-09-2012-CT PE CHEST-00043_5\n",
      "2020-12-09 17:35:18,829 INFO     pid:23235 inference:128:segment_ct input shape torch.Size([111, 512, 512])\n",
      "2020-12-09 17:35:28,464 INFO     pid:23235 inference:143:segment_ct output shape: (111, 512, 512)\n",
      "2020-12-09 17:35:29,686 INFO     pid:23235 modules.dsets:263:__init__ Covid2dSegmentationDataset: general mode, 1 uid's, 1 steps_per_epoch\n",
      "2020-12-09 17:35:29,687 INFO     pid:23235 inference:126:segment_ct Running inference for uid: 16445122_03-07-2012-CT PE CHEST-42763_5\n",
      "2020-12-09 17:35:30,688 INFO     pid:23235 inference:128:segment_ct input shape torch.Size([103, 512, 512])\n",
      "2020-12-09 17:35:40,310 INFO     pid:23235 inference:143:segment_ct output shape: (103, 512, 512)\n",
      "2020-12-09 17:35:41,487 INFO     pid:23235 modules.dsets:263:__init__ Covid2dSegmentationDataset: general mode, 1 uid's, 1 steps_per_epoch\n",
      "2020-12-09 17:35:41,488 INFO     pid:23235 inference:126:segment_ct Running inference for uid: 16406488_02-14-2012-CT PE CHEST-63916_4\n",
      "2020-12-09 17:35:42,736 INFO     pid:23235 inference:128:segment_ct input shape torch.Size([114, 512, 512])\n",
      "2020-12-09 17:35:53,399 INFO     pid:23235 inference:143:segment_ct output shape: (114, 512, 512)\n",
      "2020-12-09 17:35:54,406 INFO     pid:23235 modules.dsets:263:__init__ Covid2dSegmentationDataset: general mode, 1 uid's, 1 steps_per_epoch\n",
      "2020-12-09 17:35:54,408 INFO     pid:23235 inference:126:segment_ct Running inference for uid: 135\n",
      "2020-12-09 17:35:55,123 INFO     pid:23235 inference:128:segment_ct input shape torch.Size([54, 512, 512])\n",
      "2020-12-09 17:36:00,563 INFO     pid:23235 inference:143:segment_ct output shape: (54, 512, 512)\n",
      "2020-12-09 17:36:01,528 INFO     pid:23235 modules.dsets:263:__init__ Covid2dSegmentationDataset: general mode, 1 uid's, 1 steps_per_epoch\n",
      "2020-12-09 17:36:01,530 INFO     pid:23235 inference:126:segment_ct Running inference for uid: 16406498_02-22-2012-CT CHEST W CONTRAST-94020_2\n",
      "2020-12-09 17:36:02,742 INFO     pid:23235 inference:128:segment_ct input shape torch.Size([118, 512, 512])\n",
      "2020-12-09 17:36:13,414 INFO     pid:23235 inference:143:segment_ct output shape: (118, 512, 512)\n",
      "2020-12-09 17:36:14,464 INFO     pid:23235 modules.dsets:263:__init__ Covid2dSegmentationDataset: general mode, 1 uid's, 1 steps_per_epoch\n",
      "2020-12-09 17:36:14,467 INFO     pid:23235 inference:126:segment_ct Running inference for uid: 276\n",
      "2020-12-09 17:36:15,127 INFO     pid:23235 inference:128:segment_ct input shape torch.Size([59, 512, 512])\n",
      "2020-12-09 17:36:20,454 INFO     pid:23235 inference:143:segment_ct output shape: (59, 512, 512)\n",
      "2020-12-09 17:36:21,212 INFO     pid:23235 modules.dsets:263:__init__ Covid2dSegmentationDataset: general mode, 1 uid's, 1 steps_per_epoch\n",
      "2020-12-09 17:36:21,213 INFO     pid:23235 inference:126:segment_ct Running inference for uid: 304\n",
      "2020-12-09 17:36:22,026 INFO     pid:23235 inference:128:segment_ct input shape torch.Size([73, 512, 512])\n",
      "2020-12-09 17:36:28,547 INFO     pid:23235 inference:143:segment_ct output shape: (73, 512, 512)\n",
      "2020-12-09 17:36:29,379 INFO     pid:23235 modules.dsets:263:__init__ Covid2dSegmentationDataset: general mode, 1 uid's, 1 steps_per_epoch\n",
      "2020-12-09 17:36:29,380 INFO     pid:23235 inference:126:segment_ct Running inference for uid: 478\n",
      "2020-12-09 17:36:30,141 INFO     pid:23235 inference:128:segment_ct input shape torch.Size([68, 512, 512])\n",
      "2020-12-09 17:36:36,520 INFO     pid:23235 inference:143:segment_ct output shape: (68, 512, 512)\n",
      "2020-12-09 17:36:37,423 INFO     pid:23235 modules.dsets:263:__init__ Covid2dSegmentationDataset: general mode, 1 uid's, 1 steps_per_epoch\n",
      "2020-12-09 17:36:37,425 INFO     pid:23235 inference:126:segment_ct Running inference for uid: 16424081_02-05-2012-CT PE CHEST-20052_5\n",
      "2020-12-09 17:36:38,372 INFO     pid:23235 inference:128:segment_ct input shape torch.Size([91, 512, 512])\n",
      "2020-12-09 17:36:46,941 INFO     pid:23235 inference:143:segment_ct output shape: (91, 512, 512)\n",
      "2020-12-09 17:36:47,821 INFO     pid:23235 modules.dsets:263:__init__ Covid2dSegmentationDataset: general mode, 1 uid's, 1 steps_per_epoch\n",
      "2020-12-09 17:36:47,823 INFO     pid:23235 inference:126:segment_ct Running inference for uid: 300\n",
      "2020-12-09 17:36:48,490 INFO     pid:23235 inference:128:segment_ct input shape torch.Size([54, 512, 512])\n",
      "2020-12-09 17:36:53,961 INFO     pid:23235 inference:143:segment_ct output shape: (54, 512, 512)\n",
      "2020-12-09 17:36:54,857 INFO     pid:23235 modules.dsets:263:__init__ Covid2dSegmentationDataset: general mode, 1 uid's, 1 steps_per_epoch\n",
      "2020-12-09 17:36:54,859 INFO     pid:23235 inference:126:segment_ct Running inference for uid: 16445144_03-13-2012-CT PE CHEST-17430_5\n",
      "2020-12-09 17:36:55,989 INFO     pid:23235 inference:128:segment_ct input shape torch.Size([120, 512, 512])\n",
      "2020-12-09 17:37:06,757 INFO     pid:23235 inference:143:segment_ct output shape: (120, 512, 512)\n",
      "2020-12-09 17:37:07,820 INFO     pid:23235 modules.dsets:263:__init__ Covid2dSegmentationDataset: general mode, 1 uid's, 1 steps_per_epoch\n",
      "2020-12-09 17:37:07,821 INFO     pid:23235 inference:126:segment_ct Running inference for uid: 028_0\n",
      "2020-12-09 17:37:08,483 INFO     pid:23235 inference:128:segment_ct input shape torch.Size([59, 512, 512])\n",
      "2020-12-09 17:37:13,787 INFO     pid:23235 inference:143:segment_ct output shape: (59, 512, 512)\n",
      "2020-12-09 17:37:14,614 INFO     pid:23235 modules.dsets:263:__init__ Covid2dSegmentationDataset: general mode, 1 uid's, 1 steps_per_epoch\n",
      "2020-12-09 17:37:14,615 INFO     pid:23235 inference:126:segment_ct Running inference for uid: 16434369_01-05-2012-CT CHEST ABDOMEN PELVIS W-99581_6\n",
      "2020-12-09 17:37:15,654 INFO     pid:23235 inference:128:segment_ct input shape torch.Size([86, 512, 512])\n",
      "2020-12-09 17:37:23,165 INFO     pid:23235 inference:143:segment_ct output shape: (86, 512, 512)\n",
      "2020-12-09 17:37:24,213 INFO     pid:23235 modules.dsets:263:__init__ Covid2dSegmentationDataset: general mode, 1 uid's, 1 steps_per_epoch\n",
      "2020-12-09 17:37:24,214 INFO     pid:23235 inference:126:segment_ct Running inference for uid: 16424111_02-08-2012-CT CHEST ABDOMEN PELVIS W-49310_6\n",
      "2020-12-09 17:37:25,271 INFO     pid:23235 inference:128:segment_ct input shape torch.Size([89, 512, 512])\n",
      "2020-12-09 17:37:33,850 INFO     pid:23235 inference:143:segment_ct output shape: (89, 512, 512)\n",
      "2020-12-09 17:37:34,806 INFO     pid:23235 modules.dsets:263:__init__ Covid2dSegmentationDataset: general mode, 1 uid's, 1 steps_per_epoch\n",
      "2020-12-09 17:37:34,808 INFO     pid:23235 inference:126:segment_ct Running inference for uid: 393\n",
      "2020-12-09 17:37:35,616 INFO     pid:23235 inference:128:segment_ct input shape torch.Size([63, 512, 512])\n",
      "2020-12-09 17:37:40,951 INFO     pid:23235 inference:143:segment_ct output shape: (63, 512, 512)\n",
      "2020-12-09 17:37:41,830 INFO     pid:23235 modules.dsets:263:__init__ Covid2dSegmentationDataset: general mode, 1 uid's, 1 steps_per_epoch\n",
      "2020-12-09 17:37:41,833 INFO     pid:23235 inference:126:segment_ct Running inference for uid: 16424106_02-13-2012-CT PE CHEST-89548_6\n",
      "2020-12-09 17:37:42,929 INFO     pid:23235 inference:128:segment_ct input shape torch.Size([92, 512, 512])\n",
      "2020-12-09 17:37:51,566 INFO     pid:23235 inference:143:segment_ct output shape: (92, 512, 512)\n",
      "2020-12-09 17:37:52,591 INFO     pid:23235 modules.dsets:263:__init__ Covid2dSegmentationDataset: general mode, 1 uid's, 1 steps_per_epoch\n",
      "2020-12-09 17:37:52,592 INFO     pid:23235 inference:126:segment_ct Running inference for uid: 554\n",
      "2020-12-09 17:37:53,362 INFO     pid:23235 inference:128:segment_ct input shape torch.Size([68, 512, 512])\n",
      "2020-12-09 17:37:59,868 INFO     pid:23235 inference:143:segment_ct output shape: (68, 512, 512)\n",
      "2020-12-09 17:38:00,666 INFO     pid:23235 modules.dsets:263:__init__ Covid2dSegmentationDataset: general mode, 1 uid's, 1 steps_per_epoch\n",
      "2020-12-09 17:38:00,667 INFO     pid:23235 inference:126:segment_ct Running inference for uid: 491\n",
      "2020-12-09 17:38:01,494 INFO     pid:23235 inference:128:segment_ct input shape torch.Size([64, 512, 512])\n",
      "2020-12-09 17:38:06,846 INFO     pid:23235 inference:143:segment_ct output shape: (64, 512, 512)\n",
      "2020-12-09 17:38:07,654 INFO     pid:23235 modules.dsets:263:__init__ Covid2dSegmentationDataset: general mode, 1 uid's, 1 steps_per_epoch\n",
      "2020-12-09 17:38:07,656 INFO     pid:23235 inference:126:segment_ct Running inference for uid: 679\n",
      "2020-12-09 17:38:08,442 INFO     pid:23235 inference:128:segment_ct input shape torch.Size([70, 512, 512])\n",
      "2020-12-09 17:38:14,965 INFO     pid:23235 inference:143:segment_ct output shape: (70, 512, 512)\n",
      "2020-12-09 17:38:15,937 INFO     pid:23235 modules.dsets:263:__init__ Covid2dSegmentationDataset: general mode, 1 uid's, 1 steps_per_epoch\n",
      "2020-12-09 17:38:15,939 INFO     pid:23235 inference:126:segment_ct Running inference for uid: 16424120_02-13-2012-CT PE CHEST-65182_4\n",
      "2020-12-09 17:38:16,997 INFO     pid:23235 inference:128:segment_ct input shape torch.Size([113, 512, 512])\n",
      "2020-12-09 17:38:27,640 INFO     pid:23235 inference:143:segment_ct output shape: (113, 512, 512)\n",
      "2020-12-09 17:38:28,885 INFO     pid:23235 modules.dsets:263:__init__ Covid2dSegmentationDataset: general mode, 1 uid's, 1 steps_per_epoch\n",
      "2020-12-09 17:38:28,887 INFO     pid:23235 inference:126:segment_ct Running inference for uid: 16434411_02-24-2012-CT PE CHEST-50553_5\n",
      "2020-12-09 17:38:29,961 INFO     pid:23235 inference:128:segment_ct input shape torch.Size([105, 512, 512])\n",
      "2020-12-09 17:38:39,625 INFO     pid:23235 inference:143:segment_ct output shape: (105, 512, 512)\n",
      "2020-12-09 17:38:40,866 INFO     pid:23235 modules.dsets:263:__init__ Covid2dSegmentationDataset: general mode, 1 uid's, 1 steps_per_epoch\n",
      "2020-12-09 17:38:40,867 INFO     pid:23235 inference:126:segment_ct Running inference for uid: 16445138_03-13-2012-CT PE CHEST-08282_8\n",
      "2020-12-09 17:38:42,007 INFO     pid:23235 inference:128:segment_ct input shape torch.Size([115, 512, 512])\n",
      "2020-12-09 17:38:52,690 INFO     pid:23235 inference:143:segment_ct output shape: (115, 512, 512)\n",
      "2020-12-09 17:38:53,928 INFO     pid:23235 modules.dsets:263:__init__ Covid2dSegmentationDataset: general mode, 1 uid's, 1 steps_per_epoch\n",
      "2020-12-09 17:38:53,930 INFO     pid:23235 inference:126:segment_ct Running inference for uid: 16434368_02-17-2012-CT CHEST ABDOMEN PELVIS W-73530_6\n",
      "2020-12-09 17:38:54,957 INFO     pid:23235 inference:128:segment_ct input shape torch.Size([103, 512, 512])\n",
      "2020-12-09 17:39:04,607 INFO     pid:23235 inference:143:segment_ct output shape: (103, 512, 512)\n",
      "2020-12-09 17:39:05,781 INFO     pid:23235 modules.dsets:263:__init__ Covid2dSegmentationDataset: general mode, 1 uid's, 1 steps_per_epoch\n",
      "2020-12-09 17:39:05,783 INFO     pid:23235 inference:126:segment_ct Running inference for uid: 16434363_02-20-2012-CT PE CHEST-45135_5\n",
      "2020-12-09 17:39:06,954 INFO     pid:23235 inference:128:segment_ct input shape torch.Size([98, 512, 512])\n",
      "2020-12-09 17:39:15,593 INFO     pid:23235 inference:143:segment_ct output shape: (98, 512, 512)\n",
      "2020-12-09 17:39:16,964 INFO     pid:23235 modules.dsets:263:__init__ Covid2dSegmentationDataset: general mode, 1 uid's, 1 steps_per_epoch\n",
      "2020-12-09 17:39:16,965 INFO     pid:23235 inference:126:segment_ct Running inference for uid: 16445168_03-03-2012-CT PE CHEST-89792_8\n",
      "2020-12-09 17:39:18,377 INFO     pid:23235 inference:128:segment_ct input shape torch.Size([127, 512, 512])\n",
      "2020-12-09 17:39:30,155 INFO     pid:23235 inference:143:segment_ct output shape: (127, 512, 512)\n",
      "2020-12-09 17:39:31,662 INFO     pid:23235 modules.dsets:263:__init__ Covid2dSegmentationDataset: general mode, 1 uid's, 1 steps_per_epoch\n",
      "2020-12-09 17:39:31,664 INFO     pid:23235 inference:126:segment_ct Running inference for uid: 16406513_12-24-2011-CT PE CHEST-83965_5\n",
      "2020-12-09 17:39:32,976 INFO     pid:23235 inference:128:segment_ct input shape torch.Size([119, 512, 512])\n",
      "2020-12-09 17:39:43,702 INFO     pid:23235 inference:143:segment_ct output shape: (119, 512, 512)\n",
      "2020-12-09 17:39:45,087 INFO     pid:23235 modules.dsets:263:__init__ Covid2dSegmentationDataset: general mode, 1 uid's, 1 steps_per_epoch\n",
      "2020-12-09 17:39:45,089 INFO     pid:23235 inference:126:segment_ct Running inference for uid: 16406503_01-05-2012-CT PE CHEST-39342_5\n",
      "2020-12-09 17:39:46,134 INFO     pid:23235 inference:128:segment_ct input shape torch.Size([109, 512, 512])\n",
      "2020-12-09 17:39:55,834 INFO     pid:23235 inference:143:segment_ct output shape: (109, 512, 512)\n",
      "2020-12-09 17:39:57,028 INFO     pid:23235 modules.dsets:263:__init__ Covid2dSegmentationDataset: general mode, 1 uid's, 1 steps_per_epoch\n",
      "2020-12-09 17:39:57,029 INFO     pid:23235 inference:126:segment_ct Running inference for uid: 16407187_01-28-2012-CT PE CHEST-34292_5\n",
      "2020-12-09 17:39:58,005 INFO     pid:23235 inference:128:segment_ct input shape torch.Size([101, 512, 512])\n",
      "2020-12-09 17:40:07,661 INFO     pid:23235 inference:143:segment_ct output shape: (101, 512, 512)\n",
      "2020-12-09 17:40:08,898 INFO     pid:23235 modules.dsets:263:__init__ Covid2dSegmentationDataset: general mode, 1 uid's, 1 steps_per_epoch\n",
      "2020-12-09 17:40:08,900 INFO     pid:23235 inference:126:segment_ct Running inference for uid: 16424076_02-03-2012-CT CHEST ABDOMEN PELVIS W-21911_6\n",
      "2020-12-09 17:40:10,073 INFO     pid:23235 inference:128:segment_ct input shape torch.Size([114, 512, 512])\n",
      "2020-12-09 17:40:20,771 INFO     pid:23235 inference:143:segment_ct output shape: (114, 512, 512)\n",
      "2020-12-09 17:40:21,926 INFO     pid:23235 modules.dsets:263:__init__ Covid2dSegmentationDataset: general mode, 1 uid's, 1 steps_per_epoch\n",
      "2020-12-09 17:40:21,927 INFO     pid:23235 inference:126:segment_ct Running inference for uid: 069\n",
      "2020-12-09 17:40:22,749 INFO     pid:23235 inference:128:segment_ct input shape torch.Size([64, 512, 512])\n",
      "2020-12-09 17:40:28,079 INFO     pid:23235 inference:143:segment_ct output shape: (64, 512, 512)\n",
      "2020-12-09 17:40:28,517 INFO     pid:23235 nb:069:run_shell_cmd Finished: inference.CovidInferenceApp.['--data-path=/home/fsuser/programming/datasets/COVID-19-20_TestSet/', '--model-path=saved-models/2020-12-08_19.15.04.best.state', '--run-all'].main()\n"
     ]
    }
   ],
   "source": [
    "run_shell_cmd(log, 'inference.CovidInferenceApp', f'--data-path={inference_data_path}', f'--model-path={model_path}', '--run-all')"
   ]
  },
  {
   "cell_type": "code",
   "execution_count": null,
   "metadata": {},
   "outputs": [],
   "source": []
  }
 ],
 "metadata": {
  "kernelspec": {
   "display_name": "Python 3",
   "language": "python",
   "name": "python3"
  },
  "language_info": {
   "codemirror_mode": {
    "name": "ipython",
    "version": 3
   },
   "file_extension": ".py",
   "mimetype": "text/x-python",
   "name": "python",
   "nbconvert_exporter": "python",
   "pygments_lexer": "ipython3",
   "version": "3.8.6"
  }
 },
 "nbformat": 4,
 "nbformat_minor": 4
}
