{
 "cells": [
  {
   "cell_type": "markdown",
   "metadata": {},
   "source": [
    "## Imports"
   ]
  },
  {
   "cell_type": "code",
   "execution_count": 1,
   "metadata": {},
   "outputs": [],
   "source": [
    "%load_ext autoreload\n",
    "%autoreload 2\n",
    "%matplotlib inline"
   ]
  },
  {
   "cell_type": "code",
   "execution_count": 2,
   "metadata": {},
   "outputs": [],
   "source": [
    "from modules.util.util import importstr, run_shell_cmd, get_best_model\n",
    "from modules.util.logconf import logging\n",
    "log = logging.getLogger('nb')"
   ]
  },
  {
   "cell_type": "markdown",
   "metadata": {
    "collapsed": "true"
   },
   "source": [
    "## Train"
   ]
  },
  {
   "cell_type": "markdown",
   "metadata": {},
   "source": [
    "This is a semi-automated process. The learning rate will need to be manually set based on the results of the learning rate finder on the training dataset"
   ]
  },
  {
   "cell_type": "markdown",
   "metadata": {},
   "source": [
    "First set the folder location of the training data"
   ]
  },
  {
   "cell_type": "code",
   "execution_count": 3,
   "metadata": {},
   "outputs": [],
   "source": [
    "train_data_path = '/home/fsuser/programming/datasets/COVID-19-20_v2/Train'"
   ]
  },
  {
   "cell_type": "markdown",
   "metadata": {},
   "source": [
    "Then generate a metadata file and prepare a cache of preprocessed data. This will create a metadata/df_meta.fth file as well as a cache/ folder in the current directory."
   ]
  },
  {
   "cell_type": "code",
   "execution_count": 4,
   "metadata": {},
   "outputs": [
    {
     "name": "stderr",
     "output_type": "stream",
     "text": [
      "2020-12-10 18:49:02,196 INFO     pid:27213 nb:064:run_shell_cmd Running: prepcache.CovidPrepCacheApp(['--data-path=/home/fsuser/programming/datasets/COVID-19-20_v2/Train', '--num-workers=4', '--batch-size=20']).main()\n",
      "2020-12-10 18:49:03,344 INFO     pid:27213 numexpr.utils:129:_init_num_threads Note: NumExpr detected 32 cores but \"NUMEXPR_MAX_THREADS\" not set, so enforcing safe limit of 8.\n",
      "2020-12-10 18:49:03,346 INFO     pid:27213 numexpr.utils:141:_init_num_threads NumExpr defaulting to 8 threads.\n",
      "2020-12-10 18:49:03,364 INFO     pid:27213 prepcache:073:__init__ Creating metadata folder\n"
     ]
    },
    {
     "data": {
      "text/html": [
       "<div>\n",
       "<style scoped>\n",
       "    .dataframe tbody tr th:only-of-type {\n",
       "        vertical-align: middle;\n",
       "    }\n",
       "\n",
       "    .dataframe tbody tr th {\n",
       "        vertical-align: top;\n",
       "    }\n",
       "\n",
       "    .dataframe thead th {\n",
       "        text-align: right;\n",
       "    }\n",
       "</style>\n",
       "<table border=\"1\" class=\"dataframe\">\n",
       "  <thead>\n",
       "    <tr style=\"text-align: right;\">\n",
       "      <th></th>\n",
       "      <th>uid</th>\n",
       "      <th>ct_fname</th>\n",
       "      <th>mask_fname</th>\n",
       "    </tr>\n",
       "  </thead>\n",
       "  <tbody>\n",
       "    <tr>\n",
       "      <th>0</th>\n",
       "      <td>534</td>\n",
       "      <td>/home/fsuser/programming/datasets/COVID-19-20_...</td>\n",
       "      <td>/home/fsuser/programming/datasets/COVID-19-20_...</td>\n",
       "    </tr>\n",
       "    <tr>\n",
       "      <th>1</th>\n",
       "      <td>255</td>\n",
       "      <td>/home/fsuser/programming/datasets/COVID-19-20_...</td>\n",
       "      <td>/home/fsuser/programming/datasets/COVID-19-20_...</td>\n",
       "    </tr>\n",
       "    <tr>\n",
       "      <th>2</th>\n",
       "      <td>361</td>\n",
       "      <td>/home/fsuser/programming/datasets/COVID-19-20_...</td>\n",
       "      <td>/home/fsuser/programming/datasets/COVID-19-20_...</td>\n",
       "    </tr>\n",
       "    <tr>\n",
       "      <th>3</th>\n",
       "      <td>228</td>\n",
       "      <td>/home/fsuser/programming/datasets/COVID-19-20_...</td>\n",
       "      <td>/home/fsuser/programming/datasets/COVID-19-20_...</td>\n",
       "    </tr>\n",
       "    <tr>\n",
       "      <th>4</th>\n",
       "      <td>214</td>\n",
       "      <td>/home/fsuser/programming/datasets/COVID-19-20_...</td>\n",
       "      <td>/home/fsuser/programming/datasets/COVID-19-20_...</td>\n",
       "    </tr>\n",
       "    <tr>\n",
       "      <th>...</th>\n",
       "      <td>...</td>\n",
       "      <td>...</td>\n",
       "      <td>...</td>\n",
       "    </tr>\n",
       "    <tr>\n",
       "      <th>194</th>\n",
       "      <td>039</td>\n",
       "      <td>/home/fsuser/programming/datasets/COVID-19-20_...</td>\n",
       "      <td>/home/fsuser/programming/datasets/COVID-19-20_...</td>\n",
       "    </tr>\n",
       "    <tr>\n",
       "      <th>195</th>\n",
       "      <td>504</td>\n",
       "      <td>/home/fsuser/programming/datasets/COVID-19-20_...</td>\n",
       "      <td>/home/fsuser/programming/datasets/COVID-19-20_...</td>\n",
       "    </tr>\n",
       "    <tr>\n",
       "      <th>196</th>\n",
       "      <td>263</td>\n",
       "      <td>/home/fsuser/programming/datasets/COVID-19-20_...</td>\n",
       "      <td>/home/fsuser/programming/datasets/COVID-19-20_...</td>\n",
       "    </tr>\n",
       "    <tr>\n",
       "      <th>197</th>\n",
       "      <td>623</td>\n",
       "      <td>/home/fsuser/programming/datasets/COVID-19-20_...</td>\n",
       "      <td>/home/fsuser/programming/datasets/COVID-19-20_...</td>\n",
       "    </tr>\n",
       "    <tr>\n",
       "      <th>198</th>\n",
       "      <td>579</td>\n",
       "      <td>/home/fsuser/programming/datasets/COVID-19-20_...</td>\n",
       "      <td>/home/fsuser/programming/datasets/COVID-19-20_...</td>\n",
       "    </tr>\n",
       "  </tbody>\n",
       "</table>\n",
       "<p>199 rows × 3 columns</p>\n",
       "</div>"
      ],
      "text/plain": [
       "     uid                                           ct_fname  \\\n",
       "0    534  /home/fsuser/programming/datasets/COVID-19-20_...   \n",
       "1    255  /home/fsuser/programming/datasets/COVID-19-20_...   \n",
       "2    361  /home/fsuser/programming/datasets/COVID-19-20_...   \n",
       "3    228  /home/fsuser/programming/datasets/COVID-19-20_...   \n",
       "4    214  /home/fsuser/programming/datasets/COVID-19-20_...   \n",
       "..   ...                                                ...   \n",
       "194  039  /home/fsuser/programming/datasets/COVID-19-20_...   \n",
       "195  504  /home/fsuser/programming/datasets/COVID-19-20_...   \n",
       "196  263  /home/fsuser/programming/datasets/COVID-19-20_...   \n",
       "197  623  /home/fsuser/programming/datasets/COVID-19-20_...   \n",
       "198  579  /home/fsuser/programming/datasets/COVID-19-20_...   \n",
       "\n",
       "                                            mask_fname  \n",
       "0    /home/fsuser/programming/datasets/COVID-19-20_...  \n",
       "1    /home/fsuser/programming/datasets/COVID-19-20_...  \n",
       "2    /home/fsuser/programming/datasets/COVID-19-20_...  \n",
       "3    /home/fsuser/programming/datasets/COVID-19-20_...  \n",
       "4    /home/fsuser/programming/datasets/COVID-19-20_...  \n",
       "..                                                 ...  \n",
       "194  /home/fsuser/programming/datasets/COVID-19-20_...  \n",
       "195  /home/fsuser/programming/datasets/COVID-19-20_...  \n",
       "196  /home/fsuser/programming/datasets/COVID-19-20_...  \n",
       "197  /home/fsuser/programming/datasets/COVID-19-20_...  \n",
       "198  /home/fsuser/programming/datasets/COVID-19-20_...  \n",
       "\n",
       "[199 rows x 3 columns]"
      ]
     },
     "metadata": {},
     "output_type": "display_data"
    },
    {
     "name": "stderr",
     "output_type": "stream",
     "text": [
      "2020-12-10 18:49:03,377 INFO     pid:27213 prepcache:078:__init__ Creating data_path environment variable in new .env file\n",
      "2020-12-10 18:49:03,379 INFO     pid:27213 prepcache:081:main Starting CovidPrepCacheApp, Namespace(batch_size=20, data_path='/home/fsuser/programming/datasets/COVID-19-20_v2/Train', num_workers=4, width_irc=[16, 128, 128])\n",
      "100%|██████████| 10/10 [02:15<00:00, 13.60s/it]\n",
      "2020-12-10 18:51:19,491 INFO     pid:27213 nb:069:run_shell_cmd Finished: prepcache.CovidPrepCacheApp.['--data-path=/home/fsuser/programming/datasets/COVID-19-20_v2/Train', '--num-workers=4', '--batch-size=20'].main()\n"
     ]
    }
   ],
   "source": [
    "run_shell_cmd(log, 'prepcache.CovidPrepCacheApp', f'--data-path={train_data_path}', \n",
    "              f'--num-workers={4}', f'--batch-size={20}')"
   ]
  },
  {
   "cell_type": "markdown",
   "metadata": {},
   "source": [
    "Use lr finder to find a good learning rate. This will run the model through a hundered batches which take a few minutes to complete on the gpu."
   ]
  },
  {
   "cell_type": "code",
   "execution_count": 5,
   "metadata": {},
   "outputs": [
    {
     "name": "stderr",
     "output_type": "stream",
     "text": [
      "2020-12-10 18:51:30,204 INFO     pid:27213 nb:064:run_shell_cmd Running: modules.util.lr_finder.LearningRateFinder([]).main()\n",
      "2020-12-10 18:51:33,622 INFO     pid:27213 modules.dsets:263:__init__ TrainingCovid2dSegmentationDataset: training mode, 159 uid's, 159 steps_per_epoch\n",
      "2020-12-10 18:51:33,627 INFO     pid:27213 modules.dsets:288:__init__ TrainingCovid2dSegmentationDataset: (16, 128, 128) width_irc\n"
     ]
    },
    {
     "data": {
      "application/vnd.jupyter.widget-view+json": {
       "model_id": "35feec408ffe40328b21e32f78bd5412",
       "version_major": 2,
       "version_minor": 0
      },
      "text/plain": [
       "HBox(children=(FloatProgress(value=0.0), HTML(value='')))"
      ]
     },
     "metadata": {},
     "output_type": "display_data"
    },
    {
     "name": "stdout",
     "output_type": "stream",
     "text": [
      "\n",
      "Learning rate search finished. See the graph with {finder_name}.plot()\n",
      "LR suggestion: steepest gradient\n",
      "Suggested LR: 3.13E-02\n"
     ]
    },
    {
     "data": {
      "image/png": "[encoded data removed]",
      "text/plain": [
       "<Figure size 432x288 with 1 Axes>"
      ]
     },
     "metadata": {
      "needs_background": "light"
     },
     "output_type": "display_data"
    },
    {
     "data": {
      "text/plain": [
       "(<matplotlib.axes._subplots.AxesSubplot at 0x7f2448b89d60>,\n",
       " 0.031257158496882355)"
      ]
     },
     "metadata": {},
     "output_type": "display_data"
    },
    {
     "name": "stderr",
     "output_type": "stream",
     "text": [
      "2020-12-10 18:53:29,467 INFO     pid:27213 nb:069:run_shell_cmd Finished: modules.util.lr_finder.LearningRateFinder.[].main()\n"
     ]
    }
   ],
   "source": [
    "run_shell_cmd(log, 'modules.util.lr_finder.LearningRateFinder')"
   ]
  },
  {
   "cell_type": "markdown",
   "metadata": {},
   "source": [
    "Set the value of learning rate as found by the learning rate finder"
   ]
  },
  {
   "cell_type": "code",
   "execution_count": 6,
   "metadata": {},
   "outputs": [],
   "source": [
    "learning_rate = 3e-2"
   ]
  },
  {
   "cell_type": "markdown",
   "metadata": {},
   "source": [
    "Begin training. Validation will run every 5 epochs and a copy of the model parameters will be saved under saved-models/ folder. The best model based on F1 score is saved with the prefix `.best.state`"
   ]
  },
  {
   "cell_type": "code",
   "execution_count": 7,
   "metadata": {},
   "outputs": [
    {
     "name": "stderr",
     "output_type": "stream",
     "text": [
      "2020-12-10 18:54:47,079 INFO     pid:27213 nb:064:run_shell_cmd Running: training.CovidSegmentationTrainingApp(['--lr=0.03']).main()\n",
      "2020-12-10 18:54:47,261 INFO     pid:27213 training:201:init_model Using CUDA; 2 devices.\n",
      "2020-12-10 18:54:47,288 INFO     pid:27213 modules.dsets:263:__init__ TrainingCovid2dSegmentationDataset: training mode, 179 uid's, 320 steps_per_epoch\n",
      "2020-12-10 18:54:47,290 INFO     pid:27213 modules.dsets:288:__init__ TrainingCovid2dSegmentationDataset: (16, 128, 128) width_irc\n",
      "2020-12-10 18:54:47,291 INFO     pid:27213 modules.dsets:263:__init__ Covid2dSegmentationDataset: validation mode, 20 uid's, 20 steps_per_epoch\n",
      "2020-12-10 18:54:47,294 INFO     pid:27213 training:465:main Starting CovidSegmentationTrainingApp, Namespace(augment_flip=False, augment_noise=False, augment_offset=False, augment_rotate=False, augment_scale=False, augmented=True, batch_size=2, ct_window='shifted_lung', depth=3, epochs=600, freeze=False, lr=0.03, model_path=None, num_workers=4, steps_per_epoch=320, val_cadence=5, width_irc=[16, 128, 128])\n"
     ]
    },
    {
     "data": {
      "text/html": [
       "\n",
       "    <div>\n",
       "        <style>\n",
       "            /* Turns off some styling */\n",
       "            progress {\n",
       "                /* gets rid of default border in Firefox and Opera. */\n",
       "                border: none;\n",
       "                /* Needs to be in here for Safari polyfill so background images work as expected. */\n",
       "                background-size: auto;\n",
       "            }\n",
       "            .progress-bar-interrupted, .progress-bar-interrupted::-webkit-progress-bar {\n",
       "                background: #F44336;\n",
       "            }\n",
       "        </style>\n",
       "      <progress value='1' class='' max='600' style='width:300px; height:20px; vertical-align: middle;'></progress>\n",
       "      0.17% [1/600 08:08<81:15:55]\n",
       "    </div>\n",
       "    \n",
       "<table border=\"1\" class=\"dataframe\">\n",
       "  <thead>\n",
       "    <tr style=\"text-align: left;\">\n",
       "      <th>epoch</th>\n",
       "      <th>loss/trn</th>\n",
       "      <th>dice_loss/trn</th>\n",
       "      <th>ce_loss/trn</th>\n",
       "      <th>loss/val</th>\n",
       "      <th>dice_loss/val</th>\n",
       "      <th>ce_loss/val</th>\n",
       "      <th>metrics_val/miss_rate</th>\n",
       "      <th>metrics_val/fp_to_mask_ratio</th>\n",
       "      <th>pr_val/precision</th>\n",
       "      <th>pr_val/recall</th>\n",
       "      <th>pr_val/f1_score</th>\n",
       "      <th>surface_dist_val/mean</th>\n",
       "      <th>surface_dist_val/root_mean_squared</th>\n",
       "      <th>surface_dist_val/hausdorff</th>\n",
       "    </tr>\n",
       "  </thead>\n",
       "  <tbody>\n",
       "    <tr>\n",
       "      <td>1</td>\n",
       "      <td>0.8169</td>\n",
       "      <td>0.8971</td>\n",
       "      <td>0.6298</td>\n",
       "      <td>0.8795</td>\n",
       "      <td>0.9928</td>\n",
       "      <td>0.6150</td>\n",
       "      <td>0.6380</td>\n",
       "      <td>84.6034</td>\n",
       "      <td>0.0043</td>\n",
       "      <td>0.3620</td>\n",
       "      <td>0.0084</td>\n",
       "      <td>146.0246</td>\n",
       "      <td>155.3914</td>\n",
       "      <td>305.6368</td>\n",
       "    </tr>\n",
       "  </tbody>\n",
       "</table><p>\n",
       "\n",
       "    <div>\n",
       "        <style>\n",
       "            /* Turns off some styling */\n",
       "            progress {\n",
       "                /* gets rid of default border in Firefox and Opera. */\n",
       "                border: none;\n",
       "                /* Needs to be in here for Safari polyfill so background images work as expected. */\n",
       "                background-size: auto;\n",
       "            }\n",
       "            .progress-bar-interrupted, .progress-bar-interrupted::-webkit-progress-bar {\n",
       "                background: #F44336;\n",
       "            }\n",
       "        </style>\n",
       "      <progress value='0' class='' max='80' style='width:300px; height:20px; vertical-align: middle;'></progress>\n",
       "      0.00% [0/80 00:00<00:00]\n",
       "    </div>\n",
       "    "
      ],
      "text/plain": [
       "<IPython.core.display.HTML object>"
      ]
     },
     "metadata": {},
     "output_type": "display_data"
    },
    {
     "name": "stderr",
     "output_type": "stream",
     "text": [
      "2020-12-10 18:57:18,650 INFO     pid:27213 training:364:log_metrics E1 CovidSegmentationTrainingApp\n",
      "2020-12-10 18:57:18,656 INFO     pid:27213 training:400:log_metrics E1 trn      0.8169 loss, 0.8971 dice loss, 0.6298 ce loss, 0.0648 precision, 0.5927 recall, 0.1169 f1 score 0.4073 miss rate 8.5503 fp to label ratio\n",
      "2020-12-10 19:02:55,627 INFO     pid:27213 training:364:log_metrics E1 CovidSegmentationTrainingApp\n",
      "2020-12-10 19:02:55,632 INFO     pid:27213 training:411:log_metrics E1 val      0.8795 loss, 0.9928 dice loss, 0.6150 ce_loss, 0.0043 precision, 0.3620 recall, 0.0084 f1 score 0.6380 miss rate 84.6034 fp to label ratio146.0246 mean distance155.3914 root mean squared distance305.6368 hausdorff distance\n",
      "2020-12-10 19:02:55,679 INFO     pid:27213 training:451:save_model Saved model params to saved-models/2020-12-10_18.54.47.320.state\n",
      "2020-12-10 19:02:55,688 INFO     pid:27213 training:456:save_model Saved model params to saved-models/2020-12-10_18.54.47.best.state\n",
      "2020-12-10 19:02:55,703 INFO     pid:27213 training:461:save_model SHA1: 2ad4de928224166c945d5215029ba80fc2d45c6c\n"
     ]
    },
    {
     "ename": "KeyboardInterrupt",
     "evalue": "",
     "output_type": "error",
     "traceback": [
      "\u001b[0;31m---------------------------------------------------------------------------\u001b[0m",
      "\u001b[0;31mKeyboardInterrupt\u001b[0m                         Traceback (most recent call last)",
      "\u001b[0;32m<ipython-input-7-c8c86740cad7>\u001b[0m in \u001b[0;36m<module>\u001b[0;34m\u001b[0m\n\u001b[0;32m----> 1\u001b[0;31m \u001b[0mrun_shell_cmd\u001b[0m\u001b[0;34m(\u001b[0m\u001b[0mlog\u001b[0m\u001b[0;34m,\u001b[0m \u001b[0;34m'training.CovidSegmentationTrainingApp'\u001b[0m\u001b[0;34m,\u001b[0m \u001b[0;34mf'--lr={learning_rate}'\u001b[0m\u001b[0;34m)\u001b[0m\u001b[0;34m\u001b[0m\u001b[0;34m\u001b[0m\u001b[0m\n\u001b[0m",
      "\u001b[0;32m~/programming/projects/prod_covid/modules/util/util.py\u001b[0m in \u001b[0;36mrun_shell_cmd\u001b[0;34m(log, app, *argv)\u001b[0m\n\u001b[1;32m     65\u001b[0m \u001b[0;34m\u001b[0m\u001b[0m\n\u001b[1;32m     66\u001b[0m     \u001b[0mapp_cls\u001b[0m \u001b[0;34m=\u001b[0m \u001b[0mimportstr\u001b[0m\u001b[0;34m(\u001b[0m\u001b[0;34m*\u001b[0m\u001b[0mapp\u001b[0m\u001b[0;34m.\u001b[0m\u001b[0mrsplit\u001b[0m\u001b[0;34m(\u001b[0m\u001b[0;34m'.'\u001b[0m\u001b[0;34m,\u001b[0m \u001b[0;36m1\u001b[0m\u001b[0;34m)\u001b[0m\u001b[0;34m)\u001b[0m\u001b[0;34m\u001b[0m\u001b[0;34m\u001b[0m\u001b[0m\n\u001b[0;32m---> 67\u001b[0;31m     \u001b[0mapp_cls\u001b[0m\u001b[0;34m(\u001b[0m\u001b[0margv\u001b[0m\u001b[0;34m)\u001b[0m\u001b[0;34m.\u001b[0m\u001b[0mmain\u001b[0m\u001b[0;34m(\u001b[0m\u001b[0;34m)\u001b[0m\u001b[0;34m\u001b[0m\u001b[0;34m\u001b[0m\u001b[0m\n\u001b[0m\u001b[1;32m     68\u001b[0m \u001b[0;34m\u001b[0m\u001b[0m\n\u001b[1;32m     69\u001b[0m     \u001b[0mlog\u001b[0m\u001b[0;34m.\u001b[0m\u001b[0minfo\u001b[0m\u001b[0;34m(\u001b[0m\u001b[0;34m\"Finished: {}.{!r}.main()\"\u001b[0m\u001b[0;34m.\u001b[0m\u001b[0mformat\u001b[0m\u001b[0;34m(\u001b[0m\u001b[0mapp\u001b[0m\u001b[0;34m,\u001b[0m \u001b[0margv\u001b[0m\u001b[0;34m)\u001b[0m\u001b[0;34m)\u001b[0m\u001b[0;34m\u001b[0m\u001b[0;34m\u001b[0m\u001b[0m\n",
      "\u001b[0;32m~/programming/projects/prod_covid/training.py\u001b[0m in \u001b[0;36mmain\u001b[0;34m(self)\u001b[0m\n\u001b[1;32m    474\u001b[0m                  table=True)\n\u001b[1;32m    475\u001b[0m         \u001b[0;32mfor\u001b[0m \u001b[0mepoch\u001b[0m \u001b[0;32min\u001b[0m \u001b[0mmb\u001b[0m\u001b[0;34m:\u001b[0m\u001b[0;34m\u001b[0m\u001b[0;34m\u001b[0m\u001b[0m\n\u001b[0;32m--> 476\u001b[0;31m             \u001b[0mtrn_metrics\u001b[0m \u001b[0;34m=\u001b[0m \u001b[0mself\u001b[0m\u001b[0;34m.\u001b[0m\u001b[0mone_epoch\u001b[0m\u001b[0;34m(\u001b[0m\u001b[0mepoch\u001b[0m\u001b[0;34m,\u001b[0m \u001b[0mdl\u001b[0m\u001b[0;34m=\u001b[0m\u001b[0mself\u001b[0m\u001b[0;34m.\u001b[0m\u001b[0mtrain_dl\u001b[0m\u001b[0;34m,\u001b[0m \u001b[0mmb\u001b[0m\u001b[0;34m=\u001b[0m\u001b[0mmb\u001b[0m\u001b[0;34m)\u001b[0m\u001b[0;34m\u001b[0m\u001b[0;34m\u001b[0m\u001b[0m\n\u001b[0m\u001b[1;32m    477\u001b[0m             trn_metrics_dict = self.log_metrics(epoch, mode_str='trn',\n\u001b[1;32m    478\u001b[0m                                                   metrics=trn_metrics)\n",
      "\u001b[0;32m~/programming/projects/prod_covid/training.py\u001b[0m in \u001b[0;36mone_epoch\u001b[0;34m(self, epoch, dl, mb, train)\u001b[0m\n\u001b[1;32m    346\u001b[0m \u001b[0;34m\u001b[0m\u001b[0m\n\u001b[1;32m    347\u001b[0m         \u001b[0mpb\u001b[0m \u001b[0;34m=\u001b[0m \u001b[0mprogress_bar\u001b[0m\u001b[0;34m(\u001b[0m\u001b[0menumerate\u001b[0m\u001b[0;34m(\u001b[0m\u001b[0mdl\u001b[0m\u001b[0;34m)\u001b[0m\u001b[0;34m,\u001b[0m \u001b[0mtotal\u001b[0m\u001b[0;34m=\u001b[0m\u001b[0mlen\u001b[0m\u001b[0;34m(\u001b[0m\u001b[0mdl\u001b[0m\u001b[0;34m)\u001b[0m\u001b[0;34m,\u001b[0m \u001b[0mparent\u001b[0m\u001b[0;34m=\u001b[0m\u001b[0mmb\u001b[0m\u001b[0;34m)\u001b[0m\u001b[0;34m\u001b[0m\u001b[0;34m\u001b[0m\u001b[0m\n\u001b[0;32m--> 348\u001b[0;31m         \u001b[0;32mfor\u001b[0m \u001b[0mi\u001b[0m\u001b[0;34m,\u001b[0m \u001b[0mbatch\u001b[0m \u001b[0;32min\u001b[0m \u001b[0mpb\u001b[0m\u001b[0;34m:\u001b[0m\u001b[0;34m\u001b[0m\u001b[0;34m\u001b[0m\u001b[0m\n\u001b[0m\u001b[1;32m    349\u001b[0m             \u001b[0;32mif\u001b[0m \u001b[0mtrain\u001b[0m\u001b[0;34m:\u001b[0m\u001b[0;34m\u001b[0m\u001b[0;34m\u001b[0m\u001b[0m\n\u001b[1;32m    350\u001b[0m                 \u001b[0mself\u001b[0m\u001b[0;34m.\u001b[0m\u001b[0moptim\u001b[0m\u001b[0;34m.\u001b[0m\u001b[0mzero_grad\u001b[0m\u001b[0;34m(\u001b[0m\u001b[0;34m)\u001b[0m\u001b[0;34m\u001b[0m\u001b[0;34m\u001b[0m\u001b[0m\n",
      "\u001b[0;32m~/programming/venvs/ml/lib/python3.8/site-packages/fastprogress/fastprogress.py\u001b[0m in \u001b[0;36m__iter__\u001b[0;34m(self)\u001b[0m\n\u001b[1;32m     39\u001b[0m         \u001b[0;32mif\u001b[0m \u001b[0mself\u001b[0m\u001b[0;34m.\u001b[0m\u001b[0mtotal\u001b[0m \u001b[0;34m!=\u001b[0m \u001b[0;36m0\u001b[0m\u001b[0;34m:\u001b[0m \u001b[0mself\u001b[0m\u001b[0;34m.\u001b[0m\u001b[0mupdate\u001b[0m\u001b[0;34m(\u001b[0m\u001b[0;36m0\u001b[0m\u001b[0;34m)\u001b[0m\u001b[0;34m\u001b[0m\u001b[0;34m\u001b[0m\u001b[0m\n\u001b[1;32m     40\u001b[0m         \u001b[0;32mtry\u001b[0m\u001b[0;34m:\u001b[0m\u001b[0;34m\u001b[0m\u001b[0;34m\u001b[0m\u001b[0m\n\u001b[0;32m---> 41\u001b[0;31m             \u001b[0;32mfor\u001b[0m \u001b[0mi\u001b[0m\u001b[0;34m,\u001b[0m\u001b[0mo\u001b[0m \u001b[0;32min\u001b[0m \u001b[0menumerate\u001b[0m\u001b[0;34m(\u001b[0m\u001b[0mself\u001b[0m\u001b[0;34m.\u001b[0m\u001b[0mgen\u001b[0m\u001b[0;34m)\u001b[0m\u001b[0;34m:\u001b[0m\u001b[0;34m\u001b[0m\u001b[0;34m\u001b[0m\u001b[0m\n\u001b[0m\u001b[1;32m     42\u001b[0m                 \u001b[0;32mif\u001b[0m \u001b[0mi\u001b[0m \u001b[0;34m>=\u001b[0m \u001b[0mself\u001b[0m\u001b[0;34m.\u001b[0m\u001b[0mtotal\u001b[0m\u001b[0;34m:\u001b[0m \u001b[0;32mbreak\u001b[0m\u001b[0;34m\u001b[0m\u001b[0;34m\u001b[0m\u001b[0m\n\u001b[1;32m     43\u001b[0m                 \u001b[0;32myield\u001b[0m \u001b[0mo\u001b[0m\u001b[0;34m\u001b[0m\u001b[0;34m\u001b[0m\u001b[0m\n",
      "\u001b[0;32m~/programming/venvs/ml/lib/python3.8/site-packages/torch/utils/data/dataloader.py\u001b[0m in \u001b[0;36m__next__\u001b[0;34m(self)\u001b[0m\n\u001b[1;32m    361\u001b[0m \u001b[0;34m\u001b[0m\u001b[0m\n\u001b[1;32m    362\u001b[0m     \u001b[0;32mdef\u001b[0m \u001b[0m__next__\u001b[0m\u001b[0;34m(\u001b[0m\u001b[0mself\u001b[0m\u001b[0;34m)\u001b[0m\u001b[0;34m:\u001b[0m\u001b[0;34m\u001b[0m\u001b[0;34m\u001b[0m\u001b[0m\n\u001b[0;32m--> 363\u001b[0;31m         \u001b[0mdata\u001b[0m \u001b[0;34m=\u001b[0m \u001b[0mself\u001b[0m\u001b[0;34m.\u001b[0m\u001b[0m_next_data\u001b[0m\u001b[0;34m(\u001b[0m\u001b[0;34m)\u001b[0m\u001b[0;34m\u001b[0m\u001b[0;34m\u001b[0m\u001b[0m\n\u001b[0m\u001b[1;32m    364\u001b[0m         \u001b[0mself\u001b[0m\u001b[0;34m.\u001b[0m\u001b[0m_num_yielded\u001b[0m \u001b[0;34m+=\u001b[0m \u001b[0;36m1\u001b[0m\u001b[0;34m\u001b[0m\u001b[0;34m\u001b[0m\u001b[0m\n\u001b[1;32m    365\u001b[0m         \u001b[0;32mif\u001b[0m \u001b[0mself\u001b[0m\u001b[0;34m.\u001b[0m\u001b[0m_dataset_kind\u001b[0m \u001b[0;34m==\u001b[0m \u001b[0m_DatasetKind\u001b[0m\u001b[0;34m.\u001b[0m\u001b[0mIterable\u001b[0m \u001b[0;32mand\u001b[0m\u001b[0;31m \u001b[0m\u001b[0;31m\\\u001b[0m\u001b[0;34m\u001b[0m\u001b[0;34m\u001b[0m\u001b[0m\n",
      "\u001b[0;32m~/programming/venvs/ml/lib/python3.8/site-packages/torch/utils/data/dataloader.py\u001b[0m in \u001b[0;36m_next_data\u001b[0;34m(self)\u001b[0m\n\u001b[1;32m    972\u001b[0m \u001b[0;34m\u001b[0m\u001b[0m\n\u001b[1;32m    973\u001b[0m             \u001b[0;32massert\u001b[0m \u001b[0;32mnot\u001b[0m \u001b[0mself\u001b[0m\u001b[0;34m.\u001b[0m\u001b[0m_shutdown\u001b[0m \u001b[0;32mand\u001b[0m \u001b[0mself\u001b[0m\u001b[0;34m.\u001b[0m\u001b[0m_tasks_outstanding\u001b[0m \u001b[0;34m>\u001b[0m \u001b[0;36m0\u001b[0m\u001b[0;34m\u001b[0m\u001b[0;34m\u001b[0m\u001b[0m\n\u001b[0;32m--> 974\u001b[0;31m             \u001b[0midx\u001b[0m\u001b[0;34m,\u001b[0m \u001b[0mdata\u001b[0m \u001b[0;34m=\u001b[0m \u001b[0mself\u001b[0m\u001b[0;34m.\u001b[0m\u001b[0m_get_data\u001b[0m\u001b[0;34m(\u001b[0m\u001b[0;34m)\u001b[0m\u001b[0;34m\u001b[0m\u001b[0;34m\u001b[0m\u001b[0m\n\u001b[0m\u001b[1;32m    975\u001b[0m             \u001b[0mself\u001b[0m\u001b[0;34m.\u001b[0m\u001b[0m_tasks_outstanding\u001b[0m \u001b[0;34m-=\u001b[0m \u001b[0;36m1\u001b[0m\u001b[0;34m\u001b[0m\u001b[0;34m\u001b[0m\u001b[0m\n\u001b[1;32m    976\u001b[0m \u001b[0;34m\u001b[0m\u001b[0m\n",
      "\u001b[0;32m~/programming/venvs/ml/lib/python3.8/site-packages/torch/utils/data/dataloader.py\u001b[0m in \u001b[0;36m_get_data\u001b[0;34m(self)\u001b[0m\n\u001b[1;32m    929\u001b[0m         \u001b[0;32melif\u001b[0m \u001b[0mself\u001b[0m\u001b[0;34m.\u001b[0m\u001b[0m_pin_memory\u001b[0m\u001b[0;34m:\u001b[0m\u001b[0;34m\u001b[0m\u001b[0;34m\u001b[0m\u001b[0m\n\u001b[1;32m    930\u001b[0m             \u001b[0;32mwhile\u001b[0m \u001b[0mself\u001b[0m\u001b[0;34m.\u001b[0m\u001b[0m_pin_memory_thread\u001b[0m\u001b[0;34m.\u001b[0m\u001b[0mis_alive\u001b[0m\u001b[0;34m(\u001b[0m\u001b[0;34m)\u001b[0m\u001b[0;34m:\u001b[0m\u001b[0;34m\u001b[0m\u001b[0;34m\u001b[0m\u001b[0m\n\u001b[0;32m--> 931\u001b[0;31m                 \u001b[0msuccess\u001b[0m\u001b[0;34m,\u001b[0m \u001b[0mdata\u001b[0m \u001b[0;34m=\u001b[0m \u001b[0mself\u001b[0m\u001b[0;34m.\u001b[0m\u001b[0m_try_get_data\u001b[0m\u001b[0;34m(\u001b[0m\u001b[0;34m)\u001b[0m\u001b[0;34m\u001b[0m\u001b[0;34m\u001b[0m\u001b[0m\n\u001b[0m\u001b[1;32m    932\u001b[0m                 \u001b[0;32mif\u001b[0m \u001b[0msuccess\u001b[0m\u001b[0;34m:\u001b[0m\u001b[0;34m\u001b[0m\u001b[0;34m\u001b[0m\u001b[0m\n\u001b[1;32m    933\u001b[0m                     \u001b[0;32mreturn\u001b[0m \u001b[0mdata\u001b[0m\u001b[0;34m\u001b[0m\u001b[0;34m\u001b[0m\u001b[0m\n",
      "\u001b[0;32m~/programming/venvs/ml/lib/python3.8/site-packages/torch/utils/data/dataloader.py\u001b[0m in \u001b[0;36m_try_get_data\u001b[0;34m(self, timeout)\u001b[0m\n\u001b[1;32m    777\u001b[0m         \u001b[0;31m#   (bool: whether successfully get data, any: data if successful else None)\u001b[0m\u001b[0;34m\u001b[0m\u001b[0;34m\u001b[0m\u001b[0;34m\u001b[0m\u001b[0m\n\u001b[1;32m    778\u001b[0m         \u001b[0;32mtry\u001b[0m\u001b[0;34m:\u001b[0m\u001b[0;34m\u001b[0m\u001b[0;34m\u001b[0m\u001b[0m\n\u001b[0;32m--> 779\u001b[0;31m             \u001b[0mdata\u001b[0m \u001b[0;34m=\u001b[0m \u001b[0mself\u001b[0m\u001b[0;34m.\u001b[0m\u001b[0m_data_queue\u001b[0m\u001b[0;34m.\u001b[0m\u001b[0mget\u001b[0m\u001b[0;34m(\u001b[0m\u001b[0mtimeout\u001b[0m\u001b[0;34m=\u001b[0m\u001b[0mtimeout\u001b[0m\u001b[0;34m)\u001b[0m\u001b[0;34m\u001b[0m\u001b[0;34m\u001b[0m\u001b[0m\n\u001b[0m\u001b[1;32m    780\u001b[0m             \u001b[0;32mreturn\u001b[0m \u001b[0;34m(\u001b[0m\u001b[0;32mTrue\u001b[0m\u001b[0;34m,\u001b[0m \u001b[0mdata\u001b[0m\u001b[0;34m)\u001b[0m\u001b[0;34m\u001b[0m\u001b[0;34m\u001b[0m\u001b[0m\n\u001b[1;32m    781\u001b[0m         \u001b[0;32mexcept\u001b[0m \u001b[0mException\u001b[0m \u001b[0;32mas\u001b[0m \u001b[0me\u001b[0m\u001b[0;34m:\u001b[0m\u001b[0;34m\u001b[0m\u001b[0;34m\u001b[0m\u001b[0m\n",
      "\u001b[0;32m/usr/lib/python3.8/queue.py\u001b[0m in \u001b[0;36mget\u001b[0;34m(self, block, timeout)\u001b[0m\n\u001b[1;32m    177\u001b[0m                     \u001b[0;32mif\u001b[0m \u001b[0mremaining\u001b[0m \u001b[0;34m<=\u001b[0m \u001b[0;36m0.0\u001b[0m\u001b[0;34m:\u001b[0m\u001b[0;34m\u001b[0m\u001b[0;34m\u001b[0m\u001b[0m\n\u001b[1;32m    178\u001b[0m                         \u001b[0;32mraise\u001b[0m \u001b[0mEmpty\u001b[0m\u001b[0;34m\u001b[0m\u001b[0;34m\u001b[0m\u001b[0m\n\u001b[0;32m--> 179\u001b[0;31m                     \u001b[0mself\u001b[0m\u001b[0;34m.\u001b[0m\u001b[0mnot_empty\u001b[0m\u001b[0;34m.\u001b[0m\u001b[0mwait\u001b[0m\u001b[0;34m(\u001b[0m\u001b[0mremaining\u001b[0m\u001b[0;34m)\u001b[0m\u001b[0;34m\u001b[0m\u001b[0;34m\u001b[0m\u001b[0m\n\u001b[0m\u001b[1;32m    180\u001b[0m             \u001b[0mitem\u001b[0m \u001b[0;34m=\u001b[0m \u001b[0mself\u001b[0m\u001b[0;34m.\u001b[0m\u001b[0m_get\u001b[0m\u001b[0;34m(\u001b[0m\u001b[0;34m)\u001b[0m\u001b[0;34m\u001b[0m\u001b[0;34m\u001b[0m\u001b[0m\n\u001b[1;32m    181\u001b[0m             \u001b[0mself\u001b[0m\u001b[0;34m.\u001b[0m\u001b[0mnot_full\u001b[0m\u001b[0;34m.\u001b[0m\u001b[0mnotify\u001b[0m\u001b[0;34m(\u001b[0m\u001b[0;34m)\u001b[0m\u001b[0;34m\u001b[0m\u001b[0;34m\u001b[0m\u001b[0m\n",
      "\u001b[0;32m/usr/lib/python3.8/threading.py\u001b[0m in \u001b[0;36mwait\u001b[0;34m(self, timeout)\u001b[0m\n\u001b[1;32m    304\u001b[0m             \u001b[0;32melse\u001b[0m\u001b[0;34m:\u001b[0m\u001b[0;34m\u001b[0m\u001b[0;34m\u001b[0m\u001b[0m\n\u001b[1;32m    305\u001b[0m                 \u001b[0;32mif\u001b[0m \u001b[0mtimeout\u001b[0m \u001b[0;34m>\u001b[0m \u001b[0;36m0\u001b[0m\u001b[0;34m:\u001b[0m\u001b[0;34m\u001b[0m\u001b[0;34m\u001b[0m\u001b[0m\n\u001b[0;32m--> 306\u001b[0;31m                     \u001b[0mgotit\u001b[0m \u001b[0;34m=\u001b[0m \u001b[0mwaiter\u001b[0m\u001b[0;34m.\u001b[0m\u001b[0macquire\u001b[0m\u001b[0;34m(\u001b[0m\u001b[0;32mTrue\u001b[0m\u001b[0;34m,\u001b[0m \u001b[0mtimeout\u001b[0m\u001b[0;34m)\u001b[0m\u001b[0;34m\u001b[0m\u001b[0;34m\u001b[0m\u001b[0m\n\u001b[0m\u001b[1;32m    307\u001b[0m                 \u001b[0;32melse\u001b[0m\u001b[0;34m:\u001b[0m\u001b[0;34m\u001b[0m\u001b[0;34m\u001b[0m\u001b[0m\n\u001b[1;32m    308\u001b[0m                     \u001b[0mgotit\u001b[0m \u001b[0;34m=\u001b[0m \u001b[0mwaiter\u001b[0m\u001b[0;34m.\u001b[0m\u001b[0macquire\u001b[0m\u001b[0;34m(\u001b[0m\u001b[0;32mFalse\u001b[0m\u001b[0;34m)\u001b[0m\u001b[0;34m\u001b[0m\u001b[0;34m\u001b[0m\u001b[0m\n",
      "\u001b[0;31mKeyboardInterrupt\u001b[0m: "
     ]
    }
   ],
   "source": [
    "run_shell_cmd(log, 'training.CovidSegmentationTrainingApp', f'--lr={learning_rate}')"
   ]
  },
  {
   "cell_type": "markdown",
   "metadata": {},
   "source": [
    "## Inference"
   ]
  },
  {
   "cell_type": "code",
   "execution_count": 3,
   "metadata": {},
   "outputs": [],
   "source": [
    "inference_data_path = '/home/fsuser/programming/datasets/COVID-19-20_TestSet/'"
   ]
  },
  {
   "cell_type": "markdown",
   "metadata": {},
   "source": [
    "Once again, we prepare the metadata and cache files. Note that this will overwrite the metadatafile from the train set"
   ]
  },
  {
   "cell_type": "code",
   "execution_count": 4,
   "metadata": {},
   "outputs": [
    {
     "name": "stderr",
     "output_type": "stream",
     "text": [
      "2020-12-10 19:52:01,356 INFO     pid:28312 nb:064:run_shell_cmd Running: prepcache.CovidPrepCacheApp(['--data-path=/home/fsuser/programming/datasets/COVID-19-20_TestSet/', '--num-workers=4', '--batch-size=20']).main()\n",
      "2020-12-10 19:52:02,437 INFO     pid:28312 numexpr.utils:129:_init_num_threads Note: NumExpr detected 32 cores but \"NUMEXPR_MAX_THREADS\" not set, so enforcing safe limit of 8.\n",
      "2020-12-10 19:52:02,443 INFO     pid:28312 numexpr.utils:141:_init_num_threads NumExpr defaulting to 8 threads.\n",
      "2020-12-10 19:52:02,460 INFO     pid:28312 prepcache:075:__init__ Creating metadata folder\n"
     ]
    },
    {
     "data": {
      "text/html": [
       "<div>\n",
       "<style scoped>\n",
       "    .dataframe tbody tr th:only-of-type {\n",
       "        vertical-align: middle;\n",
       "    }\n",
       "\n",
       "    .dataframe tbody tr th {\n",
       "        vertical-align: top;\n",
       "    }\n",
       "\n",
       "    .dataframe thead th {\n",
       "        text-align: right;\n",
       "    }\n",
       "</style>\n",
       "<table border=\"1\" class=\"dataframe\">\n",
       "  <thead>\n",
       "    <tr style=\"text-align: right;\">\n",
       "      <th></th>\n",
       "      <th>uid</th>\n",
       "      <th>ct_fname</th>\n",
       "      <th>mask_fname</th>\n",
       "    </tr>\n",
       "  </thead>\n",
       "  <tbody>\n",
       "    <tr>\n",
       "      <th>0</th>\n",
       "      <td>679</td>\n",
       "      <td>/home/fsuser/programming/datasets/COVID-19-20_...</td>\n",
       "      <td>/home/fsuser/programming/datasets/COVID-19-20_...</td>\n",
       "    </tr>\n",
       "    <tr>\n",
       "      <th>1</th>\n",
       "      <td>16434369_01-05-2012-CT CHEST ABDOMEN PELVIS W-...</td>\n",
       "      <td>/home/fsuser/programming/datasets/COVID-19-20_...</td>\n",
       "      <td>/home/fsuser/programming/datasets/COVID-19-20_...</td>\n",
       "    </tr>\n",
       "    <tr>\n",
       "      <th>2</th>\n",
       "      <td>16406513_12-24-2011-CT PE CHEST-83965_5</td>\n",
       "      <td>/home/fsuser/programming/datasets/COVID-19-20_...</td>\n",
       "      <td>/home/fsuser/programming/datasets/COVID-19-20_...</td>\n",
       "    </tr>\n",
       "    <tr>\n",
       "      <th>3</th>\n",
       "      <td>16406508_02-12-2012-CT CHEST ABDOMEN PELVIS W-...</td>\n",
       "      <td>/home/fsuser/programming/datasets/COVID-19-20_...</td>\n",
       "      <td>/home/fsuser/programming/datasets/COVID-19-20_...</td>\n",
       "    </tr>\n",
       "    <tr>\n",
       "      <th>4</th>\n",
       "      <td>373</td>\n",
       "      <td>/home/fsuser/programming/datasets/COVID-19-20_...</td>\n",
       "      <td>/home/fsuser/programming/datasets/COVID-19-20_...</td>\n",
       "    </tr>\n",
       "    <tr>\n",
       "      <th>...</th>\n",
       "      <td>...</td>\n",
       "      <td>...</td>\n",
       "      <td>...</td>\n",
       "    </tr>\n",
       "    <tr>\n",
       "      <th>41</th>\n",
       "      <td>16407187_01-28-2012-CT PE CHEST-34292_5</td>\n",
       "      <td>/home/fsuser/programming/datasets/COVID-19-20_...</td>\n",
       "      <td>/home/fsuser/programming/datasets/COVID-19-20_...</td>\n",
       "    </tr>\n",
       "    <tr>\n",
       "      <th>42</th>\n",
       "      <td>16445144_03-13-2012-CT PE CHEST-17430_5</td>\n",
       "      <td>/home/fsuser/programming/datasets/COVID-19-20_...</td>\n",
       "      <td>/home/fsuser/programming/datasets/COVID-19-20_...</td>\n",
       "    </tr>\n",
       "    <tr>\n",
       "      <th>43</th>\n",
       "      <td>16406490_02-05-2012-CT PE CHEST-37142_5</td>\n",
       "      <td>/home/fsuser/programming/datasets/COVID-19-20_...</td>\n",
       "      <td>/home/fsuser/programming/datasets/COVID-19-20_...</td>\n",
       "    </tr>\n",
       "    <tr>\n",
       "      <th>44</th>\n",
       "      <td>16424111_02-08-2012-CT CHEST ABDOMEN PELVIS W-...</td>\n",
       "      <td>/home/fsuser/programming/datasets/COVID-19-20_...</td>\n",
       "      <td>/home/fsuser/programming/datasets/COVID-19-20_...</td>\n",
       "    </tr>\n",
       "    <tr>\n",
       "      <th>45</th>\n",
       "      <td>16424071_03-09-2012-CT PE CHEST-00043_5</td>\n",
       "      <td>/home/fsuser/programming/datasets/COVID-19-20_...</td>\n",
       "      <td>/home/fsuser/programming/datasets/COVID-19-20_...</td>\n",
       "    </tr>\n",
       "  </tbody>\n",
       "</table>\n",
       "<p>46 rows × 3 columns</p>\n",
       "</div>"
      ],
      "text/plain": [
       "                                                  uid  \\\n",
       "0                                                 679   \n",
       "1   16434369_01-05-2012-CT CHEST ABDOMEN PELVIS W-...   \n",
       "2             16406513_12-24-2011-CT PE CHEST-83965_5   \n",
       "3   16406508_02-12-2012-CT CHEST ABDOMEN PELVIS W-...   \n",
       "4                                                 373   \n",
       "..                                                ...   \n",
       "41            16407187_01-28-2012-CT PE CHEST-34292_5   \n",
       "42            16445144_03-13-2012-CT PE CHEST-17430_5   \n",
       "43            16406490_02-05-2012-CT PE CHEST-37142_5   \n",
       "44  16424111_02-08-2012-CT CHEST ABDOMEN PELVIS W-...   \n",
       "45            16424071_03-09-2012-CT PE CHEST-00043_5   \n",
       "\n",
       "                                             ct_fname  \\\n",
       "0   /home/fsuser/programming/datasets/COVID-19-20_...   \n",
       "1   /home/fsuser/programming/datasets/COVID-19-20_...   \n",
       "2   /home/fsuser/programming/datasets/COVID-19-20_...   \n",
       "3   /home/fsuser/programming/datasets/COVID-19-20_...   \n",
       "4   /home/fsuser/programming/datasets/COVID-19-20_...   \n",
       "..                                                ...   \n",
       "41  /home/fsuser/programming/datasets/COVID-19-20_...   \n",
       "42  /home/fsuser/programming/datasets/COVID-19-20_...   \n",
       "43  /home/fsuser/programming/datasets/COVID-19-20_...   \n",
       "44  /home/fsuser/programming/datasets/COVID-19-20_...   \n",
       "45  /home/fsuser/programming/datasets/COVID-19-20_...   \n",
       "\n",
       "                                           mask_fname  \n",
       "0   /home/fsuser/programming/datasets/COVID-19-20_...  \n",
       "1   /home/fsuser/programming/datasets/COVID-19-20_...  \n",
       "2   /home/fsuser/programming/datasets/COVID-19-20_...  \n",
       "3   /home/fsuser/programming/datasets/COVID-19-20_...  \n",
       "4   /home/fsuser/programming/datasets/COVID-19-20_...  \n",
       "..                                                ...  \n",
       "41  /home/fsuser/programming/datasets/COVID-19-20_...  \n",
       "42  /home/fsuser/programming/datasets/COVID-19-20_...  \n",
       "43  /home/fsuser/programming/datasets/COVID-19-20_...  \n",
       "44  /home/fsuser/programming/datasets/COVID-19-20_...  \n",
       "45  /home/fsuser/programming/datasets/COVID-19-20_...  \n",
       "\n",
       "[46 rows x 3 columns]"
      ]
     },
     "metadata": {},
     "output_type": "display_data"
    },
    {
     "name": "stderr",
     "output_type": "stream",
     "text": [
      "2020-12-10 19:52:02,475 INFO     pid:28312 prepcache:080:__init__ Creating data_path environment variable in new .env file\n",
      "2020-12-10 19:52:02,478 INFO     pid:28312 prepcache:083:main Starting CovidPrepCacheApp, Namespace(batch_size=20, data_path='/home/fsuser/programming/datasets/COVID-19-20_TestSet/', num_workers=4, width_irc=[16, 128, 128])\n",
      "100%|██████████| 3/3 [01:24<00:00, 28.08s/it]\n",
      "2020-12-10 19:53:26,811 INFO     pid:28312 nb:069:run_shell_cmd Finished: prepcache.CovidPrepCacheApp.['--data-path=/home/fsuser/programming/datasets/COVID-19-20_TestSet/', '--num-workers=4', '--batch-size=20'].main()\n"
     ]
    }
   ],
   "source": [
    "run_shell_cmd(log, 'prepcache.CovidPrepCacheApp', f'--data-path={inference_data_path}', f'--num-workers={4}', f'--batch-size={20}')"
   ]
  },
  {
   "cell_type": "markdown",
   "metadata": {},
   "source": [
    "You can specify a UID from a CT scan based on the number found in the filename.\n",
    "For example, pass in `0180_0` for `volume-covid19-A-0180_0_ct.nii.gz`"
   ]
  },
  {
   "cell_type": "code",
   "execution_count": null,
   "metadata": {},
   "outputs": [],
   "source": [
    "run_shell_cmd(log, 'inference.CovidInferenceApp', '0180_0', f'--data-path={inference_data_path}')"
   ]
  },
  {
   "cell_type": "markdown",
   "metadata": {},
   "source": [
    "If you wish to explicitly specify a model path, just pass in a `--model-flag=\"model path\"` flag"
   ]
  },
  {
   "cell_type": "code",
   "execution_count": null,
   "metadata": {},
   "outputs": [],
   "source": [
    "model_path = get_best_model('saved-models', '2020-12-08_19.15.04.best.state') # params = model_folder, model_file_name\n",
    "run_shell_cmd(log, 'inference.CovidInferenceApp', '0180_0', f'--data-path={inference_data_path}', f'--model-path={model_path}')"
   ]
  },
  {
   "cell_type": "markdown",
   "metadata": {},
   "source": [
    "To run inference on all of the files, simply pass the `--run-all` flag as shown below"
   ]
  },
  {
   "cell_type": "code",
   "execution_count": 4,
   "metadata": {},
   "outputs": [
    {
     "name": "stderr",
     "output_type": "stream",
     "text": [
      "2020-12-10 19:54:48,938 INFO     pid:28513 nb:064:run_shell_cmd Running: inference.CovidInferenceApp(['--data-path=/home/fsuser/programming/datasets/COVID-19-20_TestSet/', '--run-all']).main()\n",
      "2020-12-10 19:54:53,557 INFO     pid:28513 inference:150:main Starting CovidInferenceApp, Namespace(batch_size=1, data_path='/home/fsuser/programming/datasets/COVID-19-20_TestSet/', model_path=None, num_workers=4, run_all=True, uid=None, width_irc=[16, 128, 128])\n",
      "2020-12-10 19:54:53,954 INFO     pid:28513 modules.dsets:263:__init__ Covid2dSegmentationDataset: general mode, 1 uid's, 1 steps_per_epoch\n",
      "2020-12-10 19:54:53,956 INFO     pid:28513 inference:129:segment_ct Running inference for uid: 679\n",
      "2020-12-10 19:54:55,055 INFO     pid:28513 inference:131:segment_ct input shape torch.Size([70, 512, 512])\n",
      "2020-12-10 19:55:01,356 INFO     pid:28513 inference:146:segment_ct output shape: (70, 512, 512)\n",
      "2020-12-10 19:55:02,482 INFO     pid:28513 modules.dsets:263:__init__ Covid2dSegmentationDataset: general mode, 1 uid's, 1 steps_per_epoch\n",
      "2020-12-10 19:55:02,484 INFO     pid:28513 inference:129:segment_ct Running inference for uid: 16407187_01-28-2012-CT PE CHEST-34292_5\n",
      "2020-12-10 19:55:03,826 INFO     pid:28513 inference:131:segment_ct input shape torch.Size([101, 512, 512])\n",
      "2020-12-10 19:55:13,256 INFO     pid:28513 inference:146:segment_ct output shape: (101, 512, 512)\n",
      "2020-12-10 19:55:14,348 INFO     pid:28513 modules.dsets:263:__init__ Covid2dSegmentationDataset: general mode, 1 uid's, 1 steps_per_epoch\n",
      "2020-12-10 19:55:14,350 INFO     pid:28513 inference:129:segment_ct Running inference for uid: 303_0\n",
      "2020-12-10 19:55:15,289 INFO     pid:28513 inference:131:segment_ct input shape torch.Size([64, 512, 512])\n",
      "2020-12-10 19:55:20,695 INFO     pid:28513 inference:146:segment_ct output shape: (64, 512, 512)\n",
      "2020-12-10 19:55:21,558 INFO     pid:28513 modules.dsets:263:__init__ Covid2dSegmentationDataset: general mode, 1 uid's, 1 steps_per_epoch\n",
      "2020-12-10 19:55:21,559 INFO     pid:28513 inference:129:segment_ct Running inference for uid: 554\n",
      "2020-12-10 19:55:22,499 INFO     pid:28513 inference:131:segment_ct input shape torch.Size([68, 512, 512])\n",
      "2020-12-10 19:55:28,941 INFO     pid:28513 inference:146:segment_ct output shape: (68, 512, 512)\n",
      "2020-12-10 19:55:29,992 INFO     pid:28513 modules.dsets:263:__init__ Covid2dSegmentationDataset: general mode, 1 uid's, 1 steps_per_epoch\n",
      "2020-12-10 19:55:29,994 INFO     pid:28513 inference:129:segment_ct Running inference for uid: 16406502_01-15-2012-CT CHEST WO CONTRAST-99968_2\n",
      "2020-12-10 19:55:31,301 INFO     pid:28513 inference:131:segment_ct input shape torch.Size([106, 512, 512])\n",
      "2020-12-10 19:55:40,928 INFO     pid:28513 inference:146:segment_ct output shape: (106, 512, 512)\n",
      "2020-12-10 19:55:42,089 INFO     pid:28513 modules.dsets:263:__init__ Covid2dSegmentationDataset: general mode, 1 uid's, 1 steps_per_epoch\n",
      "2020-12-10 19:55:42,090 INFO     pid:28513 inference:129:segment_ct Running inference for uid: 478\n",
      "2020-12-10 19:55:43,041 INFO     pid:28513 inference:131:segment_ct input shape torch.Size([68, 512, 512])\n",
      "2020-12-10 19:55:49,403 INFO     pid:28513 inference:146:segment_ct output shape: (68, 512, 512)\n",
      "2020-12-10 19:55:50,269 INFO     pid:28513 modules.dsets:263:__init__ Covid2dSegmentationDataset: general mode, 1 uid's, 1 steps_per_epoch\n",
      "2020-12-10 19:55:50,271 INFO     pid:28513 inference:129:segment_ct Running inference for uid: 028_0\n",
      "2020-12-10 19:55:51,090 INFO     pid:28513 inference:131:segment_ct input shape torch.Size([59, 512, 512])\n",
      "2020-12-10 19:55:56,559 INFO     pid:28513 inference:146:segment_ct output shape: (59, 512, 512)\n",
      "2020-12-10 19:55:58,609 INFO     pid:28513 modules.dsets:263:__init__ Covid2dSegmentationDataset: general mode, 1 uid's, 1 steps_per_epoch\n",
      "2020-12-10 19:55:58,612 INFO     pid:28513 inference:129:segment_ct Running inference for uid: 16406508_02-12-2012-CT CHEST ABDOMEN PELVIS W-63404_3\n",
      "2020-12-10 19:56:02,954 INFO     pid:28513 inference:131:segment_ct input shape torch.Size([311, 512, 512])\n",
      "2020-12-10 19:56:30,515 INFO     pid:28513 inference:146:segment_ct output shape: (311, 512, 512)\n",
      "2020-12-10 19:56:33,468 INFO     pid:28513 modules.dsets:263:__init__ Covid2dSegmentationDataset: general mode, 1 uid's, 1 steps_per_epoch\n",
      "2020-12-10 19:56:33,472 INFO     pid:28513 inference:129:segment_ct Running inference for uid: 16445168_03-03-2012-CT PE CHEST-89792_8\n",
      "2020-12-10 19:56:34,893 INFO     pid:28513 inference:131:segment_ct input shape torch.Size([127, 512, 512])\n",
      "2020-12-10 19:56:46,666 INFO     pid:28513 inference:146:segment_ct output shape: (127, 512, 512)\n",
      "2020-12-10 19:56:47,979 INFO     pid:28513 modules.dsets:263:__init__ Covid2dSegmentationDataset: general mode, 1 uid's, 1 steps_per_epoch\n",
      "2020-12-10 19:56:47,981 INFO     pid:28513 inference:129:segment_ct Running inference for uid: 611\n",
      "2020-12-10 19:56:48,875 INFO     pid:28513 inference:131:segment_ct input shape torch.Size([66, 512, 512])\n",
      "2020-12-10 19:56:55,412 INFO     pid:28513 inference:146:segment_ct output shape: (66, 512, 512)\n",
      "2020-12-10 19:56:56,447 INFO     pid:28513 modules.dsets:263:__init__ Covid2dSegmentationDataset: general mode, 1 uid's, 1 steps_per_epoch\n",
      "2020-12-10 19:56:56,449 INFO     pid:28513 inference:129:segment_ct Running inference for uid: 16434453_02-20-2012-CT PE CHEST-21183_5\n",
      "2020-12-10 19:56:57,666 INFO     pid:28513 inference:131:segment_ct input shape torch.Size([111, 512, 512])\n",
      "2020-12-10 19:57:07,354 INFO     pid:28513 inference:146:segment_ct output shape: (111, 512, 512)\n",
      "2020-12-10 19:57:08,457 INFO     pid:28513 modules.dsets:263:__init__ Covid2dSegmentationDataset: general mode, 1 uid's, 1 steps_per_epoch\n",
      "2020-12-10 19:57:08,459 INFO     pid:28513 inference:129:segment_ct Running inference for uid: 080\n",
      "2020-12-10 19:57:09,386 INFO     pid:28513 inference:131:segment_ct input shape torch.Size([65, 512, 512])\n",
      "2020-12-10 19:57:15,980 INFO     pid:28513 inference:146:segment_ct output shape: (65, 512, 512)\n",
      "2020-12-10 19:57:16,729 INFO     pid:28513 modules.dsets:263:__init__ Covid2dSegmentationDataset: general mode, 1 uid's, 1 steps_per_epoch\n",
      "2020-12-10 19:57:16,730 INFO     pid:28513 inference:129:segment_ct Running inference for uid: 541\n",
      "2020-12-10 19:57:17,540 INFO     pid:28513 inference:131:segment_ct input shape torch.Size([58, 512, 512])\n",
      "2020-12-10 19:57:22,864 INFO     pid:28513 inference:146:segment_ct output shape: (58, 512, 512)\n",
      "2020-12-10 19:57:23,735 INFO     pid:28513 modules.dsets:263:__init__ Covid2dSegmentationDataset: general mode, 1 uid's, 1 steps_per_epoch\n",
      "2020-12-10 19:57:23,736 INFO     pid:28513 inference:129:segment_ct Running inference for uid: 16424106_02-13-2012-CT PE CHEST-89548_6\n",
      "2020-12-10 19:57:24,951 INFO     pid:28513 inference:131:segment_ct input shape torch.Size([92, 512, 512])\n",
      "2020-12-10 19:57:33,601 INFO     pid:28513 inference:146:segment_ct output shape: (92, 512, 512)\n",
      "2020-12-10 19:57:34,749 INFO     pid:28513 modules.dsets:263:__init__ Covid2dSegmentationDataset: general mode, 1 uid's, 1 steps_per_epoch\n",
      "2020-12-10 19:57:34,751 INFO     pid:28513 inference:129:segment_ct Running inference for uid: 16434411_02-24-2012-CT PE CHEST-50553_5\n",
      "2020-12-10 19:57:35,952 INFO     pid:28513 inference:131:segment_ct input shape torch.Size([105, 512, 512])\n",
      "2020-12-10 19:57:45,650 INFO     pid:28513 inference:146:segment_ct output shape: (105, 512, 512)\n",
      "2020-12-10 19:57:46,942 INFO     pid:28513 modules.dsets:263:__init__ Covid2dSegmentationDataset: general mode, 1 uid's, 1 steps_per_epoch\n",
      "2020-12-10 19:57:46,943 INFO     pid:28513 inference:129:segment_ct Running inference for uid: 16406488_02-14-2012-CT PE CHEST-63916_4\n",
      "2020-12-10 19:57:48,280 INFO     pid:28513 inference:131:segment_ct input shape torch.Size([114, 512, 512])\n",
      "2020-12-10 19:57:59,004 INFO     pid:28513 inference:146:segment_ct output shape: (114, 512, 512)\n",
      "2020-12-10 19:58:00,354 INFO     pid:28513 modules.dsets:263:__init__ Covid2dSegmentationDataset: general mode, 1 uid's, 1 steps_per_epoch\n",
      "2020-12-10 19:58:00,355 INFO     pid:28513 inference:129:segment_ct Running inference for uid: 16445144_03-13-2012-CT PE CHEST-17430_5\n",
      "2020-12-10 19:58:01,812 INFO     pid:28513 inference:131:segment_ct input shape torch.Size([120, 512, 512])\n",
      "2020-12-10 19:58:12,560 INFO     pid:28513 inference:146:segment_ct output shape: (120, 512, 512)\n",
      "2020-12-10 19:58:13,688 INFO     pid:28513 modules.dsets:263:__init__ Covid2dSegmentationDataset: general mode, 1 uid's, 1 steps_per_epoch\n",
      "2020-12-10 19:58:13,689 INFO     pid:28513 inference:129:segment_ct Running inference for uid: 393\n",
      "2020-12-10 19:58:14,567 INFO     pid:28513 inference:131:segment_ct input shape torch.Size([63, 512, 512])\n",
      "2020-12-10 19:58:20,064 INFO     pid:28513 inference:146:segment_ct output shape: (63, 512, 512)\n",
      "2020-12-10 19:58:20,875 INFO     pid:28513 modules.dsets:263:__init__ Covid2dSegmentationDataset: general mode, 1 uid's, 1 steps_per_epoch\n",
      "2020-12-10 19:58:20,877 INFO     pid:28513 inference:129:segment_ct Running inference for uid: 276\n",
      "2020-12-10 19:58:21,732 INFO     pid:28513 inference:131:segment_ct input shape torch.Size([59, 512, 512])\n",
      "2020-12-10 19:58:27,101 INFO     pid:28513 inference:146:segment_ct output shape: (59, 512, 512)\n",
      "2020-12-10 19:58:28,064 INFO     pid:28513 modules.dsets:263:__init__ Covid2dSegmentationDataset: general mode, 1 uid's, 1 steps_per_epoch\n",
      "2020-12-10 19:58:28,065 INFO     pid:28513 inference:129:segment_ct Running inference for uid: 16434368_02-17-2012-CT CHEST ABDOMEN PELVIS W-73530_6\n",
      "2020-12-10 19:58:29,265 INFO     pid:28513 inference:131:segment_ct input shape torch.Size([103, 512, 512])\n",
      "2020-12-10 19:58:39,066 INFO     pid:28513 inference:146:segment_ct output shape: (103, 512, 512)\n",
      "2020-12-10 19:58:40,429 INFO     pid:28513 modules.dsets:263:__init__ Covid2dSegmentationDataset: general mode, 1 uid's, 1 steps_per_epoch\n",
      "2020-12-10 19:58:40,431 INFO     pid:28513 inference:129:segment_ct Running inference for uid: 16424071_03-09-2012-CT PE CHEST-00043_5\n",
      "2020-12-10 19:58:41,825 INFO     pid:28513 inference:131:segment_ct input shape torch.Size([111, 512, 512])\n",
      "2020-12-10 19:58:51,547 INFO     pid:28513 inference:146:segment_ct output shape: (111, 512, 512)\n",
      "2020-12-10 19:58:52,765 INFO     pid:28513 modules.dsets:263:__init__ Covid2dSegmentationDataset: general mode, 1 uid's, 1 steps_per_epoch\n",
      "2020-12-10 19:58:52,767 INFO     pid:28513 inference:129:segment_ct Running inference for uid: 16424111_02-08-2012-CT CHEST ABDOMEN PELVIS W-49310_6\n",
      "2020-12-10 19:58:53,812 INFO     pid:28513 inference:131:segment_ct input shape torch.Size([89, 512, 512])\n",
      "2020-12-10 19:59:02,437 INFO     pid:28513 inference:146:segment_ct output shape: (89, 512, 512)\n",
      "2020-12-10 19:59:03,624 INFO     pid:28513 modules.dsets:263:__init__ Covid2dSegmentationDataset: general mode, 1 uid's, 1 steps_per_epoch\n",
      "2020-12-10 19:59:03,626 INFO     pid:28513 inference:129:segment_ct Running inference for uid: 16445138_03-13-2012-CT PE CHEST-08282_8\n",
      "2020-12-10 19:59:05,024 INFO     pid:28513 inference:131:segment_ct input shape torch.Size([115, 512, 512])\n",
      "2020-12-10 19:59:15,794 INFO     pid:28513 inference:146:segment_ct output shape: (115, 512, 512)\n",
      "2020-12-10 19:59:17,139 INFO     pid:28513 modules.dsets:263:__init__ Covid2dSegmentationDataset: general mode, 1 uid's, 1 steps_per_epoch\n",
      "2020-12-10 19:59:17,140 INFO     pid:28513 inference:129:segment_ct Running inference for uid: 16445122_03-07-2012-CT PE CHEST-42763_5\n",
      "2020-12-10 19:59:18,324 INFO     pid:28513 inference:131:segment_ct input shape torch.Size([103, 512, 512])\n",
      "2020-12-10 19:59:28,044 INFO     pid:28513 inference:146:segment_ct output shape: (103, 512, 512)\n",
      "2020-12-10 19:59:29,192 INFO     pid:28513 modules.dsets:263:__init__ Covid2dSegmentationDataset: general mode, 1 uid's, 1 steps_per_epoch\n",
      "2020-12-10 19:59:29,194 INFO     pid:28513 inference:129:segment_ct Running inference for uid: 16434369_01-05-2012-CT CHEST ABDOMEN PELVIS W-99581_6\n",
      "2020-12-10 19:59:30,325 INFO     pid:28513 inference:131:segment_ct input shape torch.Size([86, 512, 512])\n",
      "2020-12-10 19:59:37,944 INFO     pid:28513 inference:146:segment_ct output shape: (86, 512, 512)\n",
      "2020-12-10 19:59:38,829 INFO     pid:28513 modules.dsets:263:__init__ Covid2dSegmentationDataset: general mode, 1 uid's, 1 steps_per_epoch\n",
      "2020-12-10 19:59:38,830 INFO     pid:28513 inference:129:segment_ct Running inference for uid: 373\n",
      "2020-12-10 19:59:39,625 INFO     pid:28513 inference:131:segment_ct input shape torch.Size([57, 512, 512])\n",
      "2020-12-10 19:59:44,991 INFO     pid:28513 inference:146:segment_ct output shape: (57, 512, 512)\n",
      "2020-12-10 19:59:45,672 INFO     pid:28513 modules.dsets:263:__init__ Covid2dSegmentationDataset: general mode, 1 uid's, 1 steps_per_epoch\n",
      "2020-12-10 19:59:45,673 INFO     pid:28513 inference:129:segment_ct Running inference for uid: 300\n",
      "2020-12-10 19:59:46,439 INFO     pid:28513 inference:131:segment_ct input shape torch.Size([54, 512, 512])\n",
      "2020-12-10 19:59:51,874 INFO     pid:28513 inference:146:segment_ct output shape: (54, 512, 512)\n",
      "2020-12-10 19:59:52,618 INFO     pid:28513 modules.dsets:263:__init__ Covid2dSegmentationDataset: general mode, 1 uid's, 1 steps_per_epoch\n",
      "2020-12-10 19:59:52,619 INFO     pid:28513 inference:129:segment_ct Running inference for uid: 605\n",
      "2020-12-10 19:59:53,610 INFO     pid:28513 inference:131:segment_ct input shape torch.Size([73, 512, 512])\n",
      "2020-12-10 20:00:00,035 INFO     pid:28513 inference:146:segment_ct output shape: (73, 512, 512)\n",
      "2020-12-10 20:00:02,130 INFO     pid:28513 modules.dsets:263:__init__ Covid2dSegmentationDataset: general mode, 1 uid's, 1 steps_per_epoch\n",
      "2020-12-10 20:00:02,134 INFO     pid:28513 inference:129:segment_ct Running inference for uid: 019\n",
      "2020-12-10 20:00:05,415 INFO     pid:28513 inference:131:segment_ct input shape torch.Size([321, 512, 512])\n",
      "2020-12-10 20:00:34,037 INFO     pid:28513 inference:146:segment_ct output shape: (321, 512, 512)\n",
      "2020-12-10 20:00:36,692 INFO     pid:28513 modules.dsets:263:__init__ Covid2dSegmentationDataset: general mode, 1 uid's, 1 steps_per_epoch\n",
      "2020-12-10 20:00:36,693 INFO     pid:28513 inference:129:segment_ct Running inference for uid: 16434363_02-20-2012-CT PE CHEST-45135_5\n",
      "2020-12-10 20:00:37,859 INFO     pid:28513 inference:131:segment_ct input shape torch.Size([98, 512, 512])\n",
      "2020-12-10 20:00:46,513 INFO     pid:28513 inference:146:segment_ct output shape: (98, 512, 512)\n",
      "2020-12-10 20:00:47,475 INFO     pid:28513 modules.dsets:263:__init__ Covid2dSegmentationDataset: general mode, 1 uid's, 1 steps_per_epoch\n",
      "2020-12-10 20:00:47,476 INFO     pid:28513 inference:129:segment_ct Running inference for uid: 527\n",
      "2020-12-10 20:00:48,270 INFO     pid:28513 inference:131:segment_ct input shape torch.Size([54, 512, 512])\n",
      "2020-12-10 20:00:53,776 INFO     pid:28513 inference:146:segment_ct output shape: (54, 512, 512)\n",
      "2020-12-10 20:00:54,543 INFO     pid:28513 modules.dsets:263:__init__ Covid2dSegmentationDataset: general mode, 1 uid's, 1 steps_per_epoch\n",
      "2020-12-10 20:00:54,544 INFO     pid:28513 inference:129:segment_ct Running inference for uid: 304\n",
      "2020-12-10 20:00:55,521 INFO     pid:28513 inference:131:segment_ct input shape torch.Size([73, 512, 512])\n",
      "2020-12-10 20:01:01,932 INFO     pid:28513 inference:146:segment_ct output shape: (73, 512, 512)\n",
      "2020-12-10 20:01:02,947 INFO     pid:28513 modules.dsets:263:__init__ Covid2dSegmentationDataset: general mode, 1 uid's, 1 steps_per_epoch\n",
      "2020-12-10 20:01:02,949 INFO     pid:28513 inference:129:segment_ct Running inference for uid: 16406490_02-05-2012-CT PE CHEST-37142_5\n",
      "2020-12-10 20:01:04,073 INFO     pid:28513 inference:131:segment_ct input shape torch.Size([96, 512, 512])\n",
      "2020-12-10 20:01:12,731 INFO     pid:28513 inference:146:segment_ct output shape: (96, 512, 512)\n",
      "2020-12-10 20:01:13,744 INFO     pid:28513 modules.dsets:263:__init__ Covid2dSegmentationDataset: general mode, 1 uid's, 1 steps_per_epoch\n",
      "2020-12-10 20:01:13,745 INFO     pid:28513 inference:129:segment_ct Running inference for uid: 491\n",
      "2020-12-10 20:01:14,682 INFO     pid:28513 inference:131:segment_ct input shape torch.Size([64, 512, 512])\n",
      "2020-12-10 20:01:20,166 INFO     pid:28513 inference:146:segment_ct output shape: (64, 512, 512)\n",
      "2020-12-10 20:01:20,957 INFO     pid:28513 modules.dsets:263:__init__ Covid2dSegmentationDataset: general mode, 1 uid's, 1 steps_per_epoch\n",
      "2020-12-10 20:01:20,958 INFO     pid:28513 inference:129:segment_ct Running inference for uid: 176\n",
      "2020-12-10 20:01:21,822 INFO     pid:28513 inference:131:segment_ct input shape torch.Size([63, 512, 512])\n",
      "2020-12-10 20:01:27,184 INFO     pid:28513 inference:146:segment_ct output shape: (63, 512, 512)\n",
      "2020-12-10 20:01:28,012 INFO     pid:28513 modules.dsets:263:__init__ Covid2dSegmentationDataset: general mode, 1 uid's, 1 steps_per_epoch\n",
      "2020-12-10 20:01:28,014 INFO     pid:28513 inference:129:segment_ct Running inference for uid: 069\n",
      "2020-12-10 20:01:28,943 INFO     pid:28513 inference:131:segment_ct input shape torch.Size([64, 512, 512])\n",
      "2020-12-10 20:01:34,462 INFO     pid:28513 inference:146:segment_ct output shape: (64, 512, 512)\n",
      "2020-12-10 20:01:35,241 INFO     pid:28513 modules.dsets:263:__init__ Covid2dSegmentationDataset: general mode, 1 uid's, 1 steps_per_epoch\n",
      "2020-12-10 20:01:35,243 INFO     pid:28513 inference:129:segment_ct Running inference for uid: 157\n",
      "2020-12-10 20:01:36,108 INFO     pid:28513 inference:131:segment_ct input shape torch.Size([57, 512, 512])\n",
      "2020-12-10 20:01:41,465 INFO     pid:28513 inference:146:segment_ct output shape: (57, 512, 512)\n",
      "2020-12-10 20:01:42,470 INFO     pid:28513 modules.dsets:263:__init__ Covid2dSegmentationDataset: general mode, 1 uid's, 1 steps_per_epoch\n",
      "2020-12-10 20:01:42,474 INFO     pid:28513 inference:129:segment_ct Running inference for uid: 16424120_02-13-2012-CT PE CHEST-65182_4\n",
      "2020-12-10 20:01:43,835 INFO     pid:28513 inference:131:segment_ct input shape torch.Size([113, 512, 512])\n",
      "2020-12-10 20:01:54,661 INFO     pid:28513 inference:146:segment_ct output shape: (113, 512, 512)\n",
      "2020-12-10 20:01:55,839 INFO     pid:28513 modules.dsets:263:__init__ Covid2dSegmentationDataset: general mode, 1 uid's, 1 steps_per_epoch\n",
      "2020-12-10 20:01:55,841 INFO     pid:28513 inference:129:segment_ct Running inference for uid: 453\n",
      "2020-12-10 20:01:56,788 INFO     pid:28513 inference:131:segment_ct input shape torch.Size([64, 512, 512])\n",
      "2020-12-10 20:02:02,324 INFO     pid:28513 inference:146:segment_ct output shape: (64, 512, 512)\n",
      "2020-12-10 20:02:03,287 INFO     pid:28513 modules.dsets:263:__init__ Covid2dSegmentationDataset: general mode, 1 uid's, 1 steps_per_epoch\n",
      "2020-12-10 20:02:03,290 INFO     pid:28513 inference:129:segment_ct Running inference for uid: 16424081_02-05-2012-CT PE CHEST-20052_5\n",
      "2020-12-10 20:02:04,470 INFO     pid:28513 inference:131:segment_ct input shape torch.Size([91, 512, 512])\n",
      "2020-12-10 20:02:13,159 INFO     pid:28513 inference:146:segment_ct output shape: (91, 512, 512)\n",
      "2020-12-10 20:02:14,390 INFO     pid:28513 modules.dsets:263:__init__ Covid2dSegmentationDataset: general mode, 1 uid's, 1 steps_per_epoch\n",
      "2020-12-10 20:02:14,392 INFO     pid:28513 inference:129:segment_ct Running inference for uid: 16406503_01-05-2012-CT PE CHEST-39342_5\n",
      "2020-12-10 20:02:15,643 INFO     pid:28513 inference:131:segment_ct input shape torch.Size([109, 512, 512])\n",
      "2020-12-10 20:02:25,383 INFO     pid:28513 inference:146:segment_ct output shape: (109, 512, 512)\n",
      "2020-12-10 20:02:26,812 INFO     pid:28513 modules.dsets:263:__init__ Covid2dSegmentationDataset: general mode, 1 uid's, 1 steps_per_epoch\n",
      "2020-12-10 20:02:26,813 INFO     pid:28513 inference:129:segment_ct Running inference for uid: 16406513_12-24-2011-CT PE CHEST-83965_5\n",
      "2020-12-10 20:02:28,127 INFO     pid:28513 inference:131:segment_ct input shape torch.Size([119, 512, 512])\n",
      "2020-12-10 20:02:38,914 INFO     pid:28513 inference:146:segment_ct output shape: (119, 512, 512)\n",
      "2020-12-10 20:02:40,080 INFO     pid:28513 modules.dsets:263:__init__ Covid2dSegmentationDataset: general mode, 1 uid's, 1 steps_per_epoch\n",
      "2020-12-10 20:02:40,081 INFO     pid:28513 inference:129:segment_ct Running inference for uid: 587\n",
      "2020-12-10 20:02:40,839 INFO     pid:28513 inference:131:segment_ct input shape torch.Size([53, 512, 512])\n",
      "2020-12-10 20:02:46,204 INFO     pid:28513 inference:146:segment_ct output shape: (53, 512, 512)\n",
      "2020-12-10 20:02:47,280 INFO     pid:28513 modules.dsets:263:__init__ Covid2dSegmentationDataset: general mode, 1 uid's, 1 steps_per_epoch\n",
      "2020-12-10 20:02:47,281 INFO     pid:28513 inference:129:segment_ct Running inference for uid: 16406498_02-22-2012-CT CHEST W CONTRAST-94020_2\n",
      "2020-12-10 20:02:48,643 INFO     pid:28513 inference:131:segment_ct input shape torch.Size([118, 512, 512])\n",
      "2020-12-10 20:02:59,417 INFO     pid:28513 inference:146:segment_ct output shape: (118, 512, 512)\n",
      "2020-12-10 20:03:00,589 INFO     pid:28513 modules.dsets:263:__init__ Covid2dSegmentationDataset: general mode, 1 uid's, 1 steps_per_epoch\n",
      "2020-12-10 20:03:00,591 INFO     pid:28513 inference:129:segment_ct Running inference for uid: 135\n",
      "2020-12-10 20:03:01,367 INFO     pid:28513 inference:131:segment_ct input shape torch.Size([54, 512, 512])\n",
      "2020-12-10 20:03:06,913 INFO     pid:28513 inference:146:segment_ct output shape: (54, 512, 512)\n",
      "2020-12-10 20:03:07,957 INFO     pid:28513 modules.dsets:263:__init__ Covid2dSegmentationDataset: general mode, 1 uid's, 1 steps_per_epoch\n",
      "2020-12-10 20:03:07,958 INFO     pid:28513 inference:129:segment_ct Running inference for uid: 16424076_02-03-2012-CT CHEST ABDOMEN PELVIS W-21911_6\n",
      "2020-12-10 20:03:09,406 INFO     pid:28513 inference:131:segment_ct input shape torch.Size([114, 512, 512])\n",
      "2020-12-10 20:03:20,176 INFO     pid:28513 inference:146:segment_ct output shape: (114, 512, 512)\n",
      "2020-12-10 20:03:21,006 INFO     pid:28513 nb:069:run_shell_cmd Finished: inference.CovidInferenceApp.['--data-path=/home/fsuser/programming/datasets/COVID-19-20_TestSet/', '--run-all'].main()\n"
     ]
    }
   ],
   "source": [
    "run_shell_cmd(log, 'inference.CovidInferenceApp', f'--data-path={inference_data_path}', '--run-all')\n",
    "\n",
    "# again you can specify a model path if you wish\n",
    "# run_shell_cmd(log, 'inference.CovidInferenceApp', f'--data-path={inference_data_path}', f'--model-path={model_path}', '--run-all')"
   ]
  },
  {
   "cell_type": "code",
   "execution_count": null,
   "metadata": {},
   "outputs": [],
   "source": []
  }
 ],
 "metadata": {
  "kernelspec": {
   "display_name": "Python 3",
   "language": "python",
   "name": "python3"
  },
  "language_info": {
   "codemirror_mode": {
    "name": "ipython",
    "version": 3
   },
   "file_extension": ".py",
   "mimetype": "text/x-python",
   "name": "python",
   "nbconvert_exporter": "python",
   "pygments_lexer": "ipython3",
   "version": "3.8.6"
  }
 },
 "nbformat": 4,
 "nbformat_minor": 4
}
