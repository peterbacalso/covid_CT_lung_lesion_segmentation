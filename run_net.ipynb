{
 "cells": [
  {
   "cell_type": "code",
   "execution_count": 1,
   "metadata": {},
   "outputs": [],
   "source": [
    "%load_ext autoreload\n",
    "%autoreload 2\n",
    "%matplotlib inline"
   ]
  },
  {
   "cell_type": "code",
   "execution_count": 2,
   "metadata": {},
   "outputs": [],
   "source": [
    "from modules.util.util import importstr, run_shell_cmd\n",
    "from modules.util.logconf import logging\n",
    "log = logging.getLogger('nb')"
   ]
  },
  {
   "cell_type": "code",
   "execution_count": 3,
   "metadata": {},
   "outputs": [],
   "source": [
    "# data_path = 'COVID-19-20_v2/Train'     # replace with local train data path here\n",
    "data_path = '/mnt/16614710-4b50-44ce-a3f3-13105cdf14ad/datasets/COVID-19-20_v2/Train'"
   ]
  },
  {
   "cell_type": "markdown",
   "metadata": {},
   "source": [
    "Generate metadata and cache files"
   ]
  },
  {
   "cell_type": "code",
   "execution_count": null,
   "metadata": {},
   "outputs": [
    {
     "name": "stderr",
     "output_type": "stream",
     "text": [
      "2020-12-08 18:16:53,282 INFO     pid:317187 nb:060:run_shell_cmd Running: prepcache.CovidPrepCacheApp(['--data-path=/mnt/16614710-4b50-44ce-a3f3-13105cdf14ad/datasets/COVID-19-20_v2/Train', '--num-workers=4', '--batch-size=200']).main()\n",
      "2020-12-08 18:16:54,036 INFO     pid:317187 numexpr.utils:141:_init_num_threads NumExpr defaulting to 4 threads.\n",
      "2020-12-08 18:16:54,051 INFO     pid:317187 prepcache:062:main Starting CovidPrepCacheApp, Namespace(batch_size=200, data_path='/mnt/16614710-4b50-44ce-a3f3-13105cdf14ad/datasets/COVID-19-20_v2/Train', num_workers=4, width_irc=[16, 128, 128])\n",
      "  0%|          | 0/1 [00:00<?, ?it/s]"
     ]
    }
   ],
   "source": [
    "run_shell_cmd(log, 'prepcache.CovidPrepCacheApp', f'--data-path={data_path}', f'--num-workers={4}', f'--batch-size={200}')"
   ]
  },
  {
   "cell_type": "markdown",
   "metadata": {},
   "source": [
    "Use lr finder to find a good learning rate"
   ]
  },
  {
   "cell_type": "code",
   "execution_count": null,
   "metadata": {},
   "outputs": [],
   "source": [
    "run_shell_cmd(log, 'modules.util.lr_finder.LearningRateFinder')"
   ]
  },
  {
   "cell_type": "markdown",
   "metadata": {},
   "source": [
    "Set the value of learning rate as found by the learning rate founder"
   ]
  },
  {
   "cell_type": "code",
   "execution_count": null,
   "metadata": {},
   "outputs": [],
   "source": [
    "learning_rate = 1e-1"
   ]
  },
  {
   "cell_type": "markdown",
   "metadata": {},
   "source": [
    "Begin training"
   ]
  },
  {
   "cell_type": "code",
   "execution_count": null,
   "metadata": {},
   "outputs": [],
   "source": [
    "run_shell_cmd(log, 'training.CovidSegmentationTrainingApp', f'--lr={learning_rate})"
   ]
  },
  {
   "cell_type": "code",
   "execution_count": null,
   "metadata": {},
   "outputs": [],
   "source": []
  }
 ],
 "metadata": {
  "kernelspec": {
   "display_name": "Python 3",
   "language": "python",
   "name": "python3"
  },
  "language_info": {
   "codemirror_mode": {
    "name": "ipython",
    "version": 3
   },
   "file_extension": ".py",
   "mimetype": "text/x-python",
   "name": "python",
   "nbconvert_exporter": "python",
   "pygments_lexer": "ipython3",
   "version": "3.8.5"
  }
 },
 "nbformat": 4,
 "nbformat_minor": 4
}
