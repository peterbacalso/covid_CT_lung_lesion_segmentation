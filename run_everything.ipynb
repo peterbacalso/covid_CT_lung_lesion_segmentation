{
 "cells": [
  {
   "cell_type": "code",
   "execution_count": 1,
   "metadata": {},
   "outputs": [],
   "source": [
    "%load_ext autoreload\n",
    "%autoreload 2"
   ]
  },
  {
   "cell_type": "code",
   "execution_count": 2,
   "metadata": {},
   "outputs": [],
   "source": [
    "import datetime\n",
    "import torch\n",
    "\n",
    "from modules.util.util import importstr\n",
    "from modules.util.logconf import logging\n",
    "log = logging.getLogger('nb')"
   ]
  },
  {
   "cell_type": "code",
   "execution_count": 3,
   "metadata": {},
   "outputs": [],
   "source": [
    "def run(app, *argv):    \n",
    "    argv = list(argv)\n",
    "    argv.insert(0, '--num-workers=4')\n",
    "    log.info(\"Running: {}({!r}).main()\".format(app, argv))\n",
    "    \n",
    "    app_cls = importstr(*app.rsplit('.', 1))\n",
    "    app_cls(argv).main()\n",
    "    \n",
    "    log.info(\"Finished: {}.{!r}.main()\".format(app, argv))"
   ]
  },
  {
   "cell_type": "code",
   "execution_count": 4,
   "metadata": {},
   "outputs": [],
   "source": [
    "torch.cuda.empty_cache()"
   ]
  },
  {
   "cell_type": "markdown",
   "metadata": {},
   "source": [
    "Hyperparams to test:\n",
    "\n",
    "1. bounding box size\n",
    "2. ~batch size~\n",
    "3. ~learning rate~\n",
    "4. ~steps per epoch~\n",
    "5. windowing\n",
    "6. augmentation\n",
    "7. model depth\n",
    "8. weight decay\n",
    "9. pad type"
   ]
  },
  {
   "cell_type": "code",
   "execution_count": 5,
   "metadata": {},
   "outputs": [],
   "source": [
    "experiment_epochs = 3\n",
    "val_cadence = 1\n",
    "batch_size = 32\n",
    "recall_priority = 0\n",
    "pad_types = ['zero', 'reflect', 'replicate']\n",
    "windows = [None, 'lung', 'mediastinal', 'dist']"
   ]
  },
  {
   "cell_type": "markdown",
   "metadata": {},
   "source": [
    "# BBox (7,60,60)"
   ]
  },
  {
   "cell_type": "markdown",
   "metadata": {},
   "source": [
    "We will first try to run tests using a (7,60,60) bounding box"
   ]
  },
  {
   "cell_type": "code",
   "execution_count": 4,
   "metadata": {},
   "outputs": [
    {
     "name": "stderr",
     "output_type": "stream",
     "text": [
      "2020-11-13 18:48:24,751 INFO     pid:49136 nb:004:run Running: prepcache.CovidPrepCacheApp(['--num-workers=4', '--width-irc', '7', '60', '60']).main()\n",
      "2020-11-13 18:48:25,679 INFO     pid:49136 prepcache:040:main Starting CovidPrepCacheApp, Namespace(batch_size=1024, num_workers=4, width_irc=['7', '60', '60'])\n",
      "100%|██████████| 2/2 [01:03<00:00, 31.57s/it]\n",
      "2020-11-13 18:49:28,889 INFO     pid:49136 nb:009:run Finished: prepcache.CovidPrepCacheApp.['--num-workers=4', '--width-irc', '7', '60', '60'].main()\n"
     ]
    }
   ],
   "source": [
    "# run('prepcache.CovidPrepCacheApp', '--width-irc', '7', '60', '60')"
   ]
  },
  {
   "cell_type": "markdown",
   "metadata": {},
   "source": [
    "## First Run (default hyperparams)"
   ]
  },
  {
   "cell_type": "code",
   "execution_count": 6,
   "metadata": {},
   "outputs": [
    {
     "name": "stderr",
     "output_type": "stream",
     "text": [
      "2020-11-14 14:04:31,053 INFO     pid:15525 nb:004:run Running: training.CovidSegmentationTrainingApp(['--num-workers=4', '--epochs=3', '--batch-size=32', '--run-name=bbox60']).main()\n",
      "2020-11-14 14:04:32,457 INFO     pid:15525 training:184:init_model Using CUDA; 1 devices.\n",
      "2020-11-14 14:04:35,100 INFO     pid:15525 modules.dsets:185:__init__ TrainingCovid2dSegmentationDataset: training mode, 177 uid's, 4379 index slices, 1080 lesions\n",
      "2020-11-14 14:04:35,101 INFO     pid:15525 modules.dsets:226:__init__ TrainingCovid2dSegmentationDataset: (7, 60, 60) width_irc\n",
      "2020-11-14 14:04:35,108 INFO     pid:15525 modules.dsets:185:__init__ Covid2dSegmentationDataset: validation mode, 20 uid's, 592 index slices, 157 lesions\n"
     ]
    },
    {
     "ename": "NameError",
     "evalue": "name 'epochs' is not defined",
     "output_type": "error",
     "traceback": [
      "\u001b[0;31m---------------------------------------------------------------------------\u001b[0m",
      "\u001b[0;31mNameError\u001b[0m                                 Traceback (most recent call last)",
      "\u001b[0;32m<ipython-input-6-41030a6fd44f>\u001b[0m in \u001b[0;36m<module>\u001b[0;34m\u001b[0m\n\u001b[0;32m----> 1\u001b[0;31m \u001b[0mrun\u001b[0m\u001b[0;34m(\u001b[0m\u001b[0;34m'training.CovidSegmentationTrainingApp'\u001b[0m\u001b[0;34m,\u001b[0m \u001b[0;34mf'--epochs={experiment_epochs}'\u001b[0m\u001b[0;34m,\u001b[0m \u001b[0;34mf'--batch-size={batch_size}'\u001b[0m\u001b[0;34m,\u001b[0m \u001b[0;34m'--run-name=bbox60'\u001b[0m\u001b[0;34m)\u001b[0m\u001b[0;34m\u001b[0m\u001b[0;34m\u001b[0m\u001b[0m\n\u001b[0m\u001b[1;32m      2\u001b[0m \u001b[0;34m\u001b[0m\u001b[0m\n\u001b[1;32m      3\u001b[0m \u001b[0;31m# dummy run to finish wandb\u001b[0m\u001b[0;34m\u001b[0m\u001b[0;34m\u001b[0m\u001b[0;34m\u001b[0m\u001b[0m\n\u001b[1;32m      4\u001b[0m \u001b[0mrun\u001b[0m\u001b[0;34m(\u001b[0m\u001b[0;34m'training.CovidSegmentationTrainingApp'\u001b[0m\u001b[0;34m,\u001b[0m \u001b[0;34m'--epochs=0'\u001b[0m\u001b[0;34m,\u001b[0m \u001b[0;34m'--run-name=to delete'\u001b[0m\u001b[0;34m)\u001b[0m\u001b[0;34m\u001b[0m\u001b[0;34m\u001b[0m\u001b[0m\n",
      "\u001b[0;32m<ipython-input-3-5ffe129c3e59>\u001b[0m in \u001b[0;36mrun\u001b[0;34m(app, *argv)\u001b[0m\n\u001b[1;32m      5\u001b[0m \u001b[0;34m\u001b[0m\u001b[0m\n\u001b[1;32m      6\u001b[0m     \u001b[0mapp_cls\u001b[0m \u001b[0;34m=\u001b[0m \u001b[0mimportstr\u001b[0m\u001b[0;34m(\u001b[0m\u001b[0;34m*\u001b[0m\u001b[0mapp\u001b[0m\u001b[0;34m.\u001b[0m\u001b[0mrsplit\u001b[0m\u001b[0;34m(\u001b[0m\u001b[0;34m'.'\u001b[0m\u001b[0;34m,\u001b[0m \u001b[0;36m1\u001b[0m\u001b[0;34m)\u001b[0m\u001b[0;34m)\u001b[0m\u001b[0;34m\u001b[0m\u001b[0;34m\u001b[0m\u001b[0m\n\u001b[0;32m----> 7\u001b[0;31m     \u001b[0mapp_cls\u001b[0m\u001b[0;34m(\u001b[0m\u001b[0margv\u001b[0m\u001b[0;34m)\u001b[0m\u001b[0;34m.\u001b[0m\u001b[0mmain\u001b[0m\u001b[0;34m(\u001b[0m\u001b[0;34m)\u001b[0m\u001b[0;34m\u001b[0m\u001b[0;34m\u001b[0m\u001b[0m\n\u001b[0m\u001b[1;32m      8\u001b[0m \u001b[0;34m\u001b[0m\u001b[0m\n\u001b[1;32m      9\u001b[0m     \u001b[0mlog\u001b[0m\u001b[0;34m.\u001b[0m\u001b[0minfo\u001b[0m\u001b[0;34m(\u001b[0m\u001b[0;34m\"Finished: {}.{!r}.main()\"\u001b[0m\u001b[0;34m.\u001b[0m\u001b[0mformat\u001b[0m\u001b[0;34m(\u001b[0m\u001b[0mapp\u001b[0m\u001b[0;34m,\u001b[0m \u001b[0margv\u001b[0m\u001b[0;34m)\u001b[0m\u001b[0;34m)\u001b[0m\u001b[0;34m\u001b[0m\u001b[0;34m\u001b[0m\u001b[0m\n",
      "\u001b[0;32m~/programming/projects/covid_CT_lung_lesion_segmentation/training.py\u001b[0m in \u001b[0;36m__init__\u001b[0;34m(self, argv)\u001b[0m\n\u001b[1;32m    163\u001b[0m         \u001b[0mself\u001b[0m\u001b[0;34m.\u001b[0m\u001b[0mwindow\u001b[0m \u001b[0;34m=\u001b[0m \u001b[0mself\u001b[0m\u001b[0;34m.\u001b[0m\u001b[0mcli_args\u001b[0m\u001b[0;34m.\u001b[0m\u001b[0mct_window\u001b[0m\u001b[0;34m\u001b[0m\u001b[0;34m\u001b[0m\u001b[0m\n\u001b[1;32m    164\u001b[0m         \u001b[0mself\u001b[0m\u001b[0;34m.\u001b[0m\u001b[0mtrain_dl\u001b[0m\u001b[0;34m,\u001b[0m \u001b[0mself\u001b[0m\u001b[0;34m.\u001b[0m\u001b[0mvalid_dl\u001b[0m \u001b[0;34m=\u001b[0m \u001b[0mself\u001b[0m\u001b[0;34m.\u001b[0m\u001b[0minit_dl\u001b[0m\u001b[0;34m(\u001b[0m\u001b[0;34m)\u001b[0m\u001b[0;34m\u001b[0m\u001b[0;34m\u001b[0m\u001b[0m\n\u001b[0;32m--> 165\u001b[0;31m         \u001b[0mself\u001b[0m\u001b[0;34m.\u001b[0m\u001b[0mscheduler\u001b[0m \u001b[0;34m=\u001b[0m \u001b[0mself\u001b[0m\u001b[0;34m.\u001b[0m\u001b[0minit_scheduler\u001b[0m\u001b[0;34m(\u001b[0m\u001b[0;34m)\u001b[0m\u001b[0;34m\u001b[0m\u001b[0;34m\u001b[0m\u001b[0m\n\u001b[0m\u001b[1;32m    166\u001b[0m         \u001b[0mself\u001b[0m\u001b[0;34m.\u001b[0m\u001b[0mloss_func\u001b[0m \u001b[0;34m=\u001b[0m \u001b[0mself\u001b[0m\u001b[0;34m.\u001b[0m\u001b[0minit_loss_func\u001b[0m\u001b[0;34m(\u001b[0m\u001b[0;34m)\u001b[0m\u001b[0;34m\u001b[0m\u001b[0;34m\u001b[0m\u001b[0m\n\u001b[1;32m    167\u001b[0m         \u001b[0mself\u001b[0m\u001b[0;34m.\u001b[0m\u001b[0mtotal_training_samples_count\u001b[0m \u001b[0;34m=\u001b[0m \u001b[0;36m0\u001b[0m\u001b[0;34m\u001b[0m\u001b[0;34m\u001b[0m\u001b[0m\n",
      "\u001b[0;32m~/programming/projects/covid_CT_lung_lesion_segmentation/training.py\u001b[0m in \u001b[0;36minit_scheduler\u001b[0;34m(self)\u001b[0m\n\u001b[1;32m    240\u001b[0m         return OneCycleLR(self.optim, max_lr=3e-1,\n\u001b[1;32m    241\u001b[0m                           \u001b[0msteps_per_epoch\u001b[0m\u001b[0;34m=\u001b[0m\u001b[0mlen\u001b[0m\u001b[0;34m(\u001b[0m\u001b[0mself\u001b[0m\u001b[0;34m.\u001b[0m\u001b[0mtrain_dl\u001b[0m\u001b[0;34m)\u001b[0m\u001b[0;34m,\u001b[0m\u001b[0;34m\u001b[0m\u001b[0;34m\u001b[0m\u001b[0m\n\u001b[0;32m--> 242\u001b[0;31m                           epochs=epochs)\n\u001b[0m\u001b[1;32m    243\u001b[0m \u001b[0;34m\u001b[0m\u001b[0m\n\u001b[1;32m    244\u001b[0m     \u001b[0;32mdef\u001b[0m \u001b[0mbatch_loss\u001b[0m\u001b[0;34m(\u001b[0m\u001b[0mself\u001b[0m\u001b[0;34m,\u001b[0m \u001b[0midx\u001b[0m\u001b[0;34m,\u001b[0m \u001b[0mbatch\u001b[0m\u001b[0;34m,\u001b[0m \u001b[0mbatch_size\u001b[0m\u001b[0;34m,\u001b[0m \u001b[0mmetrics\u001b[0m\u001b[0;34m,\u001b[0m \u001b[0mthresh\u001b[0m\u001b[0;34m=\u001b[0m\u001b[0;36m.5\u001b[0m\u001b[0;34m)\u001b[0m\u001b[0;34m:\u001b[0m\u001b[0;34m\u001b[0m\u001b[0;34m\u001b[0m\u001b[0m\n",
      "\u001b[0;31mNameError\u001b[0m: name 'epochs' is not defined"
     ]
    }
   ],
   "source": [
    "run('training.CovidSegmentationTrainingApp', f'--epochs={experiment_epochs}', f'--batch-size={batch_size}', '--run-name=bbox60')\n",
    "\n",
    "# dummy run to finish wandb\n",
    "run('training.CovidSegmentationTrainingApp', '--epochs=0', '--run-name=to delete')"
   ]
  },
  {
   "cell_type": "markdown",
   "metadata": {},
   "source": [
    "We are overfitting quite severly by predicting almost everything to be a lesion. Lets try to add augmentation and see how it performs"
   ]
  },
  {
   "cell_type": "markdown",
   "metadata": {},
   "source": [
    "## Augmentation Test"
   ]
  },
  {
   "cell_type": "code",
   "execution_count": null,
   "metadata": {},
   "outputs": [
    {
     "name": "stderr",
     "output_type": "stream",
     "text": [
      "2020-11-14 13:48:59,115 INFO     pid:10583 nb:006:run Running: training.CovidSegmentationTrainingApp(['--num-workers=4', '--epochs=3', '--batch-size=32', '--augment-flip', '--run-name=bb60,flip aug']).main()\n",
      "2020-11-14 13:48:59,127 INFO     pid:10583 training:174:init_model Using CUDA; 1 devices.\n",
      "2020-11-14 13:48:59,159 INFO     pid:10583 modules.dsets:185:__init__ TrainingCovid2dSegmentationDataset: training mode, 177 uid's, 4379 index slices, 1080 lesions\n",
      "2020-11-14 13:48:59,161 INFO     pid:10583 modules.dsets:226:__init__ TrainingCovid2dSegmentationDataset: (7, 60, 60) width_irc\n",
      "2020-11-14 13:48:59,174 INFO     pid:10583 modules.dsets:185:__init__ Covid2dSegmentationDataset: validation mode, 20 uid's, 592 index slices, 157 lesions\n",
      "\u001b[34m\u001b[1mwandb\u001b[0m: \u001b[33mWARNING\u001b[0m Calling wandb.login() after wandb.init() has no effect.\n"
     ]
    },
    {
     "data": {
      "text/html": [
       "<br/>Waiting for W&B process to finish, PID 11974<br/>Program ended successfully."
      ],
      "text/plain": [
       "<IPython.core.display.HTML object>"
      ]
     },
     "metadata": {},
     "output_type": "display_data"
    },
    {
     "data": {
      "application/vnd.jupyter.widget-view+json": {
       "model_id": "038d80bca3ac44f3ae47df68db3449ab",
       "version_major": 2,
       "version_minor": 0
      },
      "text/plain": [
       "VBox(children=(Label(value=' 0.00MB of 0.00MB uploaded (0.00MB deduped)\\r'), FloatProgress(value=1.0, max=1.0)…"
      ]
     },
     "metadata": {},
     "output_type": "display_data"
    },
    {
     "data": {
      "text/html": [
       "Find user logs for this run at: <code>wandb/run-20201114_133815-1ghu6o17/logs/debug.log</code>"
      ],
      "text/plain": [
       "<IPython.core.display.HTML object>"
      ]
     },
     "metadata": {},
     "output_type": "display_data"
    },
    {
     "data": {
      "text/html": [
       "Find internal logs for this run at: <code>wandb/run-20201114_133815-1ghu6o17/logs/debug-internal.log</code>"
      ],
      "text/plain": [
       "<IPython.core.display.HTML object>"
      ]
     },
     "metadata": {},
     "output_type": "display_data"
    },
    {
     "data": {
      "text/html": [
       "Synced 5 W&B file(s), 0 media file(s), 0 artifact file(s) and 0 other file(s)"
      ],
      "text/plain": [
       "<IPython.core.display.HTML object>"
      ]
     },
     "metadata": {},
     "output_type": "display_data"
    },
    {
     "data": {
      "text/html": [
       "\n",
       "                    <br/>Synced <strong style=\"color:#cdcd00\">to delete</strong>: <a href=\"https://wandb.ai/peterbacalso/covid19_seg/runs/1ghu6o17\" target=\"_blank\">https://wandb.ai/peterbacalso/covid19_seg/runs/1ghu6o17</a><br/>\n",
       "                "
      ],
      "text/plain": [
       "<IPython.core.display.HTML object>"
      ]
     },
     "metadata": {},
     "output_type": "display_data"
    },
    {
     "name": "stderr",
     "output_type": "stream",
     "text": [
      "\u001b[34m\u001b[1mwandb\u001b[0m: wandb version 0.10.10 is available!  To upgrade, please run:\n",
      "\u001b[34m\u001b[1mwandb\u001b[0m:  $ pip install wandb --upgrade\n"
     ]
    },
    {
     "data": {
      "text/html": [
       "\n",
       "                Tracking run with wandb version 0.10.8<br/>\n",
       "                Syncing run <strong style=\"color:#cdcd00\">bb60,flip aug</strong> to <a href=\"https://wandb.ai\" target=\"_blank\">Weights & Biases</a> <a href=\"https://docs.wandb.com/integrations/jupyter.html\" target=\"_blank\">(Documentation)</a>.<br/>\n",
       "                Project page: <a href=\"https://wandb.ai/peterbacalso/covid19_seg\" target=\"_blank\">https://wandb.ai/peterbacalso/covid19_seg</a><br/>\n",
       "                Run page: <a href=\"https://wandb.ai/peterbacalso/covid19_seg/runs/13xezxqd\" target=\"_blank\">https://wandb.ai/peterbacalso/covid19_seg/runs/13xezxqd</a><br/>\n",
       "                Run data is saved locally in <code>wandb/run-20201114_134859-13xezxqd</code><br/><br/>\n",
       "            "
      ],
      "text/plain": [
       "<IPython.core.display.HTML object>"
      ]
     },
     "metadata": {},
     "output_type": "display_data"
    },
    {
     "name": "stderr",
     "output_type": "stream",
     "text": [
      "2020-11-14 13:49:03,765 INFO     pid:10583 training:455:main Starting CovidSegmentationTrainingApp, Namespace(augment_flip=True, augment_noise=False, augment_offset=False, augment_rotate=False, augment_scale=False, augmented=False, batch_size=32, ct_window=None, epochs=3, num_workers=4, pad_type='zero', run_name='bb60,flip aug', val_cadence=1, width_irc=[7, 60, 60])\n"
     ]
    },
    {
     "data": {
      "text/html": [
       "<table border=\"1\" class=\"dataframe\">\n",
       "  <thead>\n",
       "    <tr style=\"text-align: left;\">\n",
       "      <th>epoch</th>\n",
       "      <th>loss/trn</th>\n",
       "      <th>loss/val</th>\n",
       "      <th>metrics_val/miss_rate</th>\n",
       "      <th>metrics_val/fp_to_mask_ratio</th>\n",
       "      <th>pr_val/precision</th>\n",
       "      <th>pr_val/recall</th>\n",
       "      <th>pr_val/f1_score</th>\n",
       "    </tr>\n",
       "  </thead>\n",
       "  <tbody>\n",
       "    <tr>\n",
       "      <td>1</td>\n",
       "      <td>0.4540</td>\n",
       "      <td>0.9667</td>\n",
       "      <td>0.0003</td>\n",
       "      <td>57.1078</td>\n",
       "      <td>0.0172</td>\n",
       "      <td>0.9997</td>\n",
       "      <td>0.0338</td>\n",
       "    </tr>\n",
       "    <tr>\n",
       "      <td>2</td>\n",
       "      <td>0.4501</td>\n",
       "      <td>0.9669</td>\n",
       "      <td>0.0009</td>\n",
       "      <td>57.4648</td>\n",
       "      <td>0.0171</td>\n",
       "      <td>0.9991</td>\n",
       "      <td>0.0336</td>\n",
       "    </tr>\n",
       "    <tr>\n",
       "      <td>3</td>\n",
       "      <td>0.4449</td>\n",
       "      <td>0.9662</td>\n",
       "      <td>0.0008</td>\n",
       "      <td>56.2887</td>\n",
       "      <td>0.0174</td>\n",
       "      <td>0.9992</td>\n",
       "      <td>0.0343</td>\n",
       "    </tr>\n",
       "  </tbody>\n",
       "</table>"
      ],
      "text/plain": [
       "<IPython.core.display.HTML object>"
      ]
     },
     "metadata": {},
     "output_type": "display_data"
    },
    {
     "name": "stderr",
     "output_type": "stream",
     "text": [
      "2020-11-14 13:49:11,616 INFO     pid:10583 training:297:log_metrics E1 CovidSegmentationTrainingApp\n",
      "2020-11-14 13:49:11,617 INFO     pid:10583 training:326:log_metrics E1 trn      0.4540 loss, 0.4222 precision, 0.9903 recall, 0.5920 f1 score 0.0097 miss rate 1.3555 fp to label ratio\n",
      "2020-11-14 13:49:26,615 INFO     pid:10583 training:297:log_metrics E1 CovidSegmentationTrainingApp\n",
      "2020-11-14 13:49:26,617 INFO     pid:10583 training:335:log_metrics E1 val      0.9667 loss, 0.0172 precision, 0.9997 recall, 0.0338 f1 score 0.0003 miss rate 57.1078 fp to label ratio\n",
      "2020-11-14 13:49:42,809 INFO     pid:10583 training:434:save_model Saved model params to saved-models/2020-11-14_13.48.59.10000.state\n",
      "2020-11-14 13:49:42,811 INFO     pid:10583 training:439:save_model Saved model params to saved-models/2020-11-14_13.48.59.best.state\n",
      "2020-11-14 13:49:42,816 INFO     pid:10583 training:444:save_model SHA1: dbe4b509dba9a86b316fdc851740c05ff285ca21\n",
      "2020-11-14 13:49:50,273 INFO     pid:10583 training:297:log_metrics E2 CovidSegmentationTrainingApp\n",
      "2020-11-14 13:49:50,275 INFO     pid:10583 training:326:log_metrics E2 trn      0.4501 loss, 0.4246 precision, 0.9983 recall, 0.5958 f1 score 0.0017 miss rate 1.3527 fp to label ratio\n",
      "2020-11-14 13:50:09,039 INFO     pid:10583 training:297:log_metrics E2 CovidSegmentationTrainingApp\n",
      "2020-11-14 13:50:09,040 INFO     pid:10583 training:335:log_metrics E2 val      0.9669 loss, 0.0171 precision, 0.9991 recall, 0.0336 f1 score 0.0009 miss rate 57.4648 fp to label ratio\n",
      "2020-11-14 13:50:25,642 INFO     pid:10583 training:434:save_model Saved model params to saved-models/2020-11-14_13.48.59.20000.state\n",
      "2020-11-14 13:50:25,644 INFO     pid:10583 training:444:save_model SHA1: d1599ae11857b87444ce8b903c83397e0c1b91e2\n",
      "2020-11-14 13:50:33,579 INFO     pid:10583 training:297:log_metrics E3 CovidSegmentationTrainingApp\n",
      "2020-11-14 13:50:33,580 INFO     pid:10583 training:326:log_metrics E3 trn      0.4449 loss, 0.4304 precision, 0.9981 recall, 0.6015 f1 score 0.0019 miss rate 1.3208 fp to label ratio\n",
      "2020-11-14 13:50:57,304 INFO     pid:10583 training:297:log_metrics E3 CovidSegmentationTrainingApp\n",
      "2020-11-14 13:50:57,305 INFO     pid:10583 training:335:log_metrics E3 val      0.9662 loss, 0.0174 precision, 0.9992 recall, 0.0343 f1 score 0.0008 miss rate 56.2887 fp to label ratio\n",
      "2020-11-14 13:51:13,711 INFO     pid:10583 training:434:save_model Saved model params to saved-models/2020-11-14_13.48.59.30000.state\n",
      "2020-11-14 13:51:13,713 INFO     pid:10583 training:439:save_model Saved model params to saved-models/2020-11-14_13.48.59.best.state\n",
      "2020-11-14 13:51:13,715 INFO     pid:10583 training:444:save_model SHA1: ddc89ae408e05e4e28c7c0524d842b7fcd19d995\n",
      "2020-11-14 13:51:13,717 INFO     pid:10583 nb:011:run Finished: training.CovidSegmentationTrainingApp.['--num-workers=4', '--epochs=3', '--batch-size=32', '--augment-flip', '--run-name=bb60,flip aug'].main()\n",
      "2020-11-14 13:51:13,777 INFO     pid:10583 nb:006:run Running: training.CovidSegmentationTrainingApp(['--num-workers=4', '--epochs=3', '--batch-size=32', '--augment-offset', '--run-name=bb60,offset aug']).main()\n",
      "2020-11-14 13:51:13,793 INFO     pid:10583 training:174:init_model Using CUDA; 1 devices.\n",
      "2020-11-14 13:51:13,848 INFO     pid:10583 modules.dsets:185:__init__ TrainingCovid2dSegmentationDataset: training mode, 177 uid's, 4379 index slices, 1080 lesions\n",
      "2020-11-14 13:51:13,848 INFO     pid:10583 modules.dsets:226:__init__ TrainingCovid2dSegmentationDataset: (7, 60, 60) width_irc\n",
      "2020-11-14 13:51:13,854 INFO     pid:10583 modules.dsets:185:__init__ Covid2dSegmentationDataset: validation mode, 20 uid's, 592 index slices, 157 lesions\n",
      "\u001b[34m\u001b[1mwandb\u001b[0m: \u001b[33mWARNING\u001b[0m Calling wandb.login() after wandb.init() has no effect.\n"
     ]
    },
    {
     "data": {
      "text/html": [
       "<br/>Waiting for W&B process to finish, PID 12594<br/>Program ended successfully."
      ],
      "text/plain": [
       "<IPython.core.display.HTML object>"
      ]
     },
     "metadata": {},
     "output_type": "display_data"
    }
   ],
   "source": [
    "run('training.CovidSegmentationTrainingApp', f'--epochs={experiment_epochs}', f'--batch-size={batch_size}', '--augment-flip', '--run-name=bb60,flip aug')\n",
    "run('training.CovidSegmentationTrainingApp', f'--epochs={experiment_epochs}', f'--batch-size={batch_size}', '--augment-offset', '--run-name=bb60,offset aug')\n",
    "run('training.CovidSegmentationTrainingApp', f'--epochs={experiment_epochs}', f'--batch-size={batch_size}', '--augment-scale', '--run-name=bb60,scale aug')\n",
    "run('training.CovidSegmentationTrainingApp', f'--epochs={experiment_epochs}', f'--batch-size={batch_size}', '--augment-rotate', '--run-name=bb60,rotate aug')\n",
    "run('training.CovidSegmentationTrainingApp', f'--epochs={experiment_epochs}', f'--batch-size={batch_size}', '--augment-noice', '--run-name=bb60,noise aug')\n",
    "run('training.CovidSegmentationTrainingApp', f'--epochs={experiment_epochs}', f'--batch-size={batch_size}', '--augmented', '--run-name=bb60,all aug')\n",
    "\n",
    "# dummy run to finish wandb\n",
    "run('training.CovidSegmentationTrainingApp', '--epochs=0', '--run-name=to delete')"
   ]
  },
  {
   "cell_type": "markdown",
   "metadata": {},
   "source": [
    "# Bbox (7,100,100)"
   ]
  },
  {
   "cell_type": "markdown",
   "metadata": {},
   "source": [
    "Fill cache for (7,100,100) bounding box"
   ]
  },
  {
   "cell_type": "code",
   "execution_count": null,
   "metadata": {},
   "outputs": [],
   "source": [
    "# run('prepcache.CovidPrepCacheApp', '--width-irc', '7', '100', '100')"
   ]
  }
 ],
 "metadata": {
  "kernelspec": {
   "display_name": "Python 3",
   "language": "python",
   "name": "python3"
  },
  "language_info": {
   "codemirror_mode": {
    "name": "ipython",
    "version": 3
   },
   "file_extension": ".py",
   "mimetype": "text/x-python",
   "name": "python",
   "nbconvert_exporter": "python",
   "pygments_lexer": "ipython3",
   "version": "3.8.5"
  }
 },
 "nbformat": 4,
 "nbformat_minor": 4
}
