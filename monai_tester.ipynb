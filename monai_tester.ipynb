{
 "cells": [
  {
   "cell_type": "markdown",
   "metadata": {},
   "source": [
    "monai_tester"
   ]
  },
  {
   "cell_type": "code",
   "execution_count": 1,
   "metadata": {},
   "outputs": [],
   "source": [
    "%load_ext autoreload\n",
    "%autoreload 2"
   ]
  },
  {
   "cell_type": "code",
   "execution_count": 2,
   "metadata": {},
   "outputs": [],
   "source": [
    "import os\n",
    "import torch\n",
    "import monai\n",
    "import numpy as np\n",
    "import nibabel as nib\n",
    "\n",
    "from pathlib import Path\n",
    "from modules.monai_dset import get_ds\n",
    "from modules.model import UNet3dWrapper  \n",
    "\n",
    "from dotenv import load_dotenv\n",
    "load_dotenv()\n",
    "data_dir = os.environ.get('datasets_path')  \n",
    "local_dataset_path = Path(f'{data_dir}/COVID-19-20_v2') "
   ]
  },
  {
   "cell_type": "code",
   "execution_count": 3,
   "metadata": {},
   "outputs": [
    {
     "name": "stderr",
     "output_type": "stream",
     "text": [
      "Load and cache transformed data: 100%|██████████| 9/9 [00:39<00:00,  4.37s/it]\n",
      "Load and cache transformed data: 100%|██████████| 2/2 [00:03<00:00,  1.72s/it]\n"
     ]
    }
   ],
   "source": [
    "trn_ds, val_ds = get_ds(data_folder=str(local_dataset_path/'Train'), width_cri=(192,192,16))"
   ]
  },
  {
   "cell_type": "code",
   "execution_count": 4,
   "metadata": {},
   "outputs": [
    {
     "data": {
      "text/plain": [
       "(9, 2)"
      ]
     },
     "execution_count": 4,
     "metadata": {},
     "output_type": "execute_result"
    }
   ],
   "source": [
    "len(trn_ds), len(val_ds)"
   ]
  },
  {
   "cell_type": "code",
   "execution_count": 5,
   "metadata": {},
   "outputs": [
    {
     "data": {
      "text/plain": [
       "torch.Size([1, 192, 192, 16])"
      ]
     },
     "execution_count": 5,
     "metadata": {},
     "output_type": "execute_result"
    }
   ],
   "source": [
    "trn_ds[0][0]['image'].shape"
   ]
  },
  {
   "cell_type": "code",
   "execution_count": 6,
   "metadata": {},
   "outputs": [
    {
     "data": {
      "text/plain": [
       "torch.Size([1, 304, 304, 71])"
      ]
     },
     "execution_count": 6,
     "metadata": {},
     "output_type": "execute_result"
    }
   ],
   "source": [
    "val_ds[1]['image'].shape"
   ]
  },
  {
   "cell_type": "code",
   "execution_count": 7,
   "metadata": {},
   "outputs": [],
   "source": [
    "trn_loader = monai.data.DataLoader(trn_ds, batch_size=2, num_workers=4, pin_memory=True)\n",
    "val_loader = monai.data.DataLoader(val_ds, batch_size=1, num_workers=4, pin_memory=True)"
   ]
  },
  {
   "cell_type": "code",
   "execution_count": null,
   "metadata": {},
   "outputs": [],
   "source": [
    "slice_idx * (ct.hu.shape[0] - 1) // 5 "
   ]
  },
  {
   "cell_type": "code",
   "execution_count": 21,
   "metadata": {},
   "outputs": [],
   "source": [
    "val_ct = val_loader.dataset[8]['image']"
   ]
  },
  {
   "cell_type": "code",
   "execution_count": 24,
   "metadata": {},
   "outputs": [
    {
     "data": {
      "text/plain": [
       "torch.Size([1, 397, 397, 73])"
      ]
     },
     "execution_count": 24,
     "metadata": {},
     "output_type": "execute_result"
    }
   ],
   "source": [
    "val_ct.shape"
   ]
  },
  {
   "cell_type": "code",
   "execution_count": 23,
   "metadata": {},
   "outputs": [
    {
     "data": {
      "text/plain": [
       "14"
      ]
     },
     "execution_count": 23,
     "metadata": {},
     "output_type": "execute_result"
    }
   ],
   "source": [
    "val_ct.shape[-1] // 5 "
   ]
  },
  {
   "cell_type": "code",
   "execution_count": 13,
   "metadata": {},
   "outputs": [
    {
     "data": {
      "text/plain": [
       "{'image': tensor([[[[0.0000, 0.0000, 0.0000,  ..., 0.0000, 0.0000, 0.0000],\n",
       "           [0.0000, 0.0000, 0.0000,  ..., 0.0000, 0.0000, 0.0000],\n",
       "           [0.0000, 0.0000, 0.0000,  ..., 0.0000, 0.0000, 0.0000],\n",
       "           ...,\n",
       "           [0.0000, 0.0000, 0.0000,  ..., 0.0000, 0.0000, 0.0000],\n",
       "           [0.0000, 0.0000, 0.0000,  ..., 0.0000, 0.0000, 0.0000],\n",
       "           [0.0000, 0.0000, 0.0000,  ..., 0.0000, 0.0000, 0.0000]],\n",
       " \n",
       "          [[0.0000, 0.0000, 0.0000,  ..., 0.0000, 0.0000, 0.0000],\n",
       "           [0.0000, 0.0000, 0.0000,  ..., 0.0000, 0.0000, 0.0000],\n",
       "           [0.0000, 0.0000, 0.0000,  ..., 0.0000, 0.0000, 0.0000],\n",
       "           ...,\n",
       "           [0.0000, 0.0000, 0.0000,  ..., 0.0000, 0.0000, 0.0000],\n",
       "           [0.0000, 0.0000, 0.0000,  ..., 0.0000, 0.0000, 0.0000],\n",
       "           [0.0000, 0.0000, 0.0000,  ..., 0.0000, 0.0000, 0.0000]],\n",
       " \n",
       "          [[0.0000, 0.0000, 0.0000,  ..., 0.0000, 0.0000, 0.0000],\n",
       "           [0.0000, 0.0000, 0.0000,  ..., 0.0000, 0.0000, 0.0000],\n",
       "           [0.0000, 0.0000, 0.0000,  ..., 0.0000, 0.0000, 0.0000],\n",
       "           ...,\n",
       "           [0.0000, 0.0000, 0.0000,  ..., 0.0000, 0.0000, 0.0000],\n",
       "           [0.0000, 0.0000, 0.0000,  ..., 0.0000, 0.0000, 0.0000],\n",
       "           [0.0000, 0.0000, 0.0000,  ..., 0.0000, 0.0000, 0.0000]],\n",
       " \n",
       "          ...,\n",
       " \n",
       "          [[0.0473, 0.0000, 0.0943,  ..., 0.0663, 0.0068, 0.1498],\n",
       "           [0.0449, 0.0731, 0.0587,  ..., 0.0561, 0.0459, 0.0614],\n",
       "           [0.0508, 0.0428, 0.0218,  ..., 0.0361, 0.0436, 0.0583],\n",
       "           ...,\n",
       "           [0.0207, 0.0600, 0.0428,  ..., 0.0406, 0.0369, 0.0458],\n",
       "           [0.0902, 0.0826, 0.0908,  ..., 0.0949, 0.0874, 0.1000],\n",
       "           [0.0913, 0.0975, 0.0828,  ..., 0.0857, 0.0694, 0.0705]],\n",
       " \n",
       "          [[0.0647, 0.0511, 0.1078,  ..., 0.0776, 0.0441, 0.0232],\n",
       "           [0.0662, 0.0934, 0.0268,  ..., 0.0373, 0.0515, 0.0618],\n",
       "           [0.0594, 0.0631, 0.0387,  ..., 0.0271, 0.0484, 0.0498],\n",
       "           ...,\n",
       "           [0.0361, 0.0346, 0.0277,  ..., 0.0330, 0.0397, 0.0245],\n",
       "           [0.0977, 0.0963, 0.0930,  ..., 0.0913, 0.0955, 0.0889],\n",
       "           [0.0729, 0.0693, 0.0804,  ..., 0.0734, 0.0737, 0.0715]],\n",
       " \n",
       "          [[0.0636, 0.0565, 0.0694,  ..., 0.1045, 0.0543, 0.0020],\n",
       "           [0.0600, 0.0668, 0.0227,  ..., 0.0762, 0.0510, 0.0745],\n",
       "           [0.0506, 0.0421, 0.0453,  ..., 0.0776, 0.0668, 0.0691],\n",
       "           ...,\n",
       "           [0.0548, 0.0277, 0.0327,  ..., 0.0309, 0.0116, 0.0304],\n",
       "           [0.1004, 0.1207, 0.1039,  ..., 0.0986, 0.1213, 0.0931],\n",
       "           [0.0716, 0.0772, 0.0720,  ..., 0.0648, 0.0878, 0.0703]]]]),\n",
       " 'label': tensor([[[[0, 0, 0,  ..., 0, 0, 0],\n",
       "           [0, 0, 0,  ..., 0, 0, 0],\n",
       "           [0, 0, 0,  ..., 0, 0, 0],\n",
       "           ...,\n",
       "           [0, 0, 0,  ..., 0, 0, 0],\n",
       "           [0, 0, 0,  ..., 0, 0, 0],\n",
       "           [0, 0, 0,  ..., 0, 0, 0]],\n",
       " \n",
       "          [[0, 0, 0,  ..., 0, 0, 0],\n",
       "           [0, 0, 0,  ..., 0, 0, 0],\n",
       "           [0, 0, 0,  ..., 0, 0, 0],\n",
       "           ...,\n",
       "           [0, 0, 0,  ..., 0, 0, 0],\n",
       "           [0, 0, 0,  ..., 0, 0, 0],\n",
       "           [0, 0, 0,  ..., 0, 0, 0]],\n",
       " \n",
       "          [[0, 0, 0,  ..., 0, 0, 0],\n",
       "           [0, 0, 0,  ..., 0, 0, 0],\n",
       "           [0, 0, 0,  ..., 0, 0, 0],\n",
       "           ...,\n",
       "           [0, 0, 0,  ..., 0, 0, 0],\n",
       "           [0, 0, 0,  ..., 0, 0, 0],\n",
       "           [0, 0, 0,  ..., 0, 0, 0]],\n",
       " \n",
       "          ...,\n",
       " \n",
       "          [[0, 0, 0,  ..., 0, 0, 0],\n",
       "           [0, 0, 0,  ..., 0, 0, 0],\n",
       "           [0, 0, 0,  ..., 0, 0, 0],\n",
       "           ...,\n",
       "           [0, 0, 0,  ..., 0, 0, 0],\n",
       "           [0, 0, 0,  ..., 0, 0, 0],\n",
       "           [0, 0, 0,  ..., 0, 0, 0]],\n",
       " \n",
       "          [[0, 0, 0,  ..., 0, 0, 0],\n",
       "           [0, 0, 0,  ..., 0, 0, 0],\n",
       "           [0, 0, 0,  ..., 0, 0, 0],\n",
       "           ...,\n",
       "           [0, 0, 0,  ..., 0, 0, 0],\n",
       "           [0, 0, 0,  ..., 0, 0, 0],\n",
       "           [0, 0, 0,  ..., 0, 0, 0]],\n",
       " \n",
       "          [[0, 0, 0,  ..., 0, 0, 0],\n",
       "           [0, 0, 0,  ..., 0, 0, 0],\n",
       "           [0, 0, 0,  ..., 0, 0, 0],\n",
       "           ...,\n",
       "           [0, 0, 0,  ..., 0, 0, 0],\n",
       "           [0, 0, 0,  ..., 0, 0, 0],\n",
       "           [0, 0, 0,  ..., 0, 0, 0]]]], dtype=torch.uint8),\n",
       " 'image_meta_dict': {'sizeof_hdr': array(348, dtype=int32),\n",
       "  'extents': array(0, dtype=int32),\n",
       "  'session_error': array(0, dtype=int16),\n",
       "  'dim_info': array(0, dtype=uint8),\n",
       "  'dim': array([  3, 512, 512,  66,   1,   1,   1,   1], dtype=int16),\n",
       "  'intent_p1': array(0., dtype=float32),\n",
       "  'intent_p2': array(0., dtype=float32),\n",
       "  'intent_p3': array(0., dtype=float32),\n",
       "  'intent_code': array(0, dtype=int16),\n",
       "  'datatype': array(4, dtype=int16),\n",
       "  'bitpix': array(16, dtype=int16),\n",
       "  'slice_start': array(0, dtype=int16),\n",
       "  'pixdim': array([1.   , 0.741, 0.741, 5.   , 0.   , 0.   , 0.   , 0.   ],\n",
       "        dtype=float32),\n",
       "  'vox_offset': array(0., dtype=float32),\n",
       "  'scl_slope': array(nan, dtype=float32),\n",
       "  'scl_inter': array(nan, dtype=float32),\n",
       "  'slice_end': array(0, dtype=int16),\n",
       "  'slice_code': array(0, dtype=uint8),\n",
       "  'xyzt_units': array(10, dtype=uint8),\n",
       "  'cal_max': array(0., dtype=float32),\n",
       "  'cal_min': array(0., dtype=float32),\n",
       "  'slice_duration': array(0., dtype=float32),\n",
       "  'toffset': array(0., dtype=float32),\n",
       "  'glmax': array(4603, dtype=int32),\n",
       "  'glmin': array(-2048, dtype=int32),\n",
       "  'qform_code': array(1, dtype=int16),\n",
       "  'sform_code': array(0, dtype=int16),\n",
       "  'quatern_b': array(0., dtype=float32),\n",
       "  'quatern_c': array(0., dtype=float32),\n",
       "  'quatern_d': array(1., dtype=float32),\n",
       "  'qoffset_x': array(192.597, dtype=float32),\n",
       "  'qoffset_y': array(189.4729, dtype=float32),\n",
       "  'qoffset_z': array(-339.5, dtype=float32),\n",
       "  'srow_x': array([0., 0., 0., 0.], dtype=float32),\n",
       "  'srow_y': array([0., 0., 0., 0.], dtype=float32),\n",
       "  'srow_z': array([0., 0., 0., 0.], dtype=float32),\n",
       "  'filename_or_obj': '/mnt/16614710-4b50-44ce-a3f3-13105cdf14ad/datasets/COVID-19-20_v2/Train/volume-covid19-A-0038_ct.nii.gz',\n",
       "  'affine': array([[   1.25      ,    0.        ,    0.        , -186.05399817],\n",
       "         [   0.        ,    1.25      ,    0.        , -189.1780979 ],\n",
       "         [   0.        ,    0.        ,    5.        , -339.5       ],\n",
       "         [   0.        ,    0.        ,    0.        ,    1.        ]]),\n",
       "  'original_affine': array([[  -0.741     ,    0.        ,    0.        ,  192.59700012],\n",
       "         [   0.        ,   -0.741     ,    0.        ,  189.47290039],\n",
       "         [   0.        ,    0.        ,    5.        , -339.5       ],\n",
       "         [   0.        ,    0.        ,    0.        ,    1.        ]]),\n",
       "  'as_closest_canonical': False,\n",
       "  'spatial_shape': array([512, 512,  66], dtype=int16)},\n",
       " 'label_meta_dict': {'sizeof_hdr': array(348, dtype=int32),\n",
       "  'extents': array(0, dtype=int32),\n",
       "  'session_error': array(0, dtype=int16),\n",
       "  'dim_info': array(0, dtype=uint8),\n",
       "  'dim': array([  3, 512, 512,  66,   1,   1,   1,   1], dtype=int16),\n",
       "  'intent_p1': array(0., dtype=float32),\n",
       "  'intent_p2': array(0., dtype=float32),\n",
       "  'intent_p3': array(0., dtype=float32),\n",
       "  'intent_code': array(0, dtype=int16),\n",
       "  'datatype': array(512, dtype=int16),\n",
       "  'bitpix': array(16, dtype=int16),\n",
       "  'slice_start': array(0, dtype=int16),\n",
       "  'pixdim': array([1.   , 0.741, 0.741, 5.   , 0.   , 0.   , 0.   , 0.   ],\n",
       "        dtype=float32),\n",
       "  'vox_offset': array(0., dtype=float32),\n",
       "  'scl_slope': array(nan, dtype=float32),\n",
       "  'scl_inter': array(nan, dtype=float32),\n",
       "  'slice_end': array(0, dtype=int16),\n",
       "  'slice_code': array(0, dtype=uint8),\n",
       "  'xyzt_units': array(2, dtype=uint8),\n",
       "  'cal_max': array(0., dtype=float32),\n",
       "  'cal_min': array(0., dtype=float32),\n",
       "  'slice_duration': array(0., dtype=float32),\n",
       "  'toffset': array(0., dtype=float32),\n",
       "  'glmax': array(0, dtype=int32),\n",
       "  'glmin': array(0, dtype=int32),\n",
       "  'qform_code': array(1, dtype=int16),\n",
       "  'sform_code': array(0, dtype=int16),\n",
       "  'quatern_b': array(0., dtype=float32),\n",
       "  'quatern_c': array(0., dtype=float32),\n",
       "  'quatern_d': array(1., dtype=float32),\n",
       "  'qoffset_x': array(192.597, dtype=float32),\n",
       "  'qoffset_y': array(189.4729, dtype=float32),\n",
       "  'qoffset_z': array(-339.5, dtype=float32),\n",
       "  'srow_x': array([0., 0., 0., 0.], dtype=float32),\n",
       "  'srow_y': array([0., 0., 0., 0.], dtype=float32),\n",
       "  'srow_z': array([0., 0., 0., 0.], dtype=float32),\n",
       "  'filename_or_obj': '/mnt/16614710-4b50-44ce-a3f3-13105cdf14ad/datasets/COVID-19-20_v2/Train/volume-covid19-A-0038_seg.nii.gz',\n",
       "  'affine': array([[   1.25      ,    0.        ,    0.        , -186.05399817],\n",
       "         [   0.        ,    1.25      ,    0.        , -189.1780979 ],\n",
       "         [   0.        ,    0.        ,    5.        , -339.5       ],\n",
       "         [   0.        ,    0.        ,    0.        ,    1.        ]]),\n",
       "  'original_affine': array([[  -0.741     ,    0.        ,    0.        ,  192.59700012],\n",
       "         [   0.        ,   -0.741     ,    0.        ,  189.47290039],\n",
       "         [   0.        ,    0.        ,    5.        , -339.5       ],\n",
       "         [   0.        ,    0.        ,    0.        ,    1.        ]]),\n",
       "  'as_closest_canonical': False,\n",
       "  'spatial_shape': array([512, 512,  66], dtype=int16)}}"
      ]
     },
     "execution_count": 13,
     "metadata": {},
     "output_type": "execute_result"
    }
   ],
   "source": [
    "trn_loader.dataset[8][1]"
   ]
  },
  {
   "cell_type": "code",
   "execution_count": 10,
   "metadata": {},
   "outputs": [
    {
     "name": "stdout",
     "output_type": "stream",
     "text": [
      "torch.Size([4, 1, 192, 192, 16])\n",
      "torch.Size([4, 1, 16, 192, 192])\n",
      "tensor(1.) tensor(0.)\n"
     ]
    }
   ],
   "source": [
    "for batch in trn_loader:\n",
    "    print(batch['image'].shape)\n",
    "    print(batch['image'].transpose(2,-1).shape)\n",
    "    print(batch['image'].max(), batch['image'].min())\n",
    "    break"
   ]
  },
  {
   "cell_type": "code",
   "execution_count": 26,
   "metadata": {},
   "outputs": [
    {
     "name": "stdout",
     "output_type": "stream",
     "text": [
      "torch.Size([1, 1, 352, 352, 60])\n"
     ]
    }
   ],
   "source": [
    "for batch in val_loader:\n",
    "    print(batch['image'].shape)\n",
    "    break"
   ]
  },
  {
   "cell_type": "code",
   "execution_count": 3,
   "metadata": {},
   "outputs": [],
   "source": [
    "seg_model = UNet3dWrapper(\n",
    "    in_channels=1,\n",
    "    n_classes=1,\n",
    "    depth=3,\n",
    "    wf=4,\n",
    "    padding=True,\n",
    "    pad_type='reflect',\n",
    "    batch_norm=True,\n",
    "    up_mode='upconv').cuda()"
   ]
  },
  {
   "cell_type": "code",
   "execution_count": 4,
   "metadata": {},
   "outputs": [],
   "source": [
    "def get_inferer(_mode=None):\n",
    "    \"\"\"returns a sliding window inference instance.\"\"\"\n",
    "\n",
    "    patch_size = (192, 192, 16)\n",
    "    sw_batch_size, overlap = 2, 0.5\n",
    "    inferer = monai.inferers.SlidingWindowInferer(\n",
    "        roi_size=patch_size,\n",
    "        sw_batch_size=sw_batch_size,\n",
    "        overlap=overlap,\n",
    "        mode=\"gaussian\",\n",
    "        padding_mode=\"reflect\",\n",
    "    )\n",
    "    return inferer"
   ]
  },
  {
   "cell_type": "code",
   "execution_count": 57,
   "metadata": {},
   "outputs": [],
   "source": [
    "max_epochs, lr, momentum = 500, 1e-4, 0.95\n",
    "opt = torch.optim.Adam(seg_model.parameters(), lr=lr)"
   ]
  },
  {
   "cell_type": "code",
   "execution_count": 76,
   "metadata": {},
   "outputs": [
    {
     "name": "stdout",
     "output_type": "stream",
     "text": [
      "torch.Size([6, 1, 192, 192, 16])\n"
     ]
    }
   ],
   "source": [
    "seg_model.eval()\n",
    "for batch in trn_loader:\n",
    "    img, label = batch['image'], batch['label']\n",
    "    img_g = img.cuda()\n",
    "    x = seg_model(img_g)\n",
    "    print(x.shape)\n",
    "    break"
   ]
  },
  {
   "cell_type": "code",
   "execution_count": 31,
   "metadata": {},
   "outputs": [],
   "source": [
    "torch.cuda.empty_cache()"
   ]
  },
  {
   "cell_type": "code",
   "execution_count": 27,
   "metadata": {},
   "outputs": [],
   "source": [
    "from monai.inferers import SlidingWindowInferer\n",
    "\n",
    "class ToyModel:\n",
    "    # A simple model generates the output by adding an integer `pred` to input.\n",
    "    # each call of this instance increases the integer by 1.\n",
    "    pred = 0\n",
    "    def __call__(self, input):\n",
    "        self.pred = self.pred + 1\n",
    "        input = input + self.pred\n",
    "        return input\n",
    "\n",
    "infer1 = SlidingWindowInferer(roi_size=(40, 40), sw_batch_size=1, overlap=0)\n",
    "infer2 = SlidingWindowInferer(roi_size=(40, 40), sw_batch_size=2, overlap=0)\n",
    "infer3 = SlidingWindowInferer(roi_size=(40, 40), sw_batch_size=10, overlap=0)\n",
    "input_tensor = torch.zeros(1, 1, 200, 200)\n",
    "# output_tensor = infer(input_tensor, seg_model)\n",
    "output_tensor_1 = infer1(input_tensor, ToyModel())\n",
    "output_tensor_2 = infer2(input_tensor, ToyModel())\n",
    "output_tensor_3 = infer3(input_tensor, ToyModel())"
   ]
  },
  {
   "cell_type": "code",
   "execution_count": 11,
   "metadata": {},
   "outputs": [],
   "source": [
    "import matplotlib.pyplot as plt"
   ]
  },
  {
   "cell_type": "code",
   "execution_count": 28,
   "metadata": {},
   "outputs": [],
   "source": [
    "# output_t = output_tensor.cpu().detach()\n",
    "output_1 = output_tensor_1"
   ]
  },
  {
   "cell_type": "code",
   "execution_count": 29,
   "metadata": {},
   "outputs": [
    {
     "data": {
      "text/plain": [
       "torch.Size([1, 1, 200, 200])"
      ]
     },
     "execution_count": 29,
     "metadata": {},
     "output_type": "execute_result"
    }
   ],
   "source": [
    "output_t.shape"
   ]
  },
  {
   "cell_type": "code",
   "execution_count": 30,
   "metadata": {},
   "outputs": [
    {
     "data": {
      "text/plain": [
       "<matplotlib.image.AxesImage at 0x7fe8818cbcd0>"
      ]
     },
     "execution_count": 30,
     "metadata": {},
     "output_type": "execute_result"
    },
    {
     "data": {
      "image/png": "[encoded data removed]",
      "text/plain": [
       "<Figure size 1440x360 with 3 Axes>"
      ]
     },
     "metadata": {
      "needs_background": "light"
     },
     "output_type": "display_data"
    }
   ],
   "source": [
    "fig, ax = plt.subplots(1,3, figsize=(20,5))\n",
    "ax[0].imshow(output_tensor_1[0, 0,:,:])\n",
    "ax[1].imshow(output_tensor_2[0, 0,:,:])\n",
    "ax[2].imshow(output_tensor_3[0, 0,:,:])"
   ]
  },
  {
   "cell_type": "code",
   "execution_count": 82,
   "metadata": {},
   "outputs": [
    {
     "data": {
      "image/png": "[encoded data removed]",
      "text/plain": [
       "<Figure size 432x288 with 1 Axes>"
      ]
     },
     "metadata": {
      "needs_background": "light"
     },
     "output_type": "display_data"
    }
   ],
   "source": [
    "plt.imshow(output_tensor[0, 0]); plt.show()"
   ]
  },
  {
   "cell_type": "code",
   "execution_count": null,
   "metadata": {},
   "outputs": [],
   "source": []
  }
 ],
 "metadata": {
  "kernelspec": {
   "display_name": "Python 3",
   "language": "python",
   "name": "python3"
  },
  "language_info": {
   "codemirror_mode": {
    "name": "ipython",
    "version": 3
   },
   "file_extension": ".py",
   "mimetype": "text/x-python",
   "name": "python",
   "nbconvert_exporter": "python",
   "pygments_lexer": "ipython3",
   "version": "3.8.5"
  }
 },
 "nbformat": 4,
 "nbformat_minor": 4
}
