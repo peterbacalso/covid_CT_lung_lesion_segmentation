{
 "cells": [
  {
   "cell_type": "markdown",
   "metadata": {},
   "source": [
    "Imports"
   ]
  },
  {
   "cell_type": "code",
   "execution_count": 1,
   "metadata": {},
   "outputs": [],
   "source": [
    "%load_ext autoreload\n",
    "%autoreload 2"
   ]
  },
  {
   "cell_type": "code",
   "execution_count": 2,
   "metadata": {},
   "outputs": [],
   "source": [
    "import os\n",
    "import datetime\n",
    "import torch\n",
    "import math\n",
    "from pathlib import Path\n",
    "\n",
    "from modules.util.util import importstr\n",
    "from modules.util.logconf import logging\n",
    "log = logging.getLogger('nb')\n",
    "\n",
    "from dotenv import load_dotenv\n",
    "load_dotenv()\n",
    "data_dir = os.environ.get('datasets_path')  \n",
    "local_dataset_path = Path(f'{data_dir}/COVID-19-20_v2') "
   ]
  },
  {
   "cell_type": "code",
   "execution_count": 3,
   "metadata": {},
   "outputs": [],
   "source": [
    "def run(app, *argv):    \n",
    "    torch.cuda.empty_cache()\n",
    "    \n",
    "    argv = list(argv)\n",
    "    argv.insert(0, '--num-workers=4')\n",
    "    log.info(\"Running: {}({!r}).main()\".format(app, argv))\n",
    "    \n",
    "    app_cls = importstr(*app.rsplit('.', 1))\n",
    "    app_cls(argv).main()\n",
    "    \n",
    "    log.info(\"Finished: {}.{!r}.main()\".format(app, argv))"
   ]
  },
  {
   "cell_type": "markdown",
   "metadata": {},
   "source": [
    "# Experiment"
   ]
  },
  {
   "cell_type": "code",
   "execution_count": 4,
   "metadata": {},
   "outputs": [],
   "source": [
    "batch_size = 2\n",
    "experiment_epochs = 2\n",
    "val_cadence = 1\n",
    "ratio_int = 1\n",
    "recall_priority = 0\n",
    "unet_depth = 3\n",
    "project_name = 'covid19_seg_v2'\n",
    "pad_types = ['zero', 'replicate']\n",
    "width_cri = (192,192,16)\n",
    "data_path = str(local_dataset_path/'Train')"
   ]
  },
  {
   "cell_type": "code",
   "execution_count": 5,
   "metadata": {},
   "outputs": [],
   "source": [
    "run_name = 'aug gpu'"
   ]
  },
  {
   "cell_type": "code",
   "execution_count": null,
   "metadata": {},
   "outputs": [
    {
     "name": "stderr",
     "output_type": "stream",
     "text": [
      "2020-11-26 23:51:32,766 INFO     pid:71497 nb:006:run Running: monai_training.CovidSegmentationTrainingApp(['--num-workers=4', '--batch-size=2', '--epochs=2', '--val-cadence=1', '--data-path=/mnt/16614710-4b50-44ce-a3f3-13105cdf14ad/datasets/COVID-19-20_v2/Train', '--augmented', '--recall-priority=0', '--depth=3', '--pad-type=zero', '--width-cri', '192', '192', '16', '--project-name=covid19_seg_v2', '--run-name=aug gpu']).main()\n",
      "2020-11-26 23:51:34,018 INFO     pid:71497 wandb:606:_apply_source_login setting login settings: {}\n",
      "\u001b[34m\u001b[1mwandb\u001b[0m: Currently logged in as: \u001b[33mpeterbacalso\u001b[0m (use `wandb login --relogin` to force relogin)\n",
      "\u001b[34m\u001b[1mwandb\u001b[0m: wandb version 0.10.11 is available!  To upgrade, please run:\n",
      "\u001b[34m\u001b[1mwandb\u001b[0m:  $ pip install wandb --upgrade\n"
     ]
    },
    {
     "data": {
      "text/html": [
       "\n",
       "                Tracking run with wandb version 0.10.8<br/>\n",
       "                Syncing run <strong style=\"color:#cdcd00\">aug gpu</strong> to <a href=\"https://wandb.ai\" target=\"_blank\">Weights & Biases</a> <a href=\"https://docs.wandb.com/integrations/jupyter.html\" target=\"_blank\">(Documentation)</a>.<br/>\n",
       "                Project page: <a href=\"https://wandb.ai/peterbacalso/covid19_seg_v2\" target=\"_blank\">https://wandb.ai/peterbacalso/covid19_seg_v2</a><br/>\n",
       "                Run page: <a href=\"https://wandb.ai/peterbacalso/covid19_seg_v2/runs/18esfgja\" target=\"_blank\">https://wandb.ai/peterbacalso/covid19_seg_v2/runs/18esfgja</a><br/>\n",
       "                Run data is saved locally in <code>wandb/run-20201126_235134-18esfgja</code><br/><br/>\n",
       "            "
      ],
      "text/plain": [
       "<IPython.core.display.HTML object>"
      ]
     },
     "metadata": {},
     "output_type": "display_data"
    },
    {
     "name": "stderr",
     "output_type": "stream",
     "text": [
      "2020-11-26 23:51:35,140 INFO     pid:71497 monai_training:199:init_model Using CUDA; 1 devices.\n",
      "2020-11-26 23:51:37,021 INFO     pid:71497 modules.monai_dset:076:get_ds training: image/label (199) folder: /mnt/16614710-4b50-44ce-a3f3-13105cdf14ad/datasets/COVID-19-20_v2/Train\n",
      "2020-11-26 23:51:37,022 INFO     pid:71497 modules.monai_dset:095:get_ds training: train 8 val 3, folder: /mnt/16614710-4b50-44ce-a3f3-13105cdf14ad/datasets/COVID-19-20_v2/Train\n",
      "Load and cache transformed data: 100%|██████████| 8/8 [00:32<00:00,  4.12s/it]\n",
      "Load and cache transformed data: 100%|██████████| 3/3 [00:10<00:00,  3.51s/it]\n",
      "2020-11-26 23:52:20,555 INFO     pid:71497 monai_training:470:main Starting CovidSegmentationTrainingApp, Namespace(augment_flip=False, augment_noise=False, augment_offset=False, augment_rotate=False, augment_scale=False, augmented=True, batch_size=2, data_path='/mnt/16614710-4b50-44ce-a3f3-13105cdf14ad/datasets/COVID-19-20_v2/Train', depth=3, epochs=2, num_workers=4, pad_type='zero', project_name='covid19_seg_v2', recall_priority=0, run_name='aug gpu', val_cadence=1, width_cri=['192', '192', '16'])\n"
     ]
    },
    {
     "data": {
      "text/html": [
       "<table border=\"1\" class=\"dataframe\">\n",
       "  <thead>\n",
       "    <tr style=\"text-align: left;\">\n",
       "      <th>epoch</th>\n",
       "      <th>loss/trn</th>\n",
       "      <th>loss/val</th>\n",
       "      <th>metrics_val/miss_rate</th>\n",
       "      <th>metrics_val/fp_to_mask_ratio</th>\n",
       "      <th>pr_val/precision</th>\n",
       "      <th>pr_val/recall</th>\n",
       "      <th>pr_val/f1_score</th>\n",
       "    </tr>\n",
       "  </thead>\n",
       "  <tbody>\n",
       "    <tr>\n",
       "      <td>1</td>\n",
       "      <td>0.9860</td>\n",
       "      <td>0.9755</td>\n",
       "      <td>0.0233</td>\n",
       "      <td>72.0386</td>\n",
       "      <td>0.0134</td>\n",
       "      <td>0.9767</td>\n",
       "      <td>0.0264</td>\n",
       "    </tr>\n",
       "    <tr>\n",
       "      <td>2</td>\n",
       "      <td>0.9530</td>\n",
       "      <td>0.9697</td>\n",
       "      <td>0.0374</td>\n",
       "      <td>55.0964</td>\n",
       "      <td>0.0172</td>\n",
       "      <td>0.9626</td>\n",
       "      <td>0.0337</td>\n",
       "    </tr>\n",
       "  </tbody>\n",
       "</table>"
      ],
      "text/plain": [
       "<IPython.core.display.HTML object>"
      ]
     },
     "metadata": {},
     "output_type": "display_data"
    },
    {
     "name": "stderr",
     "output_type": "stream",
     "text": [
      "2020-11-26 23:52:39,636 INFO     pid:71497 monai_training:337:log_metrics E1 CovidSegmentationTrainingApp\n",
      "2020-11-26 23:52:39,637 INFO     pid:71497 monai_training:366:log_metrics E1 trn      0.9860 loss, 0.0070 precision, 0.5183 recall, 0.0138 f1 score 0.4817 miss rate 73.7583 fp to label ratio\n",
      "2020-11-26 23:52:53,268 INFO     pid:71497 monai_training:337:log_metrics E1 CovidSegmentationTrainingApp\n",
      "2020-11-26 23:52:53,269 INFO     pid:71497 monai_training:375:log_metrics E1 val      0.9755 loss, 0.0134 precision, 0.9767 recall, 0.0264 f1 score 0.0233 miss rate 72.0386 fp to label ratio\n",
      "2020-11-26 23:52:54,305 INFO     pid:71497 monai_training:456:save_model Saved model params to saved-models/2020-11-26_23.51.33.16.state\n",
      "2020-11-26 23:52:54,308 INFO     pid:71497 monai_training:461:save_model Saved model params to saved-models/2020-11-26_23.51.33.best.state\n",
      "2020-11-26 23:52:54,312 INFO     pid:71497 monai_training:466:save_model SHA1: 376c6900c2bf51e39516273148b0cc2aca929e46\n",
      "2020-11-26 23:53:13,384 INFO     pid:71497 monai_training:337:log_metrics E2 CovidSegmentationTrainingApp\n",
      "2020-11-26 23:53:13,385 INFO     pid:71497 monai_training:366:log_metrics E2 trn      0.9530 loss, 0.0262 precision, 0.7943 recall, 0.0507 f1 score 0.2057 miss rate 29.5611 fp to label ratio\n",
      "2020-11-26 23:53:27,187 INFO     pid:71497 monai_training:337:log_metrics E2 CovidSegmentationTrainingApp\n",
      "2020-11-26 23:53:27,189 INFO     pid:71497 monai_training:375:log_metrics E2 val      0.9697 loss, 0.0172 precision, 0.9626 recall, 0.0337 f1 score 0.0374 miss rate 55.0964 fp to label ratio\n",
      "2020-11-26 23:53:28,316 INFO     pid:71497 monai_training:456:save_model Saved model params to saved-models/2020-11-26_23.51.33.32.state\n",
      "2020-11-26 23:53:28,319 INFO     pid:71497 monai_training:461:save_model Saved model params to saved-models/2020-11-26_23.51.33.best.state\n",
      "2020-11-26 23:53:28,324 INFO     pid:71497 monai_training:466:save_model SHA1: 24f2a4ea2f7b5f62f1073d3cb71deff40b253a23\n",
      "2020-11-26 23:53:28,326 INFO     pid:71497 nb:011:run Finished: monai_training.CovidSegmentationTrainingApp.['--num-workers=4', '--batch-size=2', '--epochs=2', '--val-cadence=1', '--data-path=/mnt/16614710-4b50-44ce-a3f3-13105cdf14ad/datasets/COVID-19-20_v2/Train', '--augmented', '--recall-priority=0', '--depth=3', '--pad-type=zero', '--width-cri', '192', '192', '16', '--project-name=covid19_seg_v2', '--run-name=aug gpu'].main()\n",
      "2020-11-26 23:53:28,415 INFO     pid:71497 nb:006:run Running: monai_training.CovidSegmentationTrainingApp(['--num-workers=4', '--epochs=0', '--project-name=covid19_seg_v2', '--run-name=to delete']).main()\n",
      "\u001b[34m\u001b[1mwandb\u001b[0m: \u001b[33mWARNING\u001b[0m Calling wandb.login() after wandb.init() has no effect.\n"
     ]
    },
    {
     "data": {
      "text/html": [
       "<br/>Waiting for W&B process to finish, PID 71516<br/>Program ended successfully."
      ],
      "text/plain": [
       "<IPython.core.display.HTML object>"
      ]
     },
     "metadata": {},
     "output_type": "display_data"
    }
   ],
   "source": [
    "run('monai_training.CovidSegmentationTrainingApp', f'--batch-size={batch_size}', f'--epochs={experiment_epochs}', \n",
    "    f'--val-cadence={val_cadence}', f'--data-path={data_path}', '--augmented',\n",
    "    f'--recall-priority={recall_priority}', f'--depth={unet_depth}', f'--pad-type={pad_types[0]}',\n",
    "    '--width-cri', f'{width_cri[0]}', f'{width_cri[1]}', f'{width_cri[2]}',\n",
    "    f'--project-name={project_name}', f'--run-name={run_name}')\n",
    "\n",
    "# dummy run to finish wandb\n",
    "run('monai_training.CovidSegmentationTrainingApp', '--epochs=0', f'--project-name={project_name}', '--run-name=to delete')"
   ]
  },
  {
   "cell_type": "markdown",
   "metadata": {},
   "source": [
    "# Train"
   ]
  },
  {
   "cell_type": "code",
   "execution_count": 4,
   "metadata": {},
   "outputs": [],
   "source": [
    "batch_size = 2\n",
    "train_epochs = 500\n",
    "val_cadence = 5\n",
    "ratio_int = 1\n",
    "recall_priority = 0\n",
    "unet_depth = 3\n",
    "project_name = 'covid19_seg_v2'\n",
    "pad_types = ['zero', 'replicate']\n",
    "width_cri = (168,168,12)\n",
    "data_path = str(local_dataset_path/'Train')"
   ]
  },
  {
   "cell_type": "code",
   "execution_count": 5,
   "metadata": {},
   "outputs": [],
   "source": [
    "run_name = '3D Unet'"
   ]
  },
  {
   "cell_type": "code",
   "execution_count": 6,
   "metadata": {},
   "outputs": [
    {
     "name": "stderr",
     "output_type": "stream",
     "text": [
      "2020-11-20 12:04:42,862 INFO     pid:4709 nb:006:run Running: monai_training.CovidSegmentationTrainingApp(['--num-workers=4', '--batch-size=2', '--epochs=500', '--val-cadence=5', '--data-path=/mnt/16614710-4b50-44ce-a3f3-13105cdf14ad/datasets/COVID-19-20_v2/Train', '--recall-priority=0', '--depth=3', '--pad-type=replicate', '--width-cri', '168', '168', '12', '--project-name=covid19_seg_v2', '--run-name=3D Unet']).main()\n",
      "2020-11-20 12:04:44,301 INFO     pid:4709 wandb:606:_apply_source_login setting login settings: {}\n",
      "\u001b[34m\u001b[1mwandb\u001b[0m: Currently logged in as: \u001b[33mpeterbacalso\u001b[0m (use `wandb login --relogin` to force relogin)\n",
      "\u001b[34m\u001b[1mwandb\u001b[0m: wandb version 0.10.11 is available!  To upgrade, please run:\n",
      "\u001b[34m\u001b[1mwandb\u001b[0m:  $ pip install wandb --upgrade\n"
     ]
    },
    {
     "data": {
      "text/html": [
       "\n",
       "                Tracking run with wandb version 0.10.8<br/>\n",
       "                Syncing run <strong style=\"color:#cdcd00\">3D Unet</strong> to <a href=\"https://wandb.ai\" target=\"_blank\">Weights & Biases</a> <a href=\"https://docs.wandb.com/integrations/jupyter.html\" target=\"_blank\">(Documentation)</a>.<br/>\n",
       "                Project page: <a href=\"https://wandb.ai/peterbacalso/covid19_seg_v2\" target=\"_blank\">https://wandb.ai/peterbacalso/covid19_seg_v2</a><br/>\n",
       "                Run page: <a href=\"https://wandb.ai/peterbacalso/covid19_seg_v2/runs/3kjaqbbl\" target=\"_blank\">https://wandb.ai/peterbacalso/covid19_seg_v2/runs/3kjaqbbl</a><br/>\n",
       "                Run data is saved locally in <code>wandb/run-20201120_120444-3kjaqbbl</code><br/><br/>\n",
       "            "
      ],
      "text/plain": [
       "<IPython.core.display.HTML object>"
      ]
     },
     "metadata": {},
     "output_type": "display_data"
    },
    {
     "name": "stderr",
     "output_type": "stream",
     "text": [
      "2020-11-20 12:04:45,671 INFO     pid:4709 monai_training:149:init_model Using CUDA; 1 devices.\n",
      "2020-11-20 12:04:48,455 INFO     pid:4709 modules.monai_dset:076:get_ds training: image/label (199) folder: /mnt/16614710-4b50-44ce-a3f3-13105cdf14ad/datasets/COVID-19-20_v2/Train\n",
      "2020-11-20 12:04:48,459 INFO     pid:4709 modules.monai_dset:094:get_ds training: train 179 val 20, folder: /mnt/16614710-4b50-44ce-a3f3-13105cdf14ad/datasets/COVID-19-20_v2/Train\n",
      "Load and cache transformed data: 100%|██████████| 179/179 [05:47<00:00,  1.94s/it]\n",
      "Load and cache transformed data: 100%|██████████| 20/20 [00:40<00:00,  2.05s/it]\n",
      "2020-11-20 12:11:16,519 INFO     pid:4709 monai_training:413:main Starting CovidSegmentationTrainingApp, Namespace(batch_size=2, data_path='/mnt/16614710-4b50-44ce-a3f3-13105cdf14ad/datasets/COVID-19-20_v2/Train', depth=3, epochs=500, num_workers=4, pad_type='replicate', project_name='covid19_seg_v2', recall_priority=0, run_name='3D Unet', val_cadence=5, width_cri=['168', '168', '12'])\n"
     ]
    },
    {
     "data": {
      "text/html": [
       "\n",
       "    <div>\n",
       "        <style>\n",
       "            /* Turns off some styling */\n",
       "            progress {\n",
       "                /* gets rid of default border in Firefox and Opera. */\n",
       "                border: none;\n",
       "                /* Needs to be in here for Safari polyfill so background images work as expected. */\n",
       "                background-size: auto;\n",
       "            }\n",
       "            .progress-bar-interrupted, .progress-bar-interrupted::-webkit-progress-bar {\n",
       "                background: #F44336;\n",
       "            }\n",
       "        </style>\n",
       "      <progress value='38' class='' max='500' style='width:300px; height:20px; vertical-align: middle;'></progress>\n",
       "      7.60% [38/500 4:24:43<53:38:33]\n",
       "    </div>\n",
       "    \n",
       "<table border=\"1\" class=\"dataframe\">\n",
       "  <thead>\n",
       "    <tr style=\"text-align: left;\">\n",
       "      <th>epoch</th>\n",
       "      <th>loss/trn</th>\n",
       "      <th>loss/val</th>\n",
       "      <th>metrics_val/miss_rate</th>\n",
       "      <th>metrics_val/fp_to_mask_ratio</th>\n",
       "      <th>pr_val/precision</th>\n",
       "      <th>pr_val/recall</th>\n",
       "      <th>pr_val/f1_score</th>\n",
       "    </tr>\n",
       "  </thead>\n",
       "  <tbody>\n",
       "    <tr>\n",
       "      <td>1</td>\n",
       "      <td>0.9010</td>\n",
       "      <td>0.8053</td>\n",
       "      <td>0.0659</td>\n",
       "      <td>6.3429</td>\n",
       "      <td>0.1284</td>\n",
       "      <td>0.9341</td>\n",
       "      <td>0.2257</td>\n",
       "    </tr>\n",
       "    <tr>\n",
       "      <td>5</td>\n",
       "      <td>0.7164</td>\n",
       "      <td>0.6920</td>\n",
       "      <td>0.0409</td>\n",
       "      <td>3.6595</td>\n",
       "      <td>0.2077</td>\n",
       "      <td>0.9591</td>\n",
       "      <td>0.3414</td>\n",
       "    </tr>\n",
       "    <tr>\n",
       "      <td>10</td>\n",
       "      <td>0.6892</td>\n",
       "      <td>0.6796</td>\n",
       "      <td>0.0345</td>\n",
       "      <td>3.8348</td>\n",
       "      <td>0.2011</td>\n",
       "      <td>0.9655</td>\n",
       "      <td>0.3329</td>\n",
       "    </tr>\n",
       "    <tr>\n",
       "      <td>15</td>\n",
       "      <td>0.6760</td>\n",
       "      <td>0.4657</td>\n",
       "      <td>0.1252</td>\n",
       "      <td>1.1108</td>\n",
       "      <td>0.4406</td>\n",
       "      <td>0.8748</td>\n",
       "      <td>0.5860</td>\n",
       "    </tr>\n",
       "    <tr>\n",
       "      <td>20</td>\n",
       "      <td>0.6741</td>\n",
       "      <td>0.5094</td>\n",
       "      <td>0.0818</td>\n",
       "      <td>1.4764</td>\n",
       "      <td>0.3835</td>\n",
       "      <td>0.9182</td>\n",
       "      <td>0.5410</td>\n",
       "    </tr>\n",
       "    <tr>\n",
       "      <td>25</td>\n",
       "      <td>0.6557</td>\n",
       "      <td>0.4753</td>\n",
       "      <td>0.1504</td>\n",
       "      <td>1.1980</td>\n",
       "      <td>0.4149</td>\n",
       "      <td>0.8496</td>\n",
       "      <td>0.5576</td>\n",
       "    </tr>\n",
       "    <tr>\n",
       "      <td>30</td>\n",
       "      <td>0.6863</td>\n",
       "      <td>0.5354</td>\n",
       "      <td>0.0702</td>\n",
       "      <td>2.0799</td>\n",
       "      <td>0.3089</td>\n",
       "      <td>0.9298</td>\n",
       "      <td>0.4638</td>\n",
       "    </tr>\n",
       "    <tr>\n",
       "      <td>35</td>\n",
       "      <td>0.6543</td>\n",
       "      <td>0.4458</td>\n",
       "      <td>0.2457</td>\n",
       "      <td>0.6328</td>\n",
       "      <td>0.5438</td>\n",
       "      <td>0.7543</td>\n",
       "      <td>0.6320</td>\n",
       "    </tr>\n",
       "  </tbody>\n",
       "</table><p>\n",
       "\n",
       "    <div>\n",
       "        <style>\n",
       "            /* Turns off some styling */\n",
       "            progress {\n",
       "                /* gets rid of default border in Firefox and Opera. */\n",
       "                border: none;\n",
       "                /* Needs to be in here for Safari polyfill so background images work as expected. */\n",
       "                background-size: auto;\n",
       "            }\n",
       "            .progress-bar-interrupted, .progress-bar-interrupted::-webkit-progress-bar {\n",
       "                background: #F44336;\n",
       "            }\n",
       "        </style>\n",
       "      <progress value='59' class='' max='90' style='width:300px; height:20px; vertical-align: middle;'></progress>\n",
       "      65.56% [59/90 04:11<02:12]\n",
       "    </div>\n",
       "    "
      ],
      "text/plain": [
       "<IPython.core.display.HTML object>"
      ]
     },
     "metadata": {},
     "output_type": "display_data"
    },
    {
     "name": "stderr",
     "output_type": "stream",
     "text": [
      "2020-11-20 12:17:35,991 INFO     pid:4709 monai_training:280:log_metrics E1 CovidSegmentationTrainingApp\n",
      "2020-11-20 12:17:36,002 INFO     pid:4709 monai_training:309:log_metrics E1 trn      0.9010 loss, 0.0593 precision, 0.7643 recall, 0.1101 f1 score 0.2357 miss rate 12.1155 fp to label ratio\n",
      "2020-11-20 12:20:43,919 INFO     pid:4709 monai_training:280:log_metrics E1 CovidSegmentationTrainingApp\n",
      "2020-11-20 12:20:43,921 INFO     pid:4709 monai_training:318:log_metrics E1 val      0.8053 loss, 0.1284 precision, 0.9341 recall, 0.2257 f1 score 0.0659 miss rate 6.3429 fp to label ratio\n",
      "2020-11-20 12:20:45,107 INFO     pid:4709 monai_training:399:save_model Saved model params to saved-models/2020-11-20_12.04.43.537.state\n",
      "2020-11-20 12:20:45,110 INFO     pid:4709 monai_training:404:save_model Saved model params to saved-models/2020-11-20_12.04.43.best.state\n",
      "2020-11-20 12:20:45,115 INFO     pid:4709 monai_training:409:save_model SHA1: c6c0e59fb75da6ddbcd46080deb2bd993f07965a\n",
      "2020-11-20 12:27:04,998 INFO     pid:4709 monai_training:280:log_metrics E2 CovidSegmentationTrainingApp\n",
      "2020-11-20 12:27:05,000 INFO     pid:4709 monai_training:309:log_metrics E2 trn      0.7941 loss, 0.1812 precision, 0.5216 recall, 0.2690 f1 score 0.4784 miss rate 2.3565 fp to label ratio\n",
      "2020-11-20 12:33:21,289 INFO     pid:4709 monai_training:280:log_metrics E3 CovidSegmentationTrainingApp\n",
      "2020-11-20 12:33:21,290 INFO     pid:4709 monai_training:309:log_metrics E3 trn      0.7565 loss, 0.2225 precision, 0.5186 recall, 0.3114 f1 score 0.4814 miss rate 1.8127 fp to label ratio\n",
      "2020-11-20 12:39:42,221 INFO     pid:4709 monai_training:280:log_metrics E4 CovidSegmentationTrainingApp\n",
      "2020-11-20 12:39:42,224 INFO     pid:4709 monai_training:309:log_metrics E4 trn      0.7277 loss, 0.3233 precision, 0.4576 recall, 0.3789 f1 score 0.5424 miss rate 0.9576 fp to label ratio\n",
      "2020-11-20 12:46:03,057 INFO     pid:4709 monai_training:280:log_metrics E5 CovidSegmentationTrainingApp\n",
      "2020-11-20 12:46:03,058 INFO     pid:4709 monai_training:309:log_metrics E5 trn      0.7164 loss, 0.3052 precision, 0.4937 recall, 0.3772 f1 score 0.5063 miss rate 1.1237 fp to label ratio\n",
      "2020-11-20 12:49:10,332 INFO     pid:4709 monai_training:280:log_metrics E5 CovidSegmentationTrainingApp\n",
      "2020-11-20 12:49:10,333 INFO     pid:4709 monai_training:318:log_metrics E5 val      0.6920 loss, 0.2077 precision, 0.9591 recall, 0.3414 f1 score 0.0409 miss rate 3.6595 fp to label ratio\n",
      "2020-11-20 12:49:11,410 INFO     pid:4709 monai_training:399:save_model Saved model params to saved-models/2020-11-20_12.04.43.2685.state\n",
      "2020-11-20 12:49:11,414 INFO     pid:4709 monai_training:404:save_model Saved model params to saved-models/2020-11-20_12.04.43.best.state\n",
      "2020-11-20 12:49:11,419 INFO     pid:4709 monai_training:409:save_model SHA1: 961abefe01e014cf0ad90ca5676e1515ce6bc5a3\n",
      "2020-11-20 12:55:29,708 INFO     pid:4709 monai_training:280:log_metrics E6 CovidSegmentationTrainingApp\n",
      "2020-11-20 12:55:29,710 INFO     pid:4709 monai_training:309:log_metrics E6 trn      0.7196 loss, 0.3245 precision, 0.4831 recall, 0.3882 f1 score 0.5169 miss rate 1.0057 fp to label ratio\n",
      "2020-11-20 13:01:49,117 INFO     pid:4709 monai_training:280:log_metrics E7 CovidSegmentationTrainingApp\n",
      "2020-11-20 13:01:49,119 INFO     pid:4709 monai_training:309:log_metrics E7 trn      0.7016 loss, 0.3438 precision, 0.4758 recall, 0.3992 f1 score 0.5242 miss rate 0.9082 fp to label ratio\n",
      "2020-11-20 13:08:07,494 INFO     pid:4709 monai_training:280:log_metrics E8 CovidSegmentationTrainingApp\n",
      "2020-11-20 13:08:07,497 INFO     pid:4709 monai_training:309:log_metrics E8 trn      0.6842 loss, 0.3598 precision, 0.5241 recall, 0.4267 f1 score 0.4759 miss rate 0.9326 fp to label ratio\n",
      "2020-11-20 13:14:26,921 INFO     pid:4709 monai_training:280:log_metrics E9 CovidSegmentationTrainingApp\n",
      "2020-11-20 13:14:26,922 INFO     pid:4709 monai_training:309:log_metrics E9 trn      0.6800 loss, 0.3946 precision, 0.5039 recall, 0.4426 f1 score 0.4961 miss rate 0.7733 fp to label ratio\n",
      "2020-11-20 13:20:46,478 INFO     pid:4709 monai_training:280:log_metrics E10 CovidSegmentationTrainingApp\n",
      "2020-11-20 13:20:46,479 INFO     pid:4709 monai_training:309:log_metrics E10 trn      0.6892 loss, 0.3816 precision, 0.5135 recall, 0.4378 f1 score 0.4865 miss rate 0.8321 fp to label ratio\n",
      "2020-11-20 13:23:54,535 INFO     pid:4709 monai_training:280:log_metrics E10 CovidSegmentationTrainingApp\n",
      "2020-11-20 13:23:54,536 INFO     pid:4709 monai_training:318:log_metrics E10 val      0.6796 loss, 0.2011 precision, 0.9655 recall, 0.3329 f1 score 0.0345 miss rate 3.8348 fp to label ratio\n",
      "2020-11-20 13:23:55,661 INFO     pid:4709 monai_training:399:save_model Saved model params to saved-models/2020-11-20_12.04.43.5370.state\n",
      "2020-11-20 13:23:55,666 INFO     pid:4709 monai_training:409:save_model SHA1: 3b95f2a7ed3c55f5c0b02639fbee93ed99fd293e\n",
      "2020-11-20 13:30:13,827 INFO     pid:4709 monai_training:280:log_metrics E11 CovidSegmentationTrainingApp\n",
      "2020-11-20 13:30:13,829 INFO     pid:4709 monai_training:309:log_metrics E11 trn      0.7125 loss, 0.3439 precision, 0.5239 recall, 0.4152 f1 score 0.4761 miss rate 0.9995 fp to label ratio\n",
      "2020-11-20 13:36:31,347 INFO     pid:4709 monai_training:280:log_metrics E12 CovidSegmentationTrainingApp\n",
      "2020-11-20 13:36:31,349 INFO     pid:4709 monai_training:309:log_metrics E12 trn      0.6830 loss, 0.4043 precision, 0.5188 recall, 0.4545 f1 score 0.4812 miss rate 0.7643 fp to label ratio\n",
      "2020-11-20 13:42:50,305 INFO     pid:4709 monai_training:280:log_metrics E13 CovidSegmentationTrainingApp\n",
      "2020-11-20 13:42:50,306 INFO     pid:4709 monai_training:309:log_metrics E13 trn      0.6951 loss, 0.3679 precision, 0.4954 recall, 0.4223 f1 score 0.5046 miss rate 0.8512 fp to label ratio\n",
      "2020-11-20 13:49:05,682 INFO     pid:4709 monai_training:280:log_metrics E14 CovidSegmentationTrainingApp\n",
      "2020-11-20 13:49:05,683 INFO     pid:4709 monai_training:309:log_metrics E14 trn      0.6914 loss, 0.4052 precision, 0.4904 recall, 0.4438 f1 score 0.5096 miss rate 0.7197 fp to label ratio\n",
      "2020-11-20 13:55:22,320 INFO     pid:4709 monai_training:280:log_metrics E15 CovidSegmentationTrainingApp\n",
      "2020-11-20 13:55:22,321 INFO     pid:4709 monai_training:309:log_metrics E15 trn      0.6760 loss, 0.4026 precision, 0.5089 recall, 0.4495 f1 score 0.4911 miss rate 0.7550 fp to label ratio\n",
      "2020-11-20 13:58:30,739 INFO     pid:4709 monai_training:280:log_metrics E15 CovidSegmentationTrainingApp\n",
      "2020-11-20 13:58:30,740 INFO     pid:4709 monai_training:318:log_metrics E15 val      0.4657 loss, 0.4406 precision, 0.8748 recall, 0.5860 f1 score 0.1252 miss rate 1.1108 fp to label ratio\n",
      "2020-11-20 13:58:31,837 INFO     pid:4709 monai_training:399:save_model Saved model params to saved-models/2020-11-20_12.04.43.8055.state\n",
      "2020-11-20 13:58:31,842 INFO     pid:4709 monai_training:404:save_model Saved model params to saved-models/2020-11-20_12.04.43.best.state\n",
      "2020-11-20 13:58:31,848 INFO     pid:4709 monai_training:409:save_model SHA1: d71f40dfd0720f0e2a1d6be0d6837b40506cab1b\n",
      "2020-11-20 14:04:48,318 INFO     pid:4709 monai_training:280:log_metrics E16 CovidSegmentationTrainingApp\n",
      "2020-11-20 14:04:48,319 INFO     pid:4709 monai_training:309:log_metrics E16 trn      0.6659 loss, 0.4077 precision, 0.5338 recall, 0.4623 f1 score 0.4662 miss rate 0.7754 fp to label ratio\n",
      "2020-11-20 14:11:07,758 INFO     pid:4709 monai_training:280:log_metrics E17 CovidSegmentationTrainingApp\n",
      "2020-11-20 14:11:07,759 INFO     pid:4709 monai_training:309:log_metrics E17 trn      0.6883 loss, 0.3929 precision, 0.5375 recall, 0.4539 f1 score 0.4625 miss rate 0.8306 fp to label ratio\n",
      "2020-11-20 14:17:26,485 INFO     pid:4709 monai_training:280:log_metrics E18 CovidSegmentationTrainingApp\n",
      "2020-11-20 14:17:26,487 INFO     pid:4709 monai_training:309:log_metrics E18 trn      0.7042 loss, 0.3964 precision, 0.4906 recall, 0.4385 f1 score 0.5094 miss rate 0.7471 fp to label ratio\n",
      "2020-11-20 14:23:44,461 INFO     pid:4709 monai_training:280:log_metrics E19 CovidSegmentationTrainingApp\n",
      "2020-11-20 14:23:44,463 INFO     pid:4709 monai_training:309:log_metrics E19 trn      0.6655 loss, 0.4024 precision, 0.5347 recall, 0.4592 f1 score 0.4653 miss rate 0.7941 fp to label ratio\n",
      "2020-11-20 14:30:01,767 INFO     pid:4709 monai_training:280:log_metrics E20 CovidSegmentationTrainingApp\n",
      "2020-11-20 14:30:01,769 INFO     pid:4709 monai_training:309:log_metrics E20 trn      0.6741 loss, 0.4166 precision, 0.5357 recall, 0.4687 f1 score 0.4643 miss rate 0.7503 fp to label ratio\n",
      "2020-11-20 14:33:09,880 INFO     pid:4709 monai_training:280:log_metrics E20 CovidSegmentationTrainingApp\n",
      "2020-11-20 14:33:09,882 INFO     pid:4709 monai_training:318:log_metrics E20 val      0.5094 loss, 0.3835 precision, 0.9182 recall, 0.5410 f1 score 0.0818 miss rate 1.4764 fp to label ratio\n",
      "2020-11-20 14:33:10,964 INFO     pid:4709 monai_training:399:save_model Saved model params to saved-models/2020-11-20_12.04.43.10740.state\n",
      "2020-11-20 14:33:10,969 INFO     pid:4709 monai_training:409:save_model SHA1: 206c514b5f4317c2db69f0a120cf8f4146149d84\n",
      "2020-11-20 14:39:28,668 INFO     pid:4709 monai_training:280:log_metrics E21 CovidSegmentationTrainingApp\n",
      "2020-11-20 14:39:28,669 INFO     pid:4709 monai_training:309:log_metrics E21 trn      0.6701 loss, 0.4337 precision, 0.5296 recall, 0.4769 f1 score 0.4704 miss rate 0.6915 fp to label ratio\n",
      "2020-11-20 14:45:46,944 INFO     pid:4709 monai_training:280:log_metrics E22 CovidSegmentationTrainingApp\n",
      "2020-11-20 14:45:46,947 INFO     pid:4709 monai_training:309:log_metrics E22 trn      0.6688 loss, 0.4357 precision, 0.5452 recall, 0.4844 f1 score 0.4548 miss rate 0.7061 fp to label ratio\n",
      "2020-11-20 14:52:05,845 INFO     pid:4709 monai_training:280:log_metrics E23 CovidSegmentationTrainingApp\n",
      "2020-11-20 14:52:05,846 INFO     pid:4709 monai_training:309:log_metrics E23 trn      0.6668 loss, 0.4349 precision, 0.5416 recall, 0.4824 f1 score 0.4584 miss rate 0.7037 fp to label ratio\n",
      "2020-11-20 14:58:22,553 INFO     pid:4709 monai_training:280:log_metrics E24 CovidSegmentationTrainingApp\n",
      "2020-11-20 14:58:22,555 INFO     pid:4709 monai_training:309:log_metrics E24 trn      0.6709 loss, 0.4175 precision, 0.5480 recall, 0.4739 f1 score 0.4520 miss rate 0.7644 fp to label ratio\n",
      "2020-11-20 15:04:40,520 INFO     pid:4709 monai_training:280:log_metrics E25 CovidSegmentationTrainingApp\n",
      "2020-11-20 15:04:40,521 INFO     pid:4709 monai_training:309:log_metrics E25 trn      0.6557 loss, 0.4510 precision, 0.5432 recall, 0.4928 f1 score 0.4568 miss rate 0.6612 fp to label ratio\n",
      "2020-11-20 15:07:47,202 INFO     pid:4709 monai_training:280:log_metrics E25 CovidSegmentationTrainingApp\n",
      "2020-11-20 15:07:47,203 INFO     pid:4709 monai_training:318:log_metrics E25 val      0.4753 loss, 0.4149 precision, 0.8496 recall, 0.5576 f1 score 0.1504 miss rate 1.1980 fp to label ratio\n",
      "2020-11-20 15:07:48,295 INFO     pid:4709 monai_training:399:save_model Saved model params to saved-models/2020-11-20_12.04.43.13425.state\n",
      "2020-11-20 15:07:48,300 INFO     pid:4709 monai_training:409:save_model SHA1: 42754b5941419ac8626f35e4ef9360f2712343f6\n",
      "2020-11-20 15:14:06,162 INFO     pid:4709 monai_training:280:log_metrics E26 CovidSegmentationTrainingApp\n",
      "2020-11-20 15:14:06,164 INFO     pid:4709 monai_training:309:log_metrics E26 trn      0.6703 loss, 0.4357 precision, 0.5618 recall, 0.4908 f1 score 0.4382 miss rate 0.7276 fp to label ratio\n",
      "2020-11-20 15:20:25,336 INFO     pid:4709 monai_training:280:log_metrics E27 CovidSegmentationTrainingApp\n",
      "2020-11-20 15:20:25,338 INFO     pid:4709 monai_training:309:log_metrics E27 trn      0.6552 loss, 0.4427 precision, 0.5264 recall, 0.4809 f1 score 0.4736 miss rate 0.6628 fp to label ratio\n",
      "2020-11-20 15:26:45,386 INFO     pid:4709 monai_training:280:log_metrics E28 CovidSegmentationTrainingApp\n",
      "2020-11-20 15:26:45,392 INFO     pid:4709 monai_training:309:log_metrics E28 trn      0.6705 loss, 0.4845 precision, 0.5231 recall, 0.5030 f1 score 0.4769 miss rate 0.5566 fp to label ratio\n",
      "2020-11-20 15:33:02,786 INFO     pid:4709 monai_training:280:log_metrics E29 CovidSegmentationTrainingApp\n",
      "2020-11-20 15:33:02,787 INFO     pid:4709 monai_training:309:log_metrics E29 trn      0.6587 loss, 0.4717 precision, 0.5327 recall, 0.5003 f1 score 0.4673 miss rate 0.5968 fp to label ratio\n",
      "2020-11-20 15:39:19,945 INFO     pid:4709 monai_training:280:log_metrics E30 CovidSegmentationTrainingApp\n",
      "2020-11-20 15:39:19,946 INFO     pid:4709 monai_training:309:log_metrics E30 trn      0.6863 loss, 0.4311 precision, 0.5293 recall, 0.4752 f1 score 0.4707 miss rate 0.6985 fp to label ratio\n",
      "2020-11-20 15:42:26,613 INFO     pid:4709 monai_training:280:log_metrics E30 CovidSegmentationTrainingApp\n",
      "2020-11-20 15:42:26,615 INFO     pid:4709 monai_training:318:log_metrics E30 val      0.5354 loss, 0.3089 precision, 0.9298 recall, 0.4638 f1 score 0.0702 miss rate 2.0799 fp to label ratio\n",
      "2020-11-20 15:42:27,742 INFO     pid:4709 monai_training:399:save_model Saved model params to saved-models/2020-11-20_12.04.43.16110.state\n",
      "2020-11-20 15:42:27,747 INFO     pid:4709 monai_training:409:save_model SHA1: fab9cdd3ada4a7c9fb22a5242b09ca3b6ffdf59d\n",
      "2020-11-20 15:48:45,817 INFO     pid:4709 monai_training:280:log_metrics E31 CovidSegmentationTrainingApp\n",
      "2020-11-20 15:48:45,819 INFO     pid:4709 monai_training:309:log_metrics E31 trn      0.6796 loss, 0.4058 precision, 0.5301 recall, 0.4597 f1 score 0.4699 miss rate 0.7764 fp to label ratio\n",
      "2020-11-20 15:55:03,910 INFO     pid:4709 monai_training:280:log_metrics E32 CovidSegmentationTrainingApp\n",
      "2020-11-20 15:55:03,912 INFO     pid:4709 monai_training:309:log_metrics E32 trn      0.6721 loss, 0.4219 precision, 0.5284 recall, 0.4692 f1 score 0.4716 miss rate 0.7240 fp to label ratio\n",
      "2020-11-20 16:01:22,883 INFO     pid:4709 monai_training:280:log_metrics E33 CovidSegmentationTrainingApp\n",
      "2020-11-20 16:01:22,885 INFO     pid:4709 monai_training:309:log_metrics E33 trn      0.6512 loss, 0.4602 precision, 0.5065 recall, 0.4822 f1 score 0.4935 miss rate 0.5941 fp to label ratio\n",
      "2020-11-20 16:07:40,266 INFO     pid:4709 monai_training:280:log_metrics E34 CovidSegmentationTrainingApp\n",
      "2020-11-20 16:07:40,268 INFO     pid:4709 monai_training:309:log_metrics E34 trn      0.6701 loss, 0.4313 precision, 0.5679 recall, 0.4903 f1 score 0.4321 miss rate 0.7488 fp to label ratio\n",
      "2020-11-20 16:13:55,970 INFO     pid:4709 monai_training:280:log_metrics E35 CovidSegmentationTrainingApp\n",
      "2020-11-20 16:13:55,972 INFO     pid:4709 monai_training:309:log_metrics E35 trn      0.6543 loss, 0.4801 precision, 0.5314 recall, 0.5044 f1 score 0.4686 miss rate 0.5754 fp to label ratio\n",
      "2020-11-20 16:17:03,863 INFO     pid:4709 monai_training:280:log_metrics E35 CovidSegmentationTrainingApp\n",
      "2020-11-20 16:17:03,864 INFO     pid:4709 monai_training:318:log_metrics E35 val      0.4458 loss, 0.5438 precision, 0.7543 recall, 0.6320 f1 score 0.2457 miss rate 0.6328 fp to label ratio\n",
      "2020-11-20 16:17:04,961 INFO     pid:4709 monai_training:399:save_model Saved model params to saved-models/2020-11-20_12.04.43.18795.state\n",
      "2020-11-20 16:17:04,966 INFO     pid:4709 monai_training:404:save_model Saved model params to saved-models/2020-11-20_12.04.43.best.state\n",
      "2020-11-20 16:17:04,971 INFO     pid:4709 monai_training:409:save_model SHA1: f1e7d41d8546439a9435687248d9063260bd4443\n",
      "2020-11-20 16:23:24,959 INFO     pid:4709 monai_training:280:log_metrics E36 CovidSegmentationTrainingApp\n",
      "2020-11-20 16:23:24,961 INFO     pid:4709 monai_training:309:log_metrics E36 trn      0.6442 loss, 0.4968 precision, 0.5557 recall, 0.5246 f1 score 0.4443 miss rate 0.5629 fp to label ratio\n",
      "2020-11-20 16:29:42,446 INFO     pid:4709 monai_training:280:log_metrics E37 CovidSegmentationTrainingApp\n",
      "2020-11-20 16:29:42,447 INFO     pid:4709 monai_training:309:log_metrics E37 trn      0.6718 loss, 0.4708 precision, 0.4837 recall, 0.4771 f1 score 0.5163 miss rate 0.5437 fp to label ratio\n",
      "2020-11-20 16:36:00,307 INFO     pid:4709 monai_training:280:log_metrics E38 CovidSegmentationTrainingApp\n",
      "2020-11-20 16:36:00,309 INFO     pid:4709 monai_training:309:log_metrics E38 trn      0.6650 loss, 0.4368 precision, 0.5541 recall, 0.4885 f1 score 0.4459 miss rate 0.7144 fp to label ratio\n"
     ]
    },
    {
     "ename": "RuntimeError",
     "evalue": "DataLoader worker (pid 15423) is killed by signal: Killed. ",
     "output_type": "error",
     "traceback": [
      "\u001b[0;31m---------------------------------------------------------------------------\u001b[0m",
      "\u001b[0;31mRuntimeError\u001b[0m                              Traceback (most recent call last)",
      "\u001b[0;32m<ipython-input-6-9b34df4c57c9>\u001b[0m in \u001b[0;36m<module>\u001b[0;34m\u001b[0m\n\u001b[0;32m----> 1\u001b[0;31m run('monai_training.CovidSegmentationTrainingApp', f'--batch-size={batch_size}', f'--epochs={train_epochs}', \n\u001b[0m\u001b[1;32m      2\u001b[0m     \u001b[0;34mf'--val-cadence={val_cadence}'\u001b[0m\u001b[0;34m,\u001b[0m \u001b[0;34mf'--data-path={data_path}'\u001b[0m\u001b[0;34m,\u001b[0m\u001b[0;34m\u001b[0m\u001b[0;34m\u001b[0m\u001b[0m\n\u001b[1;32m      3\u001b[0m     \u001b[0;34mf'--recall-priority={recall_priority}'\u001b[0m\u001b[0;34m,\u001b[0m \u001b[0;34mf'--depth={unet_depth}'\u001b[0m\u001b[0;34m,\u001b[0m \u001b[0;34mf'--pad-type={pad_types[1]}'\u001b[0m\u001b[0;34m,\u001b[0m\u001b[0;34m\u001b[0m\u001b[0;34m\u001b[0m\u001b[0m\n\u001b[1;32m      4\u001b[0m     \u001b[0;34m'--width-cri'\u001b[0m\u001b[0;34m,\u001b[0m \u001b[0;34mf'{width_cri[0]}'\u001b[0m\u001b[0;34m,\u001b[0m \u001b[0;34mf'{width_cri[1]}'\u001b[0m\u001b[0;34m,\u001b[0m \u001b[0;34mf'{width_cri[2]}'\u001b[0m\u001b[0;34m,\u001b[0m\u001b[0;34m\u001b[0m\u001b[0;34m\u001b[0m\u001b[0m\n\u001b[1;32m      5\u001b[0m     f'--project-name={project_name}', f'--run-name={run_name}')\n",
      "\u001b[0;32m<ipython-input-3-4bc0ce0776a7>\u001b[0m in \u001b[0;36mrun\u001b[0;34m(app, *argv)\u001b[0m\n\u001b[1;32m      7\u001b[0m \u001b[0;34m\u001b[0m\u001b[0m\n\u001b[1;32m      8\u001b[0m     \u001b[0mapp_cls\u001b[0m \u001b[0;34m=\u001b[0m \u001b[0mimportstr\u001b[0m\u001b[0;34m(\u001b[0m\u001b[0;34m*\u001b[0m\u001b[0mapp\u001b[0m\u001b[0;34m.\u001b[0m\u001b[0mrsplit\u001b[0m\u001b[0;34m(\u001b[0m\u001b[0;34m'.'\u001b[0m\u001b[0;34m,\u001b[0m \u001b[0;36m1\u001b[0m\u001b[0;34m)\u001b[0m\u001b[0;34m)\u001b[0m\u001b[0;34m\u001b[0m\u001b[0;34m\u001b[0m\u001b[0m\n\u001b[0;32m----> 9\u001b[0;31m     \u001b[0mapp_cls\u001b[0m\u001b[0;34m(\u001b[0m\u001b[0margv\u001b[0m\u001b[0;34m)\u001b[0m\u001b[0;34m.\u001b[0m\u001b[0mmain\u001b[0m\u001b[0;34m(\u001b[0m\u001b[0;34m)\u001b[0m\u001b[0;34m\u001b[0m\u001b[0;34m\u001b[0m\u001b[0m\n\u001b[0m\u001b[1;32m     10\u001b[0m \u001b[0;34m\u001b[0m\u001b[0m\n\u001b[1;32m     11\u001b[0m     \u001b[0mlog\u001b[0m\u001b[0;34m.\u001b[0m\u001b[0minfo\u001b[0m\u001b[0;34m(\u001b[0m\u001b[0;34m\"Finished: {}.{!r}.main()\"\u001b[0m\u001b[0;34m.\u001b[0m\u001b[0mformat\u001b[0m\u001b[0;34m(\u001b[0m\u001b[0mapp\u001b[0m\u001b[0;34m,\u001b[0m \u001b[0margv\u001b[0m\u001b[0;34m)\u001b[0m\u001b[0;34m)\u001b[0m\u001b[0;34m\u001b[0m\u001b[0;34m\u001b[0m\u001b[0m\n",
      "\u001b[0;32m~/programming/projects/covid_CT_lung_lesion_segmentation/monai_training.py\u001b[0m in \u001b[0;36mmain\u001b[0;34m(self)\u001b[0m\n\u001b[1;32m    419\u001b[0m                  table=True)\n\u001b[1;32m    420\u001b[0m         \u001b[0;32mfor\u001b[0m \u001b[0mepoch\u001b[0m \u001b[0;32min\u001b[0m \u001b[0mmb\u001b[0m\u001b[0;34m:\u001b[0m\u001b[0;34m\u001b[0m\u001b[0;34m\u001b[0m\u001b[0m\n\u001b[0;32m--> 421\u001b[0;31m             trn_metrics, ct_trn, mask_trn, pred_trn = self.one_epoch(\n\u001b[0m\u001b[1;32m    422\u001b[0m                 epoch, dl=self.trn_dl, mb=mb)\n\u001b[1;32m    423\u001b[0m             trn_metrics_dict = self.log_metrics(epoch, mode_str='trn',\n",
      "\u001b[0;32m~/programming/projects/covid_CT_lung_lesion_segmentation/monai_training.py\u001b[0m in \u001b[0;36mone_epoch\u001b[0;34m(self, epoch, dl, mb, train)\u001b[0m\n\u001b[1;32m    262\u001b[0m             \u001b[0;32mif\u001b[0m \u001b[0mtrain\u001b[0m\u001b[0;34m:\u001b[0m\u001b[0;34m\u001b[0m\u001b[0;34m\u001b[0m\u001b[0m\n\u001b[1;32m    263\u001b[0m                 \u001b[0mself\u001b[0m\u001b[0;34m.\u001b[0m\u001b[0moptim\u001b[0m\u001b[0;34m.\u001b[0m\u001b[0mzero_grad\u001b[0m\u001b[0;34m(\u001b[0m\u001b[0;34m)\u001b[0m\u001b[0;34m\u001b[0m\u001b[0;34m\u001b[0m\u001b[0m\n\u001b[0;32m--> 264\u001b[0;31m                 loss, ct_t, mask_t, pred_t = self.batch_loss(\n\u001b[0m\u001b[1;32m    265\u001b[0m                     \u001b[0mi\u001b[0m\u001b[0;34m,\u001b[0m \u001b[0mbatch\u001b[0m\u001b[0;34m,\u001b[0m \u001b[0mdl\u001b[0m\u001b[0;34m.\u001b[0m\u001b[0mbatch_size\u001b[0m\u001b[0;34m,\u001b[0m \u001b[0mmetrics\u001b[0m\u001b[0;34m,\u001b[0m\u001b[0;34m\u001b[0m\u001b[0;34m\u001b[0m\u001b[0m\n\u001b[1;32m    266\u001b[0m                     log_image=(i==len(dl)-1))\n",
      "\u001b[0;32m~/programming/projects/covid_CT_lung_lesion_segmentation/monai_training.py\u001b[0m in \u001b[0;36mbatch_loss\u001b[0;34m(self, idx, batch, batch_size, metrics, thresh, log_image)\u001b[0m\n\u001b[1;32m    215\u001b[0m         \u001b[0;31m#    hu_g, mask_g = self.aug_model(hu_g, mask_g)\u001b[0m\u001b[0;34m\u001b[0m\u001b[0;34m\u001b[0m\u001b[0;34m\u001b[0m\u001b[0m\n\u001b[1;32m    216\u001b[0m \u001b[0;34m\u001b[0m\u001b[0m\n\u001b[0;32m--> 217\u001b[0;31m         \u001b[0mpred_g\u001b[0m \u001b[0;34m=\u001b[0m \u001b[0mself\u001b[0m\u001b[0;34m.\u001b[0m\u001b[0msliding_window\u001b[0m\u001b[0;34m(\u001b[0m\u001b[0mct_g\u001b[0m\u001b[0;34m,\u001b[0m \u001b[0mself\u001b[0m\u001b[0;34m.\u001b[0m\u001b[0mseg_model\u001b[0m\u001b[0;34m)\u001b[0m\u001b[0;34m\u001b[0m\u001b[0;34m\u001b[0m\u001b[0m\n\u001b[0m\u001b[1;32m    218\u001b[0m \u001b[0;34m\u001b[0m\u001b[0m\n\u001b[1;32m    219\u001b[0m         \u001b[0mdice_loss\u001b[0m \u001b[0;34m=\u001b[0m \u001b[0mself\u001b[0m\u001b[0;34m.\u001b[0m\u001b[0mloss_func\u001b[0m\u001b[0;34m(\u001b[0m\u001b[0mpred_g\u001b[0m\u001b[0;34m,\u001b[0m \u001b[0mmask_g\u001b[0m\u001b[0;34m)\u001b[0m\u001b[0;34m\u001b[0m\u001b[0;34m\u001b[0m\u001b[0m\n",
      "\u001b[0;32m~/programming/venvs/ml/lib/python3.8/site-packages/monai-0.3.0+82.g7bffaf7-py3.8.egg/monai/inferers/inferer.py\u001b[0m in \u001b[0;36m__call__\u001b[0;34m(self, inputs, network, *args, **kwargs)\u001b[0m\n\u001b[1;32m    159\u001b[0m \u001b[0;34m\u001b[0m\u001b[0m\n\u001b[1;32m    160\u001b[0m         \"\"\"\n\u001b[0;32m--> 161\u001b[0;31m         return sliding_window_inference(\n\u001b[0m\u001b[1;32m    162\u001b[0m             \u001b[0minputs\u001b[0m\u001b[0;34m,\u001b[0m\u001b[0;34m\u001b[0m\u001b[0;34m\u001b[0m\u001b[0m\n\u001b[1;32m    163\u001b[0m             \u001b[0mself\u001b[0m\u001b[0;34m.\u001b[0m\u001b[0mroi_size\u001b[0m\u001b[0;34m,\u001b[0m\u001b[0;34m\u001b[0m\u001b[0;34m\u001b[0m\u001b[0m\n",
      "\u001b[0;32m~/programming/venvs/ml/lib/python3.8/site-packages/monai-0.3.0+82.g7bffaf7-py3.8.egg/monai/inferers/utils.py\u001b[0m in \u001b[0;36msliding_window_inference\u001b[0;34m(inputs, roi_size, sw_batch_size, predictor, overlap, mode, sigma_scale, padding_mode, cval, sw_device, device, *args, **kwargs)\u001b[0m\n\u001b[1;32m    116\u001b[0m \u001b[0;34m\u001b[0m\u001b[0m\n\u001b[1;32m    117\u001b[0m     \u001b[0;31m# Perform predictions\u001b[0m\u001b[0;34m\u001b[0m\u001b[0;34m\u001b[0m\u001b[0;34m\u001b[0m\u001b[0m\n\u001b[0;32m--> 118\u001b[0;31m     \u001b[0moutput_image\u001b[0m\u001b[0;34m,\u001b[0m \u001b[0mcount_map\u001b[0m \u001b[0;34m=\u001b[0m \u001b[0mtorch\u001b[0m\u001b[0;34m.\u001b[0m\u001b[0mtensor\u001b[0m\u001b[0;34m(\u001b[0m\u001b[0;36m0.0\u001b[0m\u001b[0;34m,\u001b[0m \u001b[0mdevice\u001b[0m\u001b[0;34m=\u001b[0m\u001b[0mdevice\u001b[0m\u001b[0;34m)\u001b[0m\u001b[0;34m,\u001b[0m \u001b[0mtorch\u001b[0m\u001b[0;34m.\u001b[0m\u001b[0mtensor\u001b[0m\u001b[0;34m(\u001b[0m\u001b[0;36m0.0\u001b[0m\u001b[0;34m,\u001b[0m \u001b[0mdevice\u001b[0m\u001b[0;34m=\u001b[0m\u001b[0mdevice\u001b[0m\u001b[0;34m)\u001b[0m\u001b[0;34m\u001b[0m\u001b[0;34m\u001b[0m\u001b[0m\n\u001b[0m\u001b[1;32m    119\u001b[0m     \u001b[0m_initialized\u001b[0m \u001b[0;34m=\u001b[0m \u001b[0;32mFalse\u001b[0m\u001b[0;34m\u001b[0m\u001b[0;34m\u001b[0m\u001b[0m\n\u001b[1;32m    120\u001b[0m     \u001b[0;32mfor\u001b[0m \u001b[0mslice_g\u001b[0m \u001b[0;32min\u001b[0m \u001b[0mrange\u001b[0m\u001b[0;34m(\u001b[0m\u001b[0;36m0\u001b[0m\u001b[0;34m,\u001b[0m \u001b[0mtotal_slices\u001b[0m\u001b[0;34m,\u001b[0m \u001b[0msw_batch_size\u001b[0m\u001b[0;34m)\u001b[0m\u001b[0;34m:\u001b[0m\u001b[0;34m\u001b[0m\u001b[0;34m\u001b[0m\u001b[0m\n",
      "\u001b[0;32m~/programming/venvs/ml/lib/python3.8/site-packages/torch/utils/data/_utils/signal_handling.py\u001b[0m in \u001b[0;36mhandler\u001b[0;34m(signum, frame)\u001b[0m\n\u001b[1;32m     64\u001b[0m         \u001b[0;31m# This following call uses `waitid` with WNOHANG from C side. Therefore,\u001b[0m\u001b[0;34m\u001b[0m\u001b[0;34m\u001b[0m\u001b[0;34m\u001b[0m\u001b[0m\n\u001b[1;32m     65\u001b[0m         \u001b[0;31m# Python can still get and update the process status successfully.\u001b[0m\u001b[0;34m\u001b[0m\u001b[0;34m\u001b[0m\u001b[0;34m\u001b[0m\u001b[0m\n\u001b[0;32m---> 66\u001b[0;31m         \u001b[0m_error_if_any_worker_fails\u001b[0m\u001b[0;34m(\u001b[0m\u001b[0;34m)\u001b[0m\u001b[0;34m\u001b[0m\u001b[0;34m\u001b[0m\u001b[0m\n\u001b[0m\u001b[1;32m     67\u001b[0m         \u001b[0;32mif\u001b[0m \u001b[0mprevious_handler\u001b[0m \u001b[0;32mis\u001b[0m \u001b[0;32mnot\u001b[0m \u001b[0;32mNone\u001b[0m\u001b[0;34m:\u001b[0m\u001b[0;34m\u001b[0m\u001b[0;34m\u001b[0m\u001b[0m\n\u001b[1;32m     68\u001b[0m             \u001b[0mprevious_handler\u001b[0m\u001b[0;34m(\u001b[0m\u001b[0msignum\u001b[0m\u001b[0;34m,\u001b[0m \u001b[0mframe\u001b[0m\u001b[0;34m)\u001b[0m\u001b[0;34m\u001b[0m\u001b[0;34m\u001b[0m\u001b[0m\n",
      "\u001b[0;31mRuntimeError\u001b[0m: DataLoader worker (pid 15423) is killed by signal: Killed. "
     ]
    }
   ],
   "source": [
    "run('monai_training.CovidSegmentationTrainingApp', f'--batch-size={batch_size}', f'--epochs={train_epochs}', \n",
    "    f'--val-cadence={val_cadence}', f'--data-path={data_path}',\n",
    "    f'--recall-priority={recall_priority}', f'--depth={unet_depth}', f'--pad-type={pad_types[1]}',\n",
    "    '--width-cri', f'{width_cri[0]}', f'{width_cri[1]}', f'{width_cri[2]}',\n",
    "    f'--project-name={project_name}', f'--run-name={run_name}')\n",
    "\n",
    "# dummy run to finish wandb\n",
    "run('monai_training.CovidSegmentationTrainingApp', '--epochs=0', f'--project-name={project_name}', '--run-name=to delete')"
   ]
  },
  {
   "cell_type": "code",
   "execution_count": null,
   "metadata": {},
   "outputs": [],
   "source": []
  }
 ],
 "metadata": {
  "kernelspec": {
   "display_name": "Python 3",
   "language": "python",
   "name": "python3"
  },
  "language_info": {
   "codemirror_mode": {
    "name": "ipython",
    "version": 3
   },
   "file_extension": ".py",
   "mimetype": "text/x-python",
   "name": "python",
   "nbconvert_exporter": "python",
   "pygments_lexer": "ipython3",
   "version": "3.8.5"
  }
 },
 "nbformat": 4,
 "nbformat_minor": 4
}
