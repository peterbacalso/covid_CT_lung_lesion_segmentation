{
 "cells": [
  {
   "cell_type": "code",
   "execution_count": 1,
   "metadata": {},
   "outputs": [],
   "source": [
    "%load_ext autoreload\n",
    "%autoreload 2\n",
    "%matplotlib inline"
   ]
  },
  {
   "cell_type": "code",
   "execution_count": 2,
   "metadata": {},
   "outputs": [],
   "source": [
    "import os\n",
    "import feather\n",
    "import numpy as np\n",
    "import pandas as pd\n",
    "import nibabel as nib\n",
    "import matplotlib.pyplot as plt\n",
    "\n",
    "from functools import partial\n",
    "\n",
    "# local imports\n",
    "import sys\n",
    "sys.path.insert(1, '../')\n",
    "from modules.dsets import Covid2dSegmentationDataset, TrainingCovid2dSegmentationDataset\n",
    "from modules.util.util import list_stride_splitter, window_image, lung_window, mediastinal_window"
   ]
  },
  {
   "cell_type": "code",
   "execution_count": 3,
   "metadata": {},
   "outputs": [],
   "source": [
    "splitter = partial(list_stride_splitter, val_stride=10)"
   ]
  },
  {
   "cell_type": "code",
   "execution_count": 4,
   "metadata": {},
   "outputs": [
    {
     "name": "stderr",
     "output_type": "stream",
     "text": [
      "2020-11-13 15:37:27,198 INFO     pid:38702 modules.dsets:179:__init__ <class 'modules.dsets.TrainingCovid2dSegmentationDataset'>: training mode, 177 uid's, 4379 index slices, 1080 lesions\n",
      "2020-11-13 15:37:27,199 INFO     pid:38702 modules.dsets:220:__init__ <class 'modules.dsets.TrainingCovid2dSegmentationDataset'>: (7, 60, 60) width_irc\n",
      "2020-11-13 15:37:27,204 INFO     pid:38702 modules.dsets:179:__init__ <class 'modules.dsets.Covid2dSegmentationDataset'>: validation mode, 20 uid's, 592 index slices, 157 lesions\n"
     ]
    }
   ],
   "source": [
    "width_irc = (7,60,60)\n",
    "train_ds = TrainingCovid2dSegmentationDataset(splitter=splitter, width_irc=width_irc)\n",
    "valid_ds = Covid2dSegmentationDataset(is_valid=True, splitter=splitter)"
   ]
  },
  {
   "cell_type": "markdown",
   "metadata": {},
   "source": [
    "TODOs\n",
    "\n",
    "1. show outputs from validation\n",
    "2. show outputs from train\n",
    "3. show mask overlays\n",
    "3. show augmentation"
   ]
  },
  {
   "cell_type": "code",
   "execution_count": null,
   "metadata": {},
   "outputs": [],
   "source": []
  }
 ],
 "metadata": {
  "kernelspec": {
   "display_name": "Python 3",
   "language": "python",
   "name": "python3"
  },
  "language_info": {
   "codemirror_mode": {
    "name": "ipython",
    "version": 3
   },
   "file_extension": ".py",
   "mimetype": "text/x-python",
   "name": "python",
   "nbconvert_exporter": "python",
   "pygments_lexer": "ipython3",
   "version": "3.8.5"
  }
 },
 "nbformat": 4,
 "nbformat_minor": 4
}
