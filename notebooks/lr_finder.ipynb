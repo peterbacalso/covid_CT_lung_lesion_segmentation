{
 "cells": [
  {
   "cell_type": "markdown",
   "metadata": {},
   "source": [
    "Dear learning rate...\n",
    "\n",
    "I will look for you, I will find you, and I will ???? you"
   ]
  },
  {
   "cell_type": "code",
   "execution_count": 1,
   "metadata": {},
   "outputs": [],
   "source": [
    "%load_ext autoreload\n",
    "%autoreload 2\n",
    "%matplotlib inline"
   ]
  },
  {
   "cell_type": "code",
   "execution_count": 2,
   "metadata": {},
   "outputs": [],
   "source": [
    "import warnings\n",
    "warnings.filterwarnings(\"ignore\")"
   ]
  },
  {
   "cell_type": "code",
   "execution_count": 3,
   "metadata": {},
   "outputs": [],
   "source": [
    "import torch\n",
    "import torch.nn.functional as F\n",
    "\n",
    "from torch import nn\n",
    "from torch.optim import SGD\n",
    "from functools import partial\n",
    "from torch_lr_finder import LRFinder\n",
    "from torch.utils.data import DataLoader\n",
    "\n",
    "# local imports\n",
    "import sys\n",
    "sys.path.insert(1, '../')\n",
    "from modules.dsets import TrainingCovid2dSegmentationDataset, collate_fn\n",
    "from modules.model import UNet3dWrapper\n",
    "from modules.util.util import list_stride_splitter"
   ]
  },
  {
   "cell_type": "code",
   "execution_count": 4,
   "metadata": {},
   "outputs": [],
   "source": [
    "model = UNet3dWrapper(\n",
    "    in_channels=1,\n",
    "    n_classes=1,\n",
    "    depth=3,\n",
    "    wf=4,\n",
    "    padding=True,\n",
    "    pad_type='replicate',\n",
    "    batch_norm=True,\n",
    "    up_mode='upconv')\n",
    "model = model.cuda()"
   ]
  },
  {
   "cell_type": "code",
   "execution_count": 5,
   "metadata": {},
   "outputs": [],
   "source": [
    "lr = 1e-7\n",
    "momentum=.99\n",
    "weight_decay=1e-4\n",
    "optimizer = SGD(model.parameters(), lr=lr, momentum=momentum, weight_decay=weight_decay)"
   ]
  },
  {
   "cell_type": "code",
   "execution_count": 6,
   "metadata": {},
   "outputs": [],
   "source": [
    "def dice_loss_func(pred_g, label_g, epsilon=1):\n",
    "    dice_correct = (pred_g * label_g).sum(dim=[-4,-3,-2,-1])\n",
    "    dice_label_g = label_g.sum(dim=[-4,-3,-2,-1])\n",
    "    dice_pred_g = pred_g.sum(dim=[-4,-3,-2,-1])\n",
    "\n",
    "    dice_ratio = (2 * dice_correct + epsilon) \\\n",
    "        / (dice_label_g + dice_pred_g + epsilon)\n",
    "    return 1 - dice_ratio\n",
    "\n",
    "def loss_func(pred_g, label_g):\n",
    "    dice_loss = dice_loss_func(pred_g, label_g)\n",
    "    #fine_loss = dice_loss_func(pred_g*label_g, label_g)\n",
    "    \n",
    "    return dice_loss.mean()# + fine_loss.mean() * 8\n",
    "\n",
    "criterion = loss_func"
   ]
  },
  {
   "cell_type": "code",
   "execution_count": 7,
   "metadata": {},
   "outputs": [
    {
     "name": "stderr",
     "output_type": "stream",
     "text": [
      "2020-11-21 19:25:21,630 INFO     pid:34047 modules.dsets:315:__init__ TrainingCovid2dSegmentationDataset: training mode, 179 uid's\n",
      "2020-11-21 19:25:21,631 INFO     pid:34047 modules.dsets:340:__init__ TrainingCovid2dSegmentationDataset: (12, 192, 192) width_irc,  160 steps_per_epoch\n"
     ]
    }
   ],
   "source": [
    "splitter=partial(list_stride_splitter, val_stride=10)\n",
    "\n",
    "train_ds = TrainingCovid2dSegmentationDataset(\n",
    "    is_valid=False, \n",
    "    splitter=splitter,\n",
    "    width_irc=(12,192,192))\n",
    "\n",
    "batch_size = 2\n",
    "\n",
    "train_dl = DataLoader(\n",
    "    train_ds,\n",
    "    batch_size=batch_size,\n",
    "    num_workers=4,\n",
    "    pin_memory=True,\n",
    "    collate_fn=collate_fn\n",
    ")"
   ]
  },
  {
   "cell_type": "markdown",
   "metadata": {},
   "source": [
    "The training will use one cycle learning rate so we are looking for a steep decrease and loss, and the point at which it starts to level out/diverge"
   ]
  },
  {
   "cell_type": "code",
   "execution_count": 8,
   "metadata": {},
   "outputs": [],
   "source": [
    "lr_finder = LRFinder(model, optimizer, criterion, device='cuda')"
   ]
  },
  {
   "cell_type": "code",
   "execution_count": 9,
   "metadata": {},
   "outputs": [
    {
     "data": {
      "application/vnd.jupyter.widget-view+json": {
       "model_id": "fd817d53998e4c77ac76f8c5295bb552",
       "version_major": 2,
       "version_minor": 0
      },
      "text/plain": [
       "HBox(children=(FloatProgress(value=0.0, max=500.0), HTML(value='')))"
      ]
     },
     "metadata": {},
     "output_type": "display_data"
    },
    {
     "name": "stdout",
     "output_type": "stream",
     "text": [
      "\n",
      "Learning rate search finished. See the graph with {finder_name}.plot()\n"
     ]
    }
   ],
   "source": [
    "lr_finder.range_test(train_loader=train_dl, end_lr=10, num_iter=500)"
   ]
  },
  {
   "cell_type": "code",
   "execution_count": 10,
   "metadata": {},
   "outputs": [
    {
     "name": "stdout",
     "output_type": "stream",
     "text": [
      "LR suggestion: steepest gradient\n",
      "Suggested LR: 8.67E-03\n"
     ]
    },
    {
     "data": {
      "image/png": "[encoded data removed]",
      "text/plain": [
       "<Figure size 432x288 with 1 Axes>"
      ]
     },
     "metadata": {
      "needs_background": "light"
     },
     "output_type": "display_data"
    },
    {
     "data": {
      "text/plain": [
       "(<matplotlib.axes._subplots.AxesSubplot at 0x7f5c2dc50d60>,\n",
       " 0.008667138797389224)"
      ]
     },
     "execution_count": 10,
     "metadata": {},
     "output_type": "execute_result"
    }
   ],
   "source": [
    "# this was for model with depth 3, width_irc = 7,60,60\n",
    "lr_finder.plot() "
   ]
  },
  {
   "cell_type": "code",
   "execution_count": 11,
   "metadata": {},
   "outputs": [],
   "source": [
    "lr_finder.reset()"
   ]
  },
  {
   "cell_type": "code",
   "execution_count": 12,
   "metadata": {},
   "outputs": [
    {
     "data": {
      "application/vnd.jupyter.widget-view+json": {
       "model_id": "4168e32b5e4b4e7e867f7b6452748206",
       "version_major": 2,
       "version_minor": 0
      },
      "text/plain": [
       "HBox(children=(FloatProgress(value=0.0), HTML(value='')))"
      ]
     },
     "metadata": {},
     "output_type": "display_data"
    },
    {
     "name": "stdout",
     "output_type": "stream",
     "text": [
      "\n",
      "Learning rate search finished. See the graph with {finder_name}.plot()\n"
     ]
    }
   ],
   "source": [
    "lr_finder.range_test(train_loader=train_dl, end_lr=10, num_iter=100)"
   ]
  },
  {
   "cell_type": "code",
   "execution_count": 13,
   "metadata": {},
   "outputs": [
    {
     "name": "stdout",
     "output_type": "stream",
     "text": [
      "LR suggestion: steepest gradient\n",
      "Suggested LR: 3.94E+00\n"
     ]
    },
    {
     "data": {
      "image/png": "[encoded data removed]",
      "text/plain": [
       "<Figure size 432x288 with 1 Axes>"
      ]
     },
     "metadata": {
      "needs_background": "light"
     },
     "output_type": "display_data"
    },
    {
     "data": {
      "text/plain": [
       "(<matplotlib.axes._subplots.AxesSubplot at 0x7f5cb91a1ee0>, 3.9442060594376556)"
      ]
     },
     "execution_count": 13,
     "metadata": {},
     "output_type": "execute_result"
    }
   ],
   "source": [
    "# this was for model with depth 3, width_irc = 7,60,60\n",
    "lr_finder.plot()"
   ]
  },
  {
   "cell_type": "code",
   "execution_count": 14,
   "metadata": {},
   "outputs": [],
   "source": [
    "lr_finder.reset()"
   ]
  },
  {
   "cell_type": "markdown",
   "metadata": {},
   "source": [
    "Based on these findings, we can set the default learning rate to a steep loss, such as 3e-3, and the max lr can be 3e-1"
   ]
  },
  {
   "cell_type": "code",
   "execution_count": null,
   "metadata": {},
   "outputs": [],
   "source": []
  }
 ],
 "metadata": {
  "kernelspec": {
   "display_name": "Python 3",
   "language": "python",
   "name": "python3"
  },
  "language_info": {
   "codemirror_mode": {
    "name": "ipython",
    "version": 3
   },
   "file_extension": ".py",
   "mimetype": "text/x-python",
   "name": "python",
   "nbconvert_exporter": "python",
   "pygments_lexer": "ipython3",
   "version": "3.8.5"
  }
 },
 "nbformat": 4,
 "nbformat_minor": 4
}
