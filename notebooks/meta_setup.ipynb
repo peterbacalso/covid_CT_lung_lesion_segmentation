{
 "cells": [
  {
   "cell_type": "code",
   "execution_count": 1,
   "metadata": {},
   "outputs": [],
   "source": [
    "%load_ext autoreload\n",
    "%autoreload 2\n",
    "%matplotlib inline"
   ]
  },
  {
   "cell_type": "code",
   "execution_count": 2,
   "metadata": {},
   "outputs": [],
   "source": [
    "import sys\n",
    "sys.path.insert(1, '../')"
   ]
  },
  {
   "cell_type": "markdown",
   "metadata": {},
   "source": [
    "# Metadata Setup"
   ]
  },
  {
   "cell_type": "markdown",
   "metadata": {},
   "source": [
    "For this notebook we will be building dataframes to hold any metadata information about CT scans that we need for training"
   ]
  },
  {
   "cell_type": "code",
   "execution_count": 3,
   "metadata": {},
   "outputs": [],
   "source": [
    "import os\n",
    "import feather\n",
    "import random\n",
    "import numpy as np\n",
    "import pandas as pd\n",
    "import seaborn as sns\n",
    "import nibabel as nib\n",
    "import matplotlib.pyplot as plt\n",
    "\n",
    "from tqdm import tqdm\n",
    "from pathlib import Path\n",
    "from collections import namedtuple\n",
    "Path.ls = lambda x: [o.name for o in x.iterdir()]"
   ]
  },
  {
   "cell_type": "code",
   "execution_count": 4,
   "metadata": {},
   "outputs": [],
   "source": [
    "# Load environment variables to get local datasets path\n",
    "from dotenv import load_dotenv\n",
    "load_dotenv()\n",
    "data_dir = os.environ.get('datasets_path')"
   ]
  },
  {
   "cell_type": "markdown",
   "metadata": {},
   "source": [
    "Load the provided excel metadata and save paths to train and validation"
   ]
  },
  {
   "cell_type": "code",
   "execution_count": 5,
   "metadata": {},
   "outputs": [],
   "source": [
    "dataset_path = Path(f'{data_dir}/COVID-19-20_v2')\n",
    "trn_path = dataset_path/'Train'\n",
    "val_path = dataset_path/'Validation'"
   ]
  },
  {
   "cell_type": "code",
   "execution_count": 6,
   "metadata": {},
   "outputs": [],
   "source": [
    "trn_volumes = pd.read_excel(dataset_path/'COVID-19-20_TrainValidation.xlsx')"
   ]
  },
  {
   "cell_type": "markdown",
   "metadata": {},
   "source": [
    "## File locations"
   ]
  },
  {
   "cell_type": "markdown",
   "metadata": {},
   "source": [
    "First we organize the file path information in a dataframe for easy mapping between the IDs and their segmentation mask or CT volume"
   ]
  },
  {
   "cell_type": "code",
   "execution_count": 7,
   "metadata": {},
   "outputs": [],
   "source": [
    "# train\n",
    "trn_ct_fnames = list((trn_path/trn_volumes.FILENAME).astype(str) + '_ct.nii.gz')\n",
    "trn_mask_fnames = list((trn_path/trn_volumes.FILENAME).astype(str) + '_seg.nii.gz')\n",
    "trn_uid = list(trn_volumes.FILENAME.str[18:])"
   ]
  },
  {
   "cell_type": "code",
   "execution_count": 8,
   "metadata": {},
   "outputs": [],
   "source": [
    "# valid\n",
    "val_ct_list = pd.Series(val_path.ls())\n",
    "val_ct_fnames = list((val_path/val_ct_list).astype(str))\n",
    "val_uid = [val[18:23] if len(val) > 31 else val[18:21] for val in val_ct_list]"
   ]
  },
  {
   "cell_type": "code",
   "execution_count": 9,
   "metadata": {},
   "outputs": [],
   "source": [
    "ct_fnames = trn_ct_fnames + val_ct_fnames\n",
    "mask_fnames = trn_mask_fnames + ['']*len(val_ct_list)\n",
    "uid = trn_uid + val_uid\n",
    "is_valid = [False]*len(trn_ct_fnames) + [True]*len(val_ct_list)"
   ]
  },
  {
   "cell_type": "code",
   "execution_count": 10,
   "metadata": {},
   "outputs": [],
   "source": [
    "df_meta = pd.DataFrame({'uid': uid,\n",
    "                        'ct_fname': ct_fnames,\n",
    "                        'mask_fname': mask_fnames,\n",
    "                        'is_valid': is_valid})"
   ]
  },
  {
   "cell_type": "code",
   "execution_count": 11,
   "metadata": {},
   "outputs": [
    {
     "data": {
      "text/html": [
       "<div>\n",
       "<style scoped>\n",
       "    .dataframe tbody tr th:only-of-type {\n",
       "        vertical-align: middle;\n",
       "    }\n",
       "\n",
       "    .dataframe tbody tr th {\n",
       "        vertical-align: top;\n",
       "    }\n",
       "\n",
       "    .dataframe thead th {\n",
       "        text-align: right;\n",
       "    }\n",
       "</style>\n",
       "<table border=\"1\" class=\"dataframe\">\n",
       "  <thead>\n",
       "    <tr style=\"text-align: right;\">\n",
       "      <th></th>\n",
       "      <th>uid</th>\n",
       "      <th>ct_fname</th>\n",
       "      <th>mask_fname</th>\n",
       "      <th>is_valid</th>\n",
       "    </tr>\n",
       "  </thead>\n",
       "  <tbody>\n",
       "    <tr>\n",
       "      <th>0</th>\n",
       "      <td>391</td>\n",
       "      <td>/home/fsuser/programming/datasets/COVID-19-20_...</td>\n",
       "      <td>/home/fsuser/programming/datasets/COVID-19-20_...</td>\n",
       "      <td>False</td>\n",
       "    </tr>\n",
       "    <tr>\n",
       "      <th>1</th>\n",
       "      <td>383_1</td>\n",
       "      <td>/home/fsuser/programming/datasets/COVID-19-20_...</td>\n",
       "      <td>/home/fsuser/programming/datasets/COVID-19-20_...</td>\n",
       "      <td>False</td>\n",
       "    </tr>\n",
       "    <tr>\n",
       "      <th>2</th>\n",
       "      <td>338</td>\n",
       "      <td>/home/fsuser/programming/datasets/COVID-19-20_...</td>\n",
       "      <td>/home/fsuser/programming/datasets/COVID-19-20_...</td>\n",
       "      <td>False</td>\n",
       "    </tr>\n",
       "    <tr>\n",
       "      <th>3</th>\n",
       "      <td>623</td>\n",
       "      <td>/home/fsuser/programming/datasets/COVID-19-20_...</td>\n",
       "      <td>/home/fsuser/programming/datasets/COVID-19-20_...</td>\n",
       "      <td>False</td>\n",
       "    </tr>\n",
       "    <tr>\n",
       "      <th>4</th>\n",
       "      <td>559</td>\n",
       "      <td>/home/fsuser/programming/datasets/COVID-19-20_...</td>\n",
       "      <td>/home/fsuser/programming/datasets/COVID-19-20_...</td>\n",
       "      <td>False</td>\n",
       "    </tr>\n",
       "  </tbody>\n",
       "</table>\n",
       "</div>"
      ],
      "text/plain": [
       "     uid                                           ct_fname  \\\n",
       "0    391  /home/fsuser/programming/datasets/COVID-19-20_...   \n",
       "1  383_1  /home/fsuser/programming/datasets/COVID-19-20_...   \n",
       "2    338  /home/fsuser/programming/datasets/COVID-19-20_...   \n",
       "3    623  /home/fsuser/programming/datasets/COVID-19-20_...   \n",
       "4    559  /home/fsuser/programming/datasets/COVID-19-20_...   \n",
       "\n",
       "                                          mask_fname  is_valid  \n",
       "0  /home/fsuser/programming/datasets/COVID-19-20_...     False  \n",
       "1  /home/fsuser/programming/datasets/COVID-19-20_...     False  \n",
       "2  /home/fsuser/programming/datasets/COVID-19-20_...     False  \n",
       "3  /home/fsuser/programming/datasets/COVID-19-20_...     False  \n",
       "4  /home/fsuser/programming/datasets/COVID-19-20_...     False  "
      ]
     },
     "execution_count": 11,
     "metadata": {},
     "output_type": "execute_result"
    }
   ],
   "source": [
    "df_meta.head()"
   ]
  },
  {
   "cell_type": "markdown",
   "metadata": {},
   "source": [
    "Assuming the `_1` or `_0` suffix on the id mean that it is either a duplicate or additional scan, we can drop the suffix and treat it as the same patient so we can keep it in the same train/validation set later on"
   ]
  },
  {
   "cell_type": "code",
   "execution_count": 12,
   "metadata": {},
   "outputs": [
    {
     "data": {
      "text/plain": [
       "False"
      ]
     },
     "execution_count": 12,
     "metadata": {},
     "output_type": "execute_result"
    }
   ],
   "source": [
    "df_meta['stripped_uid'] = df_meta.uid.str.replace('_1', '')\n",
    "df_meta['stripped_uid'] = df_meta.stripped_uid.str.replace('_0', '')\n",
    "len(df_meta.stripped_uid) > len(set(df_meta.stripped_uid))"
   ]
  },
  {
   "cell_type": "markdown",
   "metadata": {},
   "source": [
    "Turns out the suffixes were not indicative of duplicates/additional scans for a patient, at least not for our training set"
   ]
  },
  {
   "cell_type": "code",
   "execution_count": 13,
   "metadata": {},
   "outputs": [],
   "source": [
    "df_meta.drop('stripped_uid', axis=1, inplace=True)"
   ]
  },
  {
   "cell_type": "markdown",
   "metadata": {},
   "source": [
    "## CT Header Info"
   ]
  },
  {
   "cell_type": "markdown",
   "metadata": {},
   "source": [
    "Add the metadata from the header of each CT scan to df_meta for exploratory data analysis (EDA) purposes"
   ]
  },
  {
   "cell_type": "code",
   "execution_count": 14,
   "metadata": {},
   "outputs": [],
   "source": [
    "# note that nibabel's get_fdata() function will cast the datatype of the ct array to float automatically\n",
    "# so we do not have to handle any explicit data conversions\n",
    "def append_header_meta(df, ct_fnames, mask_fnames):\n",
    "    meta_dict = {}\n",
    "    fnames = zip(ct_fnames, mask_fnames)\n",
    "    for _, (ct_fname, mask_fname) in tqdm(enumerate(fnames), total=len(ct_fnames)):\n",
    "        ct = nib.load(ct_fname)\n",
    "        hdr = ct.header\n",
    "        header_cols = set(list(hdr))\n",
    "        for key in header_cols:\n",
    "            if hdr[key].size > 1:\n",
    "                for i, value in enumerate(hdr[key]):\n",
    "                    meta_dict.setdefault(f'{key}_{i}',[]).append(value)\n",
    "            else:\n",
    "                meta_dict.setdefault(key,[]).append(hdr[key].item())\n",
    "        img = ct.get_fdata()\n",
    "        meta_dict.setdefault('img_min',[]).append(img.min())\n",
    "        meta_dict.setdefault('img_max',[]).append(img.max())\n",
    "        meta_dict.setdefault('img_mean',[]).append(img.mean())\n",
    "        meta_dict.setdefault('img_std',[]).append(img.std())\n",
    "        \n",
    "        if len(mask_fname):\n",
    "            mask = nib.load(mask_fname)\n",
    "            img_mask = mask.get_fdata()\n",
    "            meta_dict.setdefault('pct_lesion',[]).append(img_mask.sum() / img_mask.size)\n",
    "        else:\n",
    "            meta_dict.setdefault('pct_lesion',[]).append(0.)\n",
    "        \n",
    "    for key in meta_dict:\n",
    "        df[key] = meta_dict[key]"
   ]
  },
  {
   "cell_type": "code",
   "execution_count": 15,
   "metadata": {},
   "outputs": [
    {
     "name": "stderr",
     "output_type": "stream",
     "text": [
      "100%|██████████| 249/249 [02:46<00:00,  1.49it/s]\n"
     ]
    }
   ],
   "source": [
    "append_header_meta(df_meta, df_meta.ct_fname, df_meta.mask_fname)"
   ]
  },
  {
   "cell_type": "code",
   "execution_count": 16,
   "metadata": {},
   "outputs": [
    {
     "data": {
      "text/html": [
       "<div>\n",
       "<style scoped>\n",
       "    .dataframe tbody tr th:only-of-type {\n",
       "        vertical-align: middle;\n",
       "    }\n",
       "\n",
       "    .dataframe tbody tr th {\n",
       "        vertical-align: top;\n",
       "    }\n",
       "\n",
       "    .dataframe thead th {\n",
       "        text-align: right;\n",
       "    }\n",
       "</style>\n",
       "<table border=\"1\" class=\"dataframe\">\n",
       "  <thead>\n",
       "    <tr style=\"text-align: right;\">\n",
       "      <th></th>\n",
       "      <th>0</th>\n",
       "      <th>1</th>\n",
       "      <th>2</th>\n",
       "      <th>3</th>\n",
       "      <th>4</th>\n",
       "    </tr>\n",
       "  </thead>\n",
       "  <tbody>\n",
       "    <tr>\n",
       "      <th>uid</th>\n",
       "      <td>391</td>\n",
       "      <td>383_1</td>\n",
       "      <td>338</td>\n",
       "      <td>623</td>\n",
       "      <td>559</td>\n",
       "    </tr>\n",
       "    <tr>\n",
       "      <th>ct_fname</th>\n",
       "      <td>/home/fsuser/programming/d...</td>\n",
       "      <td>/home/fsuser/programming/d...</td>\n",
       "      <td>/home/fsuser/programming/d...</td>\n",
       "      <td>/home/fsuser/programming/d...</td>\n",
       "      <td>/home/fsuser/programming/d...</td>\n",
       "    </tr>\n",
       "    <tr>\n",
       "      <th>mask_fname</th>\n",
       "      <td>/home/fsuser/programming/d...</td>\n",
       "      <td>/home/fsuser/programming/d...</td>\n",
       "      <td>/home/fsuser/programming/d...</td>\n",
       "      <td>/home/fsuser/programming/d...</td>\n",
       "      <td>/home/fsuser/programming/d...</td>\n",
       "    </tr>\n",
       "    <tr>\n",
       "      <th>is_valid</th>\n",
       "      <td>False</td>\n",
       "      <td>False</td>\n",
       "      <td>False</td>\n",
       "      <td>False</td>\n",
       "      <td>False</td>\n",
       "    </tr>\n",
       "    <tr>\n",
       "      <th>sform_code</th>\n",
       "      <td>0</td>\n",
       "      <td>0</td>\n",
       "      <td>0</td>\n",
       "      <td>0</td>\n",
       "      <td>0</td>\n",
       "    </tr>\n",
       "    <tr>\n",
       "      <th>intent_p3</th>\n",
       "      <td>0</td>\n",
       "      <td>0</td>\n",
       "      <td>0</td>\n",
       "      <td>0</td>\n",
       "      <td>0</td>\n",
       "    </tr>\n",
       "    <tr>\n",
       "      <th>aux_file</th>\n",
       "      <td>b' '</td>\n",
       "      <td>b' '</td>\n",
       "      <td>b' '</td>\n",
       "      <td>b' '</td>\n",
       "      <td>b' '</td>\n",
       "    </tr>\n",
       "    <tr>\n",
       "      <th>qoffset_x</th>\n",
       "      <td>220.277</td>\n",
       "      <td>216.373</td>\n",
       "      <td>183.222</td>\n",
       "      <td>209.2</td>\n",
       "      <td>232.988</td>\n",
       "    </tr>\n",
       "    <tr>\n",
       "      <th>bitpix</th>\n",
       "      <td>16</td>\n",
       "      <td>16</td>\n",
       "      <td>16</td>\n",
       "      <td>16</td>\n",
       "      <td>16</td>\n",
       "    </tr>\n",
       "    <tr>\n",
       "      <th>intent_p1</th>\n",
       "      <td>0</td>\n",
       "      <td>0</td>\n",
       "      <td>0</td>\n",
       "      <td>0</td>\n",
       "      <td>0</td>\n",
       "    </tr>\n",
       "    <tr>\n",
       "      <th>qoffset_z</th>\n",
       "      <td>-996</td>\n",
       "      <td>-265.5</td>\n",
       "      <td>-998</td>\n",
       "      <td>-238.5</td>\n",
       "      <td>-986</td>\n",
       "    </tr>\n",
       "    <tr>\n",
       "      <th>glmin</th>\n",
       "      <td>-2048</td>\n",
       "      <td>-2048</td>\n",
       "      <td>-2336</td>\n",
       "      <td>-1130</td>\n",
       "      <td>-2254</td>\n",
       "    </tr>\n",
       "    <tr>\n",
       "      <th>dim_info</th>\n",
       "      <td>0</td>\n",
       "      <td>0</td>\n",
       "      <td>0</td>\n",
       "      <td>0</td>\n",
       "      <td>0</td>\n",
       "    </tr>\n",
       "    <tr>\n",
       "      <th>qform_code</th>\n",
       "      <td>1</td>\n",
       "      <td>1</td>\n",
       "      <td>1</td>\n",
       "      <td>1</td>\n",
       "      <td>1</td>\n",
       "    </tr>\n",
       "    <tr>\n",
       "      <th>slice_code</th>\n",
       "      <td>0</td>\n",
       "      <td>0</td>\n",
       "      <td>0</td>\n",
       "      <td>0</td>\n",
       "      <td>0</td>\n",
       "    </tr>\n",
       "    <tr>\n",
       "      <th>scl_inter</th>\n",
       "      <td>NaN</td>\n",
       "      <td>NaN</td>\n",
       "      <td>NaN</td>\n",
       "      <td>NaN</td>\n",
       "      <td>NaN</td>\n",
       "    </tr>\n",
       "    <tr>\n",
       "      <th>slice_duration</th>\n",
       "      <td>0</td>\n",
       "      <td>0</td>\n",
       "      <td>0</td>\n",
       "      <td>0</td>\n",
       "      <td>0</td>\n",
       "    </tr>\n",
       "    <tr>\n",
       "      <th>srow_y_0</th>\n",
       "      <td>0</td>\n",
       "      <td>0</td>\n",
       "      <td>0</td>\n",
       "      <td>0</td>\n",
       "      <td>0</td>\n",
       "    </tr>\n",
       "    <tr>\n",
       "      <th>srow_y_1</th>\n",
       "      <td>0</td>\n",
       "      <td>0</td>\n",
       "      <td>0</td>\n",
       "      <td>0</td>\n",
       "      <td>0</td>\n",
       "    </tr>\n",
       "    <tr>\n",
       "      <th>srow_y_2</th>\n",
       "      <td>0</td>\n",
       "      <td>0</td>\n",
       "      <td>0</td>\n",
       "      <td>0</td>\n",
       "      <td>0</td>\n",
       "    </tr>\n",
       "    <tr>\n",
       "      <th>srow_y_3</th>\n",
       "      <td>0</td>\n",
       "      <td>0</td>\n",
       "      <td>0</td>\n",
       "      <td>0</td>\n",
       "      <td>0</td>\n",
       "    </tr>\n",
       "    <tr>\n",
       "      <th>srow_z_0</th>\n",
       "      <td>0</td>\n",
       "      <td>0</td>\n",
       "      <td>0</td>\n",
       "      <td>0</td>\n",
       "      <td>0</td>\n",
       "    </tr>\n",
       "    <tr>\n",
       "      <th>srow_z_1</th>\n",
       "      <td>0</td>\n",
       "      <td>0</td>\n",
       "      <td>0</td>\n",
       "      <td>0</td>\n",
       "      <td>0</td>\n",
       "    </tr>\n",
       "    <tr>\n",
       "      <th>srow_z_2</th>\n",
       "      <td>0</td>\n",
       "      <td>0</td>\n",
       "      <td>0</td>\n",
       "      <td>0</td>\n",
       "      <td>0</td>\n",
       "    </tr>\n",
       "    <tr>\n",
       "      <th>srow_z_3</th>\n",
       "      <td>0</td>\n",
       "      <td>0</td>\n",
       "      <td>0</td>\n",
       "      <td>0</td>\n",
       "      <td>0</td>\n",
       "    </tr>\n",
       "    <tr>\n",
       "      <th>qoffset_y</th>\n",
       "      <td>217.348</td>\n",
       "      <td>216.373</td>\n",
       "      <td>189.473</td>\n",
       "      <td>189.5</td>\n",
       "      <td>209.551</td>\n",
       "    </tr>\n",
       "    <tr>\n",
       "      <th>srow_x_0</th>\n",
       "      <td>0</td>\n",
       "      <td>0</td>\n",
       "      <td>0</td>\n",
       "      <td>0</td>\n",
       "      <td>0</td>\n",
       "    </tr>\n",
       "    <tr>\n",
       "      <th>srow_x_1</th>\n",
       "      <td>0</td>\n",
       "      <td>0</td>\n",
       "      <td>0</td>\n",
       "      <td>0</td>\n",
       "      <td>0</td>\n",
       "    </tr>\n",
       "    <tr>\n",
       "      <th>srow_x_2</th>\n",
       "      <td>0</td>\n",
       "      <td>0</td>\n",
       "      <td>0</td>\n",
       "      <td>0</td>\n",
       "      <td>0</td>\n",
       "    </tr>\n",
       "    <tr>\n",
       "      <th>srow_x_3</th>\n",
       "      <td>0</td>\n",
       "      <td>0</td>\n",
       "      <td>0</td>\n",
       "      <td>0</td>\n",
       "      <td>0</td>\n",
       "    </tr>\n",
       "    <tr>\n",
       "      <th>vox_offset</th>\n",
       "      <td>0</td>\n",
       "      <td>0</td>\n",
       "      <td>0</td>\n",
       "      <td>0</td>\n",
       "      <td>0</td>\n",
       "    </tr>\n",
       "    <tr>\n",
       "      <th>intent_code</th>\n",
       "      <td>0</td>\n",
       "      <td>0</td>\n",
       "      <td>0</td>\n",
       "      <td>0</td>\n",
       "      <td>0</td>\n",
       "    </tr>\n",
       "    <tr>\n",
       "      <th>db_name</th>\n",
       "      <td>b'volume-covid19-A-0'</td>\n",
       "      <td>b'volume-covid19-A-0'</td>\n",
       "      <td>b'volume-covid19-A-0'</td>\n",
       "      <td>b'volume-covid19-A-0'</td>\n",
       "      <td>b'volume-covid19-A-0'</td>\n",
       "    </tr>\n",
       "    <tr>\n",
       "      <th>quatern_b</th>\n",
       "      <td>0</td>\n",
       "      <td>0</td>\n",
       "      <td>0</td>\n",
       "      <td>0</td>\n",
       "      <td>0</td>\n",
       "    </tr>\n",
       "    <tr>\n",
       "      <th>slice_end</th>\n",
       "      <td>0</td>\n",
       "      <td>0</td>\n",
       "      <td>0</td>\n",
       "      <td>0</td>\n",
       "      <td>0</td>\n",
       "    </tr>\n",
       "    <tr>\n",
       "      <th>data_type</th>\n",
       "      <td>b'         \\n'</td>\n",
       "      <td>b'         \\n'</td>\n",
       "      <td>b'         \\n'</td>\n",
       "      <td>b'         \\n'</td>\n",
       "      <td>b'         \\n'</td>\n",
       "    </tr>\n",
       "    <tr>\n",
       "      <th>datatype</th>\n",
       "      <td>4</td>\n",
       "      <td>4</td>\n",
       "      <td>4</td>\n",
       "      <td>4</td>\n",
       "      <td>4</td>\n",
       "    </tr>\n",
       "    <tr>\n",
       "      <th>magic</th>\n",
       "      <td>b'n+1'</td>\n",
       "      <td>b'n+1'</td>\n",
       "      <td>b'n+1'</td>\n",
       "      <td>b'n+1'</td>\n",
       "      <td>b'n+1'</td>\n",
       "    </tr>\n",
       "    <tr>\n",
       "      <th>xyzt_units</th>\n",
       "      <td>10</td>\n",
       "      <td>10</td>\n",
       "      <td>10</td>\n",
       "      <td>10</td>\n",
       "      <td>10</td>\n",
       "    </tr>\n",
       "    <tr>\n",
       "      <th>extents</th>\n",
       "      <td>0</td>\n",
       "      <td>0</td>\n",
       "      <td>0</td>\n",
       "      <td>0</td>\n",
       "      <td>0</td>\n",
       "    </tr>\n",
       "    <tr>\n",
       "      <th>quatern_c</th>\n",
       "      <td>0</td>\n",
       "      <td>0</td>\n",
       "      <td>0</td>\n",
       "      <td>0</td>\n",
       "      <td>0</td>\n",
       "    </tr>\n",
       "    <tr>\n",
       "      <th>quatern_d</th>\n",
       "      <td>1</td>\n",
       "      <td>1</td>\n",
       "      <td>1</td>\n",
       "      <td>1</td>\n",
       "      <td>1</td>\n",
       "    </tr>\n",
       "    <tr>\n",
       "      <th>toffset</th>\n",
       "      <td>0</td>\n",
       "      <td>0</td>\n",
       "      <td>0</td>\n",
       "      <td>0</td>\n",
       "      <td>0</td>\n",
       "    </tr>\n",
       "    <tr>\n",
       "      <th>cal_min</th>\n",
       "      <td>0</td>\n",
       "      <td>0</td>\n",
       "      <td>0</td>\n",
       "      <td>0</td>\n",
       "      <td>0</td>\n",
       "    </tr>\n",
       "    <tr>\n",
       "      <th>session_error</th>\n",
       "      <td>0</td>\n",
       "      <td>0</td>\n",
       "      <td>0</td>\n",
       "      <td>0</td>\n",
       "      <td>0</td>\n",
       "    </tr>\n",
       "    <tr>\n",
       "      <th>intent_p2</th>\n",
       "      <td>0</td>\n",
       "      <td>0</td>\n",
       "      <td>0</td>\n",
       "      <td>0</td>\n",
       "      <td>0</td>\n",
       "    </tr>\n",
       "    <tr>\n",
       "      <th>slice_start</th>\n",
       "      <td>0</td>\n",
       "      <td>0</td>\n",
       "      <td>0</td>\n",
       "      <td>0</td>\n",
       "      <td>0</td>\n",
       "    </tr>\n",
       "    <tr>\n",
       "      <th>descrip</th>\n",
       "      <td>b'Computed Tomography'</td>\n",
       "      <td>b'Computed Tomography'</td>\n",
       "      <td>b'Computed Tomography'</td>\n",
       "      <td>b'Computed Tomography'</td>\n",
       "      <td>b'Computed Tomography'</td>\n",
       "    </tr>\n",
       "    <tr>\n",
       "      <th>cal_max</th>\n",
       "      <td>0</td>\n",
       "      <td>0</td>\n",
       "      <td>0</td>\n",
       "      <td>0</td>\n",
       "      <td>0</td>\n",
       "    </tr>\n",
       "    <tr>\n",
       "      <th>intent_name</th>\n",
       "      <td>b' '</td>\n",
       "      <td>b' '</td>\n",
       "      <td>b' '</td>\n",
       "      <td>b' '</td>\n",
       "      <td>b' '</td>\n",
       "    </tr>\n",
       "    <tr>\n",
       "      <th>regular</th>\n",
       "      <td>b'r'</td>\n",
       "      <td>b'r'</td>\n",
       "      <td>b'r'</td>\n",
       "      <td>b'r'</td>\n",
       "      <td>b'r'</td>\n",
       "    </tr>\n",
       "    <tr>\n",
       "      <th>sizeof_hdr</th>\n",
       "      <td>348</td>\n",
       "      <td>348</td>\n",
       "      <td>348</td>\n",
       "      <td>348</td>\n",
       "      <td>348</td>\n",
       "    </tr>\n",
       "    <tr>\n",
       "      <th>scl_slope</th>\n",
       "      <td>NaN</td>\n",
       "      <td>NaN</td>\n",
       "      <td>NaN</td>\n",
       "      <td>NaN</td>\n",
       "      <td>NaN</td>\n",
       "    </tr>\n",
       "    <tr>\n",
       "      <th>glmax</th>\n",
       "      <td>7321</td>\n",
       "      <td>1565</td>\n",
       "      <td>9066</td>\n",
       "      <td>3071</td>\n",
       "      <td>7964</td>\n",
       "    </tr>\n",
       "    <tr>\n",
       "      <th>pixdim_0</th>\n",
       "      <td>1</td>\n",
       "      <td>1</td>\n",
       "      <td>1</td>\n",
       "      <td>1</td>\n",
       "      <td>1</td>\n",
       "    </tr>\n",
       "    <tr>\n",
       "      <th>pixdim_1</th>\n",
       "      <td>0.85</td>\n",
       "      <td>0.846</td>\n",
       "      <td>0.741</td>\n",
       "      <td>0.740234</td>\n",
       "      <td>0.82</td>\n",
       "    </tr>\n",
       "    <tr>\n",
       "      <th>pixdim_2</th>\n",
       "      <td>0.85</td>\n",
       "      <td>0.846</td>\n",
       "      <td>0.741</td>\n",
       "      <td>0.740234</td>\n",
       "      <td>0.82</td>\n",
       "    </tr>\n",
       "    <tr>\n",
       "      <th>pixdim_3</th>\n",
       "      <td>5</td>\n",
       "      <td>5</td>\n",
       "      <td>5</td>\n",
       "      <td>5</td>\n",
       "      <td>5</td>\n",
       "    </tr>\n",
       "    <tr>\n",
       "      <th>pixdim_4</th>\n",
       "      <td>0</td>\n",
       "      <td>0</td>\n",
       "      <td>0</td>\n",
       "      <td>0</td>\n",
       "      <td>0</td>\n",
       "    </tr>\n",
       "    <tr>\n",
       "      <th>pixdim_5</th>\n",
       "      <td>0</td>\n",
       "      <td>0</td>\n",
       "      <td>0</td>\n",
       "      <td>0</td>\n",
       "      <td>0</td>\n",
       "    </tr>\n",
       "    <tr>\n",
       "      <th>pixdim_6</th>\n",
       "      <td>0</td>\n",
       "      <td>0</td>\n",
       "      <td>0</td>\n",
       "      <td>0</td>\n",
       "      <td>0</td>\n",
       "    </tr>\n",
       "    <tr>\n",
       "      <th>pixdim_7</th>\n",
       "      <td>0</td>\n",
       "      <td>0</td>\n",
       "      <td>0</td>\n",
       "      <td>0</td>\n",
       "      <td>0</td>\n",
       "    </tr>\n",
       "    <tr>\n",
       "      <th>dim_0</th>\n",
       "      <td>3</td>\n",
       "      <td>3</td>\n",
       "      <td>3</td>\n",
       "      <td>3</td>\n",
       "      <td>3</td>\n",
       "    </tr>\n",
       "    <tr>\n",
       "      <th>dim_1</th>\n",
       "      <td>512</td>\n",
       "      <td>512</td>\n",
       "      <td>512</td>\n",
       "      <td>512</td>\n",
       "      <td>512</td>\n",
       "    </tr>\n",
       "    <tr>\n",
       "      <th>dim_2</th>\n",
       "      <td>512</td>\n",
       "      <td>512</td>\n",
       "      <td>512</td>\n",
       "      <td>512</td>\n",
       "      <td>512</td>\n",
       "    </tr>\n",
       "    <tr>\n",
       "      <th>dim_3</th>\n",
       "      <td>70</td>\n",
       "      <td>54</td>\n",
       "      <td>71</td>\n",
       "      <td>63</td>\n",
       "      <td>67</td>\n",
       "    </tr>\n",
       "    <tr>\n",
       "      <th>dim_4</th>\n",
       "      <td>1</td>\n",
       "      <td>1</td>\n",
       "      <td>1</td>\n",
       "      <td>1</td>\n",
       "      <td>1</td>\n",
       "    </tr>\n",
       "    <tr>\n",
       "      <th>dim_5</th>\n",
       "      <td>1</td>\n",
       "      <td>1</td>\n",
       "      <td>1</td>\n",
       "      <td>1</td>\n",
       "      <td>1</td>\n",
       "    </tr>\n",
       "    <tr>\n",
       "      <th>dim_6</th>\n",
       "      <td>1</td>\n",
       "      <td>1</td>\n",
       "      <td>1</td>\n",
       "      <td>1</td>\n",
       "      <td>1</td>\n",
       "    </tr>\n",
       "    <tr>\n",
       "      <th>dim_7</th>\n",
       "      <td>1</td>\n",
       "      <td>1</td>\n",
       "      <td>1</td>\n",
       "      <td>1</td>\n",
       "      <td>1</td>\n",
       "    </tr>\n",
       "    <tr>\n",
       "      <th>img_min</th>\n",
       "      <td>-2048</td>\n",
       "      <td>-2048</td>\n",
       "      <td>-2336</td>\n",
       "      <td>-1130</td>\n",
       "      <td>-2254</td>\n",
       "    </tr>\n",
       "    <tr>\n",
       "      <th>img_max</th>\n",
       "      <td>7321</td>\n",
       "      <td>1565</td>\n",
       "      <td>9066</td>\n",
       "      <td>3071</td>\n",
       "      <td>7964</td>\n",
       "    </tr>\n",
       "    <tr>\n",
       "      <th>img_mean</th>\n",
       "      <td>-936.744</td>\n",
       "      <td>-816.1</td>\n",
       "      <td>-858.536</td>\n",
       "      <td>-551.916</td>\n",
       "      <td>-903.593</td>\n",
       "    </tr>\n",
       "    <tr>\n",
       "      <th>img_std</th>\n",
       "      <td>720.536</td>\n",
       "      <td>769.237</td>\n",
       "      <td>762.431</td>\n",
       "      <td>473.922</td>\n",
       "      <td>737.141</td>\n",
       "    </tr>\n",
       "    <tr>\n",
       "      <th>pct_lesion</th>\n",
       "      <td>0.000229154</td>\n",
       "      <td>0.00105455</td>\n",
       "      <td>0.00203549</td>\n",
       "      <td>0.00288718</td>\n",
       "      <td>0.00147452</td>\n",
       "    </tr>\n",
       "  </tbody>\n",
       "</table>\n",
       "</div>"
      ],
      "text/plain": [
       "                                            0                              1  \\\n",
       "uid                                       391                          383_1   \n",
       "ct_fname        /home/fsuser/programming/d...  /home/fsuser/programming/d...   \n",
       "mask_fname      /home/fsuser/programming/d...  /home/fsuser/programming/d...   \n",
       "is_valid                                False                          False   \n",
       "sform_code                                  0                              0   \n",
       "intent_p3                                   0                              0   \n",
       "aux_file                                 b' '                           b' '   \n",
       "qoffset_x                             220.277                        216.373   \n",
       "bitpix                                     16                             16   \n",
       "intent_p1                                   0                              0   \n",
       "qoffset_z                                -996                         -265.5   \n",
       "glmin                                   -2048                          -2048   \n",
       "dim_info                                    0                              0   \n",
       "qform_code                                  1                              1   \n",
       "slice_code                                  0                              0   \n",
       "scl_inter                                 NaN                            NaN   \n",
       "slice_duration                              0                              0   \n",
       "srow_y_0                                    0                              0   \n",
       "srow_y_1                                    0                              0   \n",
       "srow_y_2                                    0                              0   \n",
       "srow_y_3                                    0                              0   \n",
       "srow_z_0                                    0                              0   \n",
       "srow_z_1                                    0                              0   \n",
       "srow_z_2                                    0                              0   \n",
       "srow_z_3                                    0                              0   \n",
       "qoffset_y                             217.348                        216.373   \n",
       "srow_x_0                                    0                              0   \n",
       "srow_x_1                                    0                              0   \n",
       "srow_x_2                                    0                              0   \n",
       "srow_x_3                                    0                              0   \n",
       "vox_offset                                  0                              0   \n",
       "intent_code                                 0                              0   \n",
       "db_name                 b'volume-covid19-A-0'          b'volume-covid19-A-0'   \n",
       "quatern_b                                   0                              0   \n",
       "slice_end                                   0                              0   \n",
       "data_type                      b'         \\n'                 b'         \\n'   \n",
       "datatype                                    4                              4   \n",
       "magic                                  b'n+1'                         b'n+1'   \n",
       "xyzt_units                                 10                             10   \n",
       "extents                                     0                              0   \n",
       "quatern_c                                   0                              0   \n",
       "quatern_d                                   1                              1   \n",
       "toffset                                     0                              0   \n",
       "cal_min                                     0                              0   \n",
       "session_error                               0                              0   \n",
       "intent_p2                                   0                              0   \n",
       "slice_start                                 0                              0   \n",
       "descrip                b'Computed Tomography'         b'Computed Tomography'   \n",
       "cal_max                                     0                              0   \n",
       "intent_name                              b' '                           b' '   \n",
       "regular                                  b'r'                           b'r'   \n",
       "sizeof_hdr                                348                            348   \n",
       "scl_slope                                 NaN                            NaN   \n",
       "glmax                                    7321                           1565   \n",
       "pixdim_0                                    1                              1   \n",
       "pixdim_1                                 0.85                          0.846   \n",
       "pixdim_2                                 0.85                          0.846   \n",
       "pixdim_3                                    5                              5   \n",
       "pixdim_4                                    0                              0   \n",
       "pixdim_5                                    0                              0   \n",
       "pixdim_6                                    0                              0   \n",
       "pixdim_7                                    0                              0   \n",
       "dim_0                                       3                              3   \n",
       "dim_1                                     512                            512   \n",
       "dim_2                                     512                            512   \n",
       "dim_3                                      70                             54   \n",
       "dim_4                                       1                              1   \n",
       "dim_5                                       1                              1   \n",
       "dim_6                                       1                              1   \n",
       "dim_7                                       1                              1   \n",
       "img_min                                 -2048                          -2048   \n",
       "img_max                                  7321                           1565   \n",
       "img_mean                             -936.744                         -816.1   \n",
       "img_std                               720.536                        769.237   \n",
       "pct_lesion                        0.000229154                     0.00105455   \n",
       "\n",
       "                                            2                              3  \\\n",
       "uid                                       338                            623   \n",
       "ct_fname        /home/fsuser/programming/d...  /home/fsuser/programming/d...   \n",
       "mask_fname      /home/fsuser/programming/d...  /home/fsuser/programming/d...   \n",
       "is_valid                                False                          False   \n",
       "sform_code                                  0                              0   \n",
       "intent_p3                                   0                              0   \n",
       "aux_file                                 b' '                           b' '   \n",
       "qoffset_x                             183.222                          209.2   \n",
       "bitpix                                     16                             16   \n",
       "intent_p1                                   0                              0   \n",
       "qoffset_z                                -998                         -238.5   \n",
       "glmin                                   -2336                          -1130   \n",
       "dim_info                                    0                              0   \n",
       "qform_code                                  1                              1   \n",
       "slice_code                                  0                              0   \n",
       "scl_inter                                 NaN                            NaN   \n",
       "slice_duration                              0                              0   \n",
       "srow_y_0                                    0                              0   \n",
       "srow_y_1                                    0                              0   \n",
       "srow_y_2                                    0                              0   \n",
       "srow_y_3                                    0                              0   \n",
       "srow_z_0                                    0                              0   \n",
       "srow_z_1                                    0                              0   \n",
       "srow_z_2                                    0                              0   \n",
       "srow_z_3                                    0                              0   \n",
       "qoffset_y                             189.473                          189.5   \n",
       "srow_x_0                                    0                              0   \n",
       "srow_x_1                                    0                              0   \n",
       "srow_x_2                                    0                              0   \n",
       "srow_x_3                                    0                              0   \n",
       "vox_offset                                  0                              0   \n",
       "intent_code                                 0                              0   \n",
       "db_name                 b'volume-covid19-A-0'          b'volume-covid19-A-0'   \n",
       "quatern_b                                   0                              0   \n",
       "slice_end                                   0                              0   \n",
       "data_type                      b'         \\n'                 b'         \\n'   \n",
       "datatype                                    4                              4   \n",
       "magic                                  b'n+1'                         b'n+1'   \n",
       "xyzt_units                                 10                             10   \n",
       "extents                                     0                              0   \n",
       "quatern_c                                   0                              0   \n",
       "quatern_d                                   1                              1   \n",
       "toffset                                     0                              0   \n",
       "cal_min                                     0                              0   \n",
       "session_error                               0                              0   \n",
       "intent_p2                                   0                              0   \n",
       "slice_start                                 0                              0   \n",
       "descrip                b'Computed Tomography'         b'Computed Tomography'   \n",
       "cal_max                                     0                              0   \n",
       "intent_name                              b' '                           b' '   \n",
       "regular                                  b'r'                           b'r'   \n",
       "sizeof_hdr                                348                            348   \n",
       "scl_slope                                 NaN                            NaN   \n",
       "glmax                                    9066                           3071   \n",
       "pixdim_0                                    1                              1   \n",
       "pixdim_1                                0.741                       0.740234   \n",
       "pixdim_2                                0.741                       0.740234   \n",
       "pixdim_3                                    5                              5   \n",
       "pixdim_4                                    0                              0   \n",
       "pixdim_5                                    0                              0   \n",
       "pixdim_6                                    0                              0   \n",
       "pixdim_7                                    0                              0   \n",
       "dim_0                                       3                              3   \n",
       "dim_1                                     512                            512   \n",
       "dim_2                                     512                            512   \n",
       "dim_3                                      71                             63   \n",
       "dim_4                                       1                              1   \n",
       "dim_5                                       1                              1   \n",
       "dim_6                                       1                              1   \n",
       "dim_7                                       1                              1   \n",
       "img_min                                 -2336                          -1130   \n",
       "img_max                                  9066                           3071   \n",
       "img_mean                             -858.536                       -551.916   \n",
       "img_std                               762.431                        473.922   \n",
       "pct_lesion                         0.00203549                     0.00288718   \n",
       "\n",
       "                                            4  \n",
       "uid                                       559  \n",
       "ct_fname        /home/fsuser/programming/d...  \n",
       "mask_fname      /home/fsuser/programming/d...  \n",
       "is_valid                                False  \n",
       "sform_code                                  0  \n",
       "intent_p3                                   0  \n",
       "aux_file                                 b' '  \n",
       "qoffset_x                             232.988  \n",
       "bitpix                                     16  \n",
       "intent_p1                                   0  \n",
       "qoffset_z                                -986  \n",
       "glmin                                   -2254  \n",
       "dim_info                                    0  \n",
       "qform_code                                  1  \n",
       "slice_code                                  0  \n",
       "scl_inter                                 NaN  \n",
       "slice_duration                              0  \n",
       "srow_y_0                                    0  \n",
       "srow_y_1                                    0  \n",
       "srow_y_2                                    0  \n",
       "srow_y_3                                    0  \n",
       "srow_z_0                                    0  \n",
       "srow_z_1                                    0  \n",
       "srow_z_2                                    0  \n",
       "srow_z_3                                    0  \n",
       "qoffset_y                             209.551  \n",
       "srow_x_0                                    0  \n",
       "srow_x_1                                    0  \n",
       "srow_x_2                                    0  \n",
       "srow_x_3                                    0  \n",
       "vox_offset                                  0  \n",
       "intent_code                                 0  \n",
       "db_name                 b'volume-covid19-A-0'  \n",
       "quatern_b                                   0  \n",
       "slice_end                                   0  \n",
       "data_type                      b'         \\n'  \n",
       "datatype                                    4  \n",
       "magic                                  b'n+1'  \n",
       "xyzt_units                                 10  \n",
       "extents                                     0  \n",
       "quatern_c                                   0  \n",
       "quatern_d                                   1  \n",
       "toffset                                     0  \n",
       "cal_min                                     0  \n",
       "session_error                               0  \n",
       "intent_p2                                   0  \n",
       "slice_start                                 0  \n",
       "descrip                b'Computed Tomography'  \n",
       "cal_max                                     0  \n",
       "intent_name                              b' '  \n",
       "regular                                  b'r'  \n",
       "sizeof_hdr                                348  \n",
       "scl_slope                                 NaN  \n",
       "glmax                                    7964  \n",
       "pixdim_0                                    1  \n",
       "pixdim_1                                 0.82  \n",
       "pixdim_2                                 0.82  \n",
       "pixdim_3                                    5  \n",
       "pixdim_4                                    0  \n",
       "pixdim_5                                    0  \n",
       "pixdim_6                                    0  \n",
       "pixdim_7                                    0  \n",
       "dim_0                                       3  \n",
       "dim_1                                     512  \n",
       "dim_2                                     512  \n",
       "dim_3                                      67  \n",
       "dim_4                                       1  \n",
       "dim_5                                       1  \n",
       "dim_6                                       1  \n",
       "dim_7                                       1  \n",
       "img_min                                 -2254  \n",
       "img_max                                  7964  \n",
       "img_mean                             -903.593  \n",
       "img_std                               737.141  \n",
       "pct_lesion                         0.00147452  "
      ]
     },
     "metadata": {},
     "output_type": "display_data"
    }
   ],
   "source": [
    "with pd.option_context('display.max_rows', None, 'display.max_colwidth', 30): \n",
    "    display(df_meta.head().T)"
   ]
  },
  {
   "cell_type": "code",
   "execution_count": 17,
   "metadata": {},
   "outputs": [],
   "source": [
    "df_meta.to_feather('../metadata/df_meta.fth')"
   ]
  },
  {
   "cell_type": "markdown",
   "metadata": {},
   "source": [
    "## Lesion Center Point Voxel Locations"
   ]
  },
  {
   "cell_type": "code",
   "execution_count": 9,
   "metadata": {},
   "outputs": [],
   "source": [
    "df_meta = pd.read_feather('../metadata/df_meta.fth')"
   ]
  },
  {
   "cell_type": "markdown",
   "metadata": {},
   "source": [
    "As revealed from EDA, we are dealing with a very small amount of lesion data per CT. When training our model, we will need to perform some upsampling on the training data by zooming into these lesions"
   ]
  },
  {
   "cell_type": "code",
   "execution_count": 10,
   "metadata": {},
   "outputs": [],
   "source": [
    "from modules.dsets import Ct"
   ]
  },
  {
   "cell_type": "code",
   "execution_count": 11,
   "metadata": {},
   "outputs": [],
   "source": [
    "uid_trn_list = df_meta[df_meta.is_valid==False].uid"
   ]
  },
  {
   "cell_type": "code",
   "execution_count": 12,
   "metadata": {},
   "outputs": [],
   "source": [
    "lesion_header = ['uid', 'coordI', 'coordR', 'coordC', 'min_index', \n",
    "                 'max_index', 'min_row', 'max_row', 'min_column', 'max_column', \n",
    "                 'index_width', 'row_width', 'column_width', 'largest_side_px'] "
   ]
  },
  {
   "cell_type": "code",
   "execution_count": 15,
   "metadata": {},
   "outputs": [
    {
     "name": "stderr",
     "output_type": "stream",
     "text": [
      "100%|██████████| 199/199 [05:36<00:00,  1.69s/it]\n"
     ]
    }
   ],
   "source": [
    "lesion_locations = []\n",
    "for uid in tqdm(uid_trn_list):\n",
    "    ct = Ct(uid)\n",
    "    lesion_locations = lesion_locations + ct.group_lesions(output_df=False, num_erosions=2)"
   ]
  },
  {
   "cell_type": "code",
   "execution_count": 17,
   "metadata": {},
   "outputs": [
    {
     "data": {
      "text/plain": [
       "948"
      ]
     },
     "execution_count": 17,
     "metadata": {},
     "output_type": "execute_result"
    }
   ],
   "source": [
    "len(lesion_locations)"
   ]
  },
  {
   "cell_type": "code",
   "execution_count": 18,
   "metadata": {},
   "outputs": [
    {
     "name": "stderr",
     "output_type": "stream",
     "text": [
      "100%|██████████| 199/199 [05:20<00:00,  1.61s/it]\n"
     ]
    }
   ],
   "source": [
    "lesion_locations_e1 = []\n",
    "for uid in tqdm(uid_trn_list):\n",
    "    ct = Ct(uid)\n",
    "    lesion_locations_e1 += ct.group_lesions(output_df=False, num_erosions=1)"
   ]
  },
  {
   "cell_type": "code",
   "execution_count": 19,
   "metadata": {},
   "outputs": [
    {
     "data": {
      "text/plain": [
       "1237"
      ]
     },
     "execution_count": 19,
     "metadata": {},
     "output_type": "execute_result"
    }
   ],
   "source": [
    "len(lesion_locations_e1)"
   ]
  },
  {
   "cell_type": "code",
   "execution_count": 20,
   "metadata": {},
   "outputs": [],
   "source": [
    "df_lesion_coords_e1 = pd.DataFrame(lesion_locations_e1, columns=lesion_header)\n",
    "df_lesion_coords_e2 = pd.DataFrame(lesion_locations, columns=lesion_header)"
   ]
  },
  {
   "cell_type": "code",
   "execution_count": 25,
   "metadata": {},
   "outputs": [],
   "source": [
    "df_lesion_coords_e1_to_keep = df_lesion_coords_e1[df_lesion_coords_e1.uid.isin(set(df_lesion_coords_e1.uid.unique()) - set(df_lesion_coords_e2.uid.unique()))]"
   ]
  },
  {
   "cell_type": "code",
   "execution_count": 26,
   "metadata": {},
   "outputs": [],
   "source": [
    "df_lesion_coords = pd.concat([df_lesion_coords_e2, df_lesion_coords_e1_to_keep]).reset_index(drop=True)\n",
    "# df_lesion_coords = pd.DataFrame(lesion_locations, columns=lesion_header)"
   ]
  },
  {
   "cell_type": "code",
   "execution_count": 32,
   "metadata": {},
   "outputs": [],
   "source": [
    "df_lesion_coords.to_feather('../metadata/df_lesions.fth')"
   ]
  },
  {
   "cell_type": "markdown",
   "metadata": {},
   "source": [
    "more preprocessing..."
   ]
  },
  {
   "cell_type": "code",
   "execution_count": 12,
   "metadata": {},
   "outputs": [],
   "source": [
    "df_lesion_coords['volumes'] = df_lesion_coords.apply(lambda x: x.index_width*x.row_width*x.column_width, axis=1)"
   ]
  },
  {
   "cell_type": "code",
   "execution_count": 13,
   "metadata": {},
   "outputs": [
    {
     "data": {
      "text/html": [
       "<div>\n",
       "<style scoped>\n",
       "    .dataframe tbody tr th:only-of-type {\n",
       "        vertical-align: middle;\n",
       "    }\n",
       "\n",
       "    .dataframe tbody tr th {\n",
       "        vertical-align: top;\n",
       "    }\n",
       "\n",
       "    .dataframe thead th {\n",
       "        text-align: right;\n",
       "    }\n",
       "</style>\n",
       "<table border=\"1\" class=\"dataframe\">\n",
       "  <thead>\n",
       "    <tr style=\"text-align: right;\">\n",
       "      <th></th>\n",
       "      <th>uid</th>\n",
       "      <th>coordI</th>\n",
       "      <th>coordR</th>\n",
       "      <th>coordC</th>\n",
       "      <th>min_index</th>\n",
       "      <th>max_index</th>\n",
       "      <th>min_row</th>\n",
       "      <th>max_row</th>\n",
       "      <th>min_column</th>\n",
       "      <th>max_column</th>\n",
       "      <th>index_width</th>\n",
       "      <th>row_width</th>\n",
       "      <th>column_width</th>\n",
       "      <th>largest_side_px</th>\n",
       "      <th>volumes</th>\n",
       "    </tr>\n",
       "  </thead>\n",
       "  <tbody>\n",
       "    <tr>\n",
       "      <th>817</th>\n",
       "      <td>003</td>\n",
       "      <td>108</td>\n",
       "      <td>305</td>\n",
       "      <td>161</td>\n",
       "      <td>64</td>\n",
       "      <td>166</td>\n",
       "      <td>172</td>\n",
       "      <td>371</td>\n",
       "      <td>97</td>\n",
       "      <td>242</td>\n",
       "      <td>102</td>\n",
       "      <td>199</td>\n",
       "      <td>145</td>\n",
       "      <td>199</td>\n",
       "      <td>2943210</td>\n",
       "    </tr>\n",
       "    <tr>\n",
       "      <th>1170</th>\n",
       "      <td>013</td>\n",
       "      <td>92</td>\n",
       "      <td>256</td>\n",
       "      <td>379</td>\n",
       "      <td>34</td>\n",
       "      <td>135</td>\n",
       "      <td>187</td>\n",
       "      <td>328</td>\n",
       "      <td>303</td>\n",
       "      <td>419</td>\n",
       "      <td>101</td>\n",
       "      <td>141</td>\n",
       "      <td>116</td>\n",
       "      <td>141</td>\n",
       "      <td>1651956</td>\n",
       "    </tr>\n",
       "    <tr>\n",
       "      <th>894</th>\n",
       "      <td>612</td>\n",
       "      <td>48</td>\n",
       "      <td>286</td>\n",
       "      <td>368</td>\n",
       "      <td>19</td>\n",
       "      <td>62</td>\n",
       "      <td>146</td>\n",
       "      <td>373</td>\n",
       "      <td>296</td>\n",
       "      <td>449</td>\n",
       "      <td>43</td>\n",
       "      <td>227</td>\n",
       "      <td>153</td>\n",
       "      <td>227</td>\n",
       "      <td>1493433</td>\n",
       "    </tr>\n",
       "    <tr>\n",
       "      <th>90</th>\n",
       "      <td>320</td>\n",
       "      <td>30</td>\n",
       "      <td>346</td>\n",
       "      <td>165</td>\n",
       "      <td>12</td>\n",
       "      <td>55</td>\n",
       "      <td>235</td>\n",
       "      <td>403</td>\n",
       "      <td>93</td>\n",
       "      <td>274</td>\n",
       "      <td>43</td>\n",
       "      <td>168</td>\n",
       "      <td>181</td>\n",
       "      <td>181</td>\n",
       "      <td>1307544</td>\n",
       "    </tr>\n",
       "    <tr>\n",
       "      <th>726</th>\n",
       "      <td>557</td>\n",
       "      <td>29</td>\n",
       "      <td>286</td>\n",
       "      <td>187</td>\n",
       "      <td>16</td>\n",
       "      <td>52</td>\n",
       "      <td>165</td>\n",
       "      <td>379</td>\n",
       "      <td>113</td>\n",
       "      <td>267</td>\n",
       "      <td>36</td>\n",
       "      <td>214</td>\n",
       "      <td>154</td>\n",
       "      <td>214</td>\n",
       "      <td>1186416</td>\n",
       "    </tr>\n",
       "  </tbody>\n",
       "</table>\n",
       "</div>"
      ],
      "text/plain": [
       "      uid  coordI  coordR  coordC  min_index  max_index  min_row  max_row  \\\n",
       "817   003     108     305     161         64        166      172      371   \n",
       "1170  013      92     256     379         34        135      187      328   \n",
       "894   612      48     286     368         19         62      146      373   \n",
       "90    320      30     346     165         12         55      235      403   \n",
       "726   557      29     286     187         16         52      165      379   \n",
       "\n",
       "      min_column  max_column  index_width  row_width  column_width  \\\n",
       "817           97         242          102        199           145   \n",
       "1170         303         419          101        141           116   \n",
       "894          296         449           43        227           153   \n",
       "90            93         274           43        168           181   \n",
       "726          113         267           36        214           154   \n",
       "\n",
       "      largest_side_px  volumes  \n",
       "817               199  2943210  \n",
       "1170              141  1651956  \n",
       "894               227  1493433  \n",
       "90                181  1307544  \n",
       "726               214  1186416  "
      ]
     },
     "execution_count": 13,
     "metadata": {},
     "output_type": "execute_result"
    }
   ],
   "source": [
    "df_lesion_coords.sort_values(by='volumes', ascending=False).head()"
   ]
  },
  {
   "cell_type": "code",
   "execution_count": 14,
   "metadata": {},
   "outputs": [
    {
     "data": {
      "text/plain": [
       "199"
      ]
     },
     "execution_count": 14,
     "metadata": {},
     "output_type": "execute_result"
    }
   ],
   "source": [
    "len(df_lesion_coords.uid.unique())"
   ]
  },
  {
   "cell_type": "code",
   "execution_count": 32,
   "metadata": {},
   "outputs": [],
   "source": [
    "df_largest_lesions = df_lesion_coords.sort_values(by=['uid','volumes'], ascending=False).groupby(by='uid').first()\n",
    "df_2nd_largest_lesions = df_lesion_coords.sort_values(by=['uid','volumes'], ascending=False).groupby(by='uid').nth(1)\n",
    "df_3rd_largest_lesions = df_lesion_coords.sort_values(by=['uid','volumes'], ascending=False).groupby(by='uid').nth(2)"
   ]
  },
  {
   "cell_type": "markdown",
   "metadata": {},
   "source": [
    "We will drop volumes that are too small"
   ]
  },
  {
   "cell_type": "code",
   "execution_count": 57,
   "metadata": {},
   "outputs": [
    {
     "data": {
      "text/plain": [
       "(65, 82)"
      ]
     },
     "execution_count": 57,
     "metadata": {},
     "output_type": "execute_result"
    }
   ],
   "source": [
    "len(df_2nd_largest_lesions[df_2nd_largest_lesions.volumes < 8000]), len(df_3rd_largest_lesions[df_3rd_largest_lesions.volumes < 6000])"
   ]
  },
  {
   "cell_type": "code",
   "execution_count": 58,
   "metadata": {},
   "outputs": [],
   "source": [
    "df_2L_lesions_clip = df_2nd_largest_lesions.drop(df_2nd_largest_lesions[df_2nd_largest_lesions.volumes < 8000].index)\n",
    "df_3L_lesions_clip = df_3rd_largest_lesions.drop(df_3rd_largest_lesions[df_3rd_largest_lesions.volumes < 6000].index)"
   ]
  },
  {
   "cell_type": "code",
   "execution_count": 59,
   "metadata": {},
   "outputs": [],
   "source": [
    "df_lesions = pd.concat([df_largest_lesions, df_2L_lesions_clip, df_3L_lesions_clip])"
   ]
  },
  {
   "cell_type": "code",
   "execution_count": 51,
   "metadata": {},
   "outputs": [
    {
     "data": {
      "text/plain": [
       "count     386.000000\n",
       "mean      173.944036\n",
       "std       298.117429\n",
       "min         0.540000\n",
       "25%        17.873000\n",
       "50%        51.384000\n",
       "75%       186.843000\n",
       "max      2943.210000\n",
       "Name: volumes, dtype: float64"
      ]
     },
     "execution_count": 51,
     "metadata": {},
     "output_type": "execute_result"
    },
    {
     "data": {
      "image/png": "[encoded data removed]",
      "text/plain": [
       "<Figure size 432x288 with 1 Axes>"
      ]
     },
     "metadata": {
      "needs_background": "light"
     },
     "output_type": "display_data"
    }
   ],
   "source": [
    "sns.kdeplot(df_lesions.volumes*.001).set(xlim=(0))\n",
    "(df_lesions.volumes*.001).describe()"
   ]
  },
  {
   "cell_type": "code",
   "execution_count": 64,
   "metadata": {},
   "outputs": [],
   "source": [
    "assert len(df_lesions[df_lesions.coordI < 1]) == 0\n",
    "assert len(df_lesions[df_lesions.coordR < 1]) == 0\n",
    "assert len(df_lesions[df_lesions.coordC < 1]) == 0"
   ]
  },
  {
   "cell_type": "code",
   "execution_count": 66,
   "metadata": {},
   "outputs": [],
   "source": [
    "df_lesions.reset_index(inplace=True)\n",
    "# df_lesions.to_feather('../metadata/df_lesions_clipped.fth')"
   ]
  },
  {
   "cell_type": "markdown",
   "metadata": {},
   "source": [
    "Some center points contain larger lesions so we can sample around those center points for more data"
   ]
  },
  {
   "cell_type": "markdown",
   "metadata": {},
   "source": [
    "Let's use the criteria of the largest_side_px to organize the center points for sampling"
   ]
  },
  {
   "cell_type": "code",
   "execution_count": 4,
   "metadata": {},
   "outputs": [],
   "source": [
    "df_lesions = pd.read_feather('../metadata/df_lesions_clipped.fth')"
   ]
  },
  {
   "cell_type": "code",
   "execution_count": 5,
   "metadata": {},
   "outputs": [],
   "source": [
    "df_200k_to_1m = df_lesions[(df_lesions.volumes > 2e5) & (df_lesions.volumes < 1e6)]\n",
    "df_1m_to_2m = df_lesions[(df_lesions.volumes > 1e6) & (df_lesions.volumes < 2e6)]\n",
    "df_large = df_lesions[df_lesions.volumes > 2e6]"
   ]
  },
  {
   "cell_type": "code",
   "execution_count": 6,
   "metadata": {},
   "outputs": [
    {
     "data": {
      "text/plain": [
       "(81, 9, 1)"
      ]
     },
     "execution_count": 6,
     "metadata": {},
     "output_type": "execute_result"
    }
   ],
   "source": [
    "len(df_200k_to_1m), len(df_1m_to_2m), len(df_large)"
   ]
  },
  {
   "cell_type": "markdown",
   "metadata": {},
   "source": [
    "and create a helper function to sample around the center points using a gaussian distribution"
   ]
  },
  {
   "cell_type": "code",
   "execution_count": 7,
   "metadata": {},
   "outputs": [],
   "source": [
    "def generate_irc(row, num_points=5):\n",
    "    \n",
    "    range_i = row.index_width\n",
    "    range_r = row.row_width\n",
    "    range_c = row.column_width\n",
    "    \n",
    "    center_i = row.min_index + (range_i//2)\n",
    "    center_r = row.min_row + (range_r//2)\n",
    "    center_c = row.min_column + (range_c//2)\n",
    "    \n",
    "    new_i_list = np.random.normal(center_i, range_i//3, num_points).clip(row.min_index, row.max_index).astype(np.int)\n",
    "    new_r_list = np.random.normal(center_r, range_r//3, num_points).clip(row.min_row, row.max_row).astype(np.int)\n",
    "    new_c_list = np.random.normal(center_c, range_c//3, num_points).clip(row.min_column, row.max_column).astype(np.int)\n",
    "    \n",
    "    uid_list = [row.uid] * num_points\n",
    "    \n",
    "    return [(uid, i,r,c) for uid, i,r,c in zip(uid_list, new_i_list, new_r_list, new_c_list)]"
   ]
  },
  {
   "cell_type": "code",
   "execution_count": 8,
   "metadata": {},
   "outputs": [],
   "source": [
    "new_points_list = []"
   ]
  },
  {
   "cell_type": "code",
   "execution_count": 9,
   "metadata": {},
   "outputs": [
    {
     "name": "stderr",
     "output_type": "stream",
     "text": [
      "100%|██████████| 81/81 [00:00<00:00, 959.77it/s]\n"
     ]
    }
   ],
   "source": [
    "num_points = 3 # 3 new points per center\n",
    "for _, (idx, row) in tqdm(enumerate(df_200k_to_1m.iterrows()), total=len(df_200k_to_1m)):\n",
    "    new_points_list += generate_irc(row,num_points)"
   ]
  },
  {
   "cell_type": "code",
   "execution_count": 10,
   "metadata": {},
   "outputs": [
    {
     "data": {
      "text/plain": [
       "243"
      ]
     },
     "execution_count": 10,
     "metadata": {},
     "output_type": "execute_result"
    }
   ],
   "source": [
    "len(new_points_list)"
   ]
  },
  {
   "cell_type": "code",
   "execution_count": 11,
   "metadata": {},
   "outputs": [
    {
     "name": "stderr",
     "output_type": "stream",
     "text": [
      "100%|██████████| 9/9 [00:00<00:00, 2466.27it/s]\n"
     ]
    }
   ],
   "source": [
    "num_points = 6 # 6 new points per center\n",
    "for _, (idx, row) in tqdm(enumerate(df_1m_to_2m.iterrows()), total=len(df_1m_to_2m)):\n",
    "    new_points_list += generate_irc(row,num_points)"
   ]
  },
  {
   "cell_type": "code",
   "execution_count": 12,
   "metadata": {},
   "outputs": [
    {
     "data": {
      "text/plain": [
       "297"
      ]
     },
     "execution_count": 12,
     "metadata": {},
     "output_type": "execute_result"
    }
   ],
   "source": [
    "len(new_points_list)"
   ]
  },
  {
   "cell_type": "code",
   "execution_count": 13,
   "metadata": {},
   "outputs": [
    {
     "name": "stderr",
     "output_type": "stream",
     "text": [
      "100%|██████████| 1/1 [00:00<00:00, 442.02it/s]\n"
     ]
    }
   ],
   "source": [
    "num_points = 10 # 10 new points per center\n",
    "for _, (idx, row) in tqdm(enumerate(df_large.iterrows()), total=len(df_large)):\n",
    "    new_points_list += generate_irc(row,num_points)"
   ]
  },
  {
   "cell_type": "code",
   "execution_count": 14,
   "metadata": {},
   "outputs": [
    {
     "data": {
      "text/plain": [
       "307"
      ]
     },
     "execution_count": 14,
     "metadata": {},
     "output_type": "execute_result"
    }
   ],
   "source": [
    "len(new_points_list)"
   ]
  },
  {
   "cell_type": "code",
   "execution_count": 15,
   "metadata": {},
   "outputs": [],
   "source": [
    "df_lesion_samples = pd.DataFrame(new_points_list, columns =['uid', 'coordI', 'coordR', 'coordC']) "
   ]
  },
  {
   "cell_type": "code",
   "execution_count": 16,
   "metadata": {},
   "outputs": [],
   "source": [
    "train_data = pd.concat([df_lesion_samples, df_lesions[['uid', 'coordI', 'coordR', 'coordC']]]).reset_index(drop=True)"
   ]
  },
  {
   "cell_type": "code",
   "execution_count": 17,
   "metadata": {},
   "outputs": [],
   "source": [
    "assert len(train_data[train_data.coordI < 1]) == 0"
   ]
  },
  {
   "cell_type": "markdown",
   "metadata": {},
   "source": [
    "Our preprocessing has left some uid's with more coordinates than others so we need to de-bias by resampling with replacement"
   ]
  },
  {
   "cell_type": "code",
   "execution_count": 20,
   "metadata": {},
   "outputs": [
    {
     "data": {
      "text/plain": [
       "[Text(0.5, 0, '# coords')]"
      ]
     },
     "execution_count": 20,
     "metadata": {},
     "output_type": "execute_result"
    },
    {
     "data": {
      "image/png": "[encoded data removed]",
      "text/plain": [
       "<Figure size 432x288 with 1 Axes>"
      ]
     },
     "metadata": {
      "needs_background": "light"
     },
     "output_type": "display_data"
    }
   ],
   "source": [
    "sns.histplot(train_data.uid.value_counts()).set(xlabel='# coords')"
   ]
  },
  {
   "cell_type": "code",
   "execution_count": 21,
   "metadata": {},
   "outputs": [],
   "source": [
    "max_size = train_data.uid.value_counts().max()"
   ]
  },
  {
   "cell_type": "code",
   "execution_count": 22,
   "metadata": {},
   "outputs": [],
   "source": [
    "lst = [train_data]\n",
    "for class_index, group in train_data.groupby('uid'):\n",
    "    lst.append(group.sample(max_size-len(group), replace=True))\n",
    "debias_train_data = pd.concat(lst)\n",
    "debias_train_data.reset_index(inplace=True)"
   ]
  },
  {
   "cell_type": "code",
   "execution_count": 23,
   "metadata": {},
   "outputs": [
    {
     "data": {
      "text/plain": [
       "[Text(0.5, 0, '# coords')]"
      ]
     },
     "execution_count": 23,
     "metadata": {},
     "output_type": "execute_result"
    },
    {
     "data": {
      "image/png": "[encoded data removed]",
      "text/plain": [
       "<Figure size 432x288 with 1 Axes>"
      ]
     },
     "metadata": {
      "needs_background": "light"
     },
     "output_type": "display_data"
    }
   ],
   "source": [
    "sns.histplot(debias_train_data.uid.value_counts()).set(xlabel='# coords')"
   ]
  },
  {
   "cell_type": "code",
   "execution_count": 25,
   "metadata": {},
   "outputs": [],
   "source": [
    "train_data.to_feather('../metadata/df_coords.fth')\n",
    "debias_train_data.to_feather('../metadata/df_coords_debias.fth')"
   ]
  },
  {
   "cell_type": "code",
   "execution_count": null,
   "metadata": {},
   "outputs": [],
   "source": []
  }
 ],
 "metadata": {
  "kernelspec": {
   "display_name": "Python 3",
   "language": "python",
   "name": "python3"
  },
  "language_info": {
   "codemirror_mode": {
    "name": "ipython",
    "version": 3
   },
   "file_extension": ".py",
   "mimetype": "text/x-python",
   "name": "python",
   "nbconvert_exporter": "python",
   "pygments_lexer": "ipython3",
   "version": "3.8.6"
  }
 },
 "nbformat": 4,
 "nbformat_minor": 4
}
