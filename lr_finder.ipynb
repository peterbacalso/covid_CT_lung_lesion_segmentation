{
 "cells": [
  {
   "cell_type": "markdown",
   "metadata": {},
   "source": [
    "Dear learning rate...\n",
    "\n",
    "I will look for you, I will find you, and I will ???? you"
   ]
  },
  {
   "cell_type": "code",
   "execution_count": 1,
   "metadata": {},
   "outputs": [],
   "source": [
    "%load_ext autoreload\n",
    "%autoreload 2\n",
    "%matplotlib inline"
   ]
  },
  {
   "cell_type": "code",
   "execution_count": 2,
   "metadata": {},
   "outputs": [],
   "source": [
    "import warnings\n",
    "warnings.filterwarnings(\"ignore\")"
   ]
  },
  {
   "cell_type": "code",
   "execution_count": 3,
   "metadata": {},
   "outputs": [],
   "source": [
    "import torch\n",
    "import torch.nn.functional as F\n",
    "\n",
    "from torch import nn\n",
    "from torch.optim import SGD\n",
    "from functools import partial\n",
    "from torch_lr_finder import LRFinder\n",
    "from torch.utils.data import DataLoader\n",
    "\n",
    "# local imports\n",
    "# import sys\n",
    "# sys.path.insert(1, '../')\n",
    "from modules.dsets import TrainingCovid2dSegmentationDataset, TrainingV2Covid2dSegmentationDataset, collate_fn\n",
    "from modules.model import UNet3dWrapper, CovidSegNetWrapper\n",
    "from modules.util.util import list_stride_splitter\n",
    "from modules.util.loss_funcs import dice_loss, cross_entropy_loss"
   ]
  },
  {
   "cell_type": "code",
   "execution_count": 4,
   "metadata": {},
   "outputs": [],
   "source": [
    "torch.cuda.empty_cache()"
   ]
  },
  {
   "cell_type": "markdown",
   "metadata": {
    "collapsed": "true"
   },
   "source": [
    "## Basic Unet 3D"
   ]
  },
  {
   "cell_type": "code",
   "execution_count": 5,
   "metadata": {},
   "outputs": [],
   "source": [
    "model = UNet3dWrapper(\n",
    "    in_channels=1,\n",
    "    n_classes=1,\n",
    "    depth=3,\n",
    "    wf=4,\n",
    "    padding=True,\n",
    "    pad_type='replicate',\n",
    "    batch_norm=True,\n",
    "    up_mode='upconv')\n",
    "model = model.cuda()"
   ]
  },
  {
   "cell_type": "code",
   "execution_count": 6,
   "metadata": {},
   "outputs": [],
   "source": [
    "lr = 1e-7\n",
    "momentum=.99\n",
    "weight_decay=1e-4\n",
    "optimizer = SGD(model.parameters(), lr=lr, momentum=momentum, weight_decay=weight_decay)"
   ]
  },
  {
   "cell_type": "code",
   "execution_count": 7,
   "metadata": {},
   "outputs": [],
   "source": [
    "def dice_loss_func(pred_g, label_g, epsilon=1):\n",
    "    dice_correct = (pred_g * label_g).sum(dim=[-4,-3,-2,-1])\n",
    "    dice_label_g = label_g.sum(dim=[-4,-3,-2,-1])\n",
    "    dice_pred_g = pred_g.sum(dim=[-4,-3,-2,-1])\n",
    "\n",
    "    dice_ratio = (2 * dice_correct + epsilon) \\\n",
    "        / (dice_label_g + dice_pred_g + epsilon)\n",
    "    return 1 - dice_ratio\n",
    "\n",
    "def loss_func(pred_g, label_g):\n",
    "    dice_loss = dice_loss_func(pred_g, label_g)\n",
    "    #fine_loss = dice_loss_func(pred_g*label_g, label_g)\n",
    "    \n",
    "    return dice_loss.mean()# + fine_loss.mean() * 8\n",
    "\n",
    "criterion = loss_func"
   ]
  },
  {
   "cell_type": "code",
   "execution_count": 6,
   "metadata": {},
   "outputs": [
    {
     "name": "stderr",
     "output_type": "stream",
     "text": [
      "2020-11-29 21:17:21,713 INFO     pid:31010 modules.dsets:316:__init__ TrainingCovid2dSegmentationDataset: training mode, 179 uid's\n",
      "2020-11-29 21:17:21,713 INFO     pid:31010 modules.dsets:341:__init__ TrainingCovid2dSegmentationDataset: (12, 192, 192) width_irc,  160 steps_per_epoch\n"
     ]
    }
   ],
   "source": [
    "splitter=partial(list_stride_splitter, val_stride=10)\n",
    "\n",
    "train_ds = TrainingCovid2dSegmentationDataset(\n",
    "    is_valid=False, \n",
    "    splitter=splitter,\n",
    "    width_irc=(12,192,192))\n",
    "\n",
    "batch_size = 2\n",
    "\n",
    "train_dl = DataLoader(\n",
    "    train_ds,\n",
    "    batch_size=batch_size,\n",
    "    num_workers=4,\n",
    "    pin_memory=True,\n",
    "    collate_fn=collate_fn\n",
    ")"
   ]
  },
  {
   "cell_type": "code",
   "execution_count": 7,
   "metadata": {},
   "outputs": [],
   "source": [
    "lr_finder = LRFinder(model, optimizer, criterion, device='cuda')"
   ]
  },
  {
   "cell_type": "code",
   "execution_count": 8,
   "metadata": {},
   "outputs": [
    {
     "data": {
      "application/vnd.jupyter.widget-view+json": {
       "model_id": "d402ad82005345f6b916f315e1978ca1",
       "version_major": 2,
       "version_minor": 0
      },
      "text/plain": [
       "HBox(children=(FloatProgress(value=0.0), HTML(value='')))"
      ]
     },
     "metadata": {},
     "output_type": "display_data"
    },
    {
     "name": "stdout",
     "output_type": "stream",
     "text": [
      "\n",
      "Learning rate search finished. See the graph with {finder_name}.plot()\n"
     ]
    }
   ],
   "source": [
    "lr_finder.range_test(train_loader=train_dl, end_lr=10, num_iter=100)"
   ]
  },
  {
   "cell_type": "code",
   "execution_count": 9,
   "metadata": {},
   "outputs": [
    {
     "name": "stdout",
     "output_type": "stream",
     "text": [
      "LR suggestion: steepest gradient\n",
      "Suggested LR: 1.38E-01\n"
     ]
    },
    {
     "data": {
      "image/png": "[encoded data removed]",
      "text/plain": [
       "<Figure size 432x288 with 1 Axes>"
      ]
     },
     "metadata": {
      "needs_background": "light"
     },
     "output_type": "display_data"
    },
    {
     "data": {
      "text/plain": [
       "(<matplotlib.axes._subplots.AxesSubplot at 0x7f8e84524310>,\n",
       " 0.13848863713938717)"
      ]
     },
     "execution_count": 9,
     "metadata": {},
     "output_type": "execute_result"
    }
   ],
   "source": [
    "# this was for model with depth 3, width_irc = 7,60,60\n",
    "lr_finder.plot() "
   ]
  },
  {
   "cell_type": "code",
   "execution_count": 10,
   "metadata": {},
   "outputs": [],
   "source": [
    "lr_finder.reset()"
   ]
  },
  {
   "cell_type": "markdown",
   "metadata": {},
   "source": [
    "## Covid Seg Net"
   ]
  },
  {
   "cell_type": "code",
   "execution_count": 5,
   "metadata": {},
   "outputs": [],
   "source": [
    "model = CovidSegNetWrapper(\n",
    "    in_channels=1,\n",
    "    n_classes=2,\n",
    "    depth=3,\n",
    "    wf=4,\n",
    "    padding=True)\n",
    "model = model.cuda()"
   ]
  },
  {
   "cell_type": "code",
   "execution_count": 6,
   "metadata": {},
   "outputs": [],
   "source": [
    "lr = 1e-7\n",
    "momentum=.99\n",
    "weight_decay=1e-4\n",
    "optimizer = SGD(model.parameters(), lr=lr, momentum=momentum, weight_decay=weight_decay)"
   ]
  },
  {
   "cell_type": "code",
   "execution_count": 7,
   "metadata": {},
   "outputs": [],
   "source": [
    "def loss_func(pred_g, label_g):\n",
    "    ce_loss = cross_entropy_loss(pred_g, torch.squeeze(label_g, dim=1).long())\n",
    "    d_loss = dice_loss(torch.argmax(pred_g, dim=1, keepdim=True).float(), label_g)\n",
    "    return ((ce_loss*.3 + d_loss*.7)).mean()\n",
    "\n",
    "criterion = loss_func"
   ]
  },
  {
   "cell_type": "code",
   "execution_count": 8,
   "metadata": {},
   "outputs": [
    {
     "name": "stderr",
     "output_type": "stream",
     "text": [
      "2020-12-06 18:14:31,113 INFO     pid:47919 modules.dsets:374:__init__ TrainingV2Covid2dSegmentationDataset: training mode, 159 uid's, 159 steps_per_epoch\n",
      "2020-12-06 18:14:31,114 INFO     pid:47919 modules.dsets:447:__init__ TrainingV2Covid2dSegmentationDataset: (16, 128, 128) width_irc\n"
     ]
    }
   ],
   "source": [
    "splitter=partial(list_stride_splitter, val_stride=5)\n",
    "\n",
    "train_ds = TrainingV2Covid2dSegmentationDataset(\n",
    "    is_valid=False, \n",
    "    window='shifted_lung',\n",
    "    splitter=splitter,\n",
    "    width_irc=(16,128,128))\n",
    "\n",
    "batch_size = 2\n",
    "\n",
    "train_dl = DataLoader(\n",
    "    train_ds,\n",
    "    batch_size=batch_size,\n",
    "    num_workers=4,\n",
    "    pin_memory=True,\n",
    "    collate_fn=collate_fn\n",
    ")"
   ]
  },
  {
   "cell_type": "code",
   "execution_count": 9,
   "metadata": {},
   "outputs": [],
   "source": [
    "lr_finder = LRFinder(model, optimizer, criterion, device='cuda')"
   ]
  },
  {
   "cell_type": "code",
   "execution_count": 10,
   "metadata": {},
   "outputs": [
    {
     "data": {
      "application/vnd.jupyter.widget-view+json": {
       "model_id": "33e5fc622d9c4ead93e323aa709eb2a2",
       "version_major": 2,
       "version_minor": 0
      },
      "text/plain": [
       "HBox(children=(FloatProgress(value=0.0), HTML(value='')))"
      ]
     },
     "metadata": {},
     "output_type": "display_data"
    },
    {
     "name": "stdout",
     "output_type": "stream",
     "text": [
      "\n",
      "Learning rate search finished. See the graph with {finder_name}.plot()\n"
     ]
    }
   ],
   "source": [
    "lr_finder.range_test(train_loader=train_dl, end_lr=10, num_iter=100)"
   ]
  },
  {
   "cell_type": "code",
   "execution_count": 11,
   "metadata": {},
   "outputs": [
    {
     "name": "stdout",
     "output_type": "stream",
     "text": [
      "LR suggestion: steepest gradient\n",
      "Suggested LR: 2.01E-01\n"
     ]
    },
    {
     "data": {
      "image/png": "[encoded data removed]",
      "text/plain": [
       "<Figure size 432x288 with 1 Axes>"
      ]
     },
     "metadata": {
      "needs_background": "light"
     },
     "output_type": "display_data"
    },
    {
     "data": {
      "text/plain": [
       "(<matplotlib.axes._subplots.AxesSubplot at 0x7f0768eecfa0>,\n",
       " 0.20092330025650457)"
      ]
     },
     "execution_count": 11,
     "metadata": {},
     "output_type": "execute_result"
    }
   ],
   "source": [
    "lr_finder.plot() "
   ]
  },
  {
   "cell_type": "code",
   "execution_count": 12,
   "metadata": {},
   "outputs": [],
   "source": [
    "lr_finder.reset()"
   ]
  },
  {
   "cell_type": "code",
   "execution_count": null,
   "metadata": {},
   "outputs": [],
   "source": []
  }
 ],
 "metadata": {
  "kernelspec": {
   "display_name": "Python 3",
   "language": "python",
   "name": "python3"
  },
  "language_info": {
   "codemirror_mode": {
    "name": "ipython",
    "version": 3
   },
   "file_extension": ".py",
   "mimetype": "text/x-python",
   "name": "python",
   "nbconvert_exporter": "python",
   "pygments_lexer": "ipython3",
   "version": "3.8.6"
  }
 },
 "nbformat": 4,
 "nbformat_minor": 4
}
